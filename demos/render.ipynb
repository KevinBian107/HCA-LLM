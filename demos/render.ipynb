{
 "cells": [
  {
   "cell_type": "markdown",
   "id": "605cf9e7",
   "metadata": {},
   "source": [
    "# Rendering and Animation"
   ]
  },
  {
   "cell_type": "code",
   "execution_count": null,
   "id": "643ce711-9e68-418d-8f4e-e56244523919",
   "metadata": {},
   "outputs": [],
   "source": []
  },
  {
   "cell_type": "code",
   "execution_count": 1,
   "id": "cece67a2-b781-4239-ba19-fc536793a06d",
   "metadata": {},
   "outputs": [],
   "source": [
    "%load_ext autoreload\n",
    "%autoreload 2\n",
    "\n",
    "from pathlib import Path\n",
    "import sys\n",
    "import numpy as np\n",
    "import pandas as pd \n",
    "current_folder = Path.cwd()\n",
    "parent_folder = current_folder.parent\n",
    "sys.path.insert(0, str(parent_folder))\n",
    "\n",
    "from rplh.rendering.render_state import *\n",
    "from rplh.rendering.animations import *"
   ]
  },
  {
   "cell_type": "markdown",
   "id": "93ee1518",
   "metadata": {},
   "source": [
    "# Rendering of States"
   ]
  },
  {
   "cell_type": "code",
   "execution_count": 4,
   "id": "27fc83e0-5de1-42a7-aef6-2fa429528789",
   "metadata": {},
   "outputs": [
    {
     "name": "stdout",
     "output_type": "stream",
     "text": [
      "box map: {(0.5, 0.5): [['box', 'blue', 0], ['target', 'blue', 1], ['target', 'red', 2], ['box', 'green', 3], ['target', 'purple', 4], ['box', 'purple', 5]], (0.5, 1.5): [['box', 'blue', 0], ['box', 'red', 1], ['box', 'purple', 2], ['box', 'purple', 3], ['box', 'orange', 4]], (1.5, 0.5): [['target', 'blue', 0], ['target', 'red', 1], ['target', 'green', 2], ['target', 'purple', 3], ['target', 'purple', 4], ['target', 'orange', 5]], (1.5, 1.5): [['target', 'blue', 0], ['box', 'blue', 1], ['box', 'red', 2]]}\n",
      "-------------------------------------------------------------------------------------------\n",
      "action_list: [{(0.5, 0.5): ('box_blue', 'target_blue'), (1.5, 1.5): ('box_red', (1.5, 0.5))}, {(1.5, 1.5): ('box_blue', 'target_blue'), (1.5, 0.5): ('box_red', 'target_red')}]\n"
     ]
    }
   ],
   "source": [
    "pg_state_0 =  {\"0.5_0.5\": [\"box_blue\", \"target_blue\", \"target_red\", \"box_green\", \"target_purple\", \"box_purple\"], \n",
    "               \"0.5_1.5\": [\"box_blue\", \"box_red\", \"box_purple\", \"box_purple\", \"box_orange\"], \n",
    "               \"1.5_0.5\": [\"target_blue\", \"target_red\", \"target_green\", \"target_purple\", \"target_purple\", \"target_orange\"], \n",
    "               \"1.5_1.5\": [\"target_blue\", \"box_blue\", \"box_red\"]}\n",
    "\n",
    "action_0 = {'Agent[0.5, 0.5]': 'move(box_blue, target_blue)', \n",
    "            'Agent[1.5, 1.5]': 'move(box_red, square[1.5, 0.5])'}\n",
    "\n",
    "action_1 = {'Agent[1.5, 1.5]': 'move(box_blue, target_blue)', \n",
    "            'Agent[1.5, 0.5]': 'move(box_red, target_red)'}\n",
    "\n",
    "\n",
    "action = transform_action(action_0)\n",
    "action_list_raw = [action_0, action_1]\n",
    "box_map, action_list = trans_data(pg_state_0, action_list_raw)\n",
    "print(\"box map:\", box_map)\n",
    "print(\"-------------------------------------------------------------------------------------------\")\n",
    "print(\"action_list:\", action_list)"
   ]
  },
  {
   "cell_type": "code",
   "execution_count": 6,
   "id": "a3667ea9-185d-46dd-a22a-26e0e4cf11f1",
   "metadata": {},
   "outputs": [
    {
     "name": "stdout",
     "output_type": "stream",
     "text": [
      "{(0.5, 0.5): [['box', 'blue', 0], ['target', 'blue', 1], ['target', 'red', 2], ['box', 'green', 3], ['target', 'purple', 4], ['box', 'purple', 5]], (0.5, 1.5): [['box', 'blue', 0], ['box', 'red', 1], ['box', 'purple', 2], ['box', 'purple', 3], ['box', 'orange', 4]], (1.5, 0.5): [['target', 'blue', 0], ['target', 'red', 1], ['target', 'green', 2], ['target', 'purple', 3], ['target', 'purple', 4], ['target', 'orange', 5]], (1.5, 1.5): [['target', 'blue', 0], ['box', 'blue', 1], ['box', 'red', 2]]}\n"
     ]
    }
   ],
   "source": [
    "print(box_map)"
   ]
  },
  {
   "cell_type": "code",
   "execution_count": 8,
   "id": "2840d16e-3908-4d35-adc3-bc479129060a",
   "metadata": {},
   "outputs": [
    {
     "ename": "ValueError",
     "evalue": "too many values to unpack (expected 2)",
     "output_type": "error",
     "traceback": [
      "\u001b[1;31m---------------------------------------------------------------------------\u001b[0m",
      "\u001b[1;31mValueError\u001b[0m                                Traceback (most recent call last)",
      "\u001b[1;32m~\\AppData\\Local\\Temp\\ipykernel_26060\\2080157891.py\u001b[0m in \u001b[0;36m<module>\u001b[1;34m\u001b[0m\n\u001b[1;32m----> 1\u001b[1;33m \u001b[0mpd\u001b[0m\u001b[1;33m.\u001b[0m\u001b[0mDataFrame\u001b[0m\u001b[1;33m(\u001b[0m\u001b[0mmap_df\u001b[0m\u001b[1;33m(\u001b[0m\u001b[0mbox_map\u001b[0m\u001b[1;33m)\u001b[0m\u001b[1;33m)\u001b[0m\u001b[1;33m.\u001b[0m\u001b[0mreset_index\u001b[0m\u001b[1;33m(\u001b[0m\u001b[1;33m)\u001b[0m\u001b[1;33m\u001b[0m\u001b[1;33m\u001b[0m\u001b[0m\n\u001b[0m",
      "\u001b[1;32m~\\Multi-Agency\\RPLH_new\\RPLH\\rplh\\rendering\\animations.py\u001b[0m in \u001b[0;36mmap_df\u001b[1;34m(states)\u001b[0m\n\u001b[0;32m     40\u001b[0m         \u001b[1;31m# Distribute targets horizontally\u001b[0m\u001b[1;33m\u001b[0m\u001b[1;33m\u001b[0m\u001b[0m\n\u001b[0;32m     41\u001b[0m         \u001b[1;32mfor\u001b[0m \u001b[0mi\u001b[0m\u001b[1;33m,\u001b[0m \u001b[0mitem\u001b[0m \u001b[1;32min\u001b[0m \u001b[0menumerate\u001b[0m\u001b[1;33m(\u001b[0m\u001b[0mtargets\u001b[0m\u001b[1;33m)\u001b[0m\u001b[1;33m:\u001b[0m\u001b[1;33m\u001b[0m\u001b[1;33m\u001b[0m\u001b[0m\n\u001b[1;32m---> 42\u001b[1;33m             \u001b[0mitem_type\u001b[0m\u001b[1;33m,\u001b[0m \u001b[0mcolor\u001b[0m \u001b[1;33m=\u001b[0m \u001b[0mitem\u001b[0m\u001b[1;33m\u001b[0m\u001b[1;33m\u001b[0m\u001b[0m\n\u001b[0m\u001b[0;32m     43\u001b[0m             \u001b[0mx_offset\u001b[0m \u001b[1;33m=\u001b[0m \u001b[1;33m(\u001b[0m\u001b[0mi\u001b[0m \u001b[1;33m-\u001b[0m \u001b[0mlen\u001b[0m\u001b[1;33m(\u001b[0m\u001b[0mtargets\u001b[0m\u001b[1;33m)\u001b[0m \u001b[1;33m/\u001b[0m \u001b[1;36m2\u001b[0m\u001b[1;33m)\u001b[0m \u001b[1;33m*\u001b[0m \u001b[0mx_offset_factor\u001b[0m\u001b[1;33m\u001b[0m\u001b[1;33m\u001b[0m\u001b[0m\n\u001b[0;32m     44\u001b[0m             \u001b[0mx_offset\u001b[0m \u001b[1;33m=\u001b[0m \u001b[0mmax\u001b[0m\u001b[1;33m(\u001b[0m\u001b[1;33m-\u001b[0m\u001b[0mmax_x_offset\u001b[0m\u001b[1;33m,\u001b[0m \u001b[0mmin\u001b[0m\u001b[1;33m(\u001b[0m\u001b[0mx_offset\u001b[0m\u001b[1;33m,\u001b[0m \u001b[0mmax_x_offset\u001b[0m\u001b[1;33m)\u001b[0m\u001b[1;33m)\u001b[0m  \u001b[1;31m# Clamp offset\u001b[0m\u001b[1;33m\u001b[0m\u001b[1;33m\u001b[0m\u001b[0m\n",
      "\u001b[1;31mValueError\u001b[0m: too many values to unpack (expected 2)"
     ]
    }
   ],
   "source": [
    "pd.DataFrame(map_df(box_map)).reset_index()"
   ]
  },
  {
   "cell_type": "code",
   "execution_count": 7,
   "id": "08e654f8-e04a-40be-9233-094b1ce3663a",
   "metadata": {},
   "outputs": [
    {
     "data": {
      "application/vnd.plotly.v1+json": {
       "config": {
        "plotlyServerURL": "https://plot.ly"
       },
       "data": [
        {
         "hoverinfo": "text",
         "marker": {
          "color": [
           "blue",
           "red",
           "purple",
           "blue",
           "green",
           "purple",
           "blue",
           "red",
           "purple",
           "purple",
           "orange",
           "blue",
           "red",
           "green",
           "purple",
           "purple",
           "orange",
           "blue",
           "blue",
           "red"
          ],
          "size": 20,
          "symbol": [
           "diamond-open",
           "diamond-open",
           "diamond-open",
           "square",
           "square",
           "square",
           "square",
           "square",
           "square",
           "square",
           "square",
           "diamond-open",
           "diamond-open",
           "diamond-open",
           "diamond-open",
           "diamond-open",
           "diamond-open",
           "diamond-open",
           "square",
           "square"
          ]
         },
         "mode": "markers",
         "text": [
          "Type: target<br>Color: blue",
          "Type: target<br>Color: red",
          "Type: target<br>Color: purple",
          "Type: box<br>Color: blue",
          "Type: box<br>Color: green",
          "Type: box<br>Color: purple",
          "Type: box<br>Color: blue",
          "Type: box<br>Color: red",
          "Type: box<br>Color: purple",
          "Type: box<br>Color: purple",
          "Type: box<br>Color: orange",
          "Type: target<br>Color: blue",
          "Type: target<br>Color: red",
          "Type: target<br>Color: green",
          "Type: target<br>Color: purple",
          "Type: target<br>Color: purple",
          "Type: target<br>Color: orange",
          "Type: target<br>Color: blue",
          "Type: box<br>Color: blue",
          "Type: box<br>Color: red"
         ],
         "type": "scatter",
         "x": [
          0.35,
          0.5,
          0.65,
          0.35,
          0.5,
          0.65,
          0.2,
          0.35,
          0.5,
          0.65,
          0.8,
          1.2,
          1.35,
          1.5,
          1.65,
          1.8,
          1.2,
          1.5,
          1.35,
          1.5
         ],
         "y": [
          0.85,
          0.85,
          0.85,
          0.15000000000000002,
          0.15000000000000002,
          0.15000000000000002,
          1.15,
          1.15,
          1.15,
          1.15,
          1.15,
          0.85,
          0.85,
          0.85,
          0.85,
          0.85,
          0.65,
          1.85,
          1.15,
          1.15
         ]
        }
       ],
       "layout": {
        "height": 600,
        "images": [
         {
          "layer": "above",
          "sizex": 0.3,
          "sizey": 0.3,
          "source": "data:image/png;base64,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",
          "x": 0.5,
          "xanchor": "center",
          "xref": "x",
          "y": 0.5,
          "yanchor": "middle",
          "yref": "y"
         },
         {
          "layer": "above",
          "sizex": 0.3,
          "sizey": 0.3,
          "source": "data:image/png;base64,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",
          "x": 0.5,
          "xanchor": "center",
          "xref": "x",
          "y": 1.5,
          "yanchor": "middle",
          "yref": "y"
         },
         {
          "layer": "above",
          "sizex": 0.3,
          "sizey": 0.3,
          "source": "data:image/png;base64,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",
          "x": 1.5,
          "xanchor": "center",
          "xref": "x",
          "y": 0.5,
          "yanchor": "middle",
          "yref": "y"
         },
         {
          "layer": "above",
          "sizex": 0.3,
          "sizey": 0.3,
          "source": "data:image/png;base64,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",
          "x": 1.5,
          "xanchor": "center",
          "xref": "x",
          "y": 1.5,
          "yanchor": "middle",
          "yref": "y"
         }
        ],
        "plot_bgcolor": "white",
        "shapes": [
         {
          "line": {
           "color": "black",
           "width": 2
          },
          "type": "rect",
          "x0": 0,
          "x1": 1,
          "y0": 0,
          "y1": 1
         },
         {
          "line": {
           "color": "black",
           "width": 2
          },
          "type": "rect",
          "x0": 0,
          "x1": 1,
          "y0": 1,
          "y1": 2
         },
         {
          "line": {
           "color": "black",
           "width": 2
          },
          "type": "rect",
          "x0": 1,
          "x1": 2,
          "y0": 0,
          "y1": 1
         },
         {
          "line": {
           "color": "black",
           "width": 2
          },
          "type": "rect",
          "x0": 1,
          "x1": 2,
          "y0": 1,
          "y1": 2
         }
        ],
        "template": {
         "data": {
          "bar": [
           {
            "error_x": {
             "color": "#2a3f5f"
            },
            "error_y": {
             "color": "#2a3f5f"
            },
            "marker": {
             "line": {
              "color": "#E5ECF6",
              "width": 0.5
             },
             "pattern": {
              "fillmode": "overlay",
              "size": 10,
              "solidity": 0.2
             }
            },
            "type": "bar"
           }
          ],
          "barpolar": [
           {
            "marker": {
             "line": {
              "color": "#E5ECF6",
              "width": 0.5
             },
             "pattern": {
              "fillmode": "overlay",
              "size": 10,
              "solidity": 0.2
             }
            },
            "type": "barpolar"
           }
          ],
          "carpet": [
           {
            "aaxis": {
             "endlinecolor": "#2a3f5f",
             "gridcolor": "white",
             "linecolor": "white",
             "minorgridcolor": "white",
             "startlinecolor": "#2a3f5f"
            },
            "baxis": {
             "endlinecolor": "#2a3f5f",
             "gridcolor": "white",
             "linecolor": "white",
             "minorgridcolor": "white",
             "startlinecolor": "#2a3f5f"
            },
            "type": "carpet"
           }
          ],
          "choropleth": [
           {
            "colorbar": {
             "outlinewidth": 0,
             "ticks": ""
            },
            "type": "choropleth"
           }
          ],
          "contour": [
           {
            "colorbar": {
             "outlinewidth": 0,
             "ticks": ""
            },
            "colorscale": [
             [
              0,
              "#0d0887"
             ],
             [
              0.1111111111111111,
              "#46039f"
             ],
             [
              0.2222222222222222,
              "#7201a8"
             ],
             [
              0.3333333333333333,
              "#9c179e"
             ],
             [
              0.4444444444444444,
              "#bd3786"
             ],
             [
              0.5555555555555556,
              "#d8576b"
             ],
             [
              0.6666666666666666,
              "#ed7953"
             ],
             [
              0.7777777777777778,
              "#fb9f3a"
             ],
             [
              0.8888888888888888,
              "#fdca26"
             ],
             [
              1,
              "#f0f921"
             ]
            ],
            "type": "contour"
           }
          ],
          "contourcarpet": [
           {
            "colorbar": {
             "outlinewidth": 0,
             "ticks": ""
            },
            "type": "contourcarpet"
           }
          ],
          "heatmap": [
           {
            "colorbar": {
             "outlinewidth": 0,
             "ticks": ""
            },
            "colorscale": [
             [
              0,
              "#0d0887"
             ],
             [
              0.1111111111111111,
              "#46039f"
             ],
             [
              0.2222222222222222,
              "#7201a8"
             ],
             [
              0.3333333333333333,
              "#9c179e"
             ],
             [
              0.4444444444444444,
              "#bd3786"
             ],
             [
              0.5555555555555556,
              "#d8576b"
             ],
             [
              0.6666666666666666,
              "#ed7953"
             ],
             [
              0.7777777777777778,
              "#fb9f3a"
             ],
             [
              0.8888888888888888,
              "#fdca26"
             ],
             [
              1,
              "#f0f921"
             ]
            ],
            "type": "heatmap"
           }
          ],
          "heatmapgl": [
           {
            "colorbar": {
             "outlinewidth": 0,
             "ticks": ""
            },
            "colorscale": [
             [
              0,
              "#0d0887"
             ],
             [
              0.1111111111111111,
              "#46039f"
             ],
             [
              0.2222222222222222,
              "#7201a8"
             ],
             [
              0.3333333333333333,
              "#9c179e"
             ],
             [
              0.4444444444444444,
              "#bd3786"
             ],
             [
              0.5555555555555556,
              "#d8576b"
             ],
             [
              0.6666666666666666,
              "#ed7953"
             ],
             [
              0.7777777777777778,
              "#fb9f3a"
             ],
             [
              0.8888888888888888,
              "#fdca26"
             ],
             [
              1,
              "#f0f921"
             ]
            ],
            "type": "heatmapgl"
           }
          ],
          "histogram": [
           {
            "marker": {
             "pattern": {
              "fillmode": "overlay",
              "size": 10,
              "solidity": 0.2
             }
            },
            "type": "histogram"
           }
          ],
          "histogram2d": [
           {
            "colorbar": {
             "outlinewidth": 0,
             "ticks": ""
            },
            "colorscale": [
             [
              0,
              "#0d0887"
             ],
             [
              0.1111111111111111,
              "#46039f"
             ],
             [
              0.2222222222222222,
              "#7201a8"
             ],
             [
              0.3333333333333333,
              "#9c179e"
             ],
             [
              0.4444444444444444,
              "#bd3786"
             ],
             [
              0.5555555555555556,
              "#d8576b"
             ],
             [
              0.6666666666666666,
              "#ed7953"
             ],
             [
              0.7777777777777778,
              "#fb9f3a"
             ],
             [
              0.8888888888888888,
              "#fdca26"
             ],
             [
              1,
              "#f0f921"
             ]
            ],
            "type": "histogram2d"
           }
          ],
          "histogram2dcontour": [
           {
            "colorbar": {
             "outlinewidth": 0,
             "ticks": ""
            },
            "colorscale": [
             [
              0,
              "#0d0887"
             ],
             [
              0.1111111111111111,
              "#46039f"
             ],
             [
              0.2222222222222222,
              "#7201a8"
             ],
             [
              0.3333333333333333,
              "#9c179e"
             ],
             [
              0.4444444444444444,
              "#bd3786"
             ],
             [
              0.5555555555555556,
              "#d8576b"
             ],
             [
              0.6666666666666666,
              "#ed7953"
             ],
             [
              0.7777777777777778,
              "#fb9f3a"
             ],
             [
              0.8888888888888888,
              "#fdca26"
             ],
             [
              1,
              "#f0f921"
             ]
            ],
            "type": "histogram2dcontour"
           }
          ],
          "mesh3d": [
           {
            "colorbar": {
             "outlinewidth": 0,
             "ticks": ""
            },
            "type": "mesh3d"
           }
          ],
          "parcoords": [
           {
            "line": {
             "colorbar": {
              "outlinewidth": 0,
              "ticks": ""
             }
            },
            "type": "parcoords"
           }
          ],
          "pie": [
           {
            "automargin": true,
            "type": "pie"
           }
          ],
          "scatter": [
           {
            "fillpattern": {
             "fillmode": "overlay",
             "size": 10,
             "solidity": 0.2
            },
            "type": "scatter"
           }
          ],
          "scatter3d": [
           {
            "line": {
             "colorbar": {
              "outlinewidth": 0,
              "ticks": ""
             }
            },
            "marker": {
             "colorbar": {
              "outlinewidth": 0,
              "ticks": ""
             }
            },
            "type": "scatter3d"
           }
          ],
          "scattercarpet": [
           {
            "marker": {
             "colorbar": {
              "outlinewidth": 0,
              "ticks": ""
             }
            },
            "type": "scattercarpet"
           }
          ],
          "scattergeo": [
           {
            "marker": {
             "colorbar": {
              "outlinewidth": 0,
              "ticks": ""
             }
            },
            "type": "scattergeo"
           }
          ],
          "scattergl": [
           {
            "marker": {
             "colorbar": {
              "outlinewidth": 0,
              "ticks": ""
             }
            },
            "type": "scattergl"
           }
          ],
          "scattermapbox": [
           {
            "marker": {
             "colorbar": {
              "outlinewidth": 0,
              "ticks": ""
             }
            },
            "type": "scattermapbox"
           }
          ],
          "scatterpolar": [
           {
            "marker": {
             "colorbar": {
              "outlinewidth": 0,
              "ticks": ""
             }
            },
            "type": "scatterpolar"
           }
          ],
          "scatterpolargl": [
           {
            "marker": {
             "colorbar": {
              "outlinewidth": 0,
              "ticks": ""
             }
            },
            "type": "scatterpolargl"
           }
          ],
          "scatterternary": [
           {
            "marker": {
             "colorbar": {
              "outlinewidth": 0,
              "ticks": ""
             }
            },
            "type": "scatterternary"
           }
          ],
          "surface": [
           {
            "colorbar": {
             "outlinewidth": 0,
             "ticks": ""
            },
            "colorscale": [
             [
              0,
              "#0d0887"
             ],
             [
              0.1111111111111111,
              "#46039f"
             ],
             [
              0.2222222222222222,
              "#7201a8"
             ],
             [
              0.3333333333333333,
              "#9c179e"
             ],
             [
              0.4444444444444444,
              "#bd3786"
             ],
             [
              0.5555555555555556,
              "#d8576b"
             ],
             [
              0.6666666666666666,
              "#ed7953"
             ],
             [
              0.7777777777777778,
              "#fb9f3a"
             ],
             [
              0.8888888888888888,
              "#fdca26"
             ],
             [
              1,
              "#f0f921"
             ]
            ],
            "type": "surface"
           }
          ],
          "table": [
           {
            "cells": {
             "fill": {
              "color": "#EBF0F8"
             },
             "line": {
              "color": "white"
             }
            },
            "header": {
             "fill": {
              "color": "#C8D4E3"
             },
             "line": {
              "color": "white"
             }
            },
            "type": "table"
           }
          ]
         },
         "layout": {
          "annotationdefaults": {
           "arrowcolor": "#2a3f5f",
           "arrowhead": 0,
           "arrowwidth": 1
          },
          "autotypenumbers": "strict",
          "coloraxis": {
           "colorbar": {
            "outlinewidth": 0,
            "ticks": ""
           }
          },
          "colorscale": {
           "diverging": [
            [
             0,
             "#8e0152"
            ],
            [
             0.1,
             "#c51b7d"
            ],
            [
             0.2,
             "#de77ae"
            ],
            [
             0.3,
             "#f1b6da"
            ],
            [
             0.4,
             "#fde0ef"
            ],
            [
             0.5,
             "#f7f7f7"
            ],
            [
             0.6,
             "#e6f5d0"
            ],
            [
             0.7,
             "#b8e186"
            ],
            [
             0.8,
             "#7fbc41"
            ],
            [
             0.9,
             "#4d9221"
            ],
            [
             1,
             "#276419"
            ]
           ],
           "sequential": [
            [
             0,
             "#0d0887"
            ],
            [
             0.1111111111111111,
             "#46039f"
            ],
            [
             0.2222222222222222,
             "#7201a8"
            ],
            [
             0.3333333333333333,
             "#9c179e"
            ],
            [
             0.4444444444444444,
             "#bd3786"
            ],
            [
             0.5555555555555556,
             "#d8576b"
            ],
            [
             0.6666666666666666,
             "#ed7953"
            ],
            [
             0.7777777777777778,
             "#fb9f3a"
            ],
            [
             0.8888888888888888,
             "#fdca26"
            ],
            [
             1,
             "#f0f921"
            ]
           ],
           "sequentialminus": [
            [
             0,
             "#0d0887"
            ],
            [
             0.1111111111111111,
             "#46039f"
            ],
            [
             0.2222222222222222,
             "#7201a8"
            ],
            [
             0.3333333333333333,
             "#9c179e"
            ],
            [
             0.4444444444444444,
             "#bd3786"
            ],
            [
             0.5555555555555556,
             "#d8576b"
            ],
            [
             0.6666666666666666,
             "#ed7953"
            ],
            [
             0.7777777777777778,
             "#fb9f3a"
            ],
            [
             0.8888888888888888,
             "#fdca26"
            ],
            [
             1,
             "#f0f921"
            ]
           ]
          },
          "colorway": [
           "#636efa",
           "#EF553B",
           "#00cc96",
           "#ab63fa",
           "#FFA15A",
           "#19d3f3",
           "#FF6692",
           "#B6E880",
           "#FF97FF",
           "#FECB52"
          ],
          "font": {
           "color": "#2a3f5f"
          },
          "geo": {
           "bgcolor": "white",
           "lakecolor": "white",
           "landcolor": "#E5ECF6",
           "showlakes": true,
           "showland": true,
           "subunitcolor": "white"
          },
          "hoverlabel": {
           "align": "left"
          },
          "hovermode": "closest",
          "mapbox": {
           "style": "light"
          },
          "paper_bgcolor": "white",
          "plot_bgcolor": "#E5ECF6",
          "polar": {
           "angularaxis": {
            "gridcolor": "white",
            "linecolor": "white",
            "ticks": ""
           },
           "bgcolor": "#E5ECF6",
           "radialaxis": {
            "gridcolor": "white",
            "linecolor": "white",
            "ticks": ""
           }
          },
          "scene": {
           "xaxis": {
            "backgroundcolor": "#E5ECF6",
            "gridcolor": "white",
            "gridwidth": 2,
            "linecolor": "white",
            "showbackground": true,
            "ticks": "",
            "zerolinecolor": "white"
           },
           "yaxis": {
            "backgroundcolor": "#E5ECF6",
            "gridcolor": "white",
            "gridwidth": 2,
            "linecolor": "white",
            "showbackground": true,
            "ticks": "",
            "zerolinecolor": "white"
           },
           "zaxis": {
            "backgroundcolor": "#E5ECF6",
            "gridcolor": "white",
            "gridwidth": 2,
            "linecolor": "white",
            "showbackground": true,
            "ticks": "",
            "zerolinecolor": "white"
           }
          },
          "shapedefaults": {
           "line": {
            "color": "#2a3f5f"
           }
          },
          "ternary": {
           "aaxis": {
            "gridcolor": "white",
            "linecolor": "white",
            "ticks": ""
           },
           "baxis": {
            "gridcolor": "white",
            "linecolor": "white",
            "ticks": ""
           },
           "bgcolor": "#E5ECF6",
           "caxis": {
            "gridcolor": "white",
            "linecolor": "white",
            "ticks": ""
           }
          },
          "title": {
           "x": 0.05
          },
          "xaxis": {
           "automargin": true,
           "gridcolor": "white",
           "linecolor": "white",
           "ticks": "",
           "title": {
            "standoff": 15
           },
           "zerolinecolor": "white",
           "zerolinewidth": 2
          },
          "yaxis": {
           "automargin": true,
           "gridcolor": "white",
           "linecolor": "white",
           "ticks": "",
           "title": {
            "standoff": 15
           },
           "zerolinecolor": "white",
           "zerolinewidth": 2
          }
         }
        },
        "title": {
         "font": {
          "size": 18
         },
         "text": "Moving Box to The Right Target",
         "x": 0.5,
         "xanchor": "center",
         "yanchor": "top"
        },
        "width": 600,
        "xaxis": {
         "range": [
          0,
          2
         ],
         "showgrid": false,
         "title": {
          "text": "X Coordinate"
         },
         "type": "linear",
         "zeroline": false
        },
        "yaxis": {
         "range": [
          0,
          2
         ],
         "showgrid": false,
         "title": {
          "text": "Y Coordinate"
         },
         "type": "linear",
         "zeroline": false
        }
       }
      },
      "image/png": "[encoded data removed]"
     },
     "metadata": {},
     "output_type": "display_data"
    }
   ],
   "source": [
    "render_graph(box_map)"
   ]
  },
  {
   "cell_type": "code",
   "execution_count": 11,
   "id": "63d73d79",
   "metadata": {},
   "outputs": [],
   "source": [
    "# state = {\"0.5_0.5\": [\"target_blue\", \"box_blue\", \"target_orange\"], \n",
    "#      \"0.5_1.5\": [\"box_orange\", \"target_green\", \"target_blue\"], \n",
    "#      \"1.5_0.5\": [\"box_green\", \"target_green\", \"box_green\"], \n",
    "#      \"1.5_1.5\": [\"box_blue\"]}\n",
    "\n",
    "# render_state, a_lst = trans_data(state, []) \n",
    "\n",
    "# render_graph(render_state)"
   ]
  },
  {
   "cell_type": "code",
   "execution_count": 12,
   "id": "8b2efb51",
   "metadata": {},
   "outputs": [],
   "source": [
    "# action_0 = {'Agent[0.5, 0.5]': 'move(box_blue, target_blue)', \n",
    "#             'Agent[0.5, 1.5]': 'move(box_orange, square[0.5, 0.5])', \n",
    "#             'Agent[1.5, 0.5]': 'move(box_green, target_green)', \n",
    "#             'Agent[1.5, 1.5]': 'move(box_blue, square[0.5, 1.5])'\n",
    "#             }\n",
    "\n",
    "# # render_state_1, a_lst = trans_data(state, [transform_action(action_0)])\n",
    "\n",
    "# state = {\"0.5_0.5\": [\"target_orange\", \"box_orange\"], \n",
    "#      \"0.5_1.5\": [\"target_green\", \"target_blue\", \"box_blue\"], \n",
    "#      \"1.5_0.5\": [\"box_green\"], \n",
    "#      \"1.5_1.5\": []}\n",
    "\n",
    "# render_state, a_lst = trans_data(state, []) \n",
    "\n",
    "# render_graph(render_state)"
   ]
  },
  {
   "cell_type": "markdown",
   "id": "a11f7f26-6065-4b31-b62d-abe2fbc9961a",
   "metadata": {},
   "source": [
    "# Rendering Actions + States"
   ]
  },
  {
   "cell_type": "code",
   "execution_count": 9,
   "id": "0a54b06a-bc6d-4c9c-bd69-fde17f86aa1a",
   "metadata": {},
   "outputs": [],
   "source": [
    "# render_graph(box_map)"
   ]
  },
  {
   "cell_type": "markdown",
   "id": "4efefa1c",
   "metadata": {},
   "source": [
    "# Rendering Animations"
   ]
  },
  {
   "cell_type": "code",
   "execution_count": 15,
   "id": "773d2922",
   "metadata": {},
   "outputs": [],
   "source": [
    "# parent_folder = current_folder.parent\n",
    "# path = parent_folder / \"demos\" / \"converging_samples\" / \"rplh_efficient_2\" / \"pg_state\"\n",
    "# render_maps_as_video(path)"
   ]
  },
  {
   "cell_type": "code",
   "execution_count": 46,
   "id": "ca23a8fd",
   "metadata": {},
   "outputs": [],
   "source": [
    "def action_from_response(\n",
    "    pg_dict_input: dict[str, list[str]], original_response_dict: dict\n",
    ") -> tuple[str, dict[str, list[str]]]:\n",
    "    \"\"\"\n",
    "    Updates the environment state based on the actions in the response.\n",
    "\n",
    "    Args:\n",
    "        pg_dict_input (dict[str, list[str]]): Current state of the playground.\n",
    "        original_response_dict (dict): Actions to be executed.\n",
    "\n",
    "    Returns:\n",
    "        tuple[str, Dict[str, list[str]]]: Feedback string and updated playground state.\n",
    "    \"\"\"\n",
    "    system_error_feedback = \"\"\n",
    "    pg_dict_original = copy.deepcopy(pg_dict_input)\n",
    "    transformed_dict = {}\n",
    "    for key, value in original_response_dict.items():\n",
    "        coordinates = tuple(map(float, re.findall(r\"\\d+\\.?\\d*\", key)))\n",
    "\n",
    "        # match the item and location in the value\n",
    "        match = re.match(r\"move\\((.*?),\\s(.*?)\\)\", value)\n",
    "        if match:\n",
    "            item, location = match.groups()\n",
    "            if \"square\" in location:\n",
    "                location = tuple(map(float, re.findall(r\"\\d+\\.?\\d*\", location)))\n",
    "            transformed_dict[coordinates] = [item, location]\n",
    "    for key, value in transformed_dict.items():\n",
    "        print(f\"Key: {key}, Value1: {value[0]}, Value2: {value[1]}\")\n",
    "        if (\n",
    "            value[0] in pg_dict_original[str(key[0]) + \"_\" + str(key[1])]\n",
    "            and type(value[1]) == tuple\n",
    "            and (\n",
    "                (\n",
    "                    np.abs(key[0] - value[1][0]) == 0\n",
    "                    and np.abs(key[1] - value[1][1]) == 1\n",
    "                )\n",
    "                or (\n",
    "                    np.abs(key[0] - value[1][0]) == 1\n",
    "                    and np.abs(key[1] - value[1][1]) == 0\n",
    "                )\n",
    "            )\n",
    "        ):\n",
    "            pg_dict_original[str(key[0]) + \"_\" + str(key[1])].remove(value[0])\n",
    "            pg_dict_original[str(value[1][0]) + \"_\" + str(value[1][1])].append(value[0])\n",
    "        elif (\n",
    "            value[0] in pg_dict_original[str(key[0]) + \"_\" + str(key[1])]\n",
    "            and type(value[1]) == str\n",
    "            and value[1] in pg_dict_original[str(key[0]) + \"_\" + str(key[1])]\n",
    "            and value[0][:4] == \"box_\"\n",
    "            and value[1][:7] == \"target_\"\n",
    "            and value[0][4:] == value[1][7:]\n",
    "        ):\n",
    "            print(key)\n",
    "            pg_dict_original[str(key[0]) + \"_\" + str(key[1])].remove(value[0])\n",
    "            print(key)\n",
    "            pg_dict_original[str(key[0]) + \"_\" + str(key[1])].remove(value[1])\n",
    "        else:\n",
    "            # print(f\"Error, Iteration Num: {iteration_num}, Key: {key}, Value1: {value[0]}, Value2: {value[1]}\")\n",
    "            system_error_feedback += f\"Your assigned task for {key[0]}_{key[1]} is not in the doable action list; \"\n",
    "\n",
    "    return system_error_feedback, pg_dict_original\n"
   ]
  },
  {
   "cell_type": "code",
   "execution_count": null,
   "id": "19cb17fe-4299-4d2a-afbb-5b05155be679",
   "metadata": {},
   "outputs": [],
   "source": [
    "def render_animation(pg_dict_input, action_list):\n",
    "    \n",
    "    return\n",
    "    "
   ]
  },
  {
   "cell_type": "code",
   "execution_count": 48,
   "id": "96bd2a5b-47f9-4269-9301-6f2be2b695e6",
   "metadata": {},
   "outputs": [
    {
     "name": "stdout",
     "output_type": "stream",
     "text": [
      "{'Agent[0.5, 0.5]': 'move(box_blue, target_blue)', 'Agent[1.5, 1.5]': 'move(box_red, square[1.5, 0.5])'}\n"
     ]
    }
   ],
   "source": [
    "print(action_0)"
   ]
  },
  {
   "cell_type": "code",
   "execution_count": 50,
   "id": "607ea03e-ff70-4e5a-b728-e3f35d65cd99",
   "metadata": {},
   "outputs": [
    {
     "name": "stdout",
     "output_type": "stream",
     "text": [
      "Key: (0.5, 0.5), Value1: box_blue, Value2: target_blue\n",
      "(0.5, 0.5)\n",
      "(0.5, 0.5)\n",
      "Key: (1.5, 1.5), Value1: box_red, Value2: (1.5, 0.5)\n"
     ]
    },
    {
     "data": {
      "text/plain": [
       "{'0.5_0.5': ['target_red', 'box_green', 'target_purple', 'box_purple'],\n",
       " '0.5_1.5': ['box_blue', 'box_red', 'box_purple', 'box_purple', 'box_orange'],\n",
       " '1.5_0.5': ['target_blue',\n",
       "  'target_red',\n",
       "  'target_green',\n",
       "  'target_purple',\n",
       "  'target_purple',\n",
       "  'target_orange',\n",
       "  'box_red'],\n",
       " '1.5_1.5': ['target_blue', 'box_blue']}"
      ]
     },
     "execution_count": 50,
     "metadata": {},
     "output_type": "execute_result"
    }
   ],
   "source": [
    "action_from_response(pg_state_0, action_0)[1]"
   ]
  },
  {
   "cell_type": "code",
   "execution_count": null,
   "id": "a4014957-f70f-4590-9f10-03c6496c854a",
   "metadata": {},
   "outputs": [],
   "source": []
  },
  {
   "cell_type": "code",
   "execution_count": null,
   "id": "d9c335ca-126c-4cd5-a9f2-5b6bf4003415",
   "metadata": {},
   "outputs": [],
   "source": []
  }
 ],
 "metadata": {
  "kernelspec": {
   "display_name": "Python 3 (ipykernel)",
   "language": "python",
   "name": "python3"
  },
  "language_info": {
   "codemirror_mode": {
    "name": "ipython",
    "version": 3
   },
   "file_extension": ".py",
   "mimetype": "text/x-python",
   "name": "python",
   "nbconvert_exporter": "python",
   "pygments_lexer": "ipython3",
   "version": "3.9.20"
  }
 },
 "nbformat": 4,
 "nbformat_minor": 5
}
