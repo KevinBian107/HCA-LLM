{
 "cells": [
  {
   "cell_type": "markdown",
   "id": "605cf9e7",
   "metadata": {},
   "source": [
    "# Rendering and Animation"
   ]
  },
  {
   "cell_type": "code",
   "execution_count": 48,
   "id": "cece67a2-b781-4239-ba19-fc536793a06d",
   "metadata": {},
   "outputs": [
    {
     "name": "stdout",
     "output_type": "stream",
     "text": [
      "The autoreload extension is already loaded. To reload it, use:\n",
      "  %reload_ext autoreload\n"
     ]
    }
   ],
   "source": [
    "%load_ext autoreload\n",
    "%autoreload 2\n",
    "\n",
    "from pathlib import Path\n",
    "import sys\n",
    "import numpy as np\n",
    "import pandas as pd \n",
    "current_folder = Path.cwd()\n",
    "parent_folder = current_folder.parent\n",
    "sys.path.insert(0, str(parent_folder))\n",
    "\n",
    "from rplh.rendering.render_state import *\n",
    "from rplh.rendering.animations import *"
   ]
  },
  {
   "cell_type": "markdown",
   "id": "93ee1518",
   "metadata": {},
   "source": [
    "# Rendering of States"
   ]
  },
  {
   "cell_type": "code",
   "execution_count": 51,
   "id": "7dd47b54-0509-4ce2-b24f-ba8acbad5cbb",
   "metadata": {},
   "outputs": [],
   "source": [
    "\n",
    "import os\n",
    "import json\n",
    "\n",
    "# Define the directory containing the JSON files\n",
    "directory = current_folder / \"converging_samples/rplh_efficient_1/response\"\n",
    "\n",
    "# Initialize an empty list to store the loaded data\n",
    "action_list_raw = []\n",
    "\n",
    "for i in range(13):\n",
    "    file_path = os.path.join(directory, f'response{i}.json')\n",
    "    with open(file_path, 'r') as file:\n",
    "        action_list_raw.append(json.load(file))\n"
   ]
  },
  {
   "cell_type": "code",
   "execution_count": 52,
   "id": "27fc83e0-5de1-42a7-aef6-2fa429528789",
   "metadata": {},
   "outputs": [
    {
     "name": "stdout",
     "output_type": "stream",
     "text": [
      "box map: {(0.5, 0.5): [['target', 'blue', 0], ['target', 'blue', 1], ['target', 'green', 2], ['target', 'green', 3]], (0.5, 1.5): [['box', 'blue', 4], ['box', 'red', 5], ['box', 'purple', 6], ['target', 'purple', 7], ['box', 'purple', 8], ['box', 'orange', 9], ['target', 'orange', 10]], (1.5, 0.5): [['box', 'red', 11], ['target', 'red', 12], ['box', 'green', 13], ['box', 'green', 14], ['target', 'purple', 15]], (1.5, 1.5): [['box', 'blue', 16], ['target', 'red', 17], ['target', 'purple', 18], ['box', 'purple', 19]]}\n",
      "-------------------------------------------------------------------------------------------\n",
      "action_list: [{(0.5, 1.5): ('box_blue', (1.5, 1.5)), (1.5, 1.5): ('box_purple', 'target_purple')}, {(0.5, 1.5): ('box_red', (1.5, 1.5)), (1.5, 0.5): ('box_red', 'target_red')}, {(0.5, 1.5): ('box_purple', 'target_purple'), (1.5, 0.5): ('box_green', (0.5, 0.5)), (1.5, 1.5): ('box_blue', (0.5, 1.5))}, {(0.5, 0.5): ('box_green', 'target_green'), (0.5, 1.5): ('box_orange', 'target_orange')}, {(0.5, 1.5): ('box_blue', (0.5, 0.5))}, {(0.5, 0.5): ('box_blue', (0.5, 1.5)), (0.5, 1.5): ('box_purple', (1.5, 1.5))}, {(1.5, 1.5): ('box_red', 'target_red')}, {(0.5, 1.5): ('box_blue', (0.5, 0.5)), (1.5, 0.5): ('box_green', (0.5, 0.5))}, {(0.5, 0.5): ('box_green', 'target_green'), (1.5, 1.5): ('box_blue', (0.5, 1.5))}, {(0.5, 0.5): ('box_blue', 'target_blue'), (0.5, 1.5): ('box_blue', (0.5, 0.5))}, {(0.5, 0.5): ('box_blue', 'target_blue'), (1.5, 1.5): ('box_purple', (1.5, 0.5))}, {(1.5, 0.5): ('box_purple', 'target_purple')}, {}]\n"
     ]
    }
   ],
   "source": [
    "pg_state_0 = {\"0.5_0.5\": [\"target_blue\", \"target_blue\", \"target_green\", \"target_green\"], \"0.5_1.5\": [\"box_blue\", \"box_red\", \"box_purple\", \"target_purple\", \"box_purple\", \"box_orange\", \"target_orange\"], \"1.5_0.5\": [\"box_red\", \"target_red\", \"box_green\", \"box_green\", \"target_purple\"], \"1.5_1.5\": [\"box_blue\", \"target_red\", \"target_purple\", \"box_purple\"]}\n",
    "#action_list_raw = [action_0, action_1]\n",
    "box_map, action_list = trans_data(pg_state_0, action_list_raw)\n",
    "print(\"box map:\", box_map)\n",
    "print(\"-------------------------------------------------------------------------------------------\")\n",
    "print(\"action_list:\", action_list)\n"
   ]
  },
  {
   "cell_type": "code",
   "execution_count": 53,
   "id": "63d73d79",
   "metadata": {},
   "outputs": [],
   "source": [
    "# state = {\"0.5_0.5\": [], \n",
    "#      \"0.5_1.5\": [], \n",
    "#      \"1.5_0.5\": [], \n",
    "#      \"1.5_1.5\": []}\n",
    "\n",
    "# render_state, a_lst = trans_data(state, []) \n",
    "\n",
    "# render_graph(box_map)"
   ]
  },
  {
   "cell_type": "code",
   "execution_count": 54,
   "id": "8b2efb51",
   "metadata": {},
   "outputs": [],
   "source": [
    "\n",
    "\n",
    "\n",
    "\n",
    "\n",
    "# action_0 = {'Agent[0.5, 0.5]': 'move(box_blue, target_blue)', \n",
    "#             'Agent[0.5, 1.5]': 'move(box_orange, square[0.5, 0.5])', \n",
    "#             'Agent[1.5, 0.5]': 'move(box_green, target_green)', \n",
    "#             'Agent[1.5, 1.5]': 'move(box_blue, square[0.5, 1.5])'\n",
    "#             }\n",
    "\n",
    "# # render_state_1, a_lst = trans_data(state, [transform_action(action_0)])\n",
    "\n",
    "# state = {\"0.5_0.5\": [\"target_orange\", \"box_orange\"], \n",
    "#      \"0.5_1.5\": [\"target_green\", \"target_blue\", \"box_blue\"], \n",
    "#      \"1.5_0.5\": [\"box_green\"], \n",
    "#      \"1.5_1.5\": []}\n",
    "\n",
    "# render_state, a_lst = trans_data(state, []) \n",
    "\n",
    "# render_graph(render_state)"
   ]
  },
  {
   "cell_type": "markdown",
   "id": "a11f7f26-6065-4b31-b62d-abe2fbc9961a",
   "metadata": {},
   "source": [
    "# Rendering Actions + States"
   ]
  },
  {
   "cell_type": "code",
   "execution_count": 55,
   "id": "0a54b06a-bc6d-4c9c-bd69-fde17f86aa1a",
   "metadata": {},
   "outputs": [],
   "source": [
    "# render_graph(box_map)"
   ]
  },
  {
   "cell_type": "code",
   "execution_count": 56,
   "id": "ab9025f3-c1c0-4778-9d78-9b834e989844",
   "metadata": {},
   "outputs": [],
   "source": [
    "# action_list"
   ]
  },
  {
   "cell_type": "markdown",
   "id": "4efefa1c",
   "metadata": {},
   "source": [
    "# Rendering Animations"
   ]
  },
  {
   "cell_type": "code",
   "execution_count": 57,
   "id": "e3803d6f-d96e-439d-ab18-c108aa3d233e",
   "metadata": {},
   "outputs": [],
   "source": [
    "fig, df = render_animate(box_map, action_list, num_frames = 5)"
   ]
  },
  {
   "cell_type": "code",
   "execution_count": 58,
   "id": "6d1ff923-03aa-4b9c-bef7-55b8c734c4f4",
   "metadata": {},
   "outputs": [
    {
     "data": {
      "application/vnd.plotly.v1+json": {
       "config": {
        "plotlyServerURL": "https://plot.ly"
       },
       "data": [
        {
         "hovertemplate": "<b>%{hovertext}</b><br><br>color=blue<br>type=target<br>frame=0<br>x=%{x}<br>y=%{y}<br>size=%{marker.size}<extra></extra>",
         "hovertext": [
          "blue | target | 0",
          "blue | target | 1"
         ],
         "ids": [
          0,
          1
         ],
         "legendgroup": "blue, target",
         "marker": {
          "color": "#636efa",
          "size": [
           100,
           100
          ],
          "sizemode": "area",
          "sizeref": 0.25,
          "symbol": "circle"
         },
         "mode": "markers",
         "name": "blue, target",
         "orientation": "v",
         "showlegend": true,
         "type": "scatter",
         "x": [
          0.2,
          0.35
         ],
         "xaxis": "x",
         "y": [
          0.85,
          0.85
         ],
         "yaxis": "y"
        },
        {
         "hovertemplate": "<b>%{hovertext}</b><br><br>color=blue<br>type=box<br>frame=0<br>x=%{x}<br>y=%{y}<br>size=%{marker.size}<extra></extra>",
         "hovertext": [
          "blue | box | 4",
          "blue | box | 16"
         ],
         "ids": [
          4,
          16
         ],
         "legendgroup": "blue, box",
         "marker": {
          "color": "#636efa",
          "size": [
           100,
           100
          ],
          "sizemode": "area",
          "sizeref": 0.25,
          "symbol": "diamond"
         },
         "mode": "markers",
         "name": "blue, box",
         "orientation": "v",
         "showlegend": true,
         "type": "scatter",
         "x": [
          0.2,
          1.35
         ],
         "xaxis": "x",
         "y": [
          1.15,
          1.15
         ],
         "yaxis": "y"
        },
        {
         "hovertemplate": "<b>%{hovertext}</b><br><br>color=green<br>type=target<br>frame=0<br>x=%{x}<br>y=%{y}<br>size=%{marker.size}<extra></extra>",
         "hovertext": [
          "green | target | 2",
          "green | target | 3"
         ],
         "ids": [
          2,
          3
         ],
         "legendgroup": "green, target",
         "marker": {
          "color": "#EF553B",
          "size": [
           100,
           100
          ],
          "sizemode": "area",
          "sizeref": 0.25,
          "symbol": "circle"
         },
         "mode": "markers",
         "name": "green, target",
         "orientation": "v",
         "showlegend": true,
         "type": "scatter",
         "x": [
          0.5,
          0.65
         ],
         "xaxis": "x",
         "y": [
          0.85,
          0.85
         ],
         "yaxis": "y"
        },
        {
         "hovertemplate": "<b>%{hovertext}</b><br><br>color=green<br>type=box<br>frame=0<br>x=%{x}<br>y=%{y}<br>size=%{marker.size}<extra></extra>",
         "hovertext": [
          "green | box | 13",
          "green | box | 14"
         ],
         "ids": [
          13,
          14
         ],
         "legendgroup": "green, box",
         "marker": {
          "color": "#EF553B",
          "size": [
           100,
           100
          ],
          "sizemode": "area",
          "sizeref": 0.25,
          "symbol": "diamond"
         },
         "mode": "markers",
         "name": "green, box",
         "orientation": "v",
         "showlegend": true,
         "type": "scatter",
         "x": [
          1.5,
          1.65
         ],
         "xaxis": "x",
         "y": [
          0.15000000000000002,
          0.15000000000000002
         ],
         "yaxis": "y"
        },
        {
         "hovertemplate": "<b>%{hovertext}</b><br><br>color=purple<br>type=target<br>frame=0<br>x=%{x}<br>y=%{y}<br>size=%{marker.size}<extra></extra>",
         "hovertext": [
          "purple | target | 7",
          "purple | target | 15",
          "purple | target | 18"
         ],
         "ids": [
          7,
          15,
          18
         ],
         "legendgroup": "purple, target",
         "marker": {
          "color": "#00cc96",
          "size": [
           100,
           100,
           100
          ],
          "sizemode": "area",
          "sizeref": 0.25,
          "symbol": "circle"
         },
         "mode": "markers",
         "name": "purple, target",
         "orientation": "v",
         "showlegend": true,
         "type": "scatter",
         "x": [
          0.35,
          1.5,
          1.5
         ],
         "xaxis": "x",
         "y": [
          1.85,
          0.85,
          1.85
         ],
         "yaxis": "y"
        },
        {
         "hovertemplate": "<b>%{hovertext}</b><br><br>color=purple<br>type=box<br>frame=0<br>x=%{x}<br>y=%{y}<br>size=%{marker.size}<extra></extra>",
         "hovertext": [
          "purple | box | 6",
          "purple | box | 8",
          "purple | box | 19"
         ],
         "ids": [
          6,
          8,
          19
         ],
         "legendgroup": "purple, box",
         "marker": {
          "color": "#00cc96",
          "size": [
           100,
           100,
           100
          ],
          "sizemode": "area",
          "sizeref": 0.25,
          "symbol": "diamond"
         },
         "mode": "markers",
         "name": "purple, box",
         "orientation": "v",
         "showlegend": true,
         "type": "scatter",
         "x": [
          0.5,
          0.65,
          1.5
         ],
         "xaxis": "x",
         "y": [
          1.15,
          1.15,
          1.15
         ],
         "yaxis": "y"
        },
        {
         "hovertemplate": "<b>%{hovertext}</b><br><br>color=orange<br>type=target<br>frame=0<br>x=%{x}<br>y=%{y}<br>size=%{marker.size}<extra></extra>",
         "hovertext": [
          "orange | target | 10"
         ],
         "ids": [
          10
         ],
         "legendgroup": "orange, target",
         "marker": {
          "color": "#ab63fa",
          "size": [
           100
          ],
          "sizemode": "area",
          "sizeref": 0.25,
          "symbol": "circle"
         },
         "mode": "markers",
         "name": "orange, target",
         "orientation": "v",
         "showlegend": true,
         "type": "scatter",
         "x": [
          0.5
         ],
         "xaxis": "x",
         "y": [
          1.85
         ],
         "yaxis": "y"
        },
        {
         "hovertemplate": "<b>%{hovertext}</b><br><br>color=orange<br>type=box<br>frame=0<br>x=%{x}<br>y=%{y}<br>size=%{marker.size}<extra></extra>",
         "hovertext": [
          "orange | box | 9"
         ],
         "ids": [
          9
         ],
         "legendgroup": "orange, box",
         "marker": {
          "color": "#ab63fa",
          "size": [
           100
          ],
          "sizemode": "area",
          "sizeref": 0.25,
          "symbol": "diamond"
         },
         "mode": "markers",
         "name": "orange, box",
         "orientation": "v",
         "showlegend": true,
         "type": "scatter",
         "x": [
          0.8
         ],
         "xaxis": "x",
         "y": [
          1.15
         ],
         "yaxis": "y"
        },
        {
         "hovertemplate": "<b>%{hovertext}</b><br><br>color=red<br>type=target<br>frame=0<br>x=%{x}<br>y=%{y}<br>size=%{marker.size}<extra></extra>",
         "hovertext": [
          "red | target | 12",
          "red | target | 17"
         ],
         "ids": [
          12,
          17
         ],
         "legendgroup": "red, target",
         "marker": {
          "color": "#FFA15A",
          "size": [
           100,
           100
          ],
          "sizemode": "area",
          "sizeref": 0.25,
          "symbol": "circle"
         },
         "mode": "markers",
         "name": "red, target",
         "orientation": "v",
         "showlegend": true,
         "type": "scatter",
         "x": [
          1.35,
          1.35
         ],
         "xaxis": "x",
         "y": [
          0.85,
          1.85
         ],
         "yaxis": "y"
        },
        {
         "hovertemplate": "<b>%{hovertext}</b><br><br>color=red<br>type=box<br>frame=0<br>x=%{x}<br>y=%{y}<br>size=%{marker.size}<extra></extra>",
         "hovertext": [
          "red | box | 5",
          "red | box | 11"
         ],
         "ids": [
          5,
          11
         ],
         "legendgroup": "red, box",
         "marker": {
          "color": "#FFA15A",
          "size": [
           100,
           100
          ],
          "sizemode": "area",
          "sizeref": 0.25,
          "symbol": "diamond"
         },
         "mode": "markers",
         "name": "red, box",
         "orientation": "v",
         "showlegend": true,
         "type": "scatter",
         "x": [
          0.35,
          1.35
         ],
         "xaxis": "x",
         "y": [
          1.15,
          0.15000000000000002
         ],
         "yaxis": "y"
        }
       ],
       "frames": [
        {
         "data": [
          {
           "hovertemplate": "<b>%{hovertext}</b><br><br>color=blue<br>type=target<br>frame=0<br>x=%{x}<br>y=%{y}<br>size=%{marker.size}<extra></extra>",
           "hovertext": [
            "blue | target | 0",
            "blue | target | 1"
           ],
           "ids": [
            0,
            1
           ],
           "legendgroup": "blue, target",
           "marker": {
            "color": "#636efa",
            "size": [
             100,
             100
            ],
            "sizemode": "area",
            "sizeref": 0.25,
            "symbol": "circle"
           },
           "mode": "markers",
           "name": "blue, target",
           "orientation": "v",
           "showlegend": true,
           "type": "scatter",
           "x": [
            0.2,
            0.35
           ],
           "xaxis": "x",
           "y": [
            0.85,
            0.85
           ],
           "yaxis": "y"
          },
          {
           "hovertemplate": "<b>%{hovertext}</b><br><br>color=blue<br>type=box<br>frame=0<br>x=%{x}<br>y=%{y}<br>size=%{marker.size}<extra></extra>",
           "hovertext": [
            "blue | box | 4",
            "blue | box | 16"
           ],
           "ids": [
            4,
            16
           ],
           "legendgroup": "blue, box",
           "marker": {
            "color": "#636efa",
            "size": [
             100,
             100
            ],
            "sizemode": "area",
            "sizeref": 0.25,
            "symbol": "diamond"
           },
           "mode": "markers",
           "name": "blue, box",
           "orientation": "v",
           "showlegend": true,
           "type": "scatter",
           "x": [
            0.2,
            1.35
           ],
           "xaxis": "x",
           "y": [
            1.15,
            1.15
           ],
           "yaxis": "y"
          },
          {
           "hovertemplate": "<b>%{hovertext}</b><br><br>color=green<br>type=target<br>frame=0<br>x=%{x}<br>y=%{y}<br>size=%{marker.size}<extra></extra>",
           "hovertext": [
            "green | target | 2",
            "green | target | 3"
           ],
           "ids": [
            2,
            3
           ],
           "legendgroup": "green, target",
           "marker": {
            "color": "#EF553B",
            "size": [
             100,
             100
            ],
            "sizemode": "area",
            "sizeref": 0.25,
            "symbol": "circle"
           },
           "mode": "markers",
           "name": "green, target",
           "orientation": "v",
           "showlegend": true,
           "type": "scatter",
           "x": [
            0.5,
            0.65
           ],
           "xaxis": "x",
           "y": [
            0.85,
            0.85
           ],
           "yaxis": "y"
          },
          {
           "hovertemplate": "<b>%{hovertext}</b><br><br>color=green<br>type=box<br>frame=0<br>x=%{x}<br>y=%{y}<br>size=%{marker.size}<extra></extra>",
           "hovertext": [
            "green | box | 13",
            "green | box | 14"
           ],
           "ids": [
            13,
            14
           ],
           "legendgroup": "green, box",
           "marker": {
            "color": "#EF553B",
            "size": [
             100,
             100
            ],
            "sizemode": "area",
            "sizeref": 0.25,
            "symbol": "diamond"
           },
           "mode": "markers",
           "name": "green, box",
           "orientation": "v",
           "showlegend": true,
           "type": "scatter",
           "x": [
            1.5,
            1.65
           ],
           "xaxis": "x",
           "y": [
            0.15000000000000002,
            0.15000000000000002
           ],
           "yaxis": "y"
          },
          {
           "hovertemplate": "<b>%{hovertext}</b><br><br>color=purple<br>type=target<br>frame=0<br>x=%{x}<br>y=%{y}<br>size=%{marker.size}<extra></extra>",
           "hovertext": [
            "purple | target | 7",
            "purple | target | 15",
            "purple | target | 18"
           ],
           "ids": [
            7,
            15,
            18
           ],
           "legendgroup": "purple, target",
           "marker": {
            "color": "#00cc96",
            "size": [
             100,
             100,
             100
            ],
            "sizemode": "area",
            "sizeref": 0.25,
            "symbol": "circle"
           },
           "mode": "markers",
           "name": "purple, target",
           "orientation": "v",
           "showlegend": true,
           "type": "scatter",
           "x": [
            0.35,
            1.5,
            1.5
           ],
           "xaxis": "x",
           "y": [
            1.85,
            0.85,
            1.85
           ],
           "yaxis": "y"
          },
          {
           "hovertemplate": "<b>%{hovertext}</b><br><br>color=purple<br>type=box<br>frame=0<br>x=%{x}<br>y=%{y}<br>size=%{marker.size}<extra></extra>",
           "hovertext": [
            "purple | box | 6",
            "purple | box | 8",
            "purple | box | 19"
           ],
           "ids": [
            6,
            8,
            19
           ],
           "legendgroup": "purple, box",
           "marker": {
            "color": "#00cc96",
            "size": [
             100,
             100,
             100
            ],
            "sizemode": "area",
            "sizeref": 0.25,
            "symbol": "diamond"
           },
           "mode": "markers",
           "name": "purple, box",
           "orientation": "v",
           "showlegend": true,
           "type": "scatter",
           "x": [
            0.5,
            0.65,
            1.5
           ],
           "xaxis": "x",
           "y": [
            1.15,
            1.15,
            1.15
           ],
           "yaxis": "y"
          },
          {
           "hovertemplate": "<b>%{hovertext}</b><br><br>color=orange<br>type=target<br>frame=0<br>x=%{x}<br>y=%{y}<br>size=%{marker.size}<extra></extra>",
           "hovertext": [
            "orange | target | 10"
           ],
           "ids": [
            10
           ],
           "legendgroup": "orange, target",
           "marker": {
            "color": "#ab63fa",
            "size": [
             100
            ],
            "sizemode": "area",
            "sizeref": 0.25,
            "symbol": "circle"
           },
           "mode": "markers",
           "name": "orange, target",
           "orientation": "v",
           "showlegend": true,
           "type": "scatter",
           "x": [
            0.5
           ],
           "xaxis": "x",
           "y": [
            1.85
           ],
           "yaxis": "y"
          },
          {
           "hovertemplate": "<b>%{hovertext}</b><br><br>color=orange<br>type=box<br>frame=0<br>x=%{x}<br>y=%{y}<br>size=%{marker.size}<extra></extra>",
           "hovertext": [
            "orange | box | 9"
           ],
           "ids": [
            9
           ],
           "legendgroup": "orange, box",
           "marker": {
            "color": "#ab63fa",
            "size": [
             100
            ],
            "sizemode": "area",
            "sizeref": 0.25,
            "symbol": "diamond"
           },
           "mode": "markers",
           "name": "orange, box",
           "orientation": "v",
           "showlegend": true,
           "type": "scatter",
           "x": [
            0.8
           ],
           "xaxis": "x",
           "y": [
            1.15
           ],
           "yaxis": "y"
          },
          {
           "hovertemplate": "<b>%{hovertext}</b><br><br>color=red<br>type=target<br>frame=0<br>x=%{x}<br>y=%{y}<br>size=%{marker.size}<extra></extra>",
           "hovertext": [
            "red | target | 12",
            "red | target | 17"
           ],
           "ids": [
            12,
            17
           ],
           "legendgroup": "red, target",
           "marker": {
            "color": "#FFA15A",
            "size": [
             100,
             100
            ],
            "sizemode": "area",
            "sizeref": 0.25,
            "symbol": "circle"
           },
           "mode": "markers",
           "name": "red, target",
           "orientation": "v",
           "showlegend": true,
           "type": "scatter",
           "x": [
            1.35,
            1.35
           ],
           "xaxis": "x",
           "y": [
            0.85,
            1.85
           ],
           "yaxis": "y"
          },
          {
           "hovertemplate": "<b>%{hovertext}</b><br><br>color=red<br>type=box<br>frame=0<br>x=%{x}<br>y=%{y}<br>size=%{marker.size}<extra></extra>",
           "hovertext": [
            "red | box | 5",
            "red | box | 11"
           ],
           "ids": [
            5,
            11
           ],
           "legendgroup": "red, box",
           "marker": {
            "color": "#FFA15A",
            "size": [
             100,
             100
            ],
            "sizemode": "area",
            "sizeref": 0.25,
            "symbol": "diamond"
           },
           "mode": "markers",
           "name": "red, box",
           "orientation": "v",
           "showlegend": true,
           "type": "scatter",
           "x": [
            0.35,
            1.35
           ],
           "xaxis": "x",
           "y": [
            1.15,
            0.15000000000000002
           ],
           "yaxis": "y"
          }
         ],
         "name": "0"
        },
        {
         "data": [
          {
           "hovertemplate": "<b>%{hovertext}</b><br><br>color=blue<br>type=target<br>frame=1<br>x=%{x}<br>y=%{y}<br>size=%{marker.size}<extra></extra>",
           "hovertext": [
            "blue | target | 0",
            "blue | target | 1"
           ],
           "ids": [
            0,
            1
           ],
           "legendgroup": "blue, target",
           "marker": {
            "color": "#636efa",
            "size": [
             80,
             80
            ],
            "sizemode": "area",
            "sizeref": 0.25,
            "symbol": "circle"
           },
           "mode": "markers",
           "name": "blue, target",
           "orientation": "v",
           "showlegend": true,
           "type": "scatter",
           "x": [
            0.20000000000000004,
            0.35
           ],
           "xaxis": "x",
           "y": [
            0.8500000000000001,
            0.8500000000000001
           ],
           "yaxis": "y"
          },
          {
           "hovertemplate": "<b>%{hovertext}</b><br><br>color=blue<br>type=box<br>frame=1<br>x=%{x}<br>y=%{y}<br>size=%{marker.size}<extra></extra>",
           "hovertext": [
            "blue | box | 4",
            "blue | box | 16"
           ],
           "ids": [
            4,
            16
           ],
           "legendgroup": "blue, box",
           "marker": {
            "color": "#636efa",
            "size": [
             80,
             80
            ],
            "sizemode": "area",
            "sizeref": 0.25,
            "symbol": "diamond"
           },
           "mode": "markers",
           "name": "blue, box",
           "orientation": "v",
           "showlegend": true,
           "type": "scatter",
           "x": [
            0.4600000000000001,
            1.35
           ],
           "xaxis": "x",
           "y": [
            1.15,
            1.15
           ],
           "yaxis": "y"
          },
          {
           "hovertemplate": "<b>%{hovertext}</b><br><br>color=green<br>type=target<br>frame=1<br>x=%{x}<br>y=%{y}<br>size=%{marker.size}<extra></extra>",
           "hovertext": [
            "green | target | 2",
            "green | target | 3"
           ],
           "ids": [
            2,
            3
           ],
           "legendgroup": "green, target",
           "marker": {
            "color": "#EF553B",
            "size": [
             80,
             80
            ],
            "sizemode": "area",
            "sizeref": 0.25,
            "symbol": "circle"
           },
           "mode": "markers",
           "name": "green, target",
           "orientation": "v",
           "showlegend": true,
           "type": "scatter",
           "x": [
            0.5,
            0.65
           ],
           "xaxis": "x",
           "y": [
            0.8500000000000001,
            0.8500000000000001
           ],
           "yaxis": "y"
          },
          {
           "hovertemplate": "<b>%{hovertext}</b><br><br>color=green<br>type=box<br>frame=1<br>x=%{x}<br>y=%{y}<br>size=%{marker.size}<extra></extra>",
           "hovertext": [
            "green | box | 13",
            "green | box | 14"
           ],
           "ids": [
            13,
            14
           ],
           "legendgroup": "green, box",
           "marker": {
            "color": "#EF553B",
            "size": [
             80,
             80
            ],
            "sizemode": "area",
            "sizeref": 0.25,
            "symbol": "diamond"
           },
           "mode": "markers",
           "name": "green, box",
           "orientation": "v",
           "showlegend": true,
           "type": "scatter",
           "x": [
            1.5000000000000002,
            1.6500000000000001
           ],
           "xaxis": "x",
           "y": [
            0.15000000000000002,
            0.15000000000000002
           ],
           "yaxis": "y"
          },
          {
           "hovertemplate": "<b>%{hovertext}</b><br><br>color=purple<br>type=target<br>frame=1<br>x=%{x}<br>y=%{y}<br>size=%{marker.size}<extra></extra>",
           "hovertext": [
            "purple | target | 7",
            "purple | target | 15",
            "purple | target | 18"
           ],
           "ids": [
            7,
            15,
            18
           ],
           "legendgroup": "purple, target",
           "marker": {
            "color": "#00cc96",
            "size": [
             80,
             80,
             80
            ],
            "sizemode": "area",
            "sizeref": 0.25,
            "symbol": "circle"
           },
           "mode": "markers",
           "name": "purple, target",
           "orientation": "v",
           "showlegend": true,
           "type": "scatter",
           "x": [
            0.35,
            1.5000000000000002,
            1.5000000000000002
           ],
           "xaxis": "x",
           "y": [
            1.8500000000000003,
            0.8500000000000001,
            1.7800000000000002
           ],
           "yaxis": "y"
          },
          {
           "hovertemplate": "<b>%{hovertext}</b><br><br>color=purple<br>type=box<br>frame=1<br>x=%{x}<br>y=%{y}<br>size=%{marker.size}<extra></extra>",
           "hovertext": [
            "purple | box | 6",
            "purple | box | 8",
            "purple | box | 19"
           ],
           "ids": [
            6,
            8,
            19
           ],
           "legendgroup": "purple, box",
           "marker": {
            "color": "#00cc96",
            "size": [
             80,
             80,
             80
            ],
            "sizemode": "area",
            "sizeref": 0.25,
            "symbol": "diamond"
           },
           "mode": "markers",
           "name": "purple, box",
           "orientation": "v",
           "showlegend": true,
           "type": "scatter",
           "x": [
            0.47000000000000003,
            0.62,
            1.5000000000000002
           ],
           "xaxis": "x",
           "y": [
            1.15,
            1.15,
            1.22
           ],
           "yaxis": "y"
          },
          {
           "hovertemplate": "<b>%{hovertext}</b><br><br>color=orange<br>type=target<br>frame=1<br>x=%{x}<br>y=%{y}<br>size=%{marker.size}<extra></extra>",
           "hovertext": [
            "orange | target | 10"
           ],
           "ids": [
            10
           ],
           "legendgroup": "orange, target",
           "marker": {
            "color": "#ab63fa",
            "size": [
             80
            ],
            "sizemode": "area",
            "sizeref": 0.25,
            "symbol": "circle"
           },
           "mode": "markers",
           "name": "orange, target",
           "orientation": "v",
           "showlegend": true,
           "type": "scatter",
           "x": [
            0.5
           ],
           "xaxis": "x",
           "y": [
            1.8500000000000003
           ],
           "yaxis": "y"
          },
          {
           "hovertemplate": "<b>%{hovertext}</b><br><br>color=orange<br>type=box<br>frame=1<br>x=%{x}<br>y=%{y}<br>size=%{marker.size}<extra></extra>",
           "hovertext": [
            "orange | box | 9"
           ],
           "ids": [
            9
           ],
           "legendgroup": "orange, box",
           "marker": {
            "color": "#ab63fa",
            "size": [
             80
            ],
            "sizemode": "area",
            "sizeref": 0.25,
            "symbol": "diamond"
           },
           "mode": "markers",
           "name": "orange, box",
           "orientation": "v",
           "showlegend": true,
           "type": "scatter",
           "x": [
            0.7700000000000001
           ],
           "xaxis": "x",
           "y": [
            1.15
           ],
           "yaxis": "y"
          },
          {
           "hovertemplate": "<b>%{hovertext}</b><br><br>color=red<br>type=target<br>frame=1<br>x=%{x}<br>y=%{y}<br>size=%{marker.size}<extra></extra>",
           "hovertext": [
            "red | target | 12",
            "red | target | 17"
           ],
           "ids": [
            12,
            17
           ],
           "legendgroup": "red, target",
           "marker": {
            "color": "#FFA15A",
            "size": [
             80,
             80
            ],
            "sizemode": "area",
            "sizeref": 0.25,
            "symbol": "circle"
           },
           "mode": "markers",
           "name": "red, target",
           "orientation": "v",
           "showlegend": true,
           "type": "scatter",
           "x": [
            1.35,
            1.3800000000000001
           ],
           "xaxis": "x",
           "y": [
            0.8500000000000001,
            1.8500000000000003
           ],
           "yaxis": "y"
          },
          {
           "hovertemplate": "<b>%{hovertext}</b><br><br>color=red<br>type=box<br>frame=1<br>x=%{x}<br>y=%{y}<br>size=%{marker.size}<extra></extra>",
           "hovertext": [
            "red | box | 5",
            "red | box | 11"
           ],
           "ids": [
            5,
            11
           ],
           "legendgroup": "red, box",
           "marker": {
            "color": "#FFA15A",
            "size": [
             80,
             80
            ],
            "sizemode": "area",
            "sizeref": 0.25,
            "symbol": "diamond"
           },
           "mode": "markers",
           "name": "red, box",
           "orientation": "v",
           "showlegend": true,
           "type": "scatter",
           "x": [
            0.31999999999999995,
            1.35
           ],
           "xaxis": "x",
           "y": [
            1.15,
            0.15000000000000002
           ],
           "yaxis": "y"
          }
         ],
         "name": "1"
        },
        {
         "data": [
          {
           "hovertemplate": "<b>%{hovertext}</b><br><br>color=blue<br>type=target<br>frame=2<br>x=%{x}<br>y=%{y}<br>size=%{marker.size}<extra></extra>",
           "hovertext": [
            "blue | target | 0",
            "blue | target | 1"
           ],
           "ids": [
            0,
            1
           ],
           "legendgroup": "blue, target",
           "marker": {
            "color": "#636efa",
            "size": [
             60,
             60
            ],
            "sizemode": "area",
            "sizeref": 0.25,
            "symbol": "circle"
           },
           "mode": "markers",
           "name": "blue, target",
           "orientation": "v",
           "showlegend": true,
           "type": "scatter",
           "x": [
            0.2,
            0.35
           ],
           "xaxis": "x",
           "y": [
            0.8500000000000001,
            0.8500000000000001
           ],
           "yaxis": "y"
          },
          {
           "hovertemplate": "<b>%{hovertext}</b><br><br>color=blue<br>type=box<br>frame=2<br>x=%{x}<br>y=%{y}<br>size=%{marker.size}<extra></extra>",
           "hovertext": [
            "blue | box | 4",
            "blue | box | 16"
           ],
           "ids": [
            4,
            16
           ],
           "legendgroup": "blue, box",
           "marker": {
            "color": "#636efa",
            "size": [
             60,
             60
            ],
            "sizemode": "area",
            "sizeref": 0.25,
            "symbol": "diamond"
           },
           "mode": "markers",
           "name": "blue, box",
           "orientation": "v",
           "showlegend": true,
           "type": "scatter",
           "x": [
            0.7200000000000001,
            1.35
           ],
           "xaxis": "x",
           "y": [
            1.15,
            1.15
           ],
           "yaxis": "y"
          },
          {
           "hovertemplate": "<b>%{hovertext}</b><br><br>color=green<br>type=target<br>frame=2<br>x=%{x}<br>y=%{y}<br>size=%{marker.size}<extra></extra>",
           "hovertext": [
            "green | target | 2",
            "green | target | 3"
           ],
           "ids": [
            2,
            3
           ],
           "legendgroup": "green, target",
           "marker": {
            "color": "#EF553B",
            "size": [
             60,
             60
            ],
            "sizemode": "area",
            "sizeref": 0.25,
            "symbol": "circle"
           },
           "mode": "markers",
           "name": "green, target",
           "orientation": "v",
           "showlegend": true,
           "type": "scatter",
           "x": [
            0.5,
            0.65
           ],
           "xaxis": "x",
           "y": [
            0.8500000000000001,
            0.8500000000000001
           ],
           "yaxis": "y"
          },
          {
           "hovertemplate": "<b>%{hovertext}</b><br><br>color=green<br>type=box<br>frame=2<br>x=%{x}<br>y=%{y}<br>size=%{marker.size}<extra></extra>",
           "hovertext": [
            "green | box | 13",
            "green | box | 14"
           ],
           "ids": [
            13,
            14
           ],
           "legendgroup": "green, box",
           "marker": {
            "color": "#EF553B",
            "size": [
             60,
             60
            ],
            "sizemode": "area",
            "sizeref": 0.25,
            "symbol": "diamond"
           },
           "mode": "markers",
           "name": "green, box",
           "orientation": "v",
           "showlegend": true,
           "type": "scatter",
           "x": [
            1.5,
            1.65
           ],
           "xaxis": "x",
           "y": [
            0.15000000000000002,
            0.15000000000000002
           ],
           "yaxis": "y"
          },
          {
           "hovertemplate": "<b>%{hovertext}</b><br><br>color=purple<br>type=target<br>frame=2<br>x=%{x}<br>y=%{y}<br>size=%{marker.size}<extra></extra>",
           "hovertext": [
            "purple | target | 7",
            "purple | target | 15",
            "purple | target | 18"
           ],
           "ids": [
            7,
            15,
            18
           ],
           "legendgroup": "purple, target",
           "marker": {
            "color": "#00cc96",
            "size": [
             60,
             60,
             60
            ],
            "sizemode": "area",
            "sizeref": 0.25,
            "symbol": "circle"
           },
           "mode": "markers",
           "name": "purple, target",
           "orientation": "v",
           "showlegend": true,
           "type": "scatter",
           "x": [
            0.35,
            1.5,
            1.5
           ],
           "xaxis": "x",
           "y": [
            1.85,
            0.8500000000000001,
            1.7100000000000002
           ],
           "yaxis": "y"
          },
          {
           "hovertemplate": "<b>%{hovertext}</b><br><br>color=purple<br>type=box<br>frame=2<br>x=%{x}<br>y=%{y}<br>size=%{marker.size}<extra></extra>",
           "hovertext": [
            "purple | box | 6",
            "purple | box | 8",
            "purple | box | 19"
           ],
           "ids": [
            6,
            8,
            19
           ],
           "legendgroup": "purple, box",
           "marker": {
            "color": "#00cc96",
            "size": [
             60,
             60,
             60
            ],
            "sizemode": "area",
            "sizeref": 0.25,
            "symbol": "diamond"
           },
           "mode": "markers",
           "name": "purple, box",
           "orientation": "v",
           "showlegend": true,
           "type": "scatter",
           "x": [
            0.43999999999999995,
            0.5900000000000001,
            1.5
           ],
           "xaxis": "x",
           "y": [
            1.15,
            1.15,
            1.29
           ],
           "yaxis": "y"
          },
          {
           "hovertemplate": "<b>%{hovertext}</b><br><br>color=orange<br>type=target<br>frame=2<br>x=%{x}<br>y=%{y}<br>size=%{marker.size}<extra></extra>",
           "hovertext": [
            "orange | target | 10"
           ],
           "ids": [
            10
           ],
           "legendgroup": "orange, target",
           "marker": {
            "color": "#ab63fa",
            "size": [
             60
            ],
            "sizemode": "area",
            "sizeref": 0.25,
            "symbol": "circle"
           },
           "mode": "markers",
           "name": "orange, target",
           "orientation": "v",
           "showlegend": true,
           "type": "scatter",
           "x": [
            0.5
           ],
           "xaxis": "x",
           "y": [
            1.85
           ],
           "yaxis": "y"
          },
          {
           "hovertemplate": "<b>%{hovertext}</b><br><br>color=orange<br>type=box<br>frame=2<br>x=%{x}<br>y=%{y}<br>size=%{marker.size}<extra></extra>",
           "hovertext": [
            "orange | box | 9"
           ],
           "ids": [
            9
           ],
           "legendgroup": "orange, box",
           "marker": {
            "color": "#ab63fa",
            "size": [
             60
            ],
            "sizemode": "area",
            "sizeref": 0.25,
            "symbol": "diamond"
           },
           "mode": "markers",
           "name": "orange, box",
           "orientation": "v",
           "showlegend": true,
           "type": "scatter",
           "x": [
            0.74
           ],
           "xaxis": "x",
           "y": [
            1.15
           ],
           "yaxis": "y"
          },
          {
           "hovertemplate": "<b>%{hovertext}</b><br><br>color=red<br>type=target<br>frame=2<br>x=%{x}<br>y=%{y}<br>size=%{marker.size}<extra></extra>",
           "hovertext": [
            "red | target | 12",
            "red | target | 17"
           ],
           "ids": [
            12,
            17
           ],
           "legendgroup": "red, target",
           "marker": {
            "color": "#FFA15A",
            "size": [
             60,
             60
            ],
            "sizemode": "area",
            "sizeref": 0.25,
            "symbol": "circle"
           },
           "mode": "markers",
           "name": "red, target",
           "orientation": "v",
           "showlegend": true,
           "type": "scatter",
           "x": [
            1.35,
            1.4100000000000001
           ],
           "xaxis": "x",
           "y": [
            0.8500000000000001,
            1.85
           ],
           "yaxis": "y"
          },
          {
           "hovertemplate": "<b>%{hovertext}</b><br><br>color=red<br>type=box<br>frame=2<br>x=%{x}<br>y=%{y}<br>size=%{marker.size}<extra></extra>",
           "hovertext": [
            "red | box | 5",
            "red | box | 11"
           ],
           "ids": [
            5,
            11
           ],
           "legendgroup": "red, box",
           "marker": {
            "color": "#FFA15A",
            "size": [
             60,
             60
            ],
            "sizemode": "area",
            "sizeref": 0.25,
            "symbol": "diamond"
           },
           "mode": "markers",
           "name": "red, box",
           "orientation": "v",
           "showlegend": true,
           "type": "scatter",
           "x": [
            0.29000000000000004,
            1.35
           ],
           "xaxis": "x",
           "y": [
            1.15,
            0.15000000000000002
           ],
           "yaxis": "y"
          }
         ],
         "name": "2"
        },
        {
         "data": [
          {
           "hovertemplate": "<b>%{hovertext}</b><br><br>color=blue<br>type=target<br>frame=3<br>x=%{x}<br>y=%{y}<br>size=%{marker.size}<extra></extra>",
           "hovertext": [
            "blue | target | 0",
            "blue | target | 1"
           ],
           "ids": [
            0,
            1
           ],
           "legendgroup": "blue, target",
           "marker": {
            "color": "#636efa",
            "size": [
             40,
             40
            ],
            "sizemode": "area",
            "sizeref": 0.25,
            "symbol": "circle"
           },
           "mode": "markers",
           "name": "blue, target",
           "orientation": "v",
           "showlegend": true,
           "type": "scatter",
           "x": [
            0.2,
            0.35
           ],
           "xaxis": "x",
           "y": [
            0.8500000000000001,
            0.8500000000000001
           ],
           "yaxis": "y"
          },
          {
           "hovertemplate": "<b>%{hovertext}</b><br><br>color=blue<br>type=box<br>frame=3<br>x=%{x}<br>y=%{y}<br>size=%{marker.size}<extra></extra>",
           "hovertext": [
            "blue | box | 4",
            "blue | box | 16"
           ],
           "ids": [
            4,
            16
           ],
           "legendgroup": "blue, box",
           "marker": {
            "color": "#636efa",
            "size": [
             40,
             40
            ],
            "sizemode": "area",
            "sizeref": 0.25,
            "symbol": "diamond"
           },
           "mode": "markers",
           "name": "blue, box",
           "orientation": "v",
           "showlegend": true,
           "type": "scatter",
           "x": [
            0.98,
            1.35
           ],
           "xaxis": "x",
           "y": [
            1.15,
            1.15
           ],
           "yaxis": "y"
          },
          {
           "hovertemplate": "<b>%{hovertext}</b><br><br>color=green<br>type=target<br>frame=3<br>x=%{x}<br>y=%{y}<br>size=%{marker.size}<extra></extra>",
           "hovertext": [
            "green | target | 2",
            "green | target | 3"
           ],
           "ids": [
            2,
            3
           ],
           "legendgroup": "green, target",
           "marker": {
            "color": "#EF553B",
            "size": [
             40,
             40
            ],
            "sizemode": "area",
            "sizeref": 0.25,
            "symbol": "circle"
           },
           "mode": "markers",
           "name": "green, target",
           "orientation": "v",
           "showlegend": true,
           "type": "scatter",
           "x": [
            0.5,
            0.65
           ],
           "xaxis": "x",
           "y": [
            0.8500000000000001,
            0.8500000000000001
           ],
           "yaxis": "y"
          },
          {
           "hovertemplate": "<b>%{hovertext}</b><br><br>color=green<br>type=box<br>frame=3<br>x=%{x}<br>y=%{y}<br>size=%{marker.size}<extra></extra>",
           "hovertext": [
            "green | box | 13",
            "green | box | 14"
           ],
           "ids": [
            13,
            14
           ],
           "legendgroup": "green, box",
           "marker": {
            "color": "#EF553B",
            "size": [
             40,
             40
            ],
            "sizemode": "area",
            "sizeref": 0.25,
            "symbol": "diamond"
           },
           "mode": "markers",
           "name": "green, box",
           "orientation": "v",
           "showlegend": true,
           "type": "scatter",
           "x": [
            1.5,
            1.65
           ],
           "xaxis": "x",
           "y": [
            0.15000000000000002,
            0.15000000000000002
           ],
           "yaxis": "y"
          },
          {
           "hovertemplate": "<b>%{hovertext}</b><br><br>color=purple<br>type=target<br>frame=3<br>x=%{x}<br>y=%{y}<br>size=%{marker.size}<extra></extra>",
           "hovertext": [
            "purple | target | 7",
            "purple | target | 15",
            "purple | target | 18"
           ],
           "ids": [
            7,
            15,
            18
           ],
           "legendgroup": "purple, target",
           "marker": {
            "color": "#00cc96",
            "size": [
             40,
             40,
             40
            ],
            "sizemode": "area",
            "sizeref": 0.25,
            "symbol": "circle"
           },
           "mode": "markers",
           "name": "purple, target",
           "orientation": "v",
           "showlegend": true,
           "type": "scatter",
           "x": [
            0.35,
            1.5,
            1.5
           ],
           "xaxis": "x",
           "y": [
            1.85,
            0.8500000000000001,
            1.6400000000000001
           ],
           "yaxis": "y"
          },
          {
           "hovertemplate": "<b>%{hovertext}</b><br><br>color=purple<br>type=box<br>frame=3<br>x=%{x}<br>y=%{y}<br>size=%{marker.size}<extra></extra>",
           "hovertext": [
            "purple | box | 6",
            "purple | box | 8",
            "purple | box | 19"
           ],
           "ids": [
            6,
            8,
            19
           ],
           "legendgroup": "purple, box",
           "marker": {
            "color": "#00cc96",
            "size": [
             40,
             40,
             40
            ],
            "sizemode": "area",
            "sizeref": 0.25,
            "symbol": "diamond"
           },
           "mode": "markers",
           "name": "purple, box",
           "orientation": "v",
           "showlegend": true,
           "type": "scatter",
           "x": [
            0.41000000000000003,
            0.56,
            1.5
           ],
           "xaxis": "x",
           "y": [
            1.15,
            1.15,
            1.3599999999999999
           ],
           "yaxis": "y"
          },
          {
           "hovertemplate": "<b>%{hovertext}</b><br><br>color=orange<br>type=target<br>frame=3<br>x=%{x}<br>y=%{y}<br>size=%{marker.size}<extra></extra>",
           "hovertext": [
            "orange | target | 10"
           ],
           "ids": [
            10
           ],
           "legendgroup": "orange, target",
           "marker": {
            "color": "#ab63fa",
            "size": [
             40
            ],
            "sizemode": "area",
            "sizeref": 0.25,
            "symbol": "circle"
           },
           "mode": "markers",
           "name": "orange, target",
           "orientation": "v",
           "showlegend": true,
           "type": "scatter",
           "x": [
            0.5
           ],
           "xaxis": "x",
           "y": [
            1.85
           ],
           "yaxis": "y"
          },
          {
           "hovertemplate": "<b>%{hovertext}</b><br><br>color=orange<br>type=box<br>frame=3<br>x=%{x}<br>y=%{y}<br>size=%{marker.size}<extra></extra>",
           "hovertext": [
            "orange | box | 9"
           ],
           "ids": [
            9
           ],
           "legendgroup": "orange, box",
           "marker": {
            "color": "#ab63fa",
            "size": [
             40
            ],
            "sizemode": "area",
            "sizeref": 0.25,
            "symbol": "diamond"
           },
           "mode": "markers",
           "name": "orange, box",
           "orientation": "v",
           "showlegend": true,
           "type": "scatter",
           "x": [
            0.7100000000000001
           ],
           "xaxis": "x",
           "y": [
            1.15
           ],
           "yaxis": "y"
          },
          {
           "hovertemplate": "<b>%{hovertext}</b><br><br>color=red<br>type=target<br>frame=3<br>x=%{x}<br>y=%{y}<br>size=%{marker.size}<extra></extra>",
           "hovertext": [
            "red | target | 12",
            "red | target | 17"
           ],
           "ids": [
            12,
            17
           ],
           "legendgroup": "red, target",
           "marker": {
            "color": "#FFA15A",
            "size": [
             40,
             40
            ],
            "sizemode": "area",
            "sizeref": 0.25,
            "symbol": "circle"
           },
           "mode": "markers",
           "name": "red, target",
           "orientation": "v",
           "showlegend": true,
           "type": "scatter",
           "x": [
            1.35,
            1.44
           ],
           "xaxis": "x",
           "y": [
            0.8500000000000001,
            1.85
           ],
           "yaxis": "y"
          },
          {
           "hovertemplate": "<b>%{hovertext}</b><br><br>color=red<br>type=box<br>frame=3<br>x=%{x}<br>y=%{y}<br>size=%{marker.size}<extra></extra>",
           "hovertext": [
            "red | box | 5",
            "red | box | 11"
           ],
           "ids": [
            5,
            11
           ],
           "legendgroup": "red, box",
           "marker": {
            "color": "#FFA15A",
            "size": [
             40,
             40
            ],
            "sizemode": "area",
            "sizeref": 0.25,
            "symbol": "diamond"
           },
           "mode": "markers",
           "name": "red, box",
           "orientation": "v",
           "showlegend": true,
           "type": "scatter",
           "x": [
            0.26,
            1.35
           ],
           "xaxis": "x",
           "y": [
            1.15,
            0.15000000000000002
           ],
           "yaxis": "y"
          }
         ],
         "name": "3"
        },
        {
         "data": [
          {
           "hovertemplate": "<b>%{hovertext}</b><br><br>color=blue<br>type=target<br>frame=4<br>x=%{x}<br>y=%{y}<br>size=%{marker.size}<extra></extra>",
           "hovertext": [
            "blue | target | 0",
            "blue | target | 1"
           ],
           "ids": [
            0,
            1
           ],
           "legendgroup": "blue, target",
           "marker": {
            "color": "#636efa",
            "size": [
             19.999999999999996,
             19.999999999999996
            ],
            "sizemode": "area",
            "sizeref": 0.25,
            "symbol": "circle"
           },
           "mode": "markers",
           "name": "blue, target",
           "orientation": "v",
           "showlegend": true,
           "type": "scatter",
           "x": [
            0.2,
            0.35
           ],
           "xaxis": "x",
           "y": [
            0.85,
            0.85
           ],
           "yaxis": "y"
          },
          {
           "hovertemplate": "<b>%{hovertext}</b><br><br>color=blue<br>type=box<br>frame=4<br>x=%{x}<br>y=%{y}<br>size=%{marker.size}<extra></extra>",
           "hovertext": [
            "blue | box | 4",
            "blue | box | 16"
           ],
           "ids": [
            4,
            16
           ],
           "legendgroup": "blue, box",
           "marker": {
            "color": "#636efa",
            "size": [
             19.999999999999996,
             19.999999999999996
            ],
            "sizemode": "area",
            "sizeref": 0.25,
            "symbol": "diamond"
           },
           "mode": "markers",
           "name": "blue, box",
           "orientation": "v",
           "showlegend": true,
           "type": "scatter",
           "x": [
            1.2400000000000002,
            1.35
           ],
           "xaxis": "x",
           "y": [
            1.15,
            1.15
           ],
           "yaxis": "y"
          },
          {
           "hovertemplate": "<b>%{hovertext}</b><br><br>color=green<br>type=target<br>frame=4<br>x=%{x}<br>y=%{y}<br>size=%{marker.size}<extra></extra>",
           "hovertext": [
            "green | target | 2",
            "green | target | 3"
           ],
           "ids": [
            2,
            3
           ],
           "legendgroup": "green, target",
           "marker": {
            "color": "#EF553B",
            "size": [
             19.999999999999996,
             19.999999999999996
            ],
            "sizemode": "area",
            "sizeref": 0.25,
            "symbol": "circle"
           },
           "mode": "markers",
           "name": "green, target",
           "orientation": "v",
           "showlegend": true,
           "type": "scatter",
           "x": [
            0.5,
            0.65
           ],
           "xaxis": "x",
           "y": [
            0.85,
            0.85
           ],
           "yaxis": "y"
          },
          {
           "hovertemplate": "<b>%{hovertext}</b><br><br>color=green<br>type=box<br>frame=4<br>x=%{x}<br>y=%{y}<br>size=%{marker.size}<extra></extra>",
           "hovertext": [
            "green | box | 13",
            "green | box | 14"
           ],
           "ids": [
            13,
            14
           ],
           "legendgroup": "green, box",
           "marker": {
            "color": "#EF553B",
            "size": [
             19.999999999999996,
             19.999999999999996
            ],
            "sizemode": "area",
            "sizeref": 0.25,
            "symbol": "diamond"
           },
           "mode": "markers",
           "name": "green, box",
           "orientation": "v",
           "showlegend": true,
           "type": "scatter",
           "x": [
            1.5,
            1.65
           ],
           "xaxis": "x",
           "y": [
            0.15000000000000002,
            0.15000000000000002
           ],
           "yaxis": "y"
          },
          {
           "hovertemplate": "<b>%{hovertext}</b><br><br>color=purple<br>type=target<br>frame=4<br>x=%{x}<br>y=%{y}<br>size=%{marker.size}<extra></extra>",
           "hovertext": [
            "purple | target | 7",
            "purple | target | 15",
            "purple | target | 18"
           ],
           "ids": [
            7,
            15,
            18
           ],
           "legendgroup": "purple, target",
           "marker": {
            "color": "#00cc96",
            "size": [
             19.999999999999996,
             19.999999999999996,
             19.999999999999996
            ],
            "sizemode": "area",
            "sizeref": 0.25,
            "symbol": "circle"
           },
           "mode": "markers",
           "name": "purple, target",
           "orientation": "v",
           "showlegend": true,
           "type": "scatter",
           "x": [
            0.35,
            1.5,
            1.5
           ],
           "xaxis": "x",
           "y": [
            1.85,
            0.85,
            1.57
           ],
           "yaxis": "y"
          },
          {
           "hovertemplate": "<b>%{hovertext}</b><br><br>color=purple<br>type=box<br>frame=4<br>x=%{x}<br>y=%{y}<br>size=%{marker.size}<extra></extra>",
           "hovertext": [
            "purple | box | 6",
            "purple | box | 8",
            "purple | box | 19"
           ],
           "ids": [
            6,
            8,
            19
           ],
           "legendgroup": "purple, box",
           "marker": {
            "color": "#00cc96",
            "size": [
             19.999999999999996,
             19.999999999999996,
             19.999999999999996
            ],
            "sizemode": "area",
            "sizeref": 0.25,
            "symbol": "diamond"
           },
           "mode": "markers",
           "name": "purple, box",
           "orientation": "v",
           "showlegend": true,
           "type": "scatter",
           "x": [
            0.37999999999999995,
            0.53,
            1.5
           ],
           "xaxis": "x",
           "y": [
            1.15,
            1.15,
            1.4300000000000002
           ],
           "yaxis": "y"
          },
          {
           "hovertemplate": "<b>%{hovertext}</b><br><br>color=orange<br>type=target<br>frame=4<br>x=%{x}<br>y=%{y}<br>size=%{marker.size}<extra></extra>",
           "hovertext": [
            "orange | target | 10"
           ],
           "ids": [
            10
           ],
           "legendgroup": "orange, target",
           "marker": {
            "color": "#ab63fa",
            "size": [
             19.999999999999996
            ],
            "sizemode": "area",
            "sizeref": 0.25,
            "symbol": "circle"
           },
           "mode": "markers",
           "name": "orange, target",
           "orientation": "v",
           "showlegend": true,
           "type": "scatter",
           "x": [
            0.5
           ],
           "xaxis": "x",
           "y": [
            1.85
           ],
           "yaxis": "y"
          },
          {
           "hovertemplate": "<b>%{hovertext}</b><br><br>color=orange<br>type=box<br>frame=4<br>x=%{x}<br>y=%{y}<br>size=%{marker.size}<extra></extra>",
           "hovertext": [
            "orange | box | 9"
           ],
           "ids": [
            9
           ],
           "legendgroup": "orange, box",
           "marker": {
            "color": "#ab63fa",
            "size": [
             19.999999999999996
            ],
            "sizemode": "area",
            "sizeref": 0.25,
            "symbol": "diamond"
           },
           "mode": "markers",
           "name": "orange, box",
           "orientation": "v",
           "showlegend": true,
           "type": "scatter",
           "x": [
            0.6799999999999999
           ],
           "xaxis": "x",
           "y": [
            1.15
           ],
           "yaxis": "y"
          },
          {
           "hovertemplate": "<b>%{hovertext}</b><br><br>color=red<br>type=target<br>frame=4<br>x=%{x}<br>y=%{y}<br>size=%{marker.size}<extra></extra>",
           "hovertext": [
            "red | target | 12",
            "red | target | 17"
           ],
           "ids": [
            12,
            17
           ],
           "legendgroup": "red, target",
           "marker": {
            "color": "#FFA15A",
            "size": [
             19.999999999999996,
             19.999999999999996
            ],
            "sizemode": "area",
            "sizeref": 0.25,
            "symbol": "circle"
           },
           "mode": "markers",
           "name": "red, target",
           "orientation": "v",
           "showlegend": true,
           "type": "scatter",
           "x": [
            1.35,
            1.4700000000000002
           ],
           "xaxis": "x",
           "y": [
            0.85,
            1.85
           ],
           "yaxis": "y"
          },
          {
           "hovertemplate": "<b>%{hovertext}</b><br><br>color=red<br>type=box<br>frame=4<br>x=%{x}<br>y=%{y}<br>size=%{marker.size}<extra></extra>",
           "hovertext": [
            "red | box | 5",
            "red | box | 11"
           ],
           "ids": [
            5,
            11
           ],
           "legendgroup": "red, box",
           "marker": {
            "color": "#FFA15A",
            "size": [
             19.999999999999996,
             19.999999999999996
            ],
            "sizemode": "area",
            "sizeref": 0.25,
            "symbol": "diamond"
           },
           "mode": "markers",
           "name": "red, box",
           "orientation": "v",
           "showlegend": true,
           "type": "scatter",
           "x": [
            0.23,
            1.35
           ],
           "xaxis": "x",
           "y": [
            1.15,
            0.15000000000000002
           ],
           "yaxis": "y"
          }
         ],
         "name": "4"
        },
        {
         "data": [
          {
           "hovertemplate": "<b>%{hovertext}</b><br><br>color=blue<br>type=target<br>frame=5<br>x=%{x}<br>y=%{y}<br>size=%{marker.size}<extra></extra>",
           "hovertext": [
            "blue | target | 0",
            "blue | target | 1"
           ],
           "ids": [
            0,
            1
           ],
           "legendgroup": "blue, target",
           "marker": {
            "color": "#636efa",
            "size": [
             0,
             0
            ],
            "sizemode": "area",
            "sizeref": 0.25,
            "symbol": "circle"
           },
           "mode": "markers",
           "name": "blue, target",
           "orientation": "v",
           "showlegend": true,
           "type": "scatter",
           "x": [
            0.2,
            0.35
           ],
           "xaxis": "x",
           "y": [
            0.85,
            0.85
           ],
           "yaxis": "y"
          },
          {
           "hovertemplate": "<b>%{hovertext}</b><br><br>color=blue<br>type=box<br>frame=5<br>x=%{x}<br>y=%{y}<br>size=%{marker.size}<extra></extra>",
           "hovertext": [
            "blue | box | 4",
            "blue | box | 16"
           ],
           "ids": [
            4,
            16
           ],
           "legendgroup": "blue, box",
           "marker": {
            "color": "#636efa",
            "size": [
             0,
             0
            ],
            "sizemode": "area",
            "sizeref": 0.25,
            "symbol": "diamond"
           },
           "mode": "markers",
           "name": "blue, box",
           "orientation": "v",
           "showlegend": true,
           "type": "scatter",
           "x": [
            1.5,
            1.35
           ],
           "xaxis": "x",
           "y": [
            1.15,
            1.15
           ],
           "yaxis": "y"
          },
          {
           "hovertemplate": "<b>%{hovertext}</b><br><br>color=green<br>type=target<br>frame=5<br>x=%{x}<br>y=%{y}<br>size=%{marker.size}<extra></extra>",
           "hovertext": [
            "green | target | 2",
            "green | target | 3"
           ],
           "ids": [
            2,
            3
           ],
           "legendgroup": "green, target",
           "marker": {
            "color": "#EF553B",
            "size": [
             0,
             0
            ],
            "sizemode": "area",
            "sizeref": 0.25,
            "symbol": "circle"
           },
           "mode": "markers",
           "name": "green, target",
           "orientation": "v",
           "showlegend": true,
           "type": "scatter",
           "x": [
            0.5,
            0.65
           ],
           "xaxis": "x",
           "y": [
            0.85,
            0.85
           ],
           "yaxis": "y"
          },
          {
           "hovertemplate": "<b>%{hovertext}</b><br><br>color=green<br>type=box<br>frame=5<br>x=%{x}<br>y=%{y}<br>size=%{marker.size}<extra></extra>",
           "hovertext": [
            "green | box | 13",
            "green | box | 14"
           ],
           "ids": [
            13,
            14
           ],
           "legendgroup": "green, box",
           "marker": {
            "color": "#EF553B",
            "size": [
             0,
             0
            ],
            "sizemode": "area",
            "sizeref": 0.25,
            "symbol": "diamond"
           },
           "mode": "markers",
           "name": "green, box",
           "orientation": "v",
           "showlegend": true,
           "type": "scatter",
           "x": [
            1.5,
            1.65
           ],
           "xaxis": "x",
           "y": [
            0.15000000000000002,
            0.15000000000000002
           ],
           "yaxis": "y"
          },
          {
           "hovertemplate": "<b>%{hovertext}</b><br><br>color=purple<br>type=target<br>frame=5<br>x=%{x}<br>y=%{y}<br>size=%{marker.size}<extra></extra>",
           "hovertext": [
            "purple | target | 7",
            "purple | target | 15",
            "purple | target | 18"
           ],
           "ids": [
            7,
            15,
            18
           ],
           "legendgroup": "purple, target",
           "marker": {
            "color": "#00cc96",
            "size": [
             0,
             0,
             0
            ],
            "sizemode": "area",
            "sizeref": 0.25,
            "symbol": "circle"
           },
           "mode": "markers",
           "name": "purple, target",
           "orientation": "v",
           "showlegend": true,
           "type": "scatter",
           "x": [
            0.35,
            1.5,
            1.5
           ],
           "xaxis": "x",
           "y": [
            1.85,
            0.85,
            1.5
           ],
           "yaxis": "y"
          },
          {
           "hovertemplate": "<b>%{hovertext}</b><br><br>color=purple<br>type=box<br>frame=5<br>x=%{x}<br>y=%{y}<br>size=%{marker.size}<extra></extra>",
           "hovertext": [
            "purple | box | 6",
            "purple | box | 8",
            "purple | box | 19"
           ],
           "ids": [
            6,
            8,
            19
           ],
           "legendgroup": "purple, box",
           "marker": {
            "color": "#00cc96",
            "size": [
             0,
             0,
             0
            ],
            "sizemode": "area",
            "sizeref": 0.25,
            "symbol": "diamond"
           },
           "mode": "markers",
           "name": "purple, box",
           "orientation": "v",
           "showlegend": true,
           "type": "scatter",
           "x": [
            0.35,
            0.5,
            1.5
           ],
           "xaxis": "x",
           "y": [
            1.15,
            1.15,
            1.5
           ],
           "yaxis": "y"
          },
          {
           "hovertemplate": "<b>%{hovertext}</b><br><br>color=orange<br>type=target<br>frame=5<br>x=%{x}<br>y=%{y}<br>size=%{marker.size}<extra></extra>",
           "hovertext": [
            "orange | target | 10"
           ],
           "ids": [
            10
           ],
           "legendgroup": "orange, target",
           "marker": {
            "color": "#ab63fa",
            "size": [
             0
            ],
            "sizemode": "area",
            "sizeref": 0.25,
            "symbol": "circle"
           },
           "mode": "markers",
           "name": "orange, target",
           "orientation": "v",
           "showlegend": true,
           "type": "scatter",
           "x": [
            0.5
           ],
           "xaxis": "x",
           "y": [
            1.85
           ],
           "yaxis": "y"
          },
          {
           "hovertemplate": "<b>%{hovertext}</b><br><br>color=orange<br>type=box<br>frame=5<br>x=%{x}<br>y=%{y}<br>size=%{marker.size}<extra></extra>",
           "hovertext": [
            "orange | box | 9"
           ],
           "ids": [
            9
           ],
           "legendgroup": "orange, box",
           "marker": {
            "color": "#ab63fa",
            "size": [
             0
            ],
            "sizemode": "area",
            "sizeref": 0.25,
            "symbol": "diamond"
           },
           "mode": "markers",
           "name": "orange, box",
           "orientation": "v",
           "showlegend": true,
           "type": "scatter",
           "x": [
            0.65
           ],
           "xaxis": "x",
           "y": [
            1.15
           ],
           "yaxis": "y"
          },
          {
           "hovertemplate": "<b>%{hovertext}</b><br><br>color=red<br>type=target<br>frame=5<br>x=%{x}<br>y=%{y}<br>size=%{marker.size}<extra></extra>",
           "hovertext": [
            "red | target | 12",
            "red | target | 17"
           ],
           "ids": [
            12,
            17
           ],
           "legendgroup": "red, target",
           "marker": {
            "color": "#FFA15A",
            "size": [
             0,
             0
            ],
            "sizemode": "area",
            "sizeref": 0.25,
            "symbol": "circle"
           },
           "mode": "markers",
           "name": "red, target",
           "orientation": "v",
           "showlegend": true,
           "type": "scatter",
           "x": [
            1.35,
            1.5
           ],
           "xaxis": "x",
           "y": [
            0.85,
            1.85
           ],
           "yaxis": "y"
          },
          {
           "hovertemplate": "<b>%{hovertext}</b><br><br>color=red<br>type=box<br>frame=5<br>x=%{x}<br>y=%{y}<br>size=%{marker.size}<extra></extra>",
           "hovertext": [
            "red | box | 5",
            "red | box | 11"
           ],
           "ids": [
            5,
            11
           ],
           "legendgroup": "red, box",
           "marker": {
            "color": "#FFA15A",
            "size": [
             0,
             0
            ],
            "sizemode": "area",
            "sizeref": 0.25,
            "symbol": "diamond"
           },
           "mode": "markers",
           "name": "red, box",
           "orientation": "v",
           "showlegend": true,
           "type": "scatter",
           "x": [
            0.2,
            1.35
           ],
           "xaxis": "x",
           "y": [
            1.15,
            0.15000000000000002
           ],
           "yaxis": "y"
          }
         ],
         "name": "5"
        },
        {
         "data": [
          {
           "hovertemplate": "<b>%{hovertext}</b><br><br>color=blue<br>type=target<br>frame=6<br>x=%{x}<br>y=%{y}<br>size=%{marker.size}<extra></extra>",
           "hovertext": [
            "blue | target | 0",
            "blue | target | 1"
           ],
           "ids": [
            0,
            1
           ],
           "legendgroup": "blue, target",
           "marker": {
            "color": "#636efa",
            "size": [
             100,
             100
            ],
            "sizemode": "area",
            "sizeref": 0.25,
            "symbol": "circle"
           },
           "mode": "markers",
           "name": "blue, target",
           "orientation": "v",
           "showlegend": true,
           "type": "scatter",
           "x": [
            0.2,
            0.35
           ],
           "xaxis": "x",
           "y": [
            0.85,
            0.85
           ],
           "yaxis": "y"
          },
          {
           "hovertemplate": "<b>%{hovertext}</b><br><br>color=blue<br>type=box<br>frame=6<br>x=%{x}<br>y=%{y}<br>size=%{marker.size}<extra></extra>",
           "hovertext": [
            "blue | box | 16",
            "blue | box | 4"
           ],
           "ids": [
            16,
            4
           ],
           "legendgroup": "blue, box",
           "marker": {
            "color": "#636efa",
            "size": [
             100,
             100
            ],
            "sizemode": "area",
            "sizeref": 0.25,
            "symbol": "diamond"
           },
           "mode": "markers",
           "name": "blue, box",
           "orientation": "v",
           "showlegend": true,
           "type": "scatter",
           "x": [
            1.35,
            1.5
           ],
           "xaxis": "x",
           "y": [
            1.15,
            1.15
           ],
           "yaxis": "y"
          },
          {
           "hovertemplate": "<b>%{hovertext}</b><br><br>color=green<br>type=target<br>frame=6<br>x=%{x}<br>y=%{y}<br>size=%{marker.size}<extra></extra>",
           "hovertext": [
            "green | target | 2",
            "green | target | 3"
           ],
           "ids": [
            2,
            3
           ],
           "legendgroup": "green, target",
           "marker": {
            "color": "#EF553B",
            "size": [
             100,
             100
            ],
            "sizemode": "area",
            "sizeref": 0.25,
            "symbol": "circle"
           },
           "mode": "markers",
           "name": "green, target",
           "orientation": "v",
           "showlegend": true,
           "type": "scatter",
           "x": [
            0.5,
            0.65
           ],
           "xaxis": "x",
           "y": [
            0.85,
            0.85
           ],
           "yaxis": "y"
          },
          {
           "hovertemplate": "<b>%{hovertext}</b><br><br>color=green<br>type=box<br>frame=6<br>x=%{x}<br>y=%{y}<br>size=%{marker.size}<extra></extra>",
           "hovertext": [
            "green | box | 13",
            "green | box | 14"
           ],
           "ids": [
            13,
            14
           ],
           "legendgroup": "green, box",
           "marker": {
            "color": "#EF553B",
            "size": [
             100,
             100
            ],
            "sizemode": "area",
            "sizeref": 0.25,
            "symbol": "diamond"
           },
           "mode": "markers",
           "name": "green, box",
           "orientation": "v",
           "showlegend": true,
           "type": "scatter",
           "x": [
            1.5,
            1.65
           ],
           "xaxis": "x",
           "y": [
            0.15000000000000002,
            0.15000000000000002
           ],
           "yaxis": "y"
          },
          {
           "hovertemplate": "<b>%{hovertext}</b><br><br>color=purple<br>type=target<br>frame=6<br>x=%{x}<br>y=%{y}<br>size=%{marker.size}<extra></extra>",
           "hovertext": [
            "purple | target | 7",
            "purple | target | 15"
           ],
           "ids": [
            7,
            15
           ],
           "legendgroup": "purple, target",
           "marker": {
            "color": "#00cc96",
            "size": [
             100,
             100
            ],
            "sizemode": "area",
            "sizeref": 0.25,
            "symbol": "circle"
           },
           "mode": "markers",
           "name": "purple, target",
           "orientation": "v",
           "showlegend": true,
           "type": "scatter",
           "x": [
            0.35,
            1.5
           ],
           "xaxis": "x",
           "y": [
            1.85,
            0.85
           ],
           "yaxis": "y"
          },
          {
           "hovertemplate": "<b>%{hovertext}</b><br><br>color=purple<br>type=box<br>frame=6<br>x=%{x}<br>y=%{y}<br>size=%{marker.size}<extra></extra>",
           "hovertext": [
            "purple | box | 6",
            "purple | box | 8"
           ],
           "ids": [
            6,
            8
           ],
           "legendgroup": "purple, box",
           "marker": {
            "color": "#00cc96",
            "size": [
             100,
             100
            ],
            "sizemode": "area",
            "sizeref": 0.25,
            "symbol": "diamond"
           },
           "mode": "markers",
           "name": "purple, box",
           "orientation": "v",
           "showlegend": true,
           "type": "scatter",
           "x": [
            0.35,
            0.5
           ],
           "xaxis": "x",
           "y": [
            1.15,
            1.15
           ],
           "yaxis": "y"
          },
          {
           "hovertemplate": "<b>%{hovertext}</b><br><br>color=orange<br>type=target<br>frame=6<br>x=%{x}<br>y=%{y}<br>size=%{marker.size}<extra></extra>",
           "hovertext": [
            "orange | target | 10"
           ],
           "ids": [
            10
           ],
           "legendgroup": "orange, target",
           "marker": {
            "color": "#ab63fa",
            "size": [
             100
            ],
            "sizemode": "area",
            "sizeref": 0.25,
            "symbol": "circle"
           },
           "mode": "markers",
           "name": "orange, target",
           "orientation": "v",
           "showlegend": true,
           "type": "scatter",
           "x": [
            0.5
           ],
           "xaxis": "x",
           "y": [
            1.85
           ],
           "yaxis": "y"
          },
          {
           "hovertemplate": "<b>%{hovertext}</b><br><br>color=orange<br>type=box<br>frame=6<br>x=%{x}<br>y=%{y}<br>size=%{marker.size}<extra></extra>",
           "hovertext": [
            "orange | box | 9"
           ],
           "ids": [
            9
           ],
           "legendgroup": "orange, box",
           "marker": {
            "color": "#ab63fa",
            "size": [
             100
            ],
            "sizemode": "area",
            "sizeref": 0.25,
            "symbol": "diamond"
           },
           "mode": "markers",
           "name": "orange, box",
           "orientation": "v",
           "showlegend": true,
           "type": "scatter",
           "x": [
            0.65
           ],
           "xaxis": "x",
           "y": [
            1.15
           ],
           "yaxis": "y"
          },
          {
           "hovertemplate": "<b>%{hovertext}</b><br><br>color=red<br>type=target<br>frame=6<br>x=%{x}<br>y=%{y}<br>size=%{marker.size}<extra></extra>",
           "hovertext": [
            "red | target | 12",
            "red | target | 17"
           ],
           "ids": [
            12,
            17
           ],
           "legendgroup": "red, target",
           "marker": {
            "color": "#FFA15A",
            "size": [
             100,
             100
            ],
            "sizemode": "area",
            "sizeref": 0.25,
            "symbol": "circle"
           },
           "mode": "markers",
           "name": "red, target",
           "orientation": "v",
           "showlegend": true,
           "type": "scatter",
           "x": [
            1.35,
            1.5
           ],
           "xaxis": "x",
           "y": [
            0.85,
            1.85
           ],
           "yaxis": "y"
          },
          {
           "hovertemplate": "<b>%{hovertext}</b><br><br>color=red<br>type=box<br>frame=6<br>x=%{x}<br>y=%{y}<br>size=%{marker.size}<extra></extra>",
           "hovertext": [
            "red | box | 5",
            "red | box | 11"
           ],
           "ids": [
            5,
            11
           ],
           "legendgroup": "red, box",
           "marker": {
            "color": "#FFA15A",
            "size": [
             100,
             100
            ],
            "sizemode": "area",
            "sizeref": 0.25,
            "symbol": "diamond"
           },
           "mode": "markers",
           "name": "red, box",
           "orientation": "v",
           "showlegend": true,
           "type": "scatter",
           "x": [
            0.2,
            1.35
           ],
           "xaxis": "x",
           "y": [
            1.15,
            0.15000000000000002
           ],
           "yaxis": "y"
          }
         ],
         "name": "6"
        },
        {
         "data": [
          {
           "hovertemplate": "<b>%{hovertext}</b><br><br>color=blue<br>type=target<br>frame=7<br>x=%{x}<br>y=%{y}<br>size=%{marker.size}<extra></extra>",
           "hovertext": [
            "blue | target | 0",
            "blue | target | 1"
           ],
           "ids": [
            0,
            1
           ],
           "legendgroup": "blue, target",
           "marker": {
            "color": "#636efa",
            "size": [
             80,
             80
            ],
            "sizemode": "area",
            "sizeref": 0.25,
            "symbol": "circle"
           },
           "mode": "markers",
           "name": "blue, target",
           "orientation": "v",
           "showlegend": true,
           "type": "scatter",
           "x": [
            0.20000000000000004,
            0.35
           ],
           "xaxis": "x",
           "y": [
            0.8500000000000001,
            0.8500000000000001
           ],
           "yaxis": "y"
          },
          {
           "hovertemplate": "<b>%{hovertext}</b><br><br>color=blue<br>type=box<br>frame=7<br>x=%{x}<br>y=%{y}<br>size=%{marker.size}<extra></extra>",
           "hovertext": [
            "blue | box | 16",
            "blue | box | 4"
           ],
           "ids": [
            16,
            4
           ],
           "legendgroup": "blue, box",
           "marker": {
            "color": "#636efa",
            "size": [
             80,
             80
            ],
            "sizemode": "area",
            "sizeref": 0.25,
            "symbol": "diamond"
           },
           "mode": "markers",
           "name": "blue, box",
           "orientation": "v",
           "showlegend": true,
           "type": "scatter",
           "x": [
            1.35,
            1.5000000000000002
           ],
           "xaxis": "x",
           "y": [
            1.15,
            1.15
           ],
           "yaxis": "y"
          },
          {
           "hovertemplate": "<b>%{hovertext}</b><br><br>color=green<br>type=target<br>frame=7<br>x=%{x}<br>y=%{y}<br>size=%{marker.size}<extra></extra>",
           "hovertext": [
            "green | target | 2",
            "green | target | 3"
           ],
           "ids": [
            2,
            3
           ],
           "legendgroup": "green, target",
           "marker": {
            "color": "#EF553B",
            "size": [
             80,
             80
            ],
            "sizemode": "area",
            "sizeref": 0.25,
            "symbol": "circle"
           },
           "mode": "markers",
           "name": "green, target",
           "orientation": "v",
           "showlegend": true,
           "type": "scatter",
           "x": [
            0.5,
            0.65
           ],
           "xaxis": "x",
           "y": [
            0.8500000000000001,
            0.8500000000000001
           ],
           "yaxis": "y"
          },
          {
           "hovertemplate": "<b>%{hovertext}</b><br><br>color=green<br>type=box<br>frame=7<br>x=%{x}<br>y=%{y}<br>size=%{marker.size}<extra></extra>",
           "hovertext": [
            "green | box | 13",
            "green | box | 14"
           ],
           "ids": [
            13,
            14
           ],
           "legendgroup": "green, box",
           "marker": {
            "color": "#EF553B",
            "size": [
             80,
             80
            ],
            "sizemode": "area",
            "sizeref": 0.25,
            "symbol": "diamond"
           },
           "mode": "markers",
           "name": "green, box",
           "orientation": "v",
           "showlegend": true,
           "type": "scatter",
           "x": [
            1.4700000000000002,
            1.62
           ],
           "xaxis": "x",
           "y": [
            0.15000000000000002,
            0.15000000000000002
           ],
           "yaxis": "y"
          },
          {
           "hovertemplate": "<b>%{hovertext}</b><br><br>color=purple<br>type=target<br>frame=7<br>x=%{x}<br>y=%{y}<br>size=%{marker.size}<extra></extra>",
           "hovertext": [
            "purple | target | 7",
            "purple | target | 15"
           ],
           "ids": [
            7,
            15
           ],
           "legendgroup": "purple, target",
           "marker": {
            "color": "#00cc96",
            "size": [
             80,
             80
            ],
            "sizemode": "area",
            "sizeref": 0.25,
            "symbol": "circle"
           },
           "mode": "markers",
           "name": "purple, target",
           "orientation": "v",
           "showlegend": true,
           "type": "scatter",
           "x": [
            0.35,
            1.5000000000000002
           ],
           "xaxis": "x",
           "y": [
            1.8500000000000003,
            0.8500000000000001
           ],
           "yaxis": "y"
          },
          {
           "hovertemplate": "<b>%{hovertext}</b><br><br>color=purple<br>type=box<br>frame=7<br>x=%{x}<br>y=%{y}<br>size=%{marker.size}<extra></extra>",
           "hovertext": [
            "purple | box | 6",
            "purple | box | 8"
           ],
           "ids": [
            6,
            8
           ],
           "legendgroup": "purple, box",
           "marker": {
            "color": "#00cc96",
            "size": [
             80,
             80
            ],
            "sizemode": "area",
            "sizeref": 0.25,
            "symbol": "diamond"
           },
           "mode": "markers",
           "name": "purple, box",
           "orientation": "v",
           "showlegend": true,
           "type": "scatter",
           "x": [
            0.35,
            0.5
           ],
           "xaxis": "x",
           "y": [
            1.15,
            1.15
           ],
           "yaxis": "y"
          },
          {
           "hovertemplate": "<b>%{hovertext}</b><br><br>color=orange<br>type=target<br>frame=7<br>x=%{x}<br>y=%{y}<br>size=%{marker.size}<extra></extra>",
           "hovertext": [
            "orange | target | 10"
           ],
           "ids": [
            10
           ],
           "legendgroup": "orange, target",
           "marker": {
            "color": "#ab63fa",
            "size": [
             80
            ],
            "sizemode": "area",
            "sizeref": 0.25,
            "symbol": "circle"
           },
           "mode": "markers",
           "name": "orange, target",
           "orientation": "v",
           "showlegend": true,
           "type": "scatter",
           "x": [
            0.5
           ],
           "xaxis": "x",
           "y": [
            1.8500000000000003
           ],
           "yaxis": "y"
          },
          {
           "hovertemplate": "<b>%{hovertext}</b><br><br>color=orange<br>type=box<br>frame=7<br>x=%{x}<br>y=%{y}<br>size=%{marker.size}<extra></extra>",
           "hovertext": [
            "orange | box | 9"
           ],
           "ids": [
            9
           ],
           "legendgroup": "orange, box",
           "marker": {
            "color": "#ab63fa",
            "size": [
             80
            ],
            "sizemode": "area",
            "sizeref": 0.25,
            "symbol": "diamond"
           },
           "mode": "markers",
           "name": "orange, box",
           "orientation": "v",
           "showlegend": true,
           "type": "scatter",
           "x": [
            0.65
           ],
           "xaxis": "x",
           "y": [
            1.15
           ],
           "yaxis": "y"
          },
          {
           "hovertemplate": "<b>%{hovertext}</b><br><br>color=red<br>type=target<br>frame=7<br>x=%{x}<br>y=%{y}<br>size=%{marker.size}<extra></extra>",
           "hovertext": [
            "red | target | 12",
            "red | target | 17"
           ],
           "ids": [
            12,
            17
           ],
           "legendgroup": "red, target",
           "marker": {
            "color": "#FFA15A",
            "size": [
             80,
             80
            ],
            "sizemode": "area",
            "sizeref": 0.25,
            "symbol": "circle"
           },
           "mode": "markers",
           "name": "red, target",
           "orientation": "v",
           "showlegend": true,
           "type": "scatter",
           "x": [
            1.3800000000000001,
            1.5000000000000002
           ],
           "xaxis": "x",
           "y": [
            0.78,
            1.8500000000000003
           ],
           "yaxis": "y"
          },
          {
           "hovertemplate": "<b>%{hovertext}</b><br><br>color=red<br>type=box<br>frame=7<br>x=%{x}<br>y=%{y}<br>size=%{marker.size}<extra></extra>",
           "hovertext": [
            "red | box | 5",
            "red | box | 11"
           ],
           "ids": [
            5,
            11
           ],
           "legendgroup": "red, box",
           "marker": {
            "color": "#FFA15A",
            "size": [
             80,
             80
            ],
            "sizemode": "area",
            "sizeref": 0.25,
            "symbol": "diamond"
           },
           "mode": "markers",
           "name": "red, box",
           "orientation": "v",
           "showlegend": true,
           "type": "scatter",
           "x": [
            0.49000000000000005,
            1.3800000000000001
           ],
           "xaxis": "x",
           "y": [
            1.15,
            0.22000000000000003
           ],
           "yaxis": "y"
          }
         ],
         "name": "7"
        },
        {
         "data": [
          {
           "hovertemplate": "<b>%{hovertext}</b><br><br>color=blue<br>type=target<br>frame=8<br>x=%{x}<br>y=%{y}<br>size=%{marker.size}<extra></extra>",
           "hovertext": [
            "blue | target | 0",
            "blue | target | 1"
           ],
           "ids": [
            0,
            1
           ],
           "legendgroup": "blue, target",
           "marker": {
            "color": "#636efa",
            "size": [
             60,
             60
            ],
            "sizemode": "area",
            "sizeref": 0.25,
            "symbol": "circle"
           },
           "mode": "markers",
           "name": "blue, target",
           "orientation": "v",
           "showlegend": true,
           "type": "scatter",
           "x": [
            0.2,
            0.35
           ],
           "xaxis": "x",
           "y": [
            0.8500000000000001,
            0.8500000000000001
           ],
           "yaxis": "y"
          },
          {
           "hovertemplate": "<b>%{hovertext}</b><br><br>color=blue<br>type=box<br>frame=8<br>x=%{x}<br>y=%{y}<br>size=%{marker.size}<extra></extra>",
           "hovertext": [
            "blue | box | 16",
            "blue | box | 4"
           ],
           "ids": [
            16,
            4
           ],
           "legendgroup": "blue, box",
           "marker": {
            "color": "#636efa",
            "size": [
             60,
             60
            ],
            "sizemode": "area",
            "sizeref": 0.25,
            "symbol": "diamond"
           },
           "mode": "markers",
           "name": "blue, box",
           "orientation": "v",
           "showlegend": true,
           "type": "scatter",
           "x": [
            1.35,
            1.5
           ],
           "xaxis": "x",
           "y": [
            1.15,
            1.15
           ],
           "yaxis": "y"
          },
          {
           "hovertemplate": "<b>%{hovertext}</b><br><br>color=green<br>type=target<br>frame=8<br>x=%{x}<br>y=%{y}<br>size=%{marker.size}<extra></extra>",
           "hovertext": [
            "green | target | 2",
            "green | target | 3"
           ],
           "ids": [
            2,
            3
           ],
           "legendgroup": "green, target",
           "marker": {
            "color": "#EF553B",
            "size": [
             60,
             60
            ],
            "sizemode": "area",
            "sizeref": 0.25,
            "symbol": "circle"
           },
           "mode": "markers",
           "name": "green, target",
           "orientation": "v",
           "showlegend": true,
           "type": "scatter",
           "x": [
            0.5,
            0.65
           ],
           "xaxis": "x",
           "y": [
            0.8500000000000001,
            0.8500000000000001
           ],
           "yaxis": "y"
          },
          {
           "hovertemplate": "<b>%{hovertext}</b><br><br>color=green<br>type=box<br>frame=8<br>x=%{x}<br>y=%{y}<br>size=%{marker.size}<extra></extra>",
           "hovertext": [
            "green | box | 13",
            "green | box | 14"
           ],
           "ids": [
            13,
            14
           ],
           "legendgroup": "green, box",
           "marker": {
            "color": "#EF553B",
            "size": [
             60,
             60
            ],
            "sizemode": "area",
            "sizeref": 0.25,
            "symbol": "diamond"
           },
           "mode": "markers",
           "name": "green, box",
           "orientation": "v",
           "showlegend": true,
           "type": "scatter",
           "x": [
            1.44,
            1.5899999999999999
           ],
           "xaxis": "x",
           "y": [
            0.15000000000000002,
            0.15000000000000002
           ],
           "yaxis": "y"
          },
          {
           "hovertemplate": "<b>%{hovertext}</b><br><br>color=purple<br>type=target<br>frame=8<br>x=%{x}<br>y=%{y}<br>size=%{marker.size}<extra></extra>",
           "hovertext": [
            "purple | target | 7",
            "purple | target | 15"
           ],
           "ids": [
            7,
            15
           ],
           "legendgroup": "purple, target",
           "marker": {
            "color": "#00cc96",
            "size": [
             60,
             60
            ],
            "sizemode": "area",
            "sizeref": 0.25,
            "symbol": "circle"
           },
           "mode": "markers",
           "name": "purple, target",
           "orientation": "v",
           "showlegend": true,
           "type": "scatter",
           "x": [
            0.35,
            1.5
           ],
           "xaxis": "x",
           "y": [
            1.85,
            0.8500000000000001
           ],
           "yaxis": "y"
          },
          {
           "hovertemplate": "<b>%{hovertext}</b><br><br>color=purple<br>type=box<br>frame=8<br>x=%{x}<br>y=%{y}<br>size=%{marker.size}<extra></extra>",
           "hovertext": [
            "purple | box | 6",
            "purple | box | 8"
           ],
           "ids": [
            6,
            8
           ],
           "legendgroup": "purple, box",
           "marker": {
            "color": "#00cc96",
            "size": [
             60,
             60
            ],
            "sizemode": "area",
            "sizeref": 0.25,
            "symbol": "diamond"
           },
           "mode": "markers",
           "name": "purple, box",
           "orientation": "v",
           "showlegend": true,
           "type": "scatter",
           "x": [
            0.35,
            0.5
           ],
           "xaxis": "x",
           "y": [
            1.15,
            1.15
           ],
           "yaxis": "y"
          },
          {
           "hovertemplate": "<b>%{hovertext}</b><br><br>color=orange<br>type=target<br>frame=8<br>x=%{x}<br>y=%{y}<br>size=%{marker.size}<extra></extra>",
           "hovertext": [
            "orange | target | 10"
           ],
           "ids": [
            10
           ],
           "legendgroup": "orange, target",
           "marker": {
            "color": "#ab63fa",
            "size": [
             60
            ],
            "sizemode": "area",
            "sizeref": 0.25,
            "symbol": "circle"
           },
           "mode": "markers",
           "name": "orange, target",
           "orientation": "v",
           "showlegend": true,
           "type": "scatter",
           "x": [
            0.5
           ],
           "xaxis": "x",
           "y": [
            1.85
           ],
           "yaxis": "y"
          },
          {
           "hovertemplate": "<b>%{hovertext}</b><br><br>color=orange<br>type=box<br>frame=8<br>x=%{x}<br>y=%{y}<br>size=%{marker.size}<extra></extra>",
           "hovertext": [
            "orange | box | 9"
           ],
           "ids": [
            9
           ],
           "legendgroup": "orange, box",
           "marker": {
            "color": "#ab63fa",
            "size": [
             60
            ],
            "sizemode": "area",
            "sizeref": 0.25,
            "symbol": "diamond"
           },
           "mode": "markers",
           "name": "orange, box",
           "orientation": "v",
           "showlegend": true,
           "type": "scatter",
           "x": [
            0.65
           ],
           "xaxis": "x",
           "y": [
            1.15
           ],
           "yaxis": "y"
          },
          {
           "hovertemplate": "<b>%{hovertext}</b><br><br>color=red<br>type=target<br>frame=8<br>x=%{x}<br>y=%{y}<br>size=%{marker.size}<extra></extra>",
           "hovertext": [
            "red | target | 12",
            "red | target | 17"
           ],
           "ids": [
            12,
            17
           ],
           "legendgroup": "red, target",
           "marker": {
            "color": "#FFA15A",
            "size": [
             60,
             60
            ],
            "sizemode": "area",
            "sizeref": 0.25,
            "symbol": "circle"
           },
           "mode": "markers",
           "name": "red, target",
           "orientation": "v",
           "showlegend": true,
           "type": "scatter",
           "x": [
            1.4100000000000001,
            1.5
           ],
           "xaxis": "x",
           "y": [
            0.71,
            1.85
           ],
           "yaxis": "y"
          },
          {
           "hovertemplate": "<b>%{hovertext}</b><br><br>color=red<br>type=box<br>frame=8<br>x=%{x}<br>y=%{y}<br>size=%{marker.size}<extra></extra>",
           "hovertext": [
            "red | box | 5",
            "red | box | 11"
           ],
           "ids": [
            5,
            11
           ],
           "legendgroup": "red, box",
           "marker": {
            "color": "#FFA15A",
            "size": [
             60,
             60
            ],
            "sizemode": "area",
            "sizeref": 0.25,
            "symbol": "diamond"
           },
           "mode": "markers",
           "name": "red, box",
           "orientation": "v",
           "showlegend": true,
           "type": "scatter",
           "x": [
            0.78,
            1.4100000000000001
           ],
           "xaxis": "x",
           "y": [
            1.15,
            0.29000000000000004
           ],
           "yaxis": "y"
          }
         ],
         "name": "8"
        },
        {
         "data": [
          {
           "hovertemplate": "<b>%{hovertext}</b><br><br>color=blue<br>type=target<br>frame=9<br>x=%{x}<br>y=%{y}<br>size=%{marker.size}<extra></extra>",
           "hovertext": [
            "blue | target | 0",
            "blue | target | 1"
           ],
           "ids": [
            0,
            1
           ],
           "legendgroup": "blue, target",
           "marker": {
            "color": "#636efa",
            "size": [
             40,
             40
            ],
            "sizemode": "area",
            "sizeref": 0.25,
            "symbol": "circle"
           },
           "mode": "markers",
           "name": "blue, target",
           "orientation": "v",
           "showlegend": true,
           "type": "scatter",
           "x": [
            0.2,
            0.35
           ],
           "xaxis": "x",
           "y": [
            0.8500000000000001,
            0.8500000000000001
           ],
           "yaxis": "y"
          },
          {
           "hovertemplate": "<b>%{hovertext}</b><br><br>color=blue<br>type=box<br>frame=9<br>x=%{x}<br>y=%{y}<br>size=%{marker.size}<extra></extra>",
           "hovertext": [
            "blue | box | 16",
            "blue | box | 4"
           ],
           "ids": [
            16,
            4
           ],
           "legendgroup": "blue, box",
           "marker": {
            "color": "#636efa",
            "size": [
             40,
             40
            ],
            "sizemode": "area",
            "sizeref": 0.25,
            "symbol": "diamond"
           },
           "mode": "markers",
           "name": "blue, box",
           "orientation": "v",
           "showlegend": true,
           "type": "scatter",
           "x": [
            1.35,
            1.5
           ],
           "xaxis": "x",
           "y": [
            1.15,
            1.15
           ],
           "yaxis": "y"
          },
          {
           "hovertemplate": "<b>%{hovertext}</b><br><br>color=green<br>type=target<br>frame=9<br>x=%{x}<br>y=%{y}<br>size=%{marker.size}<extra></extra>",
           "hovertext": [
            "green | target | 2",
            "green | target | 3"
           ],
           "ids": [
            2,
            3
           ],
           "legendgroup": "green, target",
           "marker": {
            "color": "#EF553B",
            "size": [
             40,
             40
            ],
            "sizemode": "area",
            "sizeref": 0.25,
            "symbol": "circle"
           },
           "mode": "markers",
           "name": "green, target",
           "orientation": "v",
           "showlegend": true,
           "type": "scatter",
           "x": [
            0.5,
            0.65
           ],
           "xaxis": "x",
           "y": [
            0.8500000000000001,
            0.8500000000000001
           ],
           "yaxis": "y"
          },
          {
           "hovertemplate": "<b>%{hovertext}</b><br><br>color=green<br>type=box<br>frame=9<br>x=%{x}<br>y=%{y}<br>size=%{marker.size}<extra></extra>",
           "hovertext": [
            "green | box | 13",
            "green | box | 14"
           ],
           "ids": [
            13,
            14
           ],
           "legendgroup": "green, box",
           "marker": {
            "color": "#EF553B",
            "size": [
             40,
             40
            ],
            "sizemode": "area",
            "sizeref": 0.25,
            "symbol": "diamond"
           },
           "mode": "markers",
           "name": "green, box",
           "orientation": "v",
           "showlegend": true,
           "type": "scatter",
           "x": [
            1.4100000000000001,
            1.56
           ],
           "xaxis": "x",
           "y": [
            0.15000000000000002,
            0.15000000000000002
           ],
           "yaxis": "y"
          },
          {
           "hovertemplate": "<b>%{hovertext}</b><br><br>color=purple<br>type=target<br>frame=9<br>x=%{x}<br>y=%{y}<br>size=%{marker.size}<extra></extra>",
           "hovertext": [
            "purple | target | 7",
            "purple | target | 15"
           ],
           "ids": [
            7,
            15
           ],
           "legendgroup": "purple, target",
           "marker": {
            "color": "#00cc96",
            "size": [
             40,
             40
            ],
            "sizemode": "area",
            "sizeref": 0.25,
            "symbol": "circle"
           },
           "mode": "markers",
           "name": "purple, target",
           "orientation": "v",
           "showlegend": true,
           "type": "scatter",
           "x": [
            0.35,
            1.5
           ],
           "xaxis": "x",
           "y": [
            1.85,
            0.8500000000000001
           ],
           "yaxis": "y"
          },
          {
           "hovertemplate": "<b>%{hovertext}</b><br><br>color=purple<br>type=box<br>frame=9<br>x=%{x}<br>y=%{y}<br>size=%{marker.size}<extra></extra>",
           "hovertext": [
            "purple | box | 6",
            "purple | box | 8"
           ],
           "ids": [
            6,
            8
           ],
           "legendgroup": "purple, box",
           "marker": {
            "color": "#00cc96",
            "size": [
             40,
             40
            ],
            "sizemode": "area",
            "sizeref": 0.25,
            "symbol": "diamond"
           },
           "mode": "markers",
           "name": "purple, box",
           "orientation": "v",
           "showlegend": true,
           "type": "scatter",
           "x": [
            0.35,
            0.5
           ],
           "xaxis": "x",
           "y": [
            1.15,
            1.15
           ],
           "yaxis": "y"
          },
          {
           "hovertemplate": "<b>%{hovertext}</b><br><br>color=orange<br>type=target<br>frame=9<br>x=%{x}<br>y=%{y}<br>size=%{marker.size}<extra></extra>",
           "hovertext": [
            "orange | target | 10"
           ],
           "ids": [
            10
           ],
           "legendgroup": "orange, target",
           "marker": {
            "color": "#ab63fa",
            "size": [
             40
            ],
            "sizemode": "area",
            "sizeref": 0.25,
            "symbol": "circle"
           },
           "mode": "markers",
           "name": "orange, target",
           "orientation": "v",
           "showlegend": true,
           "type": "scatter",
           "x": [
            0.5
           ],
           "xaxis": "x",
           "y": [
            1.85
           ],
           "yaxis": "y"
          },
          {
           "hovertemplate": "<b>%{hovertext}</b><br><br>color=orange<br>type=box<br>frame=9<br>x=%{x}<br>y=%{y}<br>size=%{marker.size}<extra></extra>",
           "hovertext": [
            "orange | box | 9"
           ],
           "ids": [
            9
           ],
           "legendgroup": "orange, box",
           "marker": {
            "color": "#ab63fa",
            "size": [
             40
            ],
            "sizemode": "area",
            "sizeref": 0.25,
            "symbol": "diamond"
           },
           "mode": "markers",
           "name": "orange, box",
           "orientation": "v",
           "showlegend": true,
           "type": "scatter",
           "x": [
            0.65
           ],
           "xaxis": "x",
           "y": [
            1.15
           ],
           "yaxis": "y"
          },
          {
           "hovertemplate": "<b>%{hovertext}</b><br><br>color=red<br>type=target<br>frame=9<br>x=%{x}<br>y=%{y}<br>size=%{marker.size}<extra></extra>",
           "hovertext": [
            "red | target | 12",
            "red | target | 17"
           ],
           "ids": [
            12,
            17
           ],
           "legendgroup": "red, target",
           "marker": {
            "color": "#FFA15A",
            "size": [
             40,
             40
            ],
            "sizemode": "area",
            "sizeref": 0.25,
            "symbol": "circle"
           },
           "mode": "markers",
           "name": "red, target",
           "orientation": "v",
           "showlegend": true,
           "type": "scatter",
           "x": [
            1.44,
            1.5
           ],
           "xaxis": "x",
           "y": [
            0.64,
            1.85
           ],
           "yaxis": "y"
          },
          {
           "hovertemplate": "<b>%{hovertext}</b><br><br>color=red<br>type=box<br>frame=9<br>x=%{x}<br>y=%{y}<br>size=%{marker.size}<extra></extra>",
           "hovertext": [
            "red | box | 5",
            "red | box | 11"
           ],
           "ids": [
            5,
            11
           ],
           "legendgroup": "red, box",
           "marker": {
            "color": "#FFA15A",
            "size": [
             40,
             40
            ],
            "sizemode": "area",
            "sizeref": 0.25,
            "symbol": "diamond"
           },
           "mode": "markers",
           "name": "red, box",
           "orientation": "v",
           "showlegend": true,
           "type": "scatter",
           "x": [
            1.0699999999999998,
            1.44
           ],
           "xaxis": "x",
           "y": [
            1.15,
            0.36
           ],
           "yaxis": "y"
          }
         ],
         "name": "9"
        },
        {
         "data": [
          {
           "hovertemplate": "<b>%{hovertext}</b><br><br>color=blue<br>type=target<br>frame=10<br>x=%{x}<br>y=%{y}<br>size=%{marker.size}<extra></extra>",
           "hovertext": [
            "blue | target | 0",
            "blue | target | 1"
           ],
           "ids": [
            0,
            1
           ],
           "legendgroup": "blue, target",
           "marker": {
            "color": "#636efa",
            "size": [
             19.999999999999996,
             19.999999999999996
            ],
            "sizemode": "area",
            "sizeref": 0.25,
            "symbol": "circle"
           },
           "mode": "markers",
           "name": "blue, target",
           "orientation": "v",
           "showlegend": true,
           "type": "scatter",
           "x": [
            0.2,
            0.35
           ],
           "xaxis": "x",
           "y": [
            0.85,
            0.85
           ],
           "yaxis": "y"
          },
          {
           "hovertemplate": "<b>%{hovertext}</b><br><br>color=blue<br>type=box<br>frame=10<br>x=%{x}<br>y=%{y}<br>size=%{marker.size}<extra></extra>",
           "hovertext": [
            "blue | box | 16",
            "blue | box | 4"
           ],
           "ids": [
            16,
            4
           ],
           "legendgroup": "blue, box",
           "marker": {
            "color": "#636efa",
            "size": [
             19.999999999999996,
             19.999999999999996
            ],
            "sizemode": "area",
            "sizeref": 0.25,
            "symbol": "diamond"
           },
           "mode": "markers",
           "name": "blue, box",
           "orientation": "v",
           "showlegend": true,
           "type": "scatter",
           "x": [
            1.35,
            1.5
           ],
           "xaxis": "x",
           "y": [
            1.15,
            1.15
           ],
           "yaxis": "y"
          },
          {
           "hovertemplate": "<b>%{hovertext}</b><br><br>color=green<br>type=target<br>frame=10<br>x=%{x}<br>y=%{y}<br>size=%{marker.size}<extra></extra>",
           "hovertext": [
            "green | target | 2",
            "green | target | 3"
           ],
           "ids": [
            2,
            3
           ],
           "legendgroup": "green, target",
           "marker": {
            "color": "#EF553B",
            "size": [
             19.999999999999996,
             19.999999999999996
            ],
            "sizemode": "area",
            "sizeref": 0.25,
            "symbol": "circle"
           },
           "mode": "markers",
           "name": "green, target",
           "orientation": "v",
           "showlegend": true,
           "type": "scatter",
           "x": [
            0.5,
            0.65
           ],
           "xaxis": "x",
           "y": [
            0.85,
            0.85
           ],
           "yaxis": "y"
          },
          {
           "hovertemplate": "<b>%{hovertext}</b><br><br>color=green<br>type=box<br>frame=10<br>x=%{x}<br>y=%{y}<br>size=%{marker.size}<extra></extra>",
           "hovertext": [
            "green | box | 13",
            "green | box | 14"
           ],
           "ids": [
            13,
            14
           ],
           "legendgroup": "green, box",
           "marker": {
            "color": "#EF553B",
            "size": [
             19.999999999999996,
             19.999999999999996
            ],
            "sizemode": "area",
            "sizeref": 0.25,
            "symbol": "diamond"
           },
           "mode": "markers",
           "name": "green, box",
           "orientation": "v",
           "showlegend": true,
           "type": "scatter",
           "x": [
            1.38,
            1.53
           ],
           "xaxis": "x",
           "y": [
            0.15000000000000002,
            0.15000000000000002
           ],
           "yaxis": "y"
          },
          {
           "hovertemplate": "<b>%{hovertext}</b><br><br>color=purple<br>type=target<br>frame=10<br>x=%{x}<br>y=%{y}<br>size=%{marker.size}<extra></extra>",
           "hovertext": [
            "purple | target | 7",
            "purple | target | 15"
           ],
           "ids": [
            7,
            15
           ],
           "legendgroup": "purple, target",
           "marker": {
            "color": "#00cc96",
            "size": [
             19.999999999999996,
             19.999999999999996
            ],
            "sizemode": "area",
            "sizeref": 0.25,
            "symbol": "circle"
           },
           "mode": "markers",
           "name": "purple, target",
           "orientation": "v",
           "showlegend": true,
           "type": "scatter",
           "x": [
            0.35,
            1.5
           ],
           "xaxis": "x",
           "y": [
            1.85,
            0.85
           ],
           "yaxis": "y"
          },
          {
           "hovertemplate": "<b>%{hovertext}</b><br><br>color=purple<br>type=box<br>frame=10<br>x=%{x}<br>y=%{y}<br>size=%{marker.size}<extra></extra>",
           "hovertext": [
            "purple | box | 6",
            "purple | box | 8"
           ],
           "ids": [
            6,
            8
           ],
           "legendgroup": "purple, box",
           "marker": {
            "color": "#00cc96",
            "size": [
             19.999999999999996,
             19.999999999999996
            ],
            "sizemode": "area",
            "sizeref": 0.25,
            "symbol": "diamond"
           },
           "mode": "markers",
           "name": "purple, box",
           "orientation": "v",
           "showlegend": true,
           "type": "scatter",
           "x": [
            0.35,
            0.5
           ],
           "xaxis": "x",
           "y": [
            1.15,
            1.15
           ],
           "yaxis": "y"
          },
          {
           "hovertemplate": "<b>%{hovertext}</b><br><br>color=orange<br>type=target<br>frame=10<br>x=%{x}<br>y=%{y}<br>size=%{marker.size}<extra></extra>",
           "hovertext": [
            "orange | target | 10"
           ],
           "ids": [
            10
           ],
           "legendgroup": "orange, target",
           "marker": {
            "color": "#ab63fa",
            "size": [
             19.999999999999996
            ],
            "sizemode": "area",
            "sizeref": 0.25,
            "symbol": "circle"
           },
           "mode": "markers",
           "name": "orange, target",
           "orientation": "v",
           "showlegend": true,
           "type": "scatter",
           "x": [
            0.5
           ],
           "xaxis": "x",
           "y": [
            1.85
           ],
           "yaxis": "y"
          },
          {
           "hovertemplate": "<b>%{hovertext}</b><br><br>color=orange<br>type=box<br>frame=10<br>x=%{x}<br>y=%{y}<br>size=%{marker.size}<extra></extra>",
           "hovertext": [
            "orange | box | 9"
           ],
           "ids": [
            9
           ],
           "legendgroup": "orange, box",
           "marker": {
            "color": "#ab63fa",
            "size": [
             19.999999999999996
            ],
            "sizemode": "area",
            "sizeref": 0.25,
            "symbol": "diamond"
           },
           "mode": "markers",
           "name": "orange, box",
           "orientation": "v",
           "showlegend": true,
           "type": "scatter",
           "x": [
            0.65
           ],
           "xaxis": "x",
           "y": [
            1.15
           ],
           "yaxis": "y"
          },
          {
           "hovertemplate": "<b>%{hovertext}</b><br><br>color=red<br>type=target<br>frame=10<br>x=%{x}<br>y=%{y}<br>size=%{marker.size}<extra></extra>",
           "hovertext": [
            "red | target | 12",
            "red | target | 17"
           ],
           "ids": [
            12,
            17
           ],
           "legendgroup": "red, target",
           "marker": {
            "color": "#FFA15A",
            "size": [
             19.999999999999996,
             19.999999999999996
            ],
            "sizemode": "area",
            "sizeref": 0.25,
            "symbol": "circle"
           },
           "mode": "markers",
           "name": "red, target",
           "orientation": "v",
           "showlegend": true,
           "type": "scatter",
           "x": [
            1.4700000000000002,
            1.5
           ],
           "xaxis": "x",
           "y": [
            0.57,
            1.85
           ],
           "yaxis": "y"
          },
          {
           "hovertemplate": "<b>%{hovertext}</b><br><br>color=red<br>type=box<br>frame=10<br>x=%{x}<br>y=%{y}<br>size=%{marker.size}<extra></extra>",
           "hovertext": [
            "red | box | 5",
            "red | box | 11"
           ],
           "ids": [
            5,
            11
           ],
           "legendgroup": "red, box",
           "marker": {
            "color": "#FFA15A",
            "size": [
             19.999999999999996,
             19.999999999999996
            ],
            "sizemode": "area",
            "sizeref": 0.25,
            "symbol": "diamond"
           },
           "mode": "markers",
           "name": "red, box",
           "orientation": "v",
           "showlegend": true,
           "type": "scatter",
           "x": [
            1.36,
            1.4700000000000002
           ],
           "xaxis": "x",
           "y": [
            1.15,
            0.43000000000000005
           ],
           "yaxis": "y"
          }
         ],
         "name": "10"
        },
        {
         "data": [
          {
           "hovertemplate": "<b>%{hovertext}</b><br><br>color=blue<br>type=target<br>frame=11<br>x=%{x}<br>y=%{y}<br>size=%{marker.size}<extra></extra>",
           "hovertext": [
            "blue | target | 0",
            "blue | target | 1"
           ],
           "ids": [
            0,
            1
           ],
           "legendgroup": "blue, target",
           "marker": {
            "color": "#636efa",
            "size": [
             0,
             0
            ],
            "sizemode": "area",
            "sizeref": 0.25,
            "symbol": "circle"
           },
           "mode": "markers",
           "name": "blue, target",
           "orientation": "v",
           "showlegend": true,
           "type": "scatter",
           "x": [
            0.2,
            0.35
           ],
           "xaxis": "x",
           "y": [
            0.85,
            0.85
           ],
           "yaxis": "y"
          },
          {
           "hovertemplate": "<b>%{hovertext}</b><br><br>color=blue<br>type=box<br>frame=11<br>x=%{x}<br>y=%{y}<br>size=%{marker.size}<extra></extra>",
           "hovertext": [
            "blue | box | 16",
            "blue | box | 4"
           ],
           "ids": [
            16,
            4
           ],
           "legendgroup": "blue, box",
           "marker": {
            "color": "#636efa",
            "size": [
             0,
             0
            ],
            "sizemode": "area",
            "sizeref": 0.25,
            "symbol": "diamond"
           },
           "mode": "markers",
           "name": "blue, box",
           "orientation": "v",
           "showlegend": true,
           "type": "scatter",
           "x": [
            1.35,
            1.5
           ],
           "xaxis": "x",
           "y": [
            1.15,
            1.15
           ],
           "yaxis": "y"
          },
          {
           "hovertemplate": "<b>%{hovertext}</b><br><br>color=green<br>type=target<br>frame=11<br>x=%{x}<br>y=%{y}<br>size=%{marker.size}<extra></extra>",
           "hovertext": [
            "green | target | 2",
            "green | target | 3"
           ],
           "ids": [
            2,
            3
           ],
           "legendgroup": "green, target",
           "marker": {
            "color": "#EF553B",
            "size": [
             0,
             0
            ],
            "sizemode": "area",
            "sizeref": 0.25,
            "symbol": "circle"
           },
           "mode": "markers",
           "name": "green, target",
           "orientation": "v",
           "showlegend": true,
           "type": "scatter",
           "x": [
            0.5,
            0.65
           ],
           "xaxis": "x",
           "y": [
            0.85,
            0.85
           ],
           "yaxis": "y"
          },
          {
           "hovertemplate": "<b>%{hovertext}</b><br><br>color=green<br>type=box<br>frame=11<br>x=%{x}<br>y=%{y}<br>size=%{marker.size}<extra></extra>",
           "hovertext": [
            "green | box | 13",
            "green | box | 14"
           ],
           "ids": [
            13,
            14
           ],
           "legendgroup": "green, box",
           "marker": {
            "color": "#EF553B",
            "size": [
             0,
             0
            ],
            "sizemode": "area",
            "sizeref": 0.25,
            "symbol": "diamond"
           },
           "mode": "markers",
           "name": "green, box",
           "orientation": "v",
           "showlegend": true,
           "type": "scatter",
           "x": [
            1.35,
            1.5
           ],
           "xaxis": "x",
           "y": [
            0.15000000000000002,
            0.15000000000000002
           ],
           "yaxis": "y"
          },
          {
           "hovertemplate": "<b>%{hovertext}</b><br><br>color=purple<br>type=target<br>frame=11<br>x=%{x}<br>y=%{y}<br>size=%{marker.size}<extra></extra>",
           "hovertext": [
            "purple | target | 7",
            "purple | target | 15"
           ],
           "ids": [
            7,
            15
           ],
           "legendgroup": "purple, target",
           "marker": {
            "color": "#00cc96",
            "size": [
             0,
             0
            ],
            "sizemode": "area",
            "sizeref": 0.25,
            "symbol": "circle"
           },
           "mode": "markers",
           "name": "purple, target",
           "orientation": "v",
           "showlegend": true,
           "type": "scatter",
           "x": [
            0.35,
            1.5
           ],
           "xaxis": "x",
           "y": [
            1.85,
            0.85
           ],
           "yaxis": "y"
          },
          {
           "hovertemplate": "<b>%{hovertext}</b><br><br>color=purple<br>type=box<br>frame=11<br>x=%{x}<br>y=%{y}<br>size=%{marker.size}<extra></extra>",
           "hovertext": [
            "purple | box | 6",
            "purple | box | 8"
           ],
           "ids": [
            6,
            8
           ],
           "legendgroup": "purple, box",
           "marker": {
            "color": "#00cc96",
            "size": [
             0,
             0
            ],
            "sizemode": "area",
            "sizeref": 0.25,
            "symbol": "diamond"
           },
           "mode": "markers",
           "name": "purple, box",
           "orientation": "v",
           "showlegend": true,
           "type": "scatter",
           "x": [
            0.35,
            0.5
           ],
           "xaxis": "x",
           "y": [
            1.15,
            1.15
           ],
           "yaxis": "y"
          },
          {
           "hovertemplate": "<b>%{hovertext}</b><br><br>color=orange<br>type=target<br>frame=11<br>x=%{x}<br>y=%{y}<br>size=%{marker.size}<extra></extra>",
           "hovertext": [
            "orange | target | 10"
           ],
           "ids": [
            10
           ],
           "legendgroup": "orange, target",
           "marker": {
            "color": "#ab63fa",
            "size": [
             0
            ],
            "sizemode": "area",
            "sizeref": 0.25,
            "symbol": "circle"
           },
           "mode": "markers",
           "name": "orange, target",
           "orientation": "v",
           "showlegend": true,
           "type": "scatter",
           "x": [
            0.5
           ],
           "xaxis": "x",
           "y": [
            1.85
           ],
           "yaxis": "y"
          },
          {
           "hovertemplate": "<b>%{hovertext}</b><br><br>color=orange<br>type=box<br>frame=11<br>x=%{x}<br>y=%{y}<br>size=%{marker.size}<extra></extra>",
           "hovertext": [
            "orange | box | 9"
           ],
           "ids": [
            9
           ],
           "legendgroup": "orange, box",
           "marker": {
            "color": "#ab63fa",
            "size": [
             0
            ],
            "sizemode": "area",
            "sizeref": 0.25,
            "symbol": "diamond"
           },
           "mode": "markers",
           "name": "orange, box",
           "orientation": "v",
           "showlegend": true,
           "type": "scatter",
           "x": [
            0.65
           ],
           "xaxis": "x",
           "y": [
            1.15
           ],
           "yaxis": "y"
          },
          {
           "hovertemplate": "<b>%{hovertext}</b><br><br>color=red<br>type=target<br>frame=11<br>x=%{x}<br>y=%{y}<br>size=%{marker.size}<extra></extra>",
           "hovertext": [
            "red | target | 12",
            "red | target | 17"
           ],
           "ids": [
            12,
            17
           ],
           "legendgroup": "red, target",
           "marker": {
            "color": "#FFA15A",
            "size": [
             0,
             0
            ],
            "sizemode": "area",
            "sizeref": 0.25,
            "symbol": "circle"
           },
           "mode": "markers",
           "name": "red, target",
           "orientation": "v",
           "showlegend": true,
           "type": "scatter",
           "x": [
            1.5,
            1.5
           ],
           "xaxis": "x",
           "y": [
            0.5,
            1.85
           ],
           "yaxis": "y"
          },
          {
           "hovertemplate": "<b>%{hovertext}</b><br><br>color=red<br>type=box<br>frame=11<br>x=%{x}<br>y=%{y}<br>size=%{marker.size}<extra></extra>",
           "hovertext": [
            "red | box | 5",
            "red | box | 11"
           ],
           "ids": [
            5,
            11
           ],
           "legendgroup": "red, box",
           "marker": {
            "color": "#FFA15A",
            "size": [
             0,
             0
            ],
            "sizemode": "area",
            "sizeref": 0.25,
            "symbol": "diamond"
           },
           "mode": "markers",
           "name": "red, box",
           "orientation": "v",
           "showlegend": true,
           "type": "scatter",
           "x": [
            1.65,
            1.5
           ],
           "xaxis": "x",
           "y": [
            1.15,
            0.5
           ],
           "yaxis": "y"
          }
         ],
         "name": "11"
        },
        {
         "data": [
          {
           "hovertemplate": "<b>%{hovertext}</b><br><br>color=blue<br>type=target<br>frame=12<br>x=%{x}<br>y=%{y}<br>size=%{marker.size}<extra></extra>",
           "hovertext": [
            "blue | target | 0",
            "blue | target | 1"
           ],
           "ids": [
            0,
            1
           ],
           "legendgroup": "blue, target",
           "marker": {
            "color": "#636efa",
            "size": [
             100,
             100
            ],
            "sizemode": "area",
            "sizeref": 0.25,
            "symbol": "circle"
           },
           "mode": "markers",
           "name": "blue, target",
           "orientation": "v",
           "showlegend": true,
           "type": "scatter",
           "x": [
            0.2,
            0.35
           ],
           "xaxis": "x",
           "y": [
            0.85,
            0.85
           ],
           "yaxis": "y"
          },
          {
           "hovertemplate": "<b>%{hovertext}</b><br><br>color=blue<br>type=box<br>frame=12<br>x=%{x}<br>y=%{y}<br>size=%{marker.size}<extra></extra>",
           "hovertext": [
            "blue | box | 16",
            "blue | box | 4"
           ],
           "ids": [
            16,
            4
           ],
           "legendgroup": "blue, box",
           "marker": {
            "color": "#636efa",
            "size": [
             100,
             100
            ],
            "sizemode": "area",
            "sizeref": 0.25,
            "symbol": "diamond"
           },
           "mode": "markers",
           "name": "blue, box",
           "orientation": "v",
           "showlegend": true,
           "type": "scatter",
           "x": [
            1.35,
            1.5
           ],
           "xaxis": "x",
           "y": [
            1.15,
            1.15
           ],
           "yaxis": "y"
          },
          {
           "hovertemplate": "<b>%{hovertext}</b><br><br>color=green<br>type=target<br>frame=12<br>x=%{x}<br>y=%{y}<br>size=%{marker.size}<extra></extra>",
           "hovertext": [
            "green | target | 2",
            "green | target | 3"
           ],
           "ids": [
            2,
            3
           ],
           "legendgroup": "green, target",
           "marker": {
            "color": "#EF553B",
            "size": [
             100,
             100
            ],
            "sizemode": "area",
            "sizeref": 0.25,
            "symbol": "circle"
           },
           "mode": "markers",
           "name": "green, target",
           "orientation": "v",
           "showlegend": true,
           "type": "scatter",
           "x": [
            0.5,
            0.65
           ],
           "xaxis": "x",
           "y": [
            0.85,
            0.85
           ],
           "yaxis": "y"
          },
          {
           "hovertemplate": "<b>%{hovertext}</b><br><br>color=green<br>type=box<br>frame=12<br>x=%{x}<br>y=%{y}<br>size=%{marker.size}<extra></extra>",
           "hovertext": [
            "green | box | 13",
            "green | box | 14"
           ],
           "ids": [
            13,
            14
           ],
           "legendgroup": "green, box",
           "marker": {
            "color": "#EF553B",
            "size": [
             100,
             100
            ],
            "sizemode": "area",
            "sizeref": 0.25,
            "symbol": "diamond"
           },
           "mode": "markers",
           "name": "green, box",
           "orientation": "v",
           "showlegend": true,
           "type": "scatter",
           "x": [
            1.35,
            1.5
           ],
           "xaxis": "x",
           "y": [
            0.15000000000000002,
            0.15000000000000002
           ],
           "yaxis": "y"
          },
          {
           "hovertemplate": "<b>%{hovertext}</b><br><br>color=purple<br>type=target<br>frame=12<br>x=%{x}<br>y=%{y}<br>size=%{marker.size}<extra></extra>",
           "hovertext": [
            "purple | target | 7",
            "purple | target | 15"
           ],
           "ids": [
            7,
            15
           ],
           "legendgroup": "purple, target",
           "marker": {
            "color": "#00cc96",
            "size": [
             100,
             100
            ],
            "sizemode": "area",
            "sizeref": 0.25,
            "symbol": "circle"
           },
           "mode": "markers",
           "name": "purple, target",
           "orientation": "v",
           "showlegend": true,
           "type": "scatter",
           "x": [
            0.35,
            1.5
           ],
           "xaxis": "x",
           "y": [
            1.85,
            0.85
           ],
           "yaxis": "y"
          },
          {
           "hovertemplate": "<b>%{hovertext}</b><br><br>color=purple<br>type=box<br>frame=12<br>x=%{x}<br>y=%{y}<br>size=%{marker.size}<extra></extra>",
           "hovertext": [
            "purple | box | 6",
            "purple | box | 8"
           ],
           "ids": [
            6,
            8
           ],
           "legendgroup": "purple, box",
           "marker": {
            "color": "#00cc96",
            "size": [
             100,
             100
            ],
            "sizemode": "area",
            "sizeref": 0.25,
            "symbol": "diamond"
           },
           "mode": "markers",
           "name": "purple, box",
           "orientation": "v",
           "showlegend": true,
           "type": "scatter",
           "x": [
            0.35,
            0.5
           ],
           "xaxis": "x",
           "y": [
            1.15,
            1.15
           ],
           "yaxis": "y"
          },
          {
           "hovertemplate": "<b>%{hovertext}</b><br><br>color=orange<br>type=target<br>frame=12<br>x=%{x}<br>y=%{y}<br>size=%{marker.size}<extra></extra>",
           "hovertext": [
            "orange | target | 10"
           ],
           "ids": [
            10
           ],
           "legendgroup": "orange, target",
           "marker": {
            "color": "#ab63fa",
            "size": [
             100
            ],
            "sizemode": "area",
            "sizeref": 0.25,
            "symbol": "circle"
           },
           "mode": "markers",
           "name": "orange, target",
           "orientation": "v",
           "showlegend": true,
           "type": "scatter",
           "x": [
            0.5
           ],
           "xaxis": "x",
           "y": [
            1.85
           ],
           "yaxis": "y"
          },
          {
           "hovertemplate": "<b>%{hovertext}</b><br><br>color=orange<br>type=box<br>frame=12<br>x=%{x}<br>y=%{y}<br>size=%{marker.size}<extra></extra>",
           "hovertext": [
            "orange | box | 9"
           ],
           "ids": [
            9
           ],
           "legendgroup": "orange, box",
           "marker": {
            "color": "#ab63fa",
            "size": [
             100
            ],
            "sizemode": "area",
            "sizeref": 0.25,
            "symbol": "diamond"
           },
           "mode": "markers",
           "name": "orange, box",
           "orientation": "v",
           "showlegend": true,
           "type": "scatter",
           "x": [
            0.65
           ],
           "xaxis": "x",
           "y": [
            1.15
           ],
           "yaxis": "y"
          },
          {
           "hovertemplate": "<b>%{hovertext}</b><br><br>color=red<br>type=target<br>frame=12<br>x=%{x}<br>y=%{y}<br>size=%{marker.size}<extra></extra>",
           "hovertext": [
            "red | target | 17"
           ],
           "ids": [
            17
           ],
           "legendgroup": "red, target",
           "marker": {
            "color": "#FFA15A",
            "size": [
             100
            ],
            "sizemode": "area",
            "sizeref": 0.25,
            "symbol": "circle"
           },
           "mode": "markers",
           "name": "red, target",
           "orientation": "v",
           "showlegend": true,
           "type": "scatter",
           "x": [
            1.5
           ],
           "xaxis": "x",
           "y": [
            1.85
           ],
           "yaxis": "y"
          },
          {
           "hovertemplate": "<b>%{hovertext}</b><br><br>color=red<br>type=box<br>frame=12<br>x=%{x}<br>y=%{y}<br>size=%{marker.size}<extra></extra>",
           "hovertext": [
            "red | box | 5"
           ],
           "ids": [
            5
           ],
           "legendgroup": "red, box",
           "marker": {
            "color": "#FFA15A",
            "size": [
             100
            ],
            "sizemode": "area",
            "sizeref": 0.25,
            "symbol": "diamond"
           },
           "mode": "markers",
           "name": "red, box",
           "orientation": "v",
           "showlegend": true,
           "type": "scatter",
           "x": [
            1.65
           ],
           "xaxis": "x",
           "y": [
            1.15
           ],
           "yaxis": "y"
          }
         ],
         "name": "12"
        },
        {
         "data": [
          {
           "hovertemplate": "<b>%{hovertext}</b><br><br>color=blue<br>type=target<br>frame=13<br>x=%{x}<br>y=%{y}<br>size=%{marker.size}<extra></extra>",
           "hovertext": [
            "blue | target | 0",
            "blue | target | 1"
           ],
           "ids": [
            0,
            1
           ],
           "legendgroup": "blue, target",
           "marker": {
            "color": "#636efa",
            "size": [
             80,
             80
            ],
            "sizemode": "area",
            "sizeref": 0.25,
            "symbol": "circle"
           },
           "mode": "markers",
           "name": "blue, target",
           "orientation": "v",
           "showlegend": true,
           "type": "scatter",
           "x": [
            0.20000000000000004,
            0.35
           ],
           "xaxis": "x",
           "y": [
            0.8500000000000001,
            0.8500000000000001
           ],
           "yaxis": "y"
          },
          {
           "hovertemplate": "<b>%{hovertext}</b><br><br>color=blue<br>type=box<br>frame=13<br>x=%{x}<br>y=%{y}<br>size=%{marker.size}<extra></extra>",
           "hovertext": [
            "blue | box | 16",
            "blue | box | 4"
           ],
           "ids": [
            16,
            4
           ],
           "legendgroup": "blue, box",
           "marker": {
            "color": "#636efa",
            "size": [
             80,
             80
            ],
            "sizemode": "area",
            "sizeref": 0.25,
            "symbol": "diamond"
           },
           "mode": "markers",
           "name": "blue, box",
           "orientation": "v",
           "showlegend": true,
           "type": "scatter",
           "x": [
            1.35,
            1.33
           ],
           "xaxis": "x",
           "y": [
            1.15,
            1.15
           ],
           "yaxis": "y"
          },
          {
           "hovertemplate": "<b>%{hovertext}</b><br><br>color=green<br>type=target<br>frame=13<br>x=%{x}<br>y=%{y}<br>size=%{marker.size}<extra></extra>",
           "hovertext": [
            "green | target | 2",
            "green | target | 3"
           ],
           "ids": [
            2,
            3
           ],
           "legendgroup": "green, target",
           "marker": {
            "color": "#EF553B",
            "size": [
             80,
             80
            ],
            "sizemode": "area",
            "sizeref": 0.25,
            "symbol": "circle"
           },
           "mode": "markers",
           "name": "green, target",
           "orientation": "v",
           "showlegend": true,
           "type": "scatter",
           "x": [
            0.5,
            0.65
           ],
           "xaxis": "x",
           "y": [
            0.8500000000000001,
            0.8500000000000001
           ],
           "yaxis": "y"
          },
          {
           "hovertemplate": "<b>%{hovertext}</b><br><br>color=green<br>type=box<br>frame=13<br>x=%{x}<br>y=%{y}<br>size=%{marker.size}<extra></extra>",
           "hovertext": [
            "green | box | 13",
            "green | box | 14"
           ],
           "ids": [
            13,
            14
           ],
           "legendgroup": "green, box",
           "marker": {
            "color": "#EF553B",
            "size": [
             80,
             80
            ],
            "sizemode": "area",
            "sizeref": 0.25,
            "symbol": "diamond"
           },
           "mode": "markers",
           "name": "green, box",
           "orientation": "v",
           "showlegend": true,
           "type": "scatter",
           "x": [
            1.3800000000000001,
            1.3000000000000003
           ],
           "xaxis": "x",
           "y": [
            0.15000000000000002,
            0.15000000000000002
           ],
           "yaxis": "y"
          },
          {
           "hovertemplate": "<b>%{hovertext}</b><br><br>color=purple<br>type=target<br>frame=13<br>x=%{x}<br>y=%{y}<br>size=%{marker.size}<extra></extra>",
           "hovertext": [
            "purple | target | 7",
            "purple | target | 15"
           ],
           "ids": [
            7,
            15
           ],
           "legendgroup": "purple, target",
           "marker": {
            "color": "#00cc96",
            "size": [
             80,
             80
            ],
            "sizemode": "area",
            "sizeref": 0.25,
            "symbol": "circle"
           },
           "mode": "markers",
           "name": "purple, target",
           "orientation": "v",
           "showlegend": true,
           "type": "scatter",
           "x": [
            0.38,
            1.5000000000000002
           ],
           "xaxis": "x",
           "y": [
            1.7800000000000002,
            0.8500000000000001
           ],
           "yaxis": "y"
          },
          {
           "hovertemplate": "<b>%{hovertext}</b><br><br>color=purple<br>type=box<br>frame=13<br>x=%{x}<br>y=%{y}<br>size=%{marker.size}<extra></extra>",
           "hovertext": [
            "purple | box | 6",
            "purple | box | 8"
           ],
           "ids": [
            6,
            8
           ],
           "legendgroup": "purple, box",
           "marker": {
            "color": "#00cc96",
            "size": [
             80,
             80
            ],
            "sizemode": "area",
            "sizeref": 0.25,
            "symbol": "diamond"
           },
           "mode": "markers",
           "name": "purple, box",
           "orientation": "v",
           "showlegend": true,
           "type": "scatter",
           "x": [
            0.35,
            0.5
           ],
           "xaxis": "x",
           "y": [
            1.15,
            1.22
           ],
           "yaxis": "y"
          },
          {
           "hovertemplate": "<b>%{hovertext}</b><br><br>color=orange<br>type=target<br>frame=13<br>x=%{x}<br>y=%{y}<br>size=%{marker.size}<extra></extra>",
           "hovertext": [
            "orange | target | 10"
           ],
           "ids": [
            10
           ],
           "legendgroup": "orange, target",
           "marker": {
            "color": "#ab63fa",
            "size": [
             80
            ],
            "sizemode": "area",
            "sizeref": 0.25,
            "symbol": "circle"
           },
           "mode": "markers",
           "name": "orange, target",
           "orientation": "v",
           "showlegend": true,
           "type": "scatter",
           "x": [
            0.5
           ],
           "xaxis": "x",
           "y": [
            1.8500000000000003
           ],
           "yaxis": "y"
          },
          {
           "hovertemplate": "<b>%{hovertext}</b><br><br>color=orange<br>type=box<br>frame=13<br>x=%{x}<br>y=%{y}<br>size=%{marker.size}<extra></extra>",
           "hovertext": [
            "orange | box | 9"
           ],
           "ids": [
            9
           ],
           "legendgroup": "orange, box",
           "marker": {
            "color": "#ab63fa",
            "size": [
             80
            ],
            "sizemode": "area",
            "sizeref": 0.25,
            "symbol": "diamond"
           },
           "mode": "markers",
           "name": "orange, box",
           "orientation": "v",
           "showlegend": true,
           "type": "scatter",
           "x": [
            0.62
           ],
           "xaxis": "x",
           "y": [
            1.15
           ],
           "yaxis": "y"
          },
          {
           "hovertemplate": "<b>%{hovertext}</b><br><br>color=red<br>type=target<br>frame=13<br>x=%{x}<br>y=%{y}<br>size=%{marker.size}<extra></extra>",
           "hovertext": [
            "red | target | 17"
           ],
           "ids": [
            17
           ],
           "legendgroup": "red, target",
           "marker": {
            "color": "#FFA15A",
            "size": [
             80
            ],
            "sizemode": "area",
            "sizeref": 0.25,
            "symbol": "circle"
           },
           "mode": "markers",
           "name": "red, target",
           "orientation": "v",
           "showlegend": true,
           "type": "scatter",
           "x": [
            1.5000000000000002
           ],
           "xaxis": "x",
           "y": [
            1.8500000000000003
           ],
           "yaxis": "y"
          },
          {
           "hovertemplate": "<b>%{hovertext}</b><br><br>color=red<br>type=box<br>frame=13<br>x=%{x}<br>y=%{y}<br>size=%{marker.size}<extra></extra>",
           "hovertext": [
            "red | box | 5"
           ],
           "ids": [
            5
           ],
           "legendgroup": "red, box",
           "marker": {
            "color": "#FFA15A",
            "size": [
             80
            ],
            "sizemode": "area",
            "sizeref": 0.25,
            "symbol": "diamond"
           },
           "mode": "markers",
           "name": "red, box",
           "orientation": "v",
           "showlegend": true,
           "type": "scatter",
           "x": [
            1.62
           ],
           "xaxis": "x",
           "y": [
            1.15
           ],
           "yaxis": "y"
          }
         ],
         "name": "13"
        },
        {
         "data": [
          {
           "hovertemplate": "<b>%{hovertext}</b><br><br>color=blue<br>type=target<br>frame=14<br>x=%{x}<br>y=%{y}<br>size=%{marker.size}<extra></extra>",
           "hovertext": [
            "blue | target | 0",
            "blue | target | 1"
           ],
           "ids": [
            0,
            1
           ],
           "legendgroup": "blue, target",
           "marker": {
            "color": "#636efa",
            "size": [
             60,
             60
            ],
            "sizemode": "area",
            "sizeref": 0.25,
            "symbol": "circle"
           },
           "mode": "markers",
           "name": "blue, target",
           "orientation": "v",
           "showlegend": true,
           "type": "scatter",
           "x": [
            0.2,
            0.35
           ],
           "xaxis": "x",
           "y": [
            0.8500000000000001,
            0.8500000000000001
           ],
           "yaxis": "y"
          },
          {
           "hovertemplate": "<b>%{hovertext}</b><br><br>color=blue<br>type=box<br>frame=14<br>x=%{x}<br>y=%{y}<br>size=%{marker.size}<extra></extra>",
           "hovertext": [
            "blue | box | 16",
            "blue | box | 4"
           ],
           "ids": [
            16,
            4
           ],
           "legendgroup": "blue, box",
           "marker": {
            "color": "#636efa",
            "size": [
             60,
             60
            ],
            "sizemode": "area",
            "sizeref": 0.25,
            "symbol": "diamond"
           },
           "mode": "markers",
           "name": "blue, box",
           "orientation": "v",
           "showlegend": true,
           "type": "scatter",
           "x": [
            1.35,
            1.16
           ],
           "xaxis": "x",
           "y": [
            1.15,
            1.15
           ],
           "yaxis": "y"
          },
          {
           "hovertemplate": "<b>%{hovertext}</b><br><br>color=green<br>type=target<br>frame=14<br>x=%{x}<br>y=%{y}<br>size=%{marker.size}<extra></extra>",
           "hovertext": [
            "green | target | 2",
            "green | target | 3"
           ],
           "ids": [
            2,
            3
           ],
           "legendgroup": "green, target",
           "marker": {
            "color": "#EF553B",
            "size": [
             60,
             60
            ],
            "sizemode": "area",
            "sizeref": 0.25,
            "symbol": "circle"
           },
           "mode": "markers",
           "name": "green, target",
           "orientation": "v",
           "showlegend": true,
           "type": "scatter",
           "x": [
            0.5,
            0.65
           ],
           "xaxis": "x",
           "y": [
            0.8500000000000001,
            0.8500000000000001
           ],
           "yaxis": "y"
          },
          {
           "hovertemplate": "<b>%{hovertext}</b><br><br>color=green<br>type=box<br>frame=14<br>x=%{x}<br>y=%{y}<br>size=%{marker.size}<extra></extra>",
           "hovertext": [
            "green | box | 13",
            "green | box | 14"
           ],
           "ids": [
            13,
            14
           ],
           "legendgroup": "green, box",
           "marker": {
            "color": "#EF553B",
            "size": [
             60,
             60
            ],
            "sizemode": "area",
            "sizeref": 0.25,
            "symbol": "diamond"
           },
           "mode": "markers",
           "name": "green, box",
           "orientation": "v",
           "showlegend": true,
           "type": "scatter",
           "x": [
            1.4100000000000001,
            1.0999999999999999
           ],
           "xaxis": "x",
           "y": [
            0.15000000000000002,
            0.15000000000000002
           ],
           "yaxis": "y"
          },
          {
           "hovertemplate": "<b>%{hovertext}</b><br><br>color=purple<br>type=target<br>frame=14<br>x=%{x}<br>y=%{y}<br>size=%{marker.size}<extra></extra>",
           "hovertext": [
            "purple | target | 7",
            "purple | target | 15"
           ],
           "ids": [
            7,
            15
           ],
           "legendgroup": "purple, target",
           "marker": {
            "color": "#00cc96",
            "size": [
             60,
             60
            ],
            "sizemode": "area",
            "sizeref": 0.25,
            "symbol": "circle"
           },
           "mode": "markers",
           "name": "purple, target",
           "orientation": "v",
           "showlegend": true,
           "type": "scatter",
           "x": [
            0.41000000000000003,
            1.5
           ],
           "xaxis": "x",
           "y": [
            1.7100000000000002,
            0.8500000000000001
           ],
           "yaxis": "y"
          },
          {
           "hovertemplate": "<b>%{hovertext}</b><br><br>color=purple<br>type=box<br>frame=14<br>x=%{x}<br>y=%{y}<br>size=%{marker.size}<extra></extra>",
           "hovertext": [
            "purple | box | 6",
            "purple | box | 8"
           ],
           "ids": [
            6,
            8
           ],
           "legendgroup": "purple, box",
           "marker": {
            "color": "#00cc96",
            "size": [
             60,
             60
            ],
            "sizemode": "area",
            "sizeref": 0.25,
            "symbol": "diamond"
           },
           "mode": "markers",
           "name": "purple, box",
           "orientation": "v",
           "showlegend": true,
           "type": "scatter",
           "x": [
            0.35,
            0.5
           ],
           "xaxis": "x",
           "y": [
            1.15,
            1.29
           ],
           "yaxis": "y"
          },
          {
           "hovertemplate": "<b>%{hovertext}</b><br><br>color=orange<br>type=target<br>frame=14<br>x=%{x}<br>y=%{y}<br>size=%{marker.size}<extra></extra>",
           "hovertext": [
            "orange | target | 10"
           ],
           "ids": [
            10
           ],
           "legendgroup": "orange, target",
           "marker": {
            "color": "#ab63fa",
            "size": [
             60
            ],
            "sizemode": "area",
            "sizeref": 0.25,
            "symbol": "circle"
           },
           "mode": "markers",
           "name": "orange, target",
           "orientation": "v",
           "showlegend": true,
           "type": "scatter",
           "x": [
            0.5
           ],
           "xaxis": "x",
           "y": [
            1.85
           ],
           "yaxis": "y"
          },
          {
           "hovertemplate": "<b>%{hovertext}</b><br><br>color=orange<br>type=box<br>frame=14<br>x=%{x}<br>y=%{y}<br>size=%{marker.size}<extra></extra>",
           "hovertext": [
            "orange | box | 9"
           ],
           "ids": [
            9
           ],
           "legendgroup": "orange, box",
           "marker": {
            "color": "#ab63fa",
            "size": [
             60
            ],
            "sizemode": "area",
            "sizeref": 0.25,
            "symbol": "diamond"
           },
           "mode": "markers",
           "name": "orange, box",
           "orientation": "v",
           "showlegend": true,
           "type": "scatter",
           "x": [
            0.5900000000000001
           ],
           "xaxis": "x",
           "y": [
            1.15
           ],
           "yaxis": "y"
          },
          {
           "hovertemplate": "<b>%{hovertext}</b><br><br>color=red<br>type=target<br>frame=14<br>x=%{x}<br>y=%{y}<br>size=%{marker.size}<extra></extra>",
           "hovertext": [
            "red | target | 17"
           ],
           "ids": [
            17
           ],
           "legendgroup": "red, target",
           "marker": {
            "color": "#FFA15A",
            "size": [
             60
            ],
            "sizemode": "area",
            "sizeref": 0.25,
            "symbol": "circle"
           },
           "mode": "markers",
           "name": "red, target",
           "orientation": "v",
           "showlegend": true,
           "type": "scatter",
           "x": [
            1.5
           ],
           "xaxis": "x",
           "y": [
            1.85
           ],
           "yaxis": "y"
          },
          {
           "hovertemplate": "<b>%{hovertext}</b><br><br>color=red<br>type=box<br>frame=14<br>x=%{x}<br>y=%{y}<br>size=%{marker.size}<extra></extra>",
           "hovertext": [
            "red | box | 5"
           ],
           "ids": [
            5
           ],
           "legendgroup": "red, box",
           "marker": {
            "color": "#FFA15A",
            "size": [
             60
            ],
            "sizemode": "area",
            "sizeref": 0.25,
            "symbol": "diamond"
           },
           "mode": "markers",
           "name": "red, box",
           "orientation": "v",
           "showlegend": true,
           "type": "scatter",
           "x": [
            1.5899999999999999
           ],
           "xaxis": "x",
           "y": [
            1.15
           ],
           "yaxis": "y"
          }
         ],
         "name": "14"
        },
        {
         "data": [
          {
           "hovertemplate": "<b>%{hovertext}</b><br><br>color=blue<br>type=target<br>frame=15<br>x=%{x}<br>y=%{y}<br>size=%{marker.size}<extra></extra>",
           "hovertext": [
            "blue | target | 0",
            "blue | target | 1"
           ],
           "ids": [
            0,
            1
           ],
           "legendgroup": "blue, target",
           "marker": {
            "color": "#636efa",
            "size": [
             40,
             40
            ],
            "sizemode": "area",
            "sizeref": 0.25,
            "symbol": "circle"
           },
           "mode": "markers",
           "name": "blue, target",
           "orientation": "v",
           "showlegend": true,
           "type": "scatter",
           "x": [
            0.2,
            0.35
           ],
           "xaxis": "x",
           "y": [
            0.8500000000000001,
            0.8500000000000001
           ],
           "yaxis": "y"
          },
          {
           "hovertemplate": "<b>%{hovertext}</b><br><br>color=blue<br>type=box<br>frame=15<br>x=%{x}<br>y=%{y}<br>size=%{marker.size}<extra></extra>",
           "hovertext": [
            "blue | box | 16",
            "blue | box | 4"
           ],
           "ids": [
            16,
            4
           ],
           "legendgroup": "blue, box",
           "marker": {
            "color": "#636efa",
            "size": [
             40,
             40
            ],
            "sizemode": "area",
            "sizeref": 0.25,
            "symbol": "diamond"
           },
           "mode": "markers",
           "name": "blue, box",
           "orientation": "v",
           "showlegend": true,
           "type": "scatter",
           "x": [
            1.35,
            0.9900000000000001
           ],
           "xaxis": "x",
           "y": [
            1.15,
            1.15
           ],
           "yaxis": "y"
          },
          {
           "hovertemplate": "<b>%{hovertext}</b><br><br>color=green<br>type=target<br>frame=15<br>x=%{x}<br>y=%{y}<br>size=%{marker.size}<extra></extra>",
           "hovertext": [
            "green | target | 2",
            "green | target | 3"
           ],
           "ids": [
            2,
            3
           ],
           "legendgroup": "green, target",
           "marker": {
            "color": "#EF553B",
            "size": [
             40,
             40
            ],
            "sizemode": "area",
            "sizeref": 0.25,
            "symbol": "circle"
           },
           "mode": "markers",
           "name": "green, target",
           "orientation": "v",
           "showlegend": true,
           "type": "scatter",
           "x": [
            0.5,
            0.65
           ],
           "xaxis": "x",
           "y": [
            0.8500000000000001,
            0.8500000000000001
           ],
           "yaxis": "y"
          },
          {
           "hovertemplate": "<b>%{hovertext}</b><br><br>color=green<br>type=box<br>frame=15<br>x=%{x}<br>y=%{y}<br>size=%{marker.size}<extra></extra>",
           "hovertext": [
            "green | box | 13",
            "green | box | 14"
           ],
           "ids": [
            13,
            14
           ],
           "legendgroup": "green, box",
           "marker": {
            "color": "#EF553B",
            "size": [
             40,
             40
            ],
            "sizemode": "area",
            "sizeref": 0.25,
            "symbol": "diamond"
           },
           "mode": "markers",
           "name": "green, box",
           "orientation": "v",
           "showlegend": true,
           "type": "scatter",
           "x": [
            1.44,
            0.9000000000000001
           ],
           "xaxis": "x",
           "y": [
            0.15000000000000002,
            0.15000000000000002
           ],
           "yaxis": "y"
          },
          {
           "hovertemplate": "<b>%{hovertext}</b><br><br>color=purple<br>type=target<br>frame=15<br>x=%{x}<br>y=%{y}<br>size=%{marker.size}<extra></extra>",
           "hovertext": [
            "purple | target | 7",
            "purple | target | 15"
           ],
           "ids": [
            7,
            15
           ],
           "legendgroup": "purple, target",
           "marker": {
            "color": "#00cc96",
            "size": [
             40,
             40
            ],
            "sizemode": "area",
            "sizeref": 0.25,
            "symbol": "circle"
           },
           "mode": "markers",
           "name": "purple, target",
           "orientation": "v",
           "showlegend": true,
           "type": "scatter",
           "x": [
            0.43999999999999995,
            1.5
           ],
           "xaxis": "x",
           "y": [
            1.6400000000000001,
            0.8500000000000001
           ],
           "yaxis": "y"
          },
          {
           "hovertemplate": "<b>%{hovertext}</b><br><br>color=purple<br>type=box<br>frame=15<br>x=%{x}<br>y=%{y}<br>size=%{marker.size}<extra></extra>",
           "hovertext": [
            "purple | box | 6",
            "purple | box | 8"
           ],
           "ids": [
            6,
            8
           ],
           "legendgroup": "purple, box",
           "marker": {
            "color": "#00cc96",
            "size": [
             40,
             40
            ],
            "sizemode": "area",
            "sizeref": 0.25,
            "symbol": "diamond"
           },
           "mode": "markers",
           "name": "purple, box",
           "orientation": "v",
           "showlegend": true,
           "type": "scatter",
           "x": [
            0.35,
            0.5
           ],
           "xaxis": "x",
           "y": [
            1.15,
            1.3599999999999999
           ],
           "yaxis": "y"
          },
          {
           "hovertemplate": "<b>%{hovertext}</b><br><br>color=orange<br>type=target<br>frame=15<br>x=%{x}<br>y=%{y}<br>size=%{marker.size}<extra></extra>",
           "hovertext": [
            "orange | target | 10"
           ],
           "ids": [
            10
           ],
           "legendgroup": "orange, target",
           "marker": {
            "color": "#ab63fa",
            "size": [
             40
            ],
            "sizemode": "area",
            "sizeref": 0.25,
            "symbol": "circle"
           },
           "mode": "markers",
           "name": "orange, target",
           "orientation": "v",
           "showlegend": true,
           "type": "scatter",
           "x": [
            0.5
           ],
           "xaxis": "x",
           "y": [
            1.85
           ],
           "yaxis": "y"
          },
          {
           "hovertemplate": "<b>%{hovertext}</b><br><br>color=orange<br>type=box<br>frame=15<br>x=%{x}<br>y=%{y}<br>size=%{marker.size}<extra></extra>",
           "hovertext": [
            "orange | box | 9"
           ],
           "ids": [
            9
           ],
           "legendgroup": "orange, box",
           "marker": {
            "color": "#ab63fa",
            "size": [
             40
            ],
            "sizemode": "area",
            "sizeref": 0.25,
            "symbol": "diamond"
           },
           "mode": "markers",
           "name": "orange, box",
           "orientation": "v",
           "showlegend": true,
           "type": "scatter",
           "x": [
            0.56
           ],
           "xaxis": "x",
           "y": [
            1.15
           ],
           "yaxis": "y"
          },
          {
           "hovertemplate": "<b>%{hovertext}</b><br><br>color=red<br>type=target<br>frame=15<br>x=%{x}<br>y=%{y}<br>size=%{marker.size}<extra></extra>",
           "hovertext": [
            "red | target | 17"
           ],
           "ids": [
            17
           ],
           "legendgroup": "red, target",
           "marker": {
            "color": "#FFA15A",
            "size": [
             40
            ],
            "sizemode": "area",
            "sizeref": 0.25,
            "symbol": "circle"
           },
           "mode": "markers",
           "name": "red, target",
           "orientation": "v",
           "showlegend": true,
           "type": "scatter",
           "x": [
            1.5
           ],
           "xaxis": "x",
           "y": [
            1.85
           ],
           "yaxis": "y"
          },
          {
           "hovertemplate": "<b>%{hovertext}</b><br><br>color=red<br>type=box<br>frame=15<br>x=%{x}<br>y=%{y}<br>size=%{marker.size}<extra></extra>",
           "hovertext": [
            "red | box | 5"
           ],
           "ids": [
            5
           ],
           "legendgroup": "red, box",
           "marker": {
            "color": "#FFA15A",
            "size": [
             40
            ],
            "sizemode": "area",
            "sizeref": 0.25,
            "symbol": "diamond"
           },
           "mode": "markers",
           "name": "red, box",
           "orientation": "v",
           "showlegend": true,
           "type": "scatter",
           "x": [
            1.56
           ],
           "xaxis": "x",
           "y": [
            1.15
           ],
           "yaxis": "y"
          }
         ],
         "name": "15"
        },
        {
         "data": [
          {
           "hovertemplate": "<b>%{hovertext}</b><br><br>color=blue<br>type=target<br>frame=16<br>x=%{x}<br>y=%{y}<br>size=%{marker.size}<extra></extra>",
           "hovertext": [
            "blue | target | 0",
            "blue | target | 1"
           ],
           "ids": [
            0,
            1
           ],
           "legendgroup": "blue, target",
           "marker": {
            "color": "#636efa",
            "size": [
             19.999999999999996,
             19.999999999999996
            ],
            "sizemode": "area",
            "sizeref": 0.25,
            "symbol": "circle"
           },
           "mode": "markers",
           "name": "blue, target",
           "orientation": "v",
           "showlegend": true,
           "type": "scatter",
           "x": [
            0.2,
            0.35
           ],
           "xaxis": "x",
           "y": [
            0.85,
            0.85
           ],
           "yaxis": "y"
          },
          {
           "hovertemplate": "<b>%{hovertext}</b><br><br>color=blue<br>type=box<br>frame=16<br>x=%{x}<br>y=%{y}<br>size=%{marker.size}<extra></extra>",
           "hovertext": [
            "blue | box | 16",
            "blue | box | 4"
           ],
           "ids": [
            16,
            4
           ],
           "legendgroup": "blue, box",
           "marker": {
            "color": "#636efa",
            "size": [
             19.999999999999996,
             19.999999999999996
            ],
            "sizemode": "area",
            "sizeref": 0.25,
            "symbol": "diamond"
           },
           "mode": "markers",
           "name": "blue, box",
           "orientation": "v",
           "showlegend": true,
           "type": "scatter",
           "x": [
            1.35,
            0.82
           ],
           "xaxis": "x",
           "y": [
            1.15,
            1.15
           ],
           "yaxis": "y"
          },
          {
           "hovertemplate": "<b>%{hovertext}</b><br><br>color=green<br>type=target<br>frame=16<br>x=%{x}<br>y=%{y}<br>size=%{marker.size}<extra></extra>",
           "hovertext": [
            "green | target | 2",
            "green | target | 3"
           ],
           "ids": [
            2,
            3
           ],
           "legendgroup": "green, target",
           "marker": {
            "color": "#EF553B",
            "size": [
             19.999999999999996,
             19.999999999999996
            ],
            "sizemode": "area",
            "sizeref": 0.25,
            "symbol": "circle"
           },
           "mode": "markers",
           "name": "green, target",
           "orientation": "v",
           "showlegend": true,
           "type": "scatter",
           "x": [
            0.5,
            0.65
           ],
           "xaxis": "x",
           "y": [
            0.85,
            0.85
           ],
           "yaxis": "y"
          },
          {
           "hovertemplate": "<b>%{hovertext}</b><br><br>color=green<br>type=box<br>frame=16<br>x=%{x}<br>y=%{y}<br>size=%{marker.size}<extra></extra>",
           "hovertext": [
            "green | box | 13",
            "green | box | 14"
           ],
           "ids": [
            13,
            14
           ],
           "legendgroup": "green, box",
           "marker": {
            "color": "#EF553B",
            "size": [
             19.999999999999996,
             19.999999999999996
            ],
            "sizemode": "area",
            "sizeref": 0.25,
            "symbol": "diamond"
           },
           "mode": "markers",
           "name": "green, box",
           "orientation": "v",
           "showlegend": true,
           "type": "scatter",
           "x": [
            1.4700000000000002,
            0.7
           ],
           "xaxis": "x",
           "y": [
            0.15000000000000002,
            0.15000000000000002
           ],
           "yaxis": "y"
          },
          {
           "hovertemplate": "<b>%{hovertext}</b><br><br>color=purple<br>type=target<br>frame=16<br>x=%{x}<br>y=%{y}<br>size=%{marker.size}<extra></extra>",
           "hovertext": [
            "purple | target | 7",
            "purple | target | 15"
           ],
           "ids": [
            7,
            15
           ],
           "legendgroup": "purple, target",
           "marker": {
            "color": "#00cc96",
            "size": [
             19.999999999999996,
             19.999999999999996
            ],
            "sizemode": "area",
            "sizeref": 0.25,
            "symbol": "circle"
           },
           "mode": "markers",
           "name": "purple, target",
           "orientation": "v",
           "showlegend": true,
           "type": "scatter",
           "x": [
            0.47,
            1.5
           ],
           "xaxis": "x",
           "y": [
            1.57,
            0.85
           ],
           "yaxis": "y"
          },
          {
           "hovertemplate": "<b>%{hovertext}</b><br><br>color=purple<br>type=box<br>frame=16<br>x=%{x}<br>y=%{y}<br>size=%{marker.size}<extra></extra>",
           "hovertext": [
            "purple | box | 6",
            "purple | box | 8"
           ],
           "ids": [
            6,
            8
           ],
           "legendgroup": "purple, box",
           "marker": {
            "color": "#00cc96",
            "size": [
             19.999999999999996,
             19.999999999999996
            ],
            "sizemode": "area",
            "sizeref": 0.25,
            "symbol": "diamond"
           },
           "mode": "markers",
           "name": "purple, box",
           "orientation": "v",
           "showlegend": true,
           "type": "scatter",
           "x": [
            0.35,
            0.5
           ],
           "xaxis": "x",
           "y": [
            1.15,
            1.4300000000000002
           ],
           "yaxis": "y"
          },
          {
           "hovertemplate": "<b>%{hovertext}</b><br><br>color=orange<br>type=target<br>frame=16<br>x=%{x}<br>y=%{y}<br>size=%{marker.size}<extra></extra>",
           "hovertext": [
            "orange | target | 10"
           ],
           "ids": [
            10
           ],
           "legendgroup": "orange, target",
           "marker": {
            "color": "#ab63fa",
            "size": [
             19.999999999999996
            ],
            "sizemode": "area",
            "sizeref": 0.25,
            "symbol": "circle"
           },
           "mode": "markers",
           "name": "orange, target",
           "orientation": "v",
           "showlegend": true,
           "type": "scatter",
           "x": [
            0.5
           ],
           "xaxis": "x",
           "y": [
            1.85
           ],
           "yaxis": "y"
          },
          {
           "hovertemplate": "<b>%{hovertext}</b><br><br>color=orange<br>type=box<br>frame=16<br>x=%{x}<br>y=%{y}<br>size=%{marker.size}<extra></extra>",
           "hovertext": [
            "orange | box | 9"
           ],
           "ids": [
            9
           ],
           "legendgroup": "orange, box",
           "marker": {
            "color": "#ab63fa",
            "size": [
             19.999999999999996
            ],
            "sizemode": "area",
            "sizeref": 0.25,
            "symbol": "diamond"
           },
           "mode": "markers",
           "name": "orange, box",
           "orientation": "v",
           "showlegend": true,
           "type": "scatter",
           "x": [
            0.53
           ],
           "xaxis": "x",
           "y": [
            1.15
           ],
           "yaxis": "y"
          },
          {
           "hovertemplate": "<b>%{hovertext}</b><br><br>color=red<br>type=target<br>frame=16<br>x=%{x}<br>y=%{y}<br>size=%{marker.size}<extra></extra>",
           "hovertext": [
            "red | target | 17"
           ],
           "ids": [
            17
           ],
           "legendgroup": "red, target",
           "marker": {
            "color": "#FFA15A",
            "size": [
             19.999999999999996
            ],
            "sizemode": "area",
            "sizeref": 0.25,
            "symbol": "circle"
           },
           "mode": "markers",
           "name": "red, target",
           "orientation": "v",
           "showlegend": true,
           "type": "scatter",
           "x": [
            1.5
           ],
           "xaxis": "x",
           "y": [
            1.85
           ],
           "yaxis": "y"
          },
          {
           "hovertemplate": "<b>%{hovertext}</b><br><br>color=red<br>type=box<br>frame=16<br>x=%{x}<br>y=%{y}<br>size=%{marker.size}<extra></extra>",
           "hovertext": [
            "red | box | 5"
           ],
           "ids": [
            5
           ],
           "legendgroup": "red, box",
           "marker": {
            "color": "#FFA15A",
            "size": [
             19.999999999999996
            ],
            "sizemode": "area",
            "sizeref": 0.25,
            "symbol": "diamond"
           },
           "mode": "markers",
           "name": "red, box",
           "orientation": "v",
           "showlegend": true,
           "type": "scatter",
           "x": [
            1.53
           ],
           "xaxis": "x",
           "y": [
            1.15
           ],
           "yaxis": "y"
          }
         ],
         "name": "16"
        },
        {
         "data": [
          {
           "hovertemplate": "<b>%{hovertext}</b><br><br>color=blue<br>type=target<br>frame=17<br>x=%{x}<br>y=%{y}<br>size=%{marker.size}<extra></extra>",
           "hovertext": [
            "blue | target | 0",
            "blue | target | 1"
           ],
           "ids": [
            0,
            1
           ],
           "legendgroup": "blue, target",
           "marker": {
            "color": "#636efa",
            "size": [
             0,
             0
            ],
            "sizemode": "area",
            "sizeref": 0.25,
            "symbol": "circle"
           },
           "mode": "markers",
           "name": "blue, target",
           "orientation": "v",
           "showlegend": true,
           "type": "scatter",
           "x": [
            0.2,
            0.35
           ],
           "xaxis": "x",
           "y": [
            0.85,
            0.85
           ],
           "yaxis": "y"
          },
          {
           "hovertemplate": "<b>%{hovertext}</b><br><br>color=blue<br>type=box<br>frame=17<br>x=%{x}<br>y=%{y}<br>size=%{marker.size}<extra></extra>",
           "hovertext": [
            "blue | box | 16",
            "blue | box | 4"
           ],
           "ids": [
            16,
            4
           ],
           "legendgroup": "blue, box",
           "marker": {
            "color": "#636efa",
            "size": [
             0,
             0
            ],
            "sizemode": "area",
            "sizeref": 0.25,
            "symbol": "diamond"
           },
           "mode": "markers",
           "name": "blue, box",
           "orientation": "v",
           "showlegend": true,
           "type": "scatter",
           "x": [
            1.35,
            0.65
           ],
           "xaxis": "x",
           "y": [
            1.15,
            1.15
           ],
           "yaxis": "y"
          },
          {
           "hovertemplate": "<b>%{hovertext}</b><br><br>color=green<br>type=target<br>frame=17<br>x=%{x}<br>y=%{y}<br>size=%{marker.size}<extra></extra>",
           "hovertext": [
            "green | target | 2",
            "green | target | 3"
           ],
           "ids": [
            2,
            3
           ],
           "legendgroup": "green, target",
           "marker": {
            "color": "#EF553B",
            "size": [
             0,
             0
            ],
            "sizemode": "area",
            "sizeref": 0.25,
            "symbol": "circle"
           },
           "mode": "markers",
           "name": "green, target",
           "orientation": "v",
           "showlegend": true,
           "type": "scatter",
           "x": [
            0.5,
            0.65
           ],
           "xaxis": "x",
           "y": [
            0.85,
            0.85
           ],
           "yaxis": "y"
          },
          {
           "hovertemplate": "<b>%{hovertext}</b><br><br>color=green<br>type=box<br>frame=17<br>x=%{x}<br>y=%{y}<br>size=%{marker.size}<extra></extra>",
           "hovertext": [
            "green | box | 13",
            "green | box | 14"
           ],
           "ids": [
            13,
            14
           ],
           "legendgroup": "green, box",
           "marker": {
            "color": "#EF553B",
            "size": [
             0,
             0
            ],
            "sizemode": "area",
            "sizeref": 0.25,
            "symbol": "diamond"
           },
           "mode": "markers",
           "name": "green, box",
           "orientation": "v",
           "showlegend": true,
           "type": "scatter",
           "x": [
            1.5,
            0.5
           ],
           "xaxis": "x",
           "y": [
            0.15000000000000002,
            0.15000000000000002
           ],
           "yaxis": "y"
          },
          {
           "hovertemplate": "<b>%{hovertext}</b><br><br>color=purple<br>type=target<br>frame=17<br>x=%{x}<br>y=%{y}<br>size=%{marker.size}<extra></extra>",
           "hovertext": [
            "purple | target | 7",
            "purple | target | 15"
           ],
           "ids": [
            7,
            15
           ],
           "legendgroup": "purple, target",
           "marker": {
            "color": "#00cc96",
            "size": [
             0,
             0
            ],
            "sizemode": "area",
            "sizeref": 0.25,
            "symbol": "circle"
           },
           "mode": "markers",
           "name": "purple, target",
           "orientation": "v",
           "showlegend": true,
           "type": "scatter",
           "x": [
            0.5,
            1.5
           ],
           "xaxis": "x",
           "y": [
            1.5,
            0.85
           ],
           "yaxis": "y"
          },
          {
           "hovertemplate": "<b>%{hovertext}</b><br><br>color=purple<br>type=box<br>frame=17<br>x=%{x}<br>y=%{y}<br>size=%{marker.size}<extra></extra>",
           "hovertext": [
            "purple | box | 6",
            "purple | box | 8"
           ],
           "ids": [
            6,
            8
           ],
           "legendgroup": "purple, box",
           "marker": {
            "color": "#00cc96",
            "size": [
             0,
             0
            ],
            "sizemode": "area",
            "sizeref": 0.25,
            "symbol": "diamond"
           },
           "mode": "markers",
           "name": "purple, box",
           "orientation": "v",
           "showlegend": true,
           "type": "scatter",
           "x": [
            0.35,
            0.5
           ],
           "xaxis": "x",
           "y": [
            1.15,
            1.5
           ],
           "yaxis": "y"
          },
          {
           "hovertemplate": "<b>%{hovertext}</b><br><br>color=orange<br>type=target<br>frame=17<br>x=%{x}<br>y=%{y}<br>size=%{marker.size}<extra></extra>",
           "hovertext": [
            "orange | target | 10"
           ],
           "ids": [
            10
           ],
           "legendgroup": "orange, target",
           "marker": {
            "color": "#ab63fa",
            "size": [
             0
            ],
            "sizemode": "area",
            "sizeref": 0.25,
            "symbol": "circle"
           },
           "mode": "markers",
           "name": "orange, target",
           "orientation": "v",
           "showlegend": true,
           "type": "scatter",
           "x": [
            0.5
           ],
           "xaxis": "x",
           "y": [
            1.85
           ],
           "yaxis": "y"
          },
          {
           "hovertemplate": "<b>%{hovertext}</b><br><br>color=orange<br>type=box<br>frame=17<br>x=%{x}<br>y=%{y}<br>size=%{marker.size}<extra></extra>",
           "hovertext": [
            "orange | box | 9"
           ],
           "ids": [
            9
           ],
           "legendgroup": "orange, box",
           "marker": {
            "color": "#ab63fa",
            "size": [
             0
            ],
            "sizemode": "area",
            "sizeref": 0.25,
            "symbol": "diamond"
           },
           "mode": "markers",
           "name": "orange, box",
           "orientation": "v",
           "showlegend": true,
           "type": "scatter",
           "x": [
            0.5
           ],
           "xaxis": "x",
           "y": [
            1.15
           ],
           "yaxis": "y"
          },
          {
           "hovertemplate": "<b>%{hovertext}</b><br><br>color=red<br>type=target<br>frame=17<br>x=%{x}<br>y=%{y}<br>size=%{marker.size}<extra></extra>",
           "hovertext": [
            "red | target | 17"
           ],
           "ids": [
            17
           ],
           "legendgroup": "red, target",
           "marker": {
            "color": "#FFA15A",
            "size": [
             0
            ],
            "sizemode": "area",
            "sizeref": 0.25,
            "symbol": "circle"
           },
           "mode": "markers",
           "name": "red, target",
           "orientation": "v",
           "showlegend": true,
           "type": "scatter",
           "x": [
            1.5
           ],
           "xaxis": "x",
           "y": [
            1.85
           ],
           "yaxis": "y"
          },
          {
           "hovertemplate": "<b>%{hovertext}</b><br><br>color=red<br>type=box<br>frame=17<br>x=%{x}<br>y=%{y}<br>size=%{marker.size}<extra></extra>",
           "hovertext": [
            "red | box | 5"
           ],
           "ids": [
            5
           ],
           "legendgroup": "red, box",
           "marker": {
            "color": "#FFA15A",
            "size": [
             0
            ],
            "sizemode": "area",
            "sizeref": 0.25,
            "symbol": "diamond"
           },
           "mode": "markers",
           "name": "red, box",
           "orientation": "v",
           "showlegend": true,
           "type": "scatter",
           "x": [
            1.5
           ],
           "xaxis": "x",
           "y": [
            1.15
           ],
           "yaxis": "y"
          }
         ],
         "name": "17"
        },
        {
         "data": [
          {
           "hovertemplate": "<b>%{hovertext}</b><br><br>color=blue<br>type=target<br>frame=18<br>x=%{x}<br>y=%{y}<br>size=%{marker.size}<extra></extra>",
           "hovertext": [
            "blue | target | 0",
            "blue | target | 1"
           ],
           "ids": [
            0,
            1
           ],
           "legendgroup": "blue, target",
           "marker": {
            "color": "#636efa",
            "size": [
             100,
             100
            ],
            "sizemode": "area",
            "sizeref": 0.25,
            "symbol": "circle"
           },
           "mode": "markers",
           "name": "blue, target",
           "orientation": "v",
           "showlegend": true,
           "type": "scatter",
           "x": [
            0.2,
            0.35
           ],
           "xaxis": "x",
           "y": [
            0.85,
            0.85
           ],
           "yaxis": "y"
          },
          {
           "hovertemplate": "<b>%{hovertext}</b><br><br>color=blue<br>type=box<br>frame=18<br>x=%{x}<br>y=%{y}<br>size=%{marker.size}<extra></extra>",
           "hovertext": [
            "blue | box | 4",
            "blue | box | 16"
           ],
           "ids": [
            4,
            16
           ],
           "legendgroup": "blue, box",
           "marker": {
            "color": "#636efa",
            "size": [
             100,
             100
            ],
            "sizemode": "area",
            "sizeref": 0.25,
            "symbol": "diamond"
           },
           "mode": "markers",
           "name": "blue, box",
           "orientation": "v",
           "showlegend": true,
           "type": "scatter",
           "x": [
            0.65,
            1.35
           ],
           "xaxis": "x",
           "y": [
            1.15,
            1.15
           ],
           "yaxis": "y"
          },
          {
           "hovertemplate": "<b>%{hovertext}</b><br><br>color=green<br>type=target<br>frame=18<br>x=%{x}<br>y=%{y}<br>size=%{marker.size}<extra></extra>",
           "hovertext": [
            "green | target | 2",
            "green | target | 3"
           ],
           "ids": [
            2,
            3
           ],
           "legendgroup": "green, target",
           "marker": {
            "color": "#EF553B",
            "size": [
             100,
             100
            ],
            "sizemode": "area",
            "sizeref": 0.25,
            "symbol": "circle"
           },
           "mode": "markers",
           "name": "green, target",
           "orientation": "v",
           "showlegend": true,
           "type": "scatter",
           "x": [
            0.5,
            0.65
           ],
           "xaxis": "x",
           "y": [
            0.85,
            0.85
           ],
           "yaxis": "y"
          },
          {
           "hovertemplate": "<b>%{hovertext}</b><br><br>color=green<br>type=box<br>frame=18<br>x=%{x}<br>y=%{y}<br>size=%{marker.size}<extra></extra>",
           "hovertext": [
            "green | box | 14",
            "green | box | 13"
           ],
           "ids": [
            14,
            13
           ],
           "legendgroup": "green, box",
           "marker": {
            "color": "#EF553B",
            "size": [
             100,
             100
            ],
            "sizemode": "area",
            "sizeref": 0.25,
            "symbol": "diamond"
           },
           "mode": "markers",
           "name": "green, box",
           "orientation": "v",
           "showlegend": true,
           "type": "scatter",
           "x": [
            0.5,
            1.5
           ],
           "xaxis": "x",
           "y": [
            0.15000000000000002,
            0.15000000000000002
           ],
           "yaxis": "y"
          },
          {
           "hovertemplate": "<b>%{hovertext}</b><br><br>color=purple<br>type=target<br>frame=18<br>x=%{x}<br>y=%{y}<br>size=%{marker.size}<extra></extra>",
           "hovertext": [
            "purple | target | 15"
           ],
           "ids": [
            15
           ],
           "legendgroup": "purple, target",
           "marker": {
            "color": "#00cc96",
            "size": [
             100
            ],
            "sizemode": "area",
            "sizeref": 0.25,
            "symbol": "circle"
           },
           "mode": "markers",
           "name": "purple, target",
           "orientation": "v",
           "showlegend": true,
           "type": "scatter",
           "x": [
            1.5
           ],
           "xaxis": "x",
           "y": [
            0.85
           ],
           "yaxis": "y"
          },
          {
           "hovertemplate": "<b>%{hovertext}</b><br><br>color=purple<br>type=box<br>frame=18<br>x=%{x}<br>y=%{y}<br>size=%{marker.size}<extra></extra>",
           "hovertext": [
            "purple | box | 6"
           ],
           "ids": [
            6
           ],
           "legendgroup": "purple, box",
           "marker": {
            "color": "#00cc96",
            "size": [
             100
            ],
            "sizemode": "area",
            "sizeref": 0.25,
            "symbol": "diamond"
           },
           "mode": "markers",
           "name": "purple, box",
           "orientation": "v",
           "showlegend": true,
           "type": "scatter",
           "x": [
            0.35
           ],
           "xaxis": "x",
           "y": [
            1.15
           ],
           "yaxis": "y"
          },
          {
           "hovertemplate": "<b>%{hovertext}</b><br><br>color=orange<br>type=target<br>frame=18<br>x=%{x}<br>y=%{y}<br>size=%{marker.size}<extra></extra>",
           "hovertext": [
            "orange | target | 10"
           ],
           "ids": [
            10
           ],
           "legendgroup": "orange, target",
           "marker": {
            "color": "#ab63fa",
            "size": [
             100
            ],
            "sizemode": "area",
            "sizeref": 0.25,
            "symbol": "circle"
           },
           "mode": "markers",
           "name": "orange, target",
           "orientation": "v",
           "showlegend": true,
           "type": "scatter",
           "x": [
            0.5
           ],
           "xaxis": "x",
           "y": [
            1.85
           ],
           "yaxis": "y"
          },
          {
           "hovertemplate": "<b>%{hovertext}</b><br><br>color=orange<br>type=box<br>frame=18<br>x=%{x}<br>y=%{y}<br>size=%{marker.size}<extra></extra>",
           "hovertext": [
            "orange | box | 9"
           ],
           "ids": [
            9
           ],
           "legendgroup": "orange, box",
           "marker": {
            "color": "#ab63fa",
            "size": [
             100
            ],
            "sizemode": "area",
            "sizeref": 0.25,
            "symbol": "diamond"
           },
           "mode": "markers",
           "name": "orange, box",
           "orientation": "v",
           "showlegend": true,
           "type": "scatter",
           "x": [
            0.5
           ],
           "xaxis": "x",
           "y": [
            1.15
           ],
           "yaxis": "y"
          },
          {
           "hovertemplate": "<b>%{hovertext}</b><br><br>color=red<br>type=target<br>frame=18<br>x=%{x}<br>y=%{y}<br>size=%{marker.size}<extra></extra>",
           "hovertext": [
            "red | target | 17"
           ],
           "ids": [
            17
           ],
           "legendgroup": "red, target",
           "marker": {
            "color": "#FFA15A",
            "size": [
             100
            ],
            "sizemode": "area",
            "sizeref": 0.25,
            "symbol": "circle"
           },
           "mode": "markers",
           "name": "red, target",
           "orientation": "v",
           "showlegend": true,
           "type": "scatter",
           "x": [
            1.5
           ],
           "xaxis": "x",
           "y": [
            1.85
           ],
           "yaxis": "y"
          },
          {
           "hovertemplate": "<b>%{hovertext}</b><br><br>color=red<br>type=box<br>frame=18<br>x=%{x}<br>y=%{y}<br>size=%{marker.size}<extra></extra>",
           "hovertext": [
            "red | box | 5"
           ],
           "ids": [
            5
           ],
           "legendgroup": "red, box",
           "marker": {
            "color": "#FFA15A",
            "size": [
             100
            ],
            "sizemode": "area",
            "sizeref": 0.25,
            "symbol": "diamond"
           },
           "mode": "markers",
           "name": "red, box",
           "orientation": "v",
           "showlegend": true,
           "type": "scatter",
           "x": [
            1.5
           ],
           "xaxis": "x",
           "y": [
            1.15
           ],
           "yaxis": "y"
          }
         ],
         "name": "18"
        },
        {
         "data": [
          {
           "hovertemplate": "<b>%{hovertext}</b><br><br>color=blue<br>type=target<br>frame=19<br>x=%{x}<br>y=%{y}<br>size=%{marker.size}<extra></extra>",
           "hovertext": [
            "blue | target | 0",
            "blue | target | 1"
           ],
           "ids": [
            0,
            1
           ],
           "legendgroup": "blue, target",
           "marker": {
            "color": "#636efa",
            "size": [
             80,
             80
            ],
            "sizemode": "area",
            "sizeref": 0.25,
            "symbol": "circle"
           },
           "mode": "markers",
           "name": "blue, target",
           "orientation": "v",
           "showlegend": true,
           "type": "scatter",
           "x": [
            0.23000000000000004,
            0.38
           ],
           "xaxis": "x",
           "y": [
            0.8500000000000001,
            0.8500000000000001
           ],
           "yaxis": "y"
          },
          {
           "hovertemplate": "<b>%{hovertext}</b><br><br>color=blue<br>type=box<br>frame=19<br>x=%{x}<br>y=%{y}<br>size=%{marker.size}<extra></extra>",
           "hovertext": [
            "blue | box | 4",
            "blue | box | 16"
           ],
           "ids": [
            4,
            16
           ],
           "legendgroup": "blue, box",
           "marker": {
            "color": "#636efa",
            "size": [
             80,
             80
            ],
            "sizemode": "area",
            "sizeref": 0.25,
            "symbol": "diamond"
           },
           "mode": "markers",
           "name": "blue, box",
           "orientation": "v",
           "showlegend": true,
           "type": "scatter",
           "x": [
            0.62,
            1.35
           ],
           "xaxis": "x",
           "y": [
            1.15,
            1.15
           ],
           "yaxis": "y"
          },
          {
           "hovertemplate": "<b>%{hovertext}</b><br><br>color=green<br>type=target<br>frame=19<br>x=%{x}<br>y=%{y}<br>size=%{marker.size}<extra></extra>",
           "hovertext": [
            "green | target | 2",
            "green | target | 3"
           ],
           "ids": [
            2,
            3
           ],
           "legendgroup": "green, target",
           "marker": {
            "color": "#EF553B",
            "size": [
             80,
             80
            ],
            "sizemode": "area",
            "sizeref": 0.25,
            "symbol": "circle"
           },
           "mode": "markers",
           "name": "green, target",
           "orientation": "v",
           "showlegend": true,
           "type": "scatter",
           "x": [
            0.53,
            0.62
           ],
           "xaxis": "x",
           "y": [
            0.8500000000000001,
            0.78
           ],
           "yaxis": "y"
          },
          {
           "hovertemplate": "<b>%{hovertext}</b><br><br>color=green<br>type=box<br>frame=19<br>x=%{x}<br>y=%{y}<br>size=%{marker.size}<extra></extra>",
           "hovertext": [
            "green | box | 14",
            "green | box | 13"
           ],
           "ids": [
            14,
            13
           ],
           "legendgroup": "green, box",
           "marker": {
            "color": "#EF553B",
            "size": [
             80,
             80
            ],
            "sizemode": "area",
            "sizeref": 0.25,
            "symbol": "diamond"
           },
           "mode": "markers",
           "name": "green, box",
           "orientation": "v",
           "showlegend": true,
           "type": "scatter",
           "x": [
            0.5,
            1.5000000000000002
           ],
           "xaxis": "x",
           "y": [
            0.22000000000000003,
            0.15000000000000002
           ],
           "yaxis": "y"
          },
          {
           "hovertemplate": "<b>%{hovertext}</b><br><br>color=purple<br>type=target<br>frame=19<br>x=%{x}<br>y=%{y}<br>size=%{marker.size}<extra></extra>",
           "hovertext": [
            "purple | target | 15"
           ],
           "ids": [
            15
           ],
           "legendgroup": "purple, target",
           "marker": {
            "color": "#00cc96",
            "size": [
             80
            ],
            "sizemode": "area",
            "sizeref": 0.25,
            "symbol": "circle"
           },
           "mode": "markers",
           "name": "purple, target",
           "orientation": "v",
           "showlegend": true,
           "type": "scatter",
           "x": [
            1.5000000000000002
           ],
           "xaxis": "x",
           "y": [
            0.8500000000000001
           ],
           "yaxis": "y"
          },
          {
           "hovertemplate": "<b>%{hovertext}</b><br><br>color=purple<br>type=box<br>frame=19<br>x=%{x}<br>y=%{y}<br>size=%{marker.size}<extra></extra>",
           "hovertext": [
            "purple | box | 6"
           ],
           "ids": [
            6
           ],
           "legendgroup": "purple, box",
           "marker": {
            "color": "#00cc96",
            "size": [
             80
            ],
            "sizemode": "area",
            "sizeref": 0.25,
            "symbol": "diamond"
           },
           "mode": "markers",
           "name": "purple, box",
           "orientation": "v",
           "showlegend": true,
           "type": "scatter",
           "x": [
            0.35
           ],
           "xaxis": "x",
           "y": [
            1.15
           ],
           "yaxis": "y"
          },
          {
           "hovertemplate": "<b>%{hovertext}</b><br><br>color=orange<br>type=target<br>frame=19<br>x=%{x}<br>y=%{y}<br>size=%{marker.size}<extra></extra>",
           "hovertext": [
            "orange | target | 10"
           ],
           "ids": [
            10
           ],
           "legendgroup": "orange, target",
           "marker": {
            "color": "#ab63fa",
            "size": [
             80
            ],
            "sizemode": "area",
            "sizeref": 0.25,
            "symbol": "circle"
           },
           "mode": "markers",
           "name": "orange, target",
           "orientation": "v",
           "showlegend": true,
           "type": "scatter",
           "x": [
            0.5
           ],
           "xaxis": "x",
           "y": [
            1.7800000000000002
           ],
           "yaxis": "y"
          },
          {
           "hovertemplate": "<b>%{hovertext}</b><br><br>color=orange<br>type=box<br>frame=19<br>x=%{x}<br>y=%{y}<br>size=%{marker.size}<extra></extra>",
           "hovertext": [
            "orange | box | 9"
           ],
           "ids": [
            9
           ],
           "legendgroup": "orange, box",
           "marker": {
            "color": "#ab63fa",
            "size": [
             80
            ],
            "sizemode": "area",
            "sizeref": 0.25,
            "symbol": "diamond"
           },
           "mode": "markers",
           "name": "orange, box",
           "orientation": "v",
           "showlegend": true,
           "type": "scatter",
           "x": [
            0.5
           ],
           "xaxis": "x",
           "y": [
            1.22
           ],
           "yaxis": "y"
          },
          {
           "hovertemplate": "<b>%{hovertext}</b><br><br>color=red<br>type=target<br>frame=19<br>x=%{x}<br>y=%{y}<br>size=%{marker.size}<extra></extra>",
           "hovertext": [
            "red | target | 17"
           ],
           "ids": [
            17
           ],
           "legendgroup": "red, target",
           "marker": {
            "color": "#FFA15A",
            "size": [
             80
            ],
            "sizemode": "area",
            "sizeref": 0.25,
            "symbol": "circle"
           },
           "mode": "markers",
           "name": "red, target",
           "orientation": "v",
           "showlegend": true,
           "type": "scatter",
           "x": [
            1.5000000000000002
           ],
           "xaxis": "x",
           "y": [
            1.8500000000000003
           ],
           "yaxis": "y"
          },
          {
           "hovertemplate": "<b>%{hovertext}</b><br><br>color=red<br>type=box<br>frame=19<br>x=%{x}<br>y=%{y}<br>size=%{marker.size}<extra></extra>",
           "hovertext": [
            "red | box | 5"
           ],
           "ids": [
            5
           ],
           "legendgroup": "red, box",
           "marker": {
            "color": "#FFA15A",
            "size": [
             80
            ],
            "sizemode": "area",
            "sizeref": 0.25,
            "symbol": "diamond"
           },
           "mode": "markers",
           "name": "red, box",
           "orientation": "v",
           "showlegend": true,
           "type": "scatter",
           "x": [
            1.5000000000000002
           ],
           "xaxis": "x",
           "y": [
            1.15
           ],
           "yaxis": "y"
          }
         ],
         "name": "19"
        },
        {
         "data": [
          {
           "hovertemplate": "<b>%{hovertext}</b><br><br>color=blue<br>type=target<br>frame=20<br>x=%{x}<br>y=%{y}<br>size=%{marker.size}<extra></extra>",
           "hovertext": [
            "blue | target | 0",
            "blue | target | 1"
           ],
           "ids": [
            0,
            1
           ],
           "legendgroup": "blue, target",
           "marker": {
            "color": "#636efa",
            "size": [
             60,
             60
            ],
            "sizemode": "area",
            "sizeref": 0.25,
            "symbol": "circle"
           },
           "mode": "markers",
           "name": "blue, target",
           "orientation": "v",
           "showlegend": true,
           "type": "scatter",
           "x": [
            0.26,
            0.41000000000000003
           ],
           "xaxis": "x",
           "y": [
            0.8500000000000001,
            0.8500000000000001
           ],
           "yaxis": "y"
          },
          {
           "hovertemplate": "<b>%{hovertext}</b><br><br>color=blue<br>type=box<br>frame=20<br>x=%{x}<br>y=%{y}<br>size=%{marker.size}<extra></extra>",
           "hovertext": [
            "blue | box | 4",
            "blue | box | 16"
           ],
           "ids": [
            4,
            16
           ],
           "legendgroup": "blue, box",
           "marker": {
            "color": "#636efa",
            "size": [
             60,
             60
            ],
            "sizemode": "area",
            "sizeref": 0.25,
            "symbol": "diamond"
           },
           "mode": "markers",
           "name": "blue, box",
           "orientation": "v",
           "showlegend": true,
           "type": "scatter",
           "x": [
            0.5900000000000001,
            1.35
           ],
           "xaxis": "x",
           "y": [
            1.15,
            1.15
           ],
           "yaxis": "y"
          },
          {
           "hovertemplate": "<b>%{hovertext}</b><br><br>color=green<br>type=target<br>frame=20<br>x=%{x}<br>y=%{y}<br>size=%{marker.size}<extra></extra>",
           "hovertext": [
            "green | target | 2",
            "green | target | 3"
           ],
           "ids": [
            2,
            3
           ],
           "legendgroup": "green, target",
           "marker": {
            "color": "#EF553B",
            "size": [
             60,
             60
            ],
            "sizemode": "area",
            "sizeref": 0.25,
            "symbol": "circle"
           },
           "mode": "markers",
           "name": "green, target",
           "orientation": "v",
           "showlegend": true,
           "type": "scatter",
           "x": [
            0.56,
            0.5900000000000001
           ],
           "xaxis": "x",
           "y": [
            0.8500000000000001,
            0.71
           ],
           "yaxis": "y"
          },
          {
           "hovertemplate": "<b>%{hovertext}</b><br><br>color=green<br>type=box<br>frame=20<br>x=%{x}<br>y=%{y}<br>size=%{marker.size}<extra></extra>",
           "hovertext": [
            "green | box | 14",
            "green | box | 13"
           ],
           "ids": [
            14,
            13
           ],
           "legendgroup": "green, box",
           "marker": {
            "color": "#EF553B",
            "size": [
             60,
             60
            ],
            "sizemode": "area",
            "sizeref": 0.25,
            "symbol": "diamond"
           },
           "mode": "markers",
           "name": "green, box",
           "orientation": "v",
           "showlegend": true,
           "type": "scatter",
           "x": [
            0.5,
            1.5
           ],
           "xaxis": "x",
           "y": [
            0.29000000000000004,
            0.15000000000000002
           ],
           "yaxis": "y"
          },
          {
           "hovertemplate": "<b>%{hovertext}</b><br><br>color=purple<br>type=target<br>frame=20<br>x=%{x}<br>y=%{y}<br>size=%{marker.size}<extra></extra>",
           "hovertext": [
            "purple | target | 15"
           ],
           "ids": [
            15
           ],
           "legendgroup": "purple, target",
           "marker": {
            "color": "#00cc96",
            "size": [
             60
            ],
            "sizemode": "area",
            "sizeref": 0.25,
            "symbol": "circle"
           },
           "mode": "markers",
           "name": "purple, target",
           "orientation": "v",
           "showlegend": true,
           "type": "scatter",
           "x": [
            1.5
           ],
           "xaxis": "x",
           "y": [
            0.8500000000000001
           ],
           "yaxis": "y"
          },
          {
           "hovertemplate": "<b>%{hovertext}</b><br><br>color=purple<br>type=box<br>frame=20<br>x=%{x}<br>y=%{y}<br>size=%{marker.size}<extra></extra>",
           "hovertext": [
            "purple | box | 6"
           ],
           "ids": [
            6
           ],
           "legendgroup": "purple, box",
           "marker": {
            "color": "#00cc96",
            "size": [
             60
            ],
            "sizemode": "area",
            "sizeref": 0.25,
            "symbol": "diamond"
           },
           "mode": "markers",
           "name": "purple, box",
           "orientation": "v",
           "showlegend": true,
           "type": "scatter",
           "x": [
            0.35
           ],
           "xaxis": "x",
           "y": [
            1.15
           ],
           "yaxis": "y"
          },
          {
           "hovertemplate": "<b>%{hovertext}</b><br><br>color=orange<br>type=target<br>frame=20<br>x=%{x}<br>y=%{y}<br>size=%{marker.size}<extra></extra>",
           "hovertext": [
            "orange | target | 10"
           ],
           "ids": [
            10
           ],
           "legendgroup": "orange, target",
           "marker": {
            "color": "#ab63fa",
            "size": [
             60
            ],
            "sizemode": "area",
            "sizeref": 0.25,
            "symbol": "circle"
           },
           "mode": "markers",
           "name": "orange, target",
           "orientation": "v",
           "showlegend": true,
           "type": "scatter",
           "x": [
            0.5
           ],
           "xaxis": "x",
           "y": [
            1.7100000000000002
           ],
           "yaxis": "y"
          },
          {
           "hovertemplate": "<b>%{hovertext}</b><br><br>color=orange<br>type=box<br>frame=20<br>x=%{x}<br>y=%{y}<br>size=%{marker.size}<extra></extra>",
           "hovertext": [
            "orange | box | 9"
           ],
           "ids": [
            9
           ],
           "legendgroup": "orange, box",
           "marker": {
            "color": "#ab63fa",
            "size": [
             60
            ],
            "sizemode": "area",
            "sizeref": 0.25,
            "symbol": "diamond"
           },
           "mode": "markers",
           "name": "orange, box",
           "orientation": "v",
           "showlegend": true,
           "type": "scatter",
           "x": [
            0.5
           ],
           "xaxis": "x",
           "y": [
            1.29
           ],
           "yaxis": "y"
          },
          {
           "hovertemplate": "<b>%{hovertext}</b><br><br>color=red<br>type=target<br>frame=20<br>x=%{x}<br>y=%{y}<br>size=%{marker.size}<extra></extra>",
           "hovertext": [
            "red | target | 17"
           ],
           "ids": [
            17
           ],
           "legendgroup": "red, target",
           "marker": {
            "color": "#FFA15A",
            "size": [
             60
            ],
            "sizemode": "area",
            "sizeref": 0.25,
            "symbol": "circle"
           },
           "mode": "markers",
           "name": "red, target",
           "orientation": "v",
           "showlegend": true,
           "type": "scatter",
           "x": [
            1.5
           ],
           "xaxis": "x",
           "y": [
            1.85
           ],
           "yaxis": "y"
          },
          {
           "hovertemplate": "<b>%{hovertext}</b><br><br>color=red<br>type=box<br>frame=20<br>x=%{x}<br>y=%{y}<br>size=%{marker.size}<extra></extra>",
           "hovertext": [
            "red | box | 5"
           ],
           "ids": [
            5
           ],
           "legendgroup": "red, box",
           "marker": {
            "color": "#FFA15A",
            "size": [
             60
            ],
            "sizemode": "area",
            "sizeref": 0.25,
            "symbol": "diamond"
           },
           "mode": "markers",
           "name": "red, box",
           "orientation": "v",
           "showlegend": true,
           "type": "scatter",
           "x": [
            1.5
           ],
           "xaxis": "x",
           "y": [
            1.15
           ],
           "yaxis": "y"
          }
         ],
         "name": "20"
        },
        {
         "data": [
          {
           "hovertemplate": "<b>%{hovertext}</b><br><br>color=blue<br>type=target<br>frame=21<br>x=%{x}<br>y=%{y}<br>size=%{marker.size}<extra></extra>",
           "hovertext": [
            "blue | target | 0",
            "blue | target | 1"
           ],
           "ids": [
            0,
            1
           ],
           "legendgroup": "blue, target",
           "marker": {
            "color": "#636efa",
            "size": [
             40,
             40
            ],
            "sizemode": "area",
            "sizeref": 0.25,
            "symbol": "circle"
           },
           "mode": "markers",
           "name": "blue, target",
           "orientation": "v",
           "showlegend": true,
           "type": "scatter",
           "x": [
            0.29000000000000004,
            0.43999999999999995
           ],
           "xaxis": "x",
           "y": [
            0.8500000000000001,
            0.8500000000000001
           ],
           "yaxis": "y"
          },
          {
           "hovertemplate": "<b>%{hovertext}</b><br><br>color=blue<br>type=box<br>frame=21<br>x=%{x}<br>y=%{y}<br>size=%{marker.size}<extra></extra>",
           "hovertext": [
            "blue | box | 4",
            "blue | box | 16"
           ],
           "ids": [
            4,
            16
           ],
           "legendgroup": "blue, box",
           "marker": {
            "color": "#636efa",
            "size": [
             40,
             40
            ],
            "sizemode": "area",
            "sizeref": 0.25,
            "symbol": "diamond"
           },
           "mode": "markers",
           "name": "blue, box",
           "orientation": "v",
           "showlegend": true,
           "type": "scatter",
           "x": [
            0.56,
            1.35
           ],
           "xaxis": "x",
           "y": [
            1.15,
            1.15
           ],
           "yaxis": "y"
          },
          {
           "hovertemplate": "<b>%{hovertext}</b><br><br>color=green<br>type=target<br>frame=21<br>x=%{x}<br>y=%{y}<br>size=%{marker.size}<extra></extra>",
           "hovertext": [
            "green | target | 2",
            "green | target | 3"
           ],
           "ids": [
            2,
            3
           ],
           "legendgroup": "green, target",
           "marker": {
            "color": "#EF553B",
            "size": [
             40,
             40
            ],
            "sizemode": "area",
            "sizeref": 0.25,
            "symbol": "circle"
           },
           "mode": "markers",
           "name": "green, target",
           "orientation": "v",
           "showlegend": true,
           "type": "scatter",
           "x": [
            0.5900000000000001,
            0.56
           ],
           "xaxis": "x",
           "y": [
            0.8500000000000001,
            0.64
           ],
           "yaxis": "y"
          },
          {
           "hovertemplate": "<b>%{hovertext}</b><br><br>color=green<br>type=box<br>frame=21<br>x=%{x}<br>y=%{y}<br>size=%{marker.size}<extra></extra>",
           "hovertext": [
            "green | box | 14",
            "green | box | 13"
           ],
           "ids": [
            14,
            13
           ],
           "legendgroup": "green, box",
           "marker": {
            "color": "#EF553B",
            "size": [
             40,
             40
            ],
            "sizemode": "area",
            "sizeref": 0.25,
            "symbol": "diamond"
           },
           "mode": "markers",
           "name": "green, box",
           "orientation": "v",
           "showlegend": true,
           "type": "scatter",
           "x": [
            0.5,
            1.5
           ],
           "xaxis": "x",
           "y": [
            0.36,
            0.15000000000000002
           ],
           "yaxis": "y"
          },
          {
           "hovertemplate": "<b>%{hovertext}</b><br><br>color=purple<br>type=target<br>frame=21<br>x=%{x}<br>y=%{y}<br>size=%{marker.size}<extra></extra>",
           "hovertext": [
            "purple | target | 15"
           ],
           "ids": [
            15
           ],
           "legendgroup": "purple, target",
           "marker": {
            "color": "#00cc96",
            "size": [
             40
            ],
            "sizemode": "area",
            "sizeref": 0.25,
            "symbol": "circle"
           },
           "mode": "markers",
           "name": "purple, target",
           "orientation": "v",
           "showlegend": true,
           "type": "scatter",
           "x": [
            1.5
           ],
           "xaxis": "x",
           "y": [
            0.8500000000000001
           ],
           "yaxis": "y"
          },
          {
           "hovertemplate": "<b>%{hovertext}</b><br><br>color=purple<br>type=box<br>frame=21<br>x=%{x}<br>y=%{y}<br>size=%{marker.size}<extra></extra>",
           "hovertext": [
            "purple | box | 6"
           ],
           "ids": [
            6
           ],
           "legendgroup": "purple, box",
           "marker": {
            "color": "#00cc96",
            "size": [
             40
            ],
            "sizemode": "area",
            "sizeref": 0.25,
            "symbol": "diamond"
           },
           "mode": "markers",
           "name": "purple, box",
           "orientation": "v",
           "showlegend": true,
           "type": "scatter",
           "x": [
            0.35
           ],
           "xaxis": "x",
           "y": [
            1.15
           ],
           "yaxis": "y"
          },
          {
           "hovertemplate": "<b>%{hovertext}</b><br><br>color=orange<br>type=target<br>frame=21<br>x=%{x}<br>y=%{y}<br>size=%{marker.size}<extra></extra>",
           "hovertext": [
            "orange | target | 10"
           ],
           "ids": [
            10
           ],
           "legendgroup": "orange, target",
           "marker": {
            "color": "#ab63fa",
            "size": [
             40
            ],
            "sizemode": "area",
            "sizeref": 0.25,
            "symbol": "circle"
           },
           "mode": "markers",
           "name": "orange, target",
           "orientation": "v",
           "showlegend": true,
           "type": "scatter",
           "x": [
            0.5
           ],
           "xaxis": "x",
           "y": [
            1.6400000000000001
           ],
           "yaxis": "y"
          },
          {
           "hovertemplate": "<b>%{hovertext}</b><br><br>color=orange<br>type=box<br>frame=21<br>x=%{x}<br>y=%{y}<br>size=%{marker.size}<extra></extra>",
           "hovertext": [
            "orange | box | 9"
           ],
           "ids": [
            9
           ],
           "legendgroup": "orange, box",
           "marker": {
            "color": "#ab63fa",
            "size": [
             40
            ],
            "sizemode": "area",
            "sizeref": 0.25,
            "symbol": "diamond"
           },
           "mode": "markers",
           "name": "orange, box",
           "orientation": "v",
           "showlegend": true,
           "type": "scatter",
           "x": [
            0.5
           ],
           "xaxis": "x",
           "y": [
            1.3599999999999999
           ],
           "yaxis": "y"
          },
          {
           "hovertemplate": "<b>%{hovertext}</b><br><br>color=red<br>type=target<br>frame=21<br>x=%{x}<br>y=%{y}<br>size=%{marker.size}<extra></extra>",
           "hovertext": [
            "red | target | 17"
           ],
           "ids": [
            17
           ],
           "legendgroup": "red, target",
           "marker": {
            "color": "#FFA15A",
            "size": [
             40
            ],
            "sizemode": "area",
            "sizeref": 0.25,
            "symbol": "circle"
           },
           "mode": "markers",
           "name": "red, target",
           "orientation": "v",
           "showlegend": true,
           "type": "scatter",
           "x": [
            1.5
           ],
           "xaxis": "x",
           "y": [
            1.85
           ],
           "yaxis": "y"
          },
          {
           "hovertemplate": "<b>%{hovertext}</b><br><br>color=red<br>type=box<br>frame=21<br>x=%{x}<br>y=%{y}<br>size=%{marker.size}<extra></extra>",
           "hovertext": [
            "red | box | 5"
           ],
           "ids": [
            5
           ],
           "legendgroup": "red, box",
           "marker": {
            "color": "#FFA15A",
            "size": [
             40
            ],
            "sizemode": "area",
            "sizeref": 0.25,
            "symbol": "diamond"
           },
           "mode": "markers",
           "name": "red, box",
           "orientation": "v",
           "showlegend": true,
           "type": "scatter",
           "x": [
            1.5
           ],
           "xaxis": "x",
           "y": [
            1.15
           ],
           "yaxis": "y"
          }
         ],
         "name": "21"
        },
        {
         "data": [
          {
           "hovertemplate": "<b>%{hovertext}</b><br><br>color=blue<br>type=target<br>frame=22<br>x=%{x}<br>y=%{y}<br>size=%{marker.size}<extra></extra>",
           "hovertext": [
            "blue | target | 0",
            "blue | target | 1"
           ],
           "ids": [
            0,
            1
           ],
           "legendgroup": "blue, target",
           "marker": {
            "color": "#636efa",
            "size": [
             19.999999999999996,
             19.999999999999996
            ],
            "sizemode": "area",
            "sizeref": 0.25,
            "symbol": "circle"
           },
           "mode": "markers",
           "name": "blue, target",
           "orientation": "v",
           "showlegend": true,
           "type": "scatter",
           "x": [
            0.31999999999999995,
            0.47
           ],
           "xaxis": "x",
           "y": [
            0.85,
            0.85
           ],
           "yaxis": "y"
          },
          {
           "hovertemplate": "<b>%{hovertext}</b><br><br>color=blue<br>type=box<br>frame=22<br>x=%{x}<br>y=%{y}<br>size=%{marker.size}<extra></extra>",
           "hovertext": [
            "blue | box | 4",
            "blue | box | 16"
           ],
           "ids": [
            4,
            16
           ],
           "legendgroup": "blue, box",
           "marker": {
            "color": "#636efa",
            "size": [
             19.999999999999996,
             19.999999999999996
            ],
            "sizemode": "area",
            "sizeref": 0.25,
            "symbol": "diamond"
           },
           "mode": "markers",
           "name": "blue, box",
           "orientation": "v",
           "showlegend": true,
           "type": "scatter",
           "x": [
            0.53,
            1.35
           ],
           "xaxis": "x",
           "y": [
            1.15,
            1.15
           ],
           "yaxis": "y"
          },
          {
           "hovertemplate": "<b>%{hovertext}</b><br><br>color=green<br>type=target<br>frame=22<br>x=%{x}<br>y=%{y}<br>size=%{marker.size}<extra></extra>",
           "hovertext": [
            "green | target | 2",
            "green | target | 3"
           ],
           "ids": [
            2,
            3
           ],
           "legendgroup": "green, target",
           "marker": {
            "color": "#EF553B",
            "size": [
             19.999999999999996,
             19.999999999999996
            ],
            "sizemode": "area",
            "sizeref": 0.25,
            "symbol": "circle"
           },
           "mode": "markers",
           "name": "green, target",
           "orientation": "v",
           "showlegend": true,
           "type": "scatter",
           "x": [
            0.62,
            0.53
           ],
           "xaxis": "x",
           "y": [
            0.85,
            0.57
           ],
           "yaxis": "y"
          },
          {
           "hovertemplate": "<b>%{hovertext}</b><br><br>color=green<br>type=box<br>frame=22<br>x=%{x}<br>y=%{y}<br>size=%{marker.size}<extra></extra>",
           "hovertext": [
            "green | box | 14",
            "green | box | 13"
           ],
           "ids": [
            14,
            13
           ],
           "legendgroup": "green, box",
           "marker": {
            "color": "#EF553B",
            "size": [
             19.999999999999996,
             19.999999999999996
            ],
            "sizemode": "area",
            "sizeref": 0.25,
            "symbol": "diamond"
           },
           "mode": "markers",
           "name": "green, box",
           "orientation": "v",
           "showlegend": true,
           "type": "scatter",
           "x": [
            0.5,
            1.5
           ],
           "xaxis": "x",
           "y": [
            0.43000000000000005,
            0.15000000000000002
           ],
           "yaxis": "y"
          },
          {
           "hovertemplate": "<b>%{hovertext}</b><br><br>color=purple<br>type=target<br>frame=22<br>x=%{x}<br>y=%{y}<br>size=%{marker.size}<extra></extra>",
           "hovertext": [
            "purple | target | 15"
           ],
           "ids": [
            15
           ],
           "legendgroup": "purple, target",
           "marker": {
            "color": "#00cc96",
            "size": [
             19.999999999999996
            ],
            "sizemode": "area",
            "sizeref": 0.25,
            "symbol": "circle"
           },
           "mode": "markers",
           "name": "purple, target",
           "orientation": "v",
           "showlegend": true,
           "type": "scatter",
           "x": [
            1.5
           ],
           "xaxis": "x",
           "y": [
            0.85
           ],
           "yaxis": "y"
          },
          {
           "hovertemplate": "<b>%{hovertext}</b><br><br>color=purple<br>type=box<br>frame=22<br>x=%{x}<br>y=%{y}<br>size=%{marker.size}<extra></extra>",
           "hovertext": [
            "purple | box | 6"
           ],
           "ids": [
            6
           ],
           "legendgroup": "purple, box",
           "marker": {
            "color": "#00cc96",
            "size": [
             19.999999999999996
            ],
            "sizemode": "area",
            "sizeref": 0.25,
            "symbol": "diamond"
           },
           "mode": "markers",
           "name": "purple, box",
           "orientation": "v",
           "showlegend": true,
           "type": "scatter",
           "x": [
            0.35
           ],
           "xaxis": "x",
           "y": [
            1.15
           ],
           "yaxis": "y"
          },
          {
           "hovertemplate": "<b>%{hovertext}</b><br><br>color=orange<br>type=target<br>frame=22<br>x=%{x}<br>y=%{y}<br>size=%{marker.size}<extra></extra>",
           "hovertext": [
            "orange | target | 10"
           ],
           "ids": [
            10
           ],
           "legendgroup": "orange, target",
           "marker": {
            "color": "#ab63fa",
            "size": [
             19.999999999999996
            ],
            "sizemode": "area",
            "sizeref": 0.25,
            "symbol": "circle"
           },
           "mode": "markers",
           "name": "orange, target",
           "orientation": "v",
           "showlegend": true,
           "type": "scatter",
           "x": [
            0.5
           ],
           "xaxis": "x",
           "y": [
            1.57
           ],
           "yaxis": "y"
          },
          {
           "hovertemplate": "<b>%{hovertext}</b><br><br>color=orange<br>type=box<br>frame=22<br>x=%{x}<br>y=%{y}<br>size=%{marker.size}<extra></extra>",
           "hovertext": [
            "orange | box | 9"
           ],
           "ids": [
            9
           ],
           "legendgroup": "orange, box",
           "marker": {
            "color": "#ab63fa",
            "size": [
             19.999999999999996
            ],
            "sizemode": "area",
            "sizeref": 0.25,
            "symbol": "diamond"
           },
           "mode": "markers",
           "name": "orange, box",
           "orientation": "v",
           "showlegend": true,
           "type": "scatter",
           "x": [
            0.5
           ],
           "xaxis": "x",
           "y": [
            1.4300000000000002
           ],
           "yaxis": "y"
          },
          {
           "hovertemplate": "<b>%{hovertext}</b><br><br>color=red<br>type=target<br>frame=22<br>x=%{x}<br>y=%{y}<br>size=%{marker.size}<extra></extra>",
           "hovertext": [
            "red | target | 17"
           ],
           "ids": [
            17
           ],
           "legendgroup": "red, target",
           "marker": {
            "color": "#FFA15A",
            "size": [
             19.999999999999996
            ],
            "sizemode": "area",
            "sizeref": 0.25,
            "symbol": "circle"
           },
           "mode": "markers",
           "name": "red, target",
           "orientation": "v",
           "showlegend": true,
           "type": "scatter",
           "x": [
            1.5
           ],
           "xaxis": "x",
           "y": [
            1.85
           ],
           "yaxis": "y"
          },
          {
           "hovertemplate": "<b>%{hovertext}</b><br><br>color=red<br>type=box<br>frame=22<br>x=%{x}<br>y=%{y}<br>size=%{marker.size}<extra></extra>",
           "hovertext": [
            "red | box | 5"
           ],
           "ids": [
            5
           ],
           "legendgroup": "red, box",
           "marker": {
            "color": "#FFA15A",
            "size": [
             19.999999999999996
            ],
            "sizemode": "area",
            "sizeref": 0.25,
            "symbol": "diamond"
           },
           "mode": "markers",
           "name": "red, box",
           "orientation": "v",
           "showlegend": true,
           "type": "scatter",
           "x": [
            1.5
           ],
           "xaxis": "x",
           "y": [
            1.15
           ],
           "yaxis": "y"
          }
         ],
         "name": "22"
        },
        {
         "data": [
          {
           "hovertemplate": "<b>%{hovertext}</b><br><br>color=blue<br>type=target<br>frame=23<br>x=%{x}<br>y=%{y}<br>size=%{marker.size}<extra></extra>",
           "hovertext": [
            "blue | target | 0",
            "blue | target | 1"
           ],
           "ids": [
            0,
            1
           ],
           "legendgroup": "blue, target",
           "marker": {
            "color": "#636efa",
            "size": [
             0,
             0
            ],
            "sizemode": "area",
            "sizeref": 0.25,
            "symbol": "circle"
           },
           "mode": "markers",
           "name": "blue, target",
           "orientation": "v",
           "showlegend": true,
           "type": "scatter",
           "x": [
            0.35,
            0.5
           ],
           "xaxis": "x",
           "y": [
            0.85,
            0.85
           ],
           "yaxis": "y"
          },
          {
           "hovertemplate": "<b>%{hovertext}</b><br><br>color=blue<br>type=box<br>frame=23<br>x=%{x}<br>y=%{y}<br>size=%{marker.size}<extra></extra>",
           "hovertext": [
            "blue | box | 4",
            "blue | box | 16"
           ],
           "ids": [
            4,
            16
           ],
           "legendgroup": "blue, box",
           "marker": {
            "color": "#636efa",
            "size": [
             0,
             0
            ],
            "sizemode": "area",
            "sizeref": 0.25,
            "symbol": "diamond"
           },
           "mode": "markers",
           "name": "blue, box",
           "orientation": "v",
           "showlegend": true,
           "type": "scatter",
           "x": [
            0.5,
            1.35
           ],
           "xaxis": "x",
           "y": [
            1.15,
            1.15
           ],
           "yaxis": "y"
          },
          {
           "hovertemplate": "<b>%{hovertext}</b><br><br>color=green<br>type=target<br>frame=23<br>x=%{x}<br>y=%{y}<br>size=%{marker.size}<extra></extra>",
           "hovertext": [
            "green | target | 2",
            "green | target | 3"
           ],
           "ids": [
            2,
            3
           ],
           "legendgroup": "green, target",
           "marker": {
            "color": "#EF553B",
            "size": [
             0,
             0
            ],
            "sizemode": "area",
            "sizeref": 0.25,
            "symbol": "circle"
           },
           "mode": "markers",
           "name": "green, target",
           "orientation": "v",
           "showlegend": true,
           "type": "scatter",
           "x": [
            0.65,
            0.5
           ],
           "xaxis": "x",
           "y": [
            0.85,
            0.5
           ],
           "yaxis": "y"
          },
          {
           "hovertemplate": "<b>%{hovertext}</b><br><br>color=green<br>type=box<br>frame=23<br>x=%{x}<br>y=%{y}<br>size=%{marker.size}<extra></extra>",
           "hovertext": [
            "green | box | 14",
            "green | box | 13"
           ],
           "ids": [
            14,
            13
           ],
           "legendgroup": "green, box",
           "marker": {
            "color": "#EF553B",
            "size": [
             0,
             0
            ],
            "sizemode": "area",
            "sizeref": 0.25,
            "symbol": "diamond"
           },
           "mode": "markers",
           "name": "green, box",
           "orientation": "v",
           "showlegend": true,
           "type": "scatter",
           "x": [
            0.5,
            1.5
           ],
           "xaxis": "x",
           "y": [
            0.5,
            0.15000000000000002
           ],
           "yaxis": "y"
          },
          {
           "hovertemplate": "<b>%{hovertext}</b><br><br>color=purple<br>type=target<br>frame=23<br>x=%{x}<br>y=%{y}<br>size=%{marker.size}<extra></extra>",
           "hovertext": [
            "purple | target | 15"
           ],
           "ids": [
            15
           ],
           "legendgroup": "purple, target",
           "marker": {
            "color": "#00cc96",
            "size": [
             0
            ],
            "sizemode": "area",
            "sizeref": 0.25,
            "symbol": "circle"
           },
           "mode": "markers",
           "name": "purple, target",
           "orientation": "v",
           "showlegend": true,
           "type": "scatter",
           "x": [
            1.5
           ],
           "xaxis": "x",
           "y": [
            0.85
           ],
           "yaxis": "y"
          },
          {
           "hovertemplate": "<b>%{hovertext}</b><br><br>color=purple<br>type=box<br>frame=23<br>x=%{x}<br>y=%{y}<br>size=%{marker.size}<extra></extra>",
           "hovertext": [
            "purple | box | 6"
           ],
           "ids": [
            6
           ],
           "legendgroup": "purple, box",
           "marker": {
            "color": "#00cc96",
            "size": [
             0
            ],
            "sizemode": "area",
            "sizeref": 0.25,
            "symbol": "diamond"
           },
           "mode": "markers",
           "name": "purple, box",
           "orientation": "v",
           "showlegend": true,
           "type": "scatter",
           "x": [
            0.35
           ],
           "xaxis": "x",
           "y": [
            1.15
           ],
           "yaxis": "y"
          },
          {
           "hovertemplate": "<b>%{hovertext}</b><br><br>color=orange<br>type=target<br>frame=23<br>x=%{x}<br>y=%{y}<br>size=%{marker.size}<extra></extra>",
           "hovertext": [
            "orange | target | 10"
           ],
           "ids": [
            10
           ],
           "legendgroup": "orange, target",
           "marker": {
            "color": "#ab63fa",
            "size": [
             0
            ],
            "sizemode": "area",
            "sizeref": 0.25,
            "symbol": "circle"
           },
           "mode": "markers",
           "name": "orange, target",
           "orientation": "v",
           "showlegend": true,
           "type": "scatter",
           "x": [
            0.5
           ],
           "xaxis": "x",
           "y": [
            1.5
           ],
           "yaxis": "y"
          },
          {
           "hovertemplate": "<b>%{hovertext}</b><br><br>color=orange<br>type=box<br>frame=23<br>x=%{x}<br>y=%{y}<br>size=%{marker.size}<extra></extra>",
           "hovertext": [
            "orange | box | 9"
           ],
           "ids": [
            9
           ],
           "legendgroup": "orange, box",
           "marker": {
            "color": "#ab63fa",
            "size": [
             0
            ],
            "sizemode": "area",
            "sizeref": 0.25,
            "symbol": "diamond"
           },
           "mode": "markers",
           "name": "orange, box",
           "orientation": "v",
           "showlegend": true,
           "type": "scatter",
           "x": [
            0.5
           ],
           "xaxis": "x",
           "y": [
            1.5
           ],
           "yaxis": "y"
          },
          {
           "hovertemplate": "<b>%{hovertext}</b><br><br>color=red<br>type=target<br>frame=23<br>x=%{x}<br>y=%{y}<br>size=%{marker.size}<extra></extra>",
           "hovertext": [
            "red | target | 17"
           ],
           "ids": [
            17
           ],
           "legendgroup": "red, target",
           "marker": {
            "color": "#FFA15A",
            "size": [
             0
            ],
            "sizemode": "area",
            "sizeref": 0.25,
            "symbol": "circle"
           },
           "mode": "markers",
           "name": "red, target",
           "orientation": "v",
           "showlegend": true,
           "type": "scatter",
           "x": [
            1.5
           ],
           "xaxis": "x",
           "y": [
            1.85
           ],
           "yaxis": "y"
          },
          {
           "hovertemplate": "<b>%{hovertext}</b><br><br>color=red<br>type=box<br>frame=23<br>x=%{x}<br>y=%{y}<br>size=%{marker.size}<extra></extra>",
           "hovertext": [
            "red | box | 5"
           ],
           "ids": [
            5
           ],
           "legendgroup": "red, box",
           "marker": {
            "color": "#FFA15A",
            "size": [
             0
            ],
            "sizemode": "area",
            "sizeref": 0.25,
            "symbol": "diamond"
           },
           "mode": "markers",
           "name": "red, box",
           "orientation": "v",
           "showlegend": true,
           "type": "scatter",
           "x": [
            1.5
           ],
           "xaxis": "x",
           "y": [
            1.15
           ],
           "yaxis": "y"
          }
         ],
         "name": "23"
        },
        {
         "data": [
          {
           "hovertemplate": "<b>%{hovertext}</b><br><br>color=blue<br>type=target<br>frame=24<br>x=%{x}<br>y=%{y}<br>size=%{marker.size}<extra></extra>",
           "hovertext": [
            "blue | target | 0",
            "blue | target | 1"
           ],
           "ids": [
            0,
            1
           ],
           "legendgroup": "blue, target",
           "marker": {
            "color": "#636efa",
            "size": [
             100,
             100
            ],
            "sizemode": "area",
            "sizeref": 0.25,
            "symbol": "circle"
           },
           "mode": "markers",
           "name": "blue, target",
           "orientation": "v",
           "showlegend": true,
           "type": "scatter",
           "x": [
            0.35,
            0.5
           ],
           "xaxis": "x",
           "y": [
            0.85,
            0.85
           ],
           "yaxis": "y"
          },
          {
           "hovertemplate": "<b>%{hovertext}</b><br><br>color=blue<br>type=box<br>frame=24<br>x=%{x}<br>y=%{y}<br>size=%{marker.size}<extra></extra>",
           "hovertext": [
            "blue | box | 4",
            "blue | box | 16"
           ],
           "ids": [
            4,
            16
           ],
           "legendgroup": "blue, box",
           "marker": {
            "color": "#636efa",
            "size": [
             100,
             100
            ],
            "sizemode": "area",
            "sizeref": 0.25,
            "symbol": "diamond"
           },
           "mode": "markers",
           "name": "blue, box",
           "orientation": "v",
           "showlegend": true,
           "type": "scatter",
           "x": [
            0.5,
            1.35
           ],
           "xaxis": "x",
           "y": [
            1.15,
            1.15
           ],
           "yaxis": "y"
          },
          {
           "hovertemplate": "<b>%{hovertext}</b><br><br>color=green<br>type=target<br>frame=24<br>x=%{x}<br>y=%{y}<br>size=%{marker.size}<extra></extra>",
           "hovertext": [
            "green | target | 2"
           ],
           "ids": [
            2
           ],
           "legendgroup": "green, target",
           "marker": {
            "color": "#EF553B",
            "size": [
             100
            ],
            "sizemode": "area",
            "sizeref": 0.25,
            "symbol": "circle"
           },
           "mode": "markers",
           "name": "green, target",
           "orientation": "v",
           "showlegend": true,
           "type": "scatter",
           "x": [
            0.65
           ],
           "xaxis": "x",
           "y": [
            0.85
           ],
           "yaxis": "y"
          },
          {
           "hovertemplate": "<b>%{hovertext}</b><br><br>color=green<br>type=box<br>frame=24<br>x=%{x}<br>y=%{y}<br>size=%{marker.size}<extra></extra>",
           "hovertext": [
            "green | box | 13"
           ],
           "ids": [
            13
           ],
           "legendgroup": "green, box",
           "marker": {
            "color": "#EF553B",
            "size": [
             100
            ],
            "sizemode": "area",
            "sizeref": 0.25,
            "symbol": "diamond"
           },
           "mode": "markers",
           "name": "green, box",
           "orientation": "v",
           "showlegend": true,
           "type": "scatter",
           "x": [
            1.5
           ],
           "xaxis": "x",
           "y": [
            0.15000000000000002
           ],
           "yaxis": "y"
          },
          {
           "hovertemplate": "<b>%{hovertext}</b><br><br>color=purple<br>type=target<br>frame=24<br>x=%{x}<br>y=%{y}<br>size=%{marker.size}<extra></extra>",
           "hovertext": [
            "purple | target | 15"
           ],
           "ids": [
            15
           ],
           "legendgroup": "purple, target",
           "marker": {
            "color": "#00cc96",
            "size": [
             100
            ],
            "sizemode": "area",
            "sizeref": 0.25,
            "symbol": "circle"
           },
           "mode": "markers",
           "name": "purple, target",
           "orientation": "v",
           "showlegend": true,
           "type": "scatter",
           "x": [
            1.5
           ],
           "xaxis": "x",
           "y": [
            0.85
           ],
           "yaxis": "y"
          },
          {
           "hovertemplate": "<b>%{hovertext}</b><br><br>color=purple<br>type=box<br>frame=24<br>x=%{x}<br>y=%{y}<br>size=%{marker.size}<extra></extra>",
           "hovertext": [
            "purple | box | 6"
           ],
           "ids": [
            6
           ],
           "legendgroup": "purple, box",
           "marker": {
            "color": "#00cc96",
            "size": [
             100
            ],
            "sizemode": "area",
            "sizeref": 0.25,
            "symbol": "diamond"
           },
           "mode": "markers",
           "name": "purple, box",
           "orientation": "v",
           "showlegend": true,
           "type": "scatter",
           "x": [
            0.35
           ],
           "xaxis": "x",
           "y": [
            1.15
           ],
           "yaxis": "y"
          },
          {
           "hovertemplate": "<b>%{hovertext}</b><br><br>color=red<br>type=target<br>frame=24<br>x=%{x}<br>y=%{y}<br>size=%{marker.size}<extra></extra>",
           "hovertext": [
            "red | target | 17"
           ],
           "ids": [
            17
           ],
           "legendgroup": "red, target",
           "marker": {
            "color": "#FFA15A",
            "size": [
             100
            ],
            "sizemode": "area",
            "sizeref": 0.25,
            "symbol": "circle"
           },
           "mode": "markers",
           "name": "red, target",
           "orientation": "v",
           "showlegend": true,
           "type": "scatter",
           "x": [
            1.5
           ],
           "xaxis": "x",
           "y": [
            1.85
           ],
           "yaxis": "y"
          },
          {
           "hovertemplate": "<b>%{hovertext}</b><br><br>color=red<br>type=box<br>frame=24<br>x=%{x}<br>y=%{y}<br>size=%{marker.size}<extra></extra>",
           "hovertext": [
            "red | box | 5"
           ],
           "ids": [
            5
           ],
           "legendgroup": "red, box",
           "marker": {
            "color": "#FFA15A",
            "size": [
             100
            ],
            "sizemode": "area",
            "sizeref": 0.25,
            "symbol": "diamond"
           },
           "mode": "markers",
           "name": "red, box",
           "orientation": "v",
           "showlegend": true,
           "type": "scatter",
           "x": [
            1.5
           ],
           "xaxis": "x",
           "y": [
            1.15
           ],
           "yaxis": "y"
          }
         ],
         "name": "24"
        },
        {
         "data": [
          {
           "hovertemplate": "<b>%{hovertext}</b><br><br>color=blue<br>type=target<br>frame=25<br>x=%{x}<br>y=%{y}<br>size=%{marker.size}<extra></extra>",
           "hovertext": [
            "blue | target | 0",
            "blue | target | 1"
           ],
           "ids": [
            0,
            1
           ],
           "legendgroup": "blue, target",
           "marker": {
            "color": "#636efa",
            "size": [
             80,
             80
            ],
            "sizemode": "area",
            "sizeref": 0.25,
            "symbol": "circle"
           },
           "mode": "markers",
           "name": "blue, target",
           "orientation": "v",
           "showlegend": true,
           "type": "scatter",
           "x": [
            0.35,
            0.5
           ],
           "xaxis": "x",
           "y": [
            0.8500000000000001,
            0.8500000000000001
           ],
           "yaxis": "y"
          },
          {
           "hovertemplate": "<b>%{hovertext}</b><br><br>color=blue<br>type=box<br>frame=25<br>x=%{x}<br>y=%{y}<br>size=%{marker.size}<extra></extra>",
           "hovertext": [
            "blue | box | 4",
            "blue | box | 16"
           ],
           "ids": [
            4,
            16
           ],
           "legendgroup": "blue, box",
           "marker": {
            "color": "#636efa",
            "size": [
             80,
             80
            ],
            "sizemode": "area",
            "sizeref": 0.25,
            "symbol": "diamond"
           },
           "mode": "markers",
           "name": "blue, box",
           "orientation": "v",
           "showlegend": true,
           "type": "scatter",
           "x": [
            0.5,
            1.35
           ],
           "xaxis": "x",
           "y": [
            0.95,
            1.15
           ],
           "yaxis": "y"
          },
          {
           "hovertemplate": "<b>%{hovertext}</b><br><br>color=green<br>type=target<br>frame=25<br>x=%{x}<br>y=%{y}<br>size=%{marker.size}<extra></extra>",
           "hovertext": [
            "green | target | 2"
           ],
           "ids": [
            2
           ],
           "legendgroup": "green, target",
           "marker": {
            "color": "#EF553B",
            "size": [
             80
            ],
            "sizemode": "area",
            "sizeref": 0.25,
            "symbol": "circle"
           },
           "mode": "markers",
           "name": "green, target",
           "orientation": "v",
           "showlegend": true,
           "type": "scatter",
           "x": [
            0.65
           ],
           "xaxis": "x",
           "y": [
            0.8500000000000001
           ],
           "yaxis": "y"
          },
          {
           "hovertemplate": "<b>%{hovertext}</b><br><br>color=green<br>type=box<br>frame=25<br>x=%{x}<br>y=%{y}<br>size=%{marker.size}<extra></extra>",
           "hovertext": [
            "green | box | 13"
           ],
           "ids": [
            13
           ],
           "legendgroup": "green, box",
           "marker": {
            "color": "#EF553B",
            "size": [
             80
            ],
            "sizemode": "area",
            "sizeref": 0.25,
            "symbol": "diamond"
           },
           "mode": "markers",
           "name": "green, box",
           "orientation": "v",
           "showlegend": true,
           "type": "scatter",
           "x": [
            1.5000000000000002
           ],
           "xaxis": "x",
           "y": [
            0.15000000000000002
           ],
           "yaxis": "y"
          },
          {
           "hovertemplate": "<b>%{hovertext}</b><br><br>color=purple<br>type=target<br>frame=25<br>x=%{x}<br>y=%{y}<br>size=%{marker.size}<extra></extra>",
           "hovertext": [
            "purple | target | 15"
           ],
           "ids": [
            15
           ],
           "legendgroup": "purple, target",
           "marker": {
            "color": "#00cc96",
            "size": [
             80
            ],
            "sizemode": "area",
            "sizeref": 0.25,
            "symbol": "circle"
           },
           "mode": "markers",
           "name": "purple, target",
           "orientation": "v",
           "showlegend": true,
           "type": "scatter",
           "x": [
            1.5000000000000002
           ],
           "xaxis": "x",
           "y": [
            0.8500000000000001
           ],
           "yaxis": "y"
          },
          {
           "hovertemplate": "<b>%{hovertext}</b><br><br>color=purple<br>type=box<br>frame=25<br>x=%{x}<br>y=%{y}<br>size=%{marker.size}<extra></extra>",
           "hovertext": [
            "purple | box | 6"
           ],
           "ids": [
            6
           ],
           "legendgroup": "purple, box",
           "marker": {
            "color": "#00cc96",
            "size": [
             80
            ],
            "sizemode": "area",
            "sizeref": 0.25,
            "symbol": "diamond"
           },
           "mode": "markers",
           "name": "purple, box",
           "orientation": "v",
           "showlegend": true,
           "type": "scatter",
           "x": [
            0.38
           ],
           "xaxis": "x",
           "y": [
            1.15
           ],
           "yaxis": "y"
          },
          {
           "hovertemplate": "<b>%{hovertext}</b><br><br>color=red<br>type=target<br>frame=25<br>x=%{x}<br>y=%{y}<br>size=%{marker.size}<extra></extra>",
           "hovertext": [
            "red | target | 17"
           ],
           "ids": [
            17
           ],
           "legendgroup": "red, target",
           "marker": {
            "color": "#FFA15A",
            "size": [
             80
            ],
            "sizemode": "area",
            "sizeref": 0.25,
            "symbol": "circle"
           },
           "mode": "markers",
           "name": "red, target",
           "orientation": "v",
           "showlegend": true,
           "type": "scatter",
           "x": [
            1.5000000000000002
           ],
           "xaxis": "x",
           "y": [
            1.8500000000000003
           ],
           "yaxis": "y"
          },
          {
           "hovertemplate": "<b>%{hovertext}</b><br><br>color=red<br>type=box<br>frame=25<br>x=%{x}<br>y=%{y}<br>size=%{marker.size}<extra></extra>",
           "hovertext": [
            "red | box | 5"
           ],
           "ids": [
            5
           ],
           "legendgroup": "red, box",
           "marker": {
            "color": "#FFA15A",
            "size": [
             80
            ],
            "sizemode": "area",
            "sizeref": 0.25,
            "symbol": "diamond"
           },
           "mode": "markers",
           "name": "red, box",
           "orientation": "v",
           "showlegend": true,
           "type": "scatter",
           "x": [
            1.5000000000000002
           ],
           "xaxis": "x",
           "y": [
            1.15
           ],
           "yaxis": "y"
          }
         ],
         "name": "25"
        },
        {
         "data": [
          {
           "hovertemplate": "<b>%{hovertext}</b><br><br>color=blue<br>type=target<br>frame=26<br>x=%{x}<br>y=%{y}<br>size=%{marker.size}<extra></extra>",
           "hovertext": [
            "blue | target | 0",
            "blue | target | 1"
           ],
           "ids": [
            0,
            1
           ],
           "legendgroup": "blue, target",
           "marker": {
            "color": "#636efa",
            "size": [
             60,
             60
            ],
            "sizemode": "area",
            "sizeref": 0.25,
            "symbol": "circle"
           },
           "mode": "markers",
           "name": "blue, target",
           "orientation": "v",
           "showlegend": true,
           "type": "scatter",
           "x": [
            0.35,
            0.5
           ],
           "xaxis": "x",
           "y": [
            0.8500000000000001,
            0.8500000000000001
           ],
           "yaxis": "y"
          },
          {
           "hovertemplate": "<b>%{hovertext}</b><br><br>color=blue<br>type=box<br>frame=26<br>x=%{x}<br>y=%{y}<br>size=%{marker.size}<extra></extra>",
           "hovertext": [
            "blue | box | 4",
            "blue | box | 16"
           ],
           "ids": [
            4,
            16
           ],
           "legendgroup": "blue, box",
           "marker": {
            "color": "#636efa",
            "size": [
             60,
             60
            ],
            "sizemode": "area",
            "sizeref": 0.25,
            "symbol": "diamond"
           },
           "mode": "markers",
           "name": "blue, box",
           "orientation": "v",
           "showlegend": true,
           "type": "scatter",
           "x": [
            0.5,
            1.35
           ],
           "xaxis": "x",
           "y": [
            0.75,
            1.15
           ],
           "yaxis": "y"
          },
          {
           "hovertemplate": "<b>%{hovertext}</b><br><br>color=green<br>type=target<br>frame=26<br>x=%{x}<br>y=%{y}<br>size=%{marker.size}<extra></extra>",
           "hovertext": [
            "green | target | 2"
           ],
           "ids": [
            2
           ],
           "legendgroup": "green, target",
           "marker": {
            "color": "#EF553B",
            "size": [
             60
            ],
            "sizemode": "area",
            "sizeref": 0.25,
            "symbol": "circle"
           },
           "mode": "markers",
           "name": "green, target",
           "orientation": "v",
           "showlegend": true,
           "type": "scatter",
           "x": [
            0.65
           ],
           "xaxis": "x",
           "y": [
            0.8500000000000001
           ],
           "yaxis": "y"
          },
          {
           "hovertemplate": "<b>%{hovertext}</b><br><br>color=green<br>type=box<br>frame=26<br>x=%{x}<br>y=%{y}<br>size=%{marker.size}<extra></extra>",
           "hovertext": [
            "green | box | 13"
           ],
           "ids": [
            13
           ],
           "legendgroup": "green, box",
           "marker": {
            "color": "#EF553B",
            "size": [
             60
            ],
            "sizemode": "area",
            "sizeref": 0.25,
            "symbol": "diamond"
           },
           "mode": "markers",
           "name": "green, box",
           "orientation": "v",
           "showlegend": true,
           "type": "scatter",
           "x": [
            1.5
           ],
           "xaxis": "x",
           "y": [
            0.15000000000000002
           ],
           "yaxis": "y"
          },
          {
           "hovertemplate": "<b>%{hovertext}</b><br><br>color=purple<br>type=target<br>frame=26<br>x=%{x}<br>y=%{y}<br>size=%{marker.size}<extra></extra>",
           "hovertext": [
            "purple | target | 15"
           ],
           "ids": [
            15
           ],
           "legendgroup": "purple, target",
           "marker": {
            "color": "#00cc96",
            "size": [
             60
            ],
            "sizemode": "area",
            "sizeref": 0.25,
            "symbol": "circle"
           },
           "mode": "markers",
           "name": "purple, target",
           "orientation": "v",
           "showlegend": true,
           "type": "scatter",
           "x": [
            1.5
           ],
           "xaxis": "x",
           "y": [
            0.8500000000000001
           ],
           "yaxis": "y"
          },
          {
           "hovertemplate": "<b>%{hovertext}</b><br><br>color=purple<br>type=box<br>frame=26<br>x=%{x}<br>y=%{y}<br>size=%{marker.size}<extra></extra>",
           "hovertext": [
            "purple | box | 6"
           ],
           "ids": [
            6
           ],
           "legendgroup": "purple, box",
           "marker": {
            "color": "#00cc96",
            "size": [
             60
            ],
            "sizemode": "area",
            "sizeref": 0.25,
            "symbol": "diamond"
           },
           "mode": "markers",
           "name": "purple, box",
           "orientation": "v",
           "showlegend": true,
           "type": "scatter",
           "x": [
            0.41000000000000003
           ],
           "xaxis": "x",
           "y": [
            1.15
           ],
           "yaxis": "y"
          },
          {
           "hovertemplate": "<b>%{hovertext}</b><br><br>color=red<br>type=target<br>frame=26<br>x=%{x}<br>y=%{y}<br>size=%{marker.size}<extra></extra>",
           "hovertext": [
            "red | target | 17"
           ],
           "ids": [
            17
           ],
           "legendgroup": "red, target",
           "marker": {
            "color": "#FFA15A",
            "size": [
             60
            ],
            "sizemode": "area",
            "sizeref": 0.25,
            "symbol": "circle"
           },
           "mode": "markers",
           "name": "red, target",
           "orientation": "v",
           "showlegend": true,
           "type": "scatter",
           "x": [
            1.5
           ],
           "xaxis": "x",
           "y": [
            1.85
           ],
           "yaxis": "y"
          },
          {
           "hovertemplate": "<b>%{hovertext}</b><br><br>color=red<br>type=box<br>frame=26<br>x=%{x}<br>y=%{y}<br>size=%{marker.size}<extra></extra>",
           "hovertext": [
            "red | box | 5"
           ],
           "ids": [
            5
           ],
           "legendgroup": "red, box",
           "marker": {
            "color": "#FFA15A",
            "size": [
             60
            ],
            "sizemode": "area",
            "sizeref": 0.25,
            "symbol": "diamond"
           },
           "mode": "markers",
           "name": "red, box",
           "orientation": "v",
           "showlegend": true,
           "type": "scatter",
           "x": [
            1.5
           ],
           "xaxis": "x",
           "y": [
            1.15
           ],
           "yaxis": "y"
          }
         ],
         "name": "26"
        },
        {
         "data": [
          {
           "hovertemplate": "<b>%{hovertext}</b><br><br>color=blue<br>type=target<br>frame=27<br>x=%{x}<br>y=%{y}<br>size=%{marker.size}<extra></extra>",
           "hovertext": [
            "blue | target | 0",
            "blue | target | 1"
           ],
           "ids": [
            0,
            1
           ],
           "legendgroup": "blue, target",
           "marker": {
            "color": "#636efa",
            "size": [
             40,
             40
            ],
            "sizemode": "area",
            "sizeref": 0.25,
            "symbol": "circle"
           },
           "mode": "markers",
           "name": "blue, target",
           "orientation": "v",
           "showlegend": true,
           "type": "scatter",
           "x": [
            0.35,
            0.5
           ],
           "xaxis": "x",
           "y": [
            0.8500000000000001,
            0.8500000000000001
           ],
           "yaxis": "y"
          },
          {
           "hovertemplate": "<b>%{hovertext}</b><br><br>color=blue<br>type=box<br>frame=27<br>x=%{x}<br>y=%{y}<br>size=%{marker.size}<extra></extra>",
           "hovertext": [
            "blue | box | 4",
            "blue | box | 16"
           ],
           "ids": [
            4,
            16
           ],
           "legendgroup": "blue, box",
           "marker": {
            "color": "#636efa",
            "size": [
             40,
             40
            ],
            "sizemode": "area",
            "sizeref": 0.25,
            "symbol": "diamond"
           },
           "mode": "markers",
           "name": "blue, box",
           "orientation": "v",
           "showlegend": true,
           "type": "scatter",
           "x": [
            0.5,
            1.35
           ],
           "xaxis": "x",
           "y": [
            0.5499999999999999,
            1.15
           ],
           "yaxis": "y"
          },
          {
           "hovertemplate": "<b>%{hovertext}</b><br><br>color=green<br>type=target<br>frame=27<br>x=%{x}<br>y=%{y}<br>size=%{marker.size}<extra></extra>",
           "hovertext": [
            "green | target | 2"
           ],
           "ids": [
            2
           ],
           "legendgroup": "green, target",
           "marker": {
            "color": "#EF553B",
            "size": [
             40
            ],
            "sizemode": "area",
            "sizeref": 0.25,
            "symbol": "circle"
           },
           "mode": "markers",
           "name": "green, target",
           "orientation": "v",
           "showlegend": true,
           "type": "scatter",
           "x": [
            0.65
           ],
           "xaxis": "x",
           "y": [
            0.8500000000000001
           ],
           "yaxis": "y"
          },
          {
           "hovertemplate": "<b>%{hovertext}</b><br><br>color=green<br>type=box<br>frame=27<br>x=%{x}<br>y=%{y}<br>size=%{marker.size}<extra></extra>",
           "hovertext": [
            "green | box | 13"
           ],
           "ids": [
            13
           ],
           "legendgroup": "green, box",
           "marker": {
            "color": "#EF553B",
            "size": [
             40
            ],
            "sizemode": "area",
            "sizeref": 0.25,
            "symbol": "diamond"
           },
           "mode": "markers",
           "name": "green, box",
           "orientation": "v",
           "showlegend": true,
           "type": "scatter",
           "x": [
            1.5
           ],
           "xaxis": "x",
           "y": [
            0.15000000000000002
           ],
           "yaxis": "y"
          },
          {
           "hovertemplate": "<b>%{hovertext}</b><br><br>color=purple<br>type=target<br>frame=27<br>x=%{x}<br>y=%{y}<br>size=%{marker.size}<extra></extra>",
           "hovertext": [
            "purple | target | 15"
           ],
           "ids": [
            15
           ],
           "legendgroup": "purple, target",
           "marker": {
            "color": "#00cc96",
            "size": [
             40
            ],
            "sizemode": "area",
            "sizeref": 0.25,
            "symbol": "circle"
           },
           "mode": "markers",
           "name": "purple, target",
           "orientation": "v",
           "showlegend": true,
           "type": "scatter",
           "x": [
            1.5
           ],
           "xaxis": "x",
           "y": [
            0.8500000000000001
           ],
           "yaxis": "y"
          },
          {
           "hovertemplate": "<b>%{hovertext}</b><br><br>color=purple<br>type=box<br>frame=27<br>x=%{x}<br>y=%{y}<br>size=%{marker.size}<extra></extra>",
           "hovertext": [
            "purple | box | 6"
           ],
           "ids": [
            6
           ],
           "legendgroup": "purple, box",
           "marker": {
            "color": "#00cc96",
            "size": [
             40
            ],
            "sizemode": "area",
            "sizeref": 0.25,
            "symbol": "diamond"
           },
           "mode": "markers",
           "name": "purple, box",
           "orientation": "v",
           "showlegend": true,
           "type": "scatter",
           "x": [
            0.43999999999999995
           ],
           "xaxis": "x",
           "y": [
            1.15
           ],
           "yaxis": "y"
          },
          {
           "hovertemplate": "<b>%{hovertext}</b><br><br>color=red<br>type=target<br>frame=27<br>x=%{x}<br>y=%{y}<br>size=%{marker.size}<extra></extra>",
           "hovertext": [
            "red | target | 17"
           ],
           "ids": [
            17
           ],
           "legendgroup": "red, target",
           "marker": {
            "color": "#FFA15A",
            "size": [
             40
            ],
            "sizemode": "area",
            "sizeref": 0.25,
            "symbol": "circle"
           },
           "mode": "markers",
           "name": "red, target",
           "orientation": "v",
           "showlegend": true,
           "type": "scatter",
           "x": [
            1.5
           ],
           "xaxis": "x",
           "y": [
            1.85
           ],
           "yaxis": "y"
          },
          {
           "hovertemplate": "<b>%{hovertext}</b><br><br>color=red<br>type=box<br>frame=27<br>x=%{x}<br>y=%{y}<br>size=%{marker.size}<extra></extra>",
           "hovertext": [
            "red | box | 5"
           ],
           "ids": [
            5
           ],
           "legendgroup": "red, box",
           "marker": {
            "color": "#FFA15A",
            "size": [
             40
            ],
            "sizemode": "area",
            "sizeref": 0.25,
            "symbol": "diamond"
           },
           "mode": "markers",
           "name": "red, box",
           "orientation": "v",
           "showlegend": true,
           "type": "scatter",
           "x": [
            1.5
           ],
           "xaxis": "x",
           "y": [
            1.15
           ],
           "yaxis": "y"
          }
         ],
         "name": "27"
        },
        {
         "data": [
          {
           "hovertemplate": "<b>%{hovertext}</b><br><br>color=blue<br>type=target<br>frame=28<br>x=%{x}<br>y=%{y}<br>size=%{marker.size}<extra></extra>",
           "hovertext": [
            "blue | target | 0",
            "blue | target | 1"
           ],
           "ids": [
            0,
            1
           ],
           "legendgroup": "blue, target",
           "marker": {
            "color": "#636efa",
            "size": [
             19.999999999999996,
             19.999999999999996
            ],
            "sizemode": "area",
            "sizeref": 0.25,
            "symbol": "circle"
           },
           "mode": "markers",
           "name": "blue, target",
           "orientation": "v",
           "showlegend": true,
           "type": "scatter",
           "x": [
            0.35,
            0.5
           ],
           "xaxis": "x",
           "y": [
            0.85,
            0.85
           ],
           "yaxis": "y"
          },
          {
           "hovertemplate": "<b>%{hovertext}</b><br><br>color=blue<br>type=box<br>frame=28<br>x=%{x}<br>y=%{y}<br>size=%{marker.size}<extra></extra>",
           "hovertext": [
            "blue | box | 4",
            "blue | box | 16"
           ],
           "ids": [
            4,
            16
           ],
           "legendgroup": "blue, box",
           "marker": {
            "color": "#636efa",
            "size": [
             19.999999999999996,
             19.999999999999996
            ],
            "sizemode": "area",
            "sizeref": 0.25,
            "symbol": "diamond"
           },
           "mode": "markers",
           "name": "blue, box",
           "orientation": "v",
           "showlegend": true,
           "type": "scatter",
           "x": [
            0.5,
            1.35
           ],
           "xaxis": "x",
           "y": [
            0.35,
            1.15
           ],
           "yaxis": "y"
          },
          {
           "hovertemplate": "<b>%{hovertext}</b><br><br>color=green<br>type=target<br>frame=28<br>x=%{x}<br>y=%{y}<br>size=%{marker.size}<extra></extra>",
           "hovertext": [
            "green | target | 2"
           ],
           "ids": [
            2
           ],
           "legendgroup": "green, target",
           "marker": {
            "color": "#EF553B",
            "size": [
             19.999999999999996
            ],
            "sizemode": "area",
            "sizeref": 0.25,
            "symbol": "circle"
           },
           "mode": "markers",
           "name": "green, target",
           "orientation": "v",
           "showlegend": true,
           "type": "scatter",
           "x": [
            0.65
           ],
           "xaxis": "x",
           "y": [
            0.85
           ],
           "yaxis": "y"
          },
          {
           "hovertemplate": "<b>%{hovertext}</b><br><br>color=green<br>type=box<br>frame=28<br>x=%{x}<br>y=%{y}<br>size=%{marker.size}<extra></extra>",
           "hovertext": [
            "green | box | 13"
           ],
           "ids": [
            13
           ],
           "legendgroup": "green, box",
           "marker": {
            "color": "#EF553B",
            "size": [
             19.999999999999996
            ],
            "sizemode": "area",
            "sizeref": 0.25,
            "symbol": "diamond"
           },
           "mode": "markers",
           "name": "green, box",
           "orientation": "v",
           "showlegend": true,
           "type": "scatter",
           "x": [
            1.5
           ],
           "xaxis": "x",
           "y": [
            0.15000000000000002
           ],
           "yaxis": "y"
          },
          {
           "hovertemplate": "<b>%{hovertext}</b><br><br>color=purple<br>type=target<br>frame=28<br>x=%{x}<br>y=%{y}<br>size=%{marker.size}<extra></extra>",
           "hovertext": [
            "purple | target | 15"
           ],
           "ids": [
            15
           ],
           "legendgroup": "purple, target",
           "marker": {
            "color": "#00cc96",
            "size": [
             19.999999999999996
            ],
            "sizemode": "area",
            "sizeref": 0.25,
            "symbol": "circle"
           },
           "mode": "markers",
           "name": "purple, target",
           "orientation": "v",
           "showlegend": true,
           "type": "scatter",
           "x": [
            1.5
           ],
           "xaxis": "x",
           "y": [
            0.85
           ],
           "yaxis": "y"
          },
          {
           "hovertemplate": "<b>%{hovertext}</b><br><br>color=purple<br>type=box<br>frame=28<br>x=%{x}<br>y=%{y}<br>size=%{marker.size}<extra></extra>",
           "hovertext": [
            "purple | box | 6"
           ],
           "ids": [
            6
           ],
           "legendgroup": "purple, box",
           "marker": {
            "color": "#00cc96",
            "size": [
             19.999999999999996
            ],
            "sizemode": "area",
            "sizeref": 0.25,
            "symbol": "diamond"
           },
           "mode": "markers",
           "name": "purple, box",
           "orientation": "v",
           "showlegend": true,
           "type": "scatter",
           "x": [
            0.47
           ],
           "xaxis": "x",
           "y": [
            1.15
           ],
           "yaxis": "y"
          },
          {
           "hovertemplate": "<b>%{hovertext}</b><br><br>color=red<br>type=target<br>frame=28<br>x=%{x}<br>y=%{y}<br>size=%{marker.size}<extra></extra>",
           "hovertext": [
            "red | target | 17"
           ],
           "ids": [
            17
           ],
           "legendgroup": "red, target",
           "marker": {
            "color": "#FFA15A",
            "size": [
             19.999999999999996
            ],
            "sizemode": "area",
            "sizeref": 0.25,
            "symbol": "circle"
           },
           "mode": "markers",
           "name": "red, target",
           "orientation": "v",
           "showlegend": true,
           "type": "scatter",
           "x": [
            1.5
           ],
           "xaxis": "x",
           "y": [
            1.85
           ],
           "yaxis": "y"
          },
          {
           "hovertemplate": "<b>%{hovertext}</b><br><br>color=red<br>type=box<br>frame=28<br>x=%{x}<br>y=%{y}<br>size=%{marker.size}<extra></extra>",
           "hovertext": [
            "red | box | 5"
           ],
           "ids": [
            5
           ],
           "legendgroup": "red, box",
           "marker": {
            "color": "#FFA15A",
            "size": [
             19.999999999999996
            ],
            "sizemode": "area",
            "sizeref": 0.25,
            "symbol": "diamond"
           },
           "mode": "markers",
           "name": "red, box",
           "orientation": "v",
           "showlegend": true,
           "type": "scatter",
           "x": [
            1.5
           ],
           "xaxis": "x",
           "y": [
            1.15
           ],
           "yaxis": "y"
          }
         ],
         "name": "28"
        },
        {
         "data": [
          {
           "hovertemplate": "<b>%{hovertext}</b><br><br>color=blue<br>type=target<br>frame=29<br>x=%{x}<br>y=%{y}<br>size=%{marker.size}<extra></extra>",
           "hovertext": [
            "blue | target | 0",
            "blue | target | 1"
           ],
           "ids": [
            0,
            1
           ],
           "legendgroup": "blue, target",
           "marker": {
            "color": "#636efa",
            "size": [
             0,
             0
            ],
            "sizemode": "area",
            "sizeref": 0.25,
            "symbol": "circle"
           },
           "mode": "markers",
           "name": "blue, target",
           "orientation": "v",
           "showlegend": true,
           "type": "scatter",
           "x": [
            0.35,
            0.5
           ],
           "xaxis": "x",
           "y": [
            0.85,
            0.85
           ],
           "yaxis": "y"
          },
          {
           "hovertemplate": "<b>%{hovertext}</b><br><br>color=blue<br>type=box<br>frame=29<br>x=%{x}<br>y=%{y}<br>size=%{marker.size}<extra></extra>",
           "hovertext": [
            "blue | box | 4",
            "blue | box | 16"
           ],
           "ids": [
            4,
            16
           ],
           "legendgroup": "blue, box",
           "marker": {
            "color": "#636efa",
            "size": [
             0,
             0
            ],
            "sizemode": "area",
            "sizeref": 0.25,
            "symbol": "diamond"
           },
           "mode": "markers",
           "name": "blue, box",
           "orientation": "v",
           "showlegend": true,
           "type": "scatter",
           "x": [
            0.5,
            1.35
           ],
           "xaxis": "x",
           "y": [
            0.15000000000000002,
            1.15
           ],
           "yaxis": "y"
          },
          {
           "hovertemplate": "<b>%{hovertext}</b><br><br>color=green<br>type=target<br>frame=29<br>x=%{x}<br>y=%{y}<br>size=%{marker.size}<extra></extra>",
           "hovertext": [
            "green | target | 2"
           ],
           "ids": [
            2
           ],
           "legendgroup": "green, target",
           "marker": {
            "color": "#EF553B",
            "size": [
             0
            ],
            "sizemode": "area",
            "sizeref": 0.25,
            "symbol": "circle"
           },
           "mode": "markers",
           "name": "green, target",
           "orientation": "v",
           "showlegend": true,
           "type": "scatter",
           "x": [
            0.65
           ],
           "xaxis": "x",
           "y": [
            0.85
           ],
           "yaxis": "y"
          },
          {
           "hovertemplate": "<b>%{hovertext}</b><br><br>color=green<br>type=box<br>frame=29<br>x=%{x}<br>y=%{y}<br>size=%{marker.size}<extra></extra>",
           "hovertext": [
            "green | box | 13"
           ],
           "ids": [
            13
           ],
           "legendgroup": "green, box",
           "marker": {
            "color": "#EF553B",
            "size": [
             0
            ],
            "sizemode": "area",
            "sizeref": 0.25,
            "symbol": "diamond"
           },
           "mode": "markers",
           "name": "green, box",
           "orientation": "v",
           "showlegend": true,
           "type": "scatter",
           "x": [
            1.5
           ],
           "xaxis": "x",
           "y": [
            0.15000000000000002
           ],
           "yaxis": "y"
          },
          {
           "hovertemplate": "<b>%{hovertext}</b><br><br>color=purple<br>type=target<br>frame=29<br>x=%{x}<br>y=%{y}<br>size=%{marker.size}<extra></extra>",
           "hovertext": [
            "purple | target | 15"
           ],
           "ids": [
            15
           ],
           "legendgroup": "purple, target",
           "marker": {
            "color": "#00cc96",
            "size": [
             0
            ],
            "sizemode": "area",
            "sizeref": 0.25,
            "symbol": "circle"
           },
           "mode": "markers",
           "name": "purple, target",
           "orientation": "v",
           "showlegend": true,
           "type": "scatter",
           "x": [
            1.5
           ],
           "xaxis": "x",
           "y": [
            0.85
           ],
           "yaxis": "y"
          },
          {
           "hovertemplate": "<b>%{hovertext}</b><br><br>color=purple<br>type=box<br>frame=29<br>x=%{x}<br>y=%{y}<br>size=%{marker.size}<extra></extra>",
           "hovertext": [
            "purple | box | 6"
           ],
           "ids": [
            6
           ],
           "legendgroup": "purple, box",
           "marker": {
            "color": "#00cc96",
            "size": [
             0
            ],
            "sizemode": "area",
            "sizeref": 0.25,
            "symbol": "diamond"
           },
           "mode": "markers",
           "name": "purple, box",
           "orientation": "v",
           "showlegend": true,
           "type": "scatter",
           "x": [
            0.5
           ],
           "xaxis": "x",
           "y": [
            1.15
           ],
           "yaxis": "y"
          },
          {
           "hovertemplate": "<b>%{hovertext}</b><br><br>color=red<br>type=target<br>frame=29<br>x=%{x}<br>y=%{y}<br>size=%{marker.size}<extra></extra>",
           "hovertext": [
            "red | target | 17"
           ],
           "ids": [
            17
           ],
           "legendgroup": "red, target",
           "marker": {
            "color": "#FFA15A",
            "size": [
             0
            ],
            "sizemode": "area",
            "sizeref": 0.25,
            "symbol": "circle"
           },
           "mode": "markers",
           "name": "red, target",
           "orientation": "v",
           "showlegend": true,
           "type": "scatter",
           "x": [
            1.5
           ],
           "xaxis": "x",
           "y": [
            1.85
           ],
           "yaxis": "y"
          },
          {
           "hovertemplate": "<b>%{hovertext}</b><br><br>color=red<br>type=box<br>frame=29<br>x=%{x}<br>y=%{y}<br>size=%{marker.size}<extra></extra>",
           "hovertext": [
            "red | box | 5"
           ],
           "ids": [
            5
           ],
           "legendgroup": "red, box",
           "marker": {
            "color": "#FFA15A",
            "size": [
             0
            ],
            "sizemode": "area",
            "sizeref": 0.25,
            "symbol": "diamond"
           },
           "mode": "markers",
           "name": "red, box",
           "orientation": "v",
           "showlegend": true,
           "type": "scatter",
           "x": [
            1.5
           ],
           "xaxis": "x",
           "y": [
            1.15
           ],
           "yaxis": "y"
          }
         ],
         "name": "29"
        },
        {
         "data": [
          {
           "hovertemplate": "<b>%{hovertext}</b><br><br>color=blue<br>type=target<br>frame=30<br>x=%{x}<br>y=%{y}<br>size=%{marker.size}<extra></extra>",
           "hovertext": [
            "blue | target | 0",
            "blue | target | 1"
           ],
           "ids": [
            0,
            1
           ],
           "legendgroup": "blue, target",
           "marker": {
            "color": "#636efa",
            "size": [
             100,
             100
            ],
            "sizemode": "area",
            "sizeref": 0.25,
            "symbol": "circle"
           },
           "mode": "markers",
           "name": "blue, target",
           "orientation": "v",
           "showlegend": true,
           "type": "scatter",
           "x": [
            0.35,
            0.5
           ],
           "xaxis": "x",
           "y": [
            0.85,
            0.85
           ],
           "yaxis": "y"
          },
          {
           "hovertemplate": "<b>%{hovertext}</b><br><br>color=blue<br>type=box<br>frame=30<br>x=%{x}<br>y=%{y}<br>size=%{marker.size}<extra></extra>",
           "hovertext": [
            "blue | box | 4",
            "blue | box | 16"
           ],
           "ids": [
            4,
            16
           ],
           "legendgroup": "blue, box",
           "marker": {
            "color": "#636efa",
            "size": [
             100,
             100
            ],
            "sizemode": "area",
            "sizeref": 0.25,
            "symbol": "diamond"
           },
           "mode": "markers",
           "name": "blue, box",
           "orientation": "v",
           "showlegend": true,
           "type": "scatter",
           "x": [
            0.5,
            1.35
           ],
           "xaxis": "x",
           "y": [
            0.15000000000000002,
            1.15
           ],
           "yaxis": "y"
          },
          {
           "hovertemplate": "<b>%{hovertext}</b><br><br>color=green<br>type=target<br>frame=30<br>x=%{x}<br>y=%{y}<br>size=%{marker.size}<extra></extra>",
           "hovertext": [
            "green | target | 2"
           ],
           "ids": [
            2
           ],
           "legendgroup": "green, target",
           "marker": {
            "color": "#EF553B",
            "size": [
             100
            ],
            "sizemode": "area",
            "sizeref": 0.25,
            "symbol": "circle"
           },
           "mode": "markers",
           "name": "green, target",
           "orientation": "v",
           "showlegend": true,
           "type": "scatter",
           "x": [
            0.65
           ],
           "xaxis": "x",
           "y": [
            0.85
           ],
           "yaxis": "y"
          },
          {
           "hovertemplate": "<b>%{hovertext}</b><br><br>color=green<br>type=box<br>frame=30<br>x=%{x}<br>y=%{y}<br>size=%{marker.size}<extra></extra>",
           "hovertext": [
            "green | box | 13"
           ],
           "ids": [
            13
           ],
           "legendgroup": "green, box",
           "marker": {
            "color": "#EF553B",
            "size": [
             100
            ],
            "sizemode": "area",
            "sizeref": 0.25,
            "symbol": "diamond"
           },
           "mode": "markers",
           "name": "green, box",
           "orientation": "v",
           "showlegend": true,
           "type": "scatter",
           "x": [
            1.5
           ],
           "xaxis": "x",
           "y": [
            0.15000000000000002
           ],
           "yaxis": "y"
          },
          {
           "hovertemplate": "<b>%{hovertext}</b><br><br>color=purple<br>type=target<br>frame=30<br>x=%{x}<br>y=%{y}<br>size=%{marker.size}<extra></extra>",
           "hovertext": [
            "purple | target | 15"
           ],
           "ids": [
            15
           ],
           "legendgroup": "purple, target",
           "marker": {
            "color": "#00cc96",
            "size": [
             100
            ],
            "sizemode": "area",
            "sizeref": 0.25,
            "symbol": "circle"
           },
           "mode": "markers",
           "name": "purple, target",
           "orientation": "v",
           "showlegend": true,
           "type": "scatter",
           "x": [
            1.5
           ],
           "xaxis": "x",
           "y": [
            0.85
           ],
           "yaxis": "y"
          },
          {
           "hovertemplate": "<b>%{hovertext}</b><br><br>color=purple<br>type=box<br>frame=30<br>x=%{x}<br>y=%{y}<br>size=%{marker.size}<extra></extra>",
           "hovertext": [
            "purple | box | 6"
           ],
           "ids": [
            6
           ],
           "legendgroup": "purple, box",
           "marker": {
            "color": "#00cc96",
            "size": [
             100
            ],
            "sizemode": "area",
            "sizeref": 0.25,
            "symbol": "diamond"
           },
           "mode": "markers",
           "name": "purple, box",
           "orientation": "v",
           "showlegend": true,
           "type": "scatter",
           "x": [
            0.5
           ],
           "xaxis": "x",
           "y": [
            1.15
           ],
           "yaxis": "y"
          },
          {
           "hovertemplate": "<b>%{hovertext}</b><br><br>color=red<br>type=target<br>frame=30<br>x=%{x}<br>y=%{y}<br>size=%{marker.size}<extra></extra>",
           "hovertext": [
            "red | target | 17"
           ],
           "ids": [
            17
           ],
           "legendgroup": "red, target",
           "marker": {
            "color": "#FFA15A",
            "size": [
             100
            ],
            "sizemode": "area",
            "sizeref": 0.25,
            "symbol": "circle"
           },
           "mode": "markers",
           "name": "red, target",
           "orientation": "v",
           "showlegend": true,
           "type": "scatter",
           "x": [
            1.5
           ],
           "xaxis": "x",
           "y": [
            1.85
           ],
           "yaxis": "y"
          },
          {
           "hovertemplate": "<b>%{hovertext}</b><br><br>color=red<br>type=box<br>frame=30<br>x=%{x}<br>y=%{y}<br>size=%{marker.size}<extra></extra>",
           "hovertext": [
            "red | box | 5"
           ],
           "ids": [
            5
           ],
           "legendgroup": "red, box",
           "marker": {
            "color": "#FFA15A",
            "size": [
             100
            ],
            "sizemode": "area",
            "sizeref": 0.25,
            "symbol": "diamond"
           },
           "mode": "markers",
           "name": "red, box",
           "orientation": "v",
           "showlegend": true,
           "type": "scatter",
           "x": [
            1.5
           ],
           "xaxis": "x",
           "y": [
            1.15
           ],
           "yaxis": "y"
          }
         ],
         "name": "30"
        },
        {
         "data": [
          {
           "hovertemplate": "<b>%{hovertext}</b><br><br>color=blue<br>type=target<br>frame=31<br>x=%{x}<br>y=%{y}<br>size=%{marker.size}<extra></extra>",
           "hovertext": [
            "blue | target | 0",
            "blue | target | 1"
           ],
           "ids": [
            0,
            1
           ],
           "legendgroup": "blue, target",
           "marker": {
            "color": "#636efa",
            "size": [
             80,
             80
            ],
            "sizemode": "area",
            "sizeref": 0.25,
            "symbol": "circle"
           },
           "mode": "markers",
           "name": "blue, target",
           "orientation": "v",
           "showlegend": true,
           "type": "scatter",
           "x": [
            0.35,
            0.5
           ],
           "xaxis": "x",
           "y": [
            0.8500000000000001,
            0.8500000000000001
           ],
           "yaxis": "y"
          },
          {
           "hovertemplate": "<b>%{hovertext}</b><br><br>color=blue<br>type=box<br>frame=31<br>x=%{x}<br>y=%{y}<br>size=%{marker.size}<extra></extra>",
           "hovertext": [
            "blue | box | 4",
            "blue | box | 16"
           ],
           "ids": [
            4,
            16
           ],
           "legendgroup": "blue, box",
           "marker": {
            "color": "#636efa",
            "size": [
             80,
             80
            ],
            "sizemode": "area",
            "sizeref": 0.25,
            "symbol": "diamond"
           },
           "mode": "markers",
           "name": "blue, box",
           "orientation": "v",
           "showlegend": true,
           "type": "scatter",
           "x": [
            0.5,
            1.35
           ],
           "xaxis": "x",
           "y": [
            0.35,
            1.15
           ],
           "yaxis": "y"
          },
          {
           "hovertemplate": "<b>%{hovertext}</b><br><br>color=green<br>type=target<br>frame=31<br>x=%{x}<br>y=%{y}<br>size=%{marker.size}<extra></extra>",
           "hovertext": [
            "green | target | 2"
           ],
           "ids": [
            2
           ],
           "legendgroup": "green, target",
           "marker": {
            "color": "#EF553B",
            "size": [
             80
            ],
            "sizemode": "area",
            "sizeref": 0.25,
            "symbol": "circle"
           },
           "mode": "markers",
           "name": "green, target",
           "orientation": "v",
           "showlegend": true,
           "type": "scatter",
           "x": [
            0.65
           ],
           "xaxis": "x",
           "y": [
            0.8500000000000001
           ],
           "yaxis": "y"
          },
          {
           "hovertemplate": "<b>%{hovertext}</b><br><br>color=green<br>type=box<br>frame=31<br>x=%{x}<br>y=%{y}<br>size=%{marker.size}<extra></extra>",
           "hovertext": [
            "green | box | 13"
           ],
           "ids": [
            13
           ],
           "legendgroup": "green, box",
           "marker": {
            "color": "#EF553B",
            "size": [
             80
            ],
            "sizemode": "area",
            "sizeref": 0.25,
            "symbol": "diamond"
           },
           "mode": "markers",
           "name": "green, box",
           "orientation": "v",
           "showlegend": true,
           "type": "scatter",
           "x": [
            1.5000000000000002
           ],
           "xaxis": "x",
           "y": [
            0.15000000000000002
           ],
           "yaxis": "y"
          },
          {
           "hovertemplate": "<b>%{hovertext}</b><br><br>color=purple<br>type=target<br>frame=31<br>x=%{x}<br>y=%{y}<br>size=%{marker.size}<extra></extra>",
           "hovertext": [
            "purple | target | 15"
           ],
           "ids": [
            15
           ],
           "legendgroup": "purple, target",
           "marker": {
            "color": "#00cc96",
            "size": [
             80
            ],
            "sizemode": "area",
            "sizeref": 0.25,
            "symbol": "circle"
           },
           "mode": "markers",
           "name": "purple, target",
           "orientation": "v",
           "showlegend": true,
           "type": "scatter",
           "x": [
            1.5000000000000002
           ],
           "xaxis": "x",
           "y": [
            0.8500000000000001
           ],
           "yaxis": "y"
          },
          {
           "hovertemplate": "<b>%{hovertext}</b><br><br>color=purple<br>type=box<br>frame=31<br>x=%{x}<br>y=%{y}<br>size=%{marker.size}<extra></extra>",
           "hovertext": [
            "purple | box | 6"
           ],
           "ids": [
            6
           ],
           "legendgroup": "purple, box",
           "marker": {
            "color": "#00cc96",
            "size": [
             80
            ],
            "sizemode": "area",
            "sizeref": 0.25,
            "symbol": "diamond"
           },
           "mode": "markers",
           "name": "purple, box",
           "orientation": "v",
           "showlegend": true,
           "type": "scatter",
           "x": [
            0.73
           ],
           "xaxis": "x",
           "y": [
            1.15
           ],
           "yaxis": "y"
          },
          {
           "hovertemplate": "<b>%{hovertext}</b><br><br>color=red<br>type=target<br>frame=31<br>x=%{x}<br>y=%{y}<br>size=%{marker.size}<extra></extra>",
           "hovertext": [
            "red | target | 17"
           ],
           "ids": [
            17
           ],
           "legendgroup": "red, target",
           "marker": {
            "color": "#FFA15A",
            "size": [
             80
            ],
            "sizemode": "area",
            "sizeref": 0.25,
            "symbol": "circle"
           },
           "mode": "markers",
           "name": "red, target",
           "orientation": "v",
           "showlegend": true,
           "type": "scatter",
           "x": [
            1.5000000000000002
           ],
           "xaxis": "x",
           "y": [
            1.8500000000000003
           ],
           "yaxis": "y"
          },
          {
           "hovertemplate": "<b>%{hovertext}</b><br><br>color=red<br>type=box<br>frame=31<br>x=%{x}<br>y=%{y}<br>size=%{marker.size}<extra></extra>",
           "hovertext": [
            "red | box | 5"
           ],
           "ids": [
            5
           ],
           "legendgroup": "red, box",
           "marker": {
            "color": "#FFA15A",
            "size": [
             80
            ],
            "sizemode": "area",
            "sizeref": 0.25,
            "symbol": "diamond"
           },
           "mode": "markers",
           "name": "red, box",
           "orientation": "v",
           "showlegend": true,
           "type": "scatter",
           "x": [
            1.5000000000000002
           ],
           "xaxis": "x",
           "y": [
            1.15
           ],
           "yaxis": "y"
          }
         ],
         "name": "31"
        },
        {
         "data": [
          {
           "hovertemplate": "<b>%{hovertext}</b><br><br>color=blue<br>type=target<br>frame=32<br>x=%{x}<br>y=%{y}<br>size=%{marker.size}<extra></extra>",
           "hovertext": [
            "blue | target | 0",
            "blue | target | 1"
           ],
           "ids": [
            0,
            1
           ],
           "legendgroup": "blue, target",
           "marker": {
            "color": "#636efa",
            "size": [
             60,
             60
            ],
            "sizemode": "area",
            "sizeref": 0.25,
            "symbol": "circle"
           },
           "mode": "markers",
           "name": "blue, target",
           "orientation": "v",
           "showlegend": true,
           "type": "scatter",
           "x": [
            0.35,
            0.5
           ],
           "xaxis": "x",
           "y": [
            0.8500000000000001,
            0.8500000000000001
           ],
           "yaxis": "y"
          },
          {
           "hovertemplate": "<b>%{hovertext}</b><br><br>color=blue<br>type=box<br>frame=32<br>x=%{x}<br>y=%{y}<br>size=%{marker.size}<extra></extra>",
           "hovertext": [
            "blue | box | 4",
            "blue | box | 16"
           ],
           "ids": [
            4,
            16
           ],
           "legendgroup": "blue, box",
           "marker": {
            "color": "#636efa",
            "size": [
             60,
             60
            ],
            "sizemode": "area",
            "sizeref": 0.25,
            "symbol": "diamond"
           },
           "mode": "markers",
           "name": "blue, box",
           "orientation": "v",
           "showlegend": true,
           "type": "scatter",
           "x": [
            0.5,
            1.35
           ],
           "xaxis": "x",
           "y": [
            0.5499999999999999,
            1.15
           ],
           "yaxis": "y"
          },
          {
           "hovertemplate": "<b>%{hovertext}</b><br><br>color=green<br>type=target<br>frame=32<br>x=%{x}<br>y=%{y}<br>size=%{marker.size}<extra></extra>",
           "hovertext": [
            "green | target | 2"
           ],
           "ids": [
            2
           ],
           "legendgroup": "green, target",
           "marker": {
            "color": "#EF553B",
            "size": [
             60
            ],
            "sizemode": "area",
            "sizeref": 0.25,
            "symbol": "circle"
           },
           "mode": "markers",
           "name": "green, target",
           "orientation": "v",
           "showlegend": true,
           "type": "scatter",
           "x": [
            0.65
           ],
           "xaxis": "x",
           "y": [
            0.8500000000000001
           ],
           "yaxis": "y"
          },
          {
           "hovertemplate": "<b>%{hovertext}</b><br><br>color=green<br>type=box<br>frame=32<br>x=%{x}<br>y=%{y}<br>size=%{marker.size}<extra></extra>",
           "hovertext": [
            "green | box | 13"
           ],
           "ids": [
            13
           ],
           "legendgroup": "green, box",
           "marker": {
            "color": "#EF553B",
            "size": [
             60
            ],
            "sizemode": "area",
            "sizeref": 0.25,
            "symbol": "diamond"
           },
           "mode": "markers",
           "name": "green, box",
           "orientation": "v",
           "showlegend": true,
           "type": "scatter",
           "x": [
            1.5
           ],
           "xaxis": "x",
           "y": [
            0.15000000000000002
           ],
           "yaxis": "y"
          },
          {
           "hovertemplate": "<b>%{hovertext}</b><br><br>color=purple<br>type=target<br>frame=32<br>x=%{x}<br>y=%{y}<br>size=%{marker.size}<extra></extra>",
           "hovertext": [
            "purple | target | 15"
           ],
           "ids": [
            15
           ],
           "legendgroup": "purple, target",
           "marker": {
            "color": "#00cc96",
            "size": [
             60
            ],
            "sizemode": "area",
            "sizeref": 0.25,
            "symbol": "circle"
           },
           "mode": "markers",
           "name": "purple, target",
           "orientation": "v",
           "showlegend": true,
           "type": "scatter",
           "x": [
            1.5
           ],
           "xaxis": "x",
           "y": [
            0.8500000000000001
           ],
           "yaxis": "y"
          },
          {
           "hovertemplate": "<b>%{hovertext}</b><br><br>color=purple<br>type=box<br>frame=32<br>x=%{x}<br>y=%{y}<br>size=%{marker.size}<extra></extra>",
           "hovertext": [
            "purple | box | 6"
           ],
           "ids": [
            6
           ],
           "legendgroup": "purple, box",
           "marker": {
            "color": "#00cc96",
            "size": [
             60
            ],
            "sizemode": "area",
            "sizeref": 0.25,
            "symbol": "diamond"
           },
           "mode": "markers",
           "name": "purple, box",
           "orientation": "v",
           "showlegend": true,
           "type": "scatter",
           "x": [
            0.96
           ],
           "xaxis": "x",
           "y": [
            1.15
           ],
           "yaxis": "y"
          },
          {
           "hovertemplate": "<b>%{hovertext}</b><br><br>color=red<br>type=target<br>frame=32<br>x=%{x}<br>y=%{y}<br>size=%{marker.size}<extra></extra>",
           "hovertext": [
            "red | target | 17"
           ],
           "ids": [
            17
           ],
           "legendgroup": "red, target",
           "marker": {
            "color": "#FFA15A",
            "size": [
             60
            ],
            "sizemode": "area",
            "sizeref": 0.25,
            "symbol": "circle"
           },
           "mode": "markers",
           "name": "red, target",
           "orientation": "v",
           "showlegend": true,
           "type": "scatter",
           "x": [
            1.5
           ],
           "xaxis": "x",
           "y": [
            1.85
           ],
           "yaxis": "y"
          },
          {
           "hovertemplate": "<b>%{hovertext}</b><br><br>color=red<br>type=box<br>frame=32<br>x=%{x}<br>y=%{y}<br>size=%{marker.size}<extra></extra>",
           "hovertext": [
            "red | box | 5"
           ],
           "ids": [
            5
           ],
           "legendgroup": "red, box",
           "marker": {
            "color": "#FFA15A",
            "size": [
             60
            ],
            "sizemode": "area",
            "sizeref": 0.25,
            "symbol": "diamond"
           },
           "mode": "markers",
           "name": "red, box",
           "orientation": "v",
           "showlegend": true,
           "type": "scatter",
           "x": [
            1.5
           ],
           "xaxis": "x",
           "y": [
            1.15
           ],
           "yaxis": "y"
          }
         ],
         "name": "32"
        },
        {
         "data": [
          {
           "hovertemplate": "<b>%{hovertext}</b><br><br>color=blue<br>type=target<br>frame=33<br>x=%{x}<br>y=%{y}<br>size=%{marker.size}<extra></extra>",
           "hovertext": [
            "blue | target | 0",
            "blue | target | 1"
           ],
           "ids": [
            0,
            1
           ],
           "legendgroup": "blue, target",
           "marker": {
            "color": "#636efa",
            "size": [
             40,
             40
            ],
            "sizemode": "area",
            "sizeref": 0.25,
            "symbol": "circle"
           },
           "mode": "markers",
           "name": "blue, target",
           "orientation": "v",
           "showlegend": true,
           "type": "scatter",
           "x": [
            0.35,
            0.5
           ],
           "xaxis": "x",
           "y": [
            0.8500000000000001,
            0.8500000000000001
           ],
           "yaxis": "y"
          },
          {
           "hovertemplate": "<b>%{hovertext}</b><br><br>color=blue<br>type=box<br>frame=33<br>x=%{x}<br>y=%{y}<br>size=%{marker.size}<extra></extra>",
           "hovertext": [
            "blue | box | 4",
            "blue | box | 16"
           ],
           "ids": [
            4,
            16
           ],
           "legendgroup": "blue, box",
           "marker": {
            "color": "#636efa",
            "size": [
             40,
             40
            ],
            "sizemode": "area",
            "sizeref": 0.25,
            "symbol": "diamond"
           },
           "mode": "markers",
           "name": "blue, box",
           "orientation": "v",
           "showlegend": true,
           "type": "scatter",
           "x": [
            0.5,
            1.35
           ],
           "xaxis": "x",
           "y": [
            0.75,
            1.15
           ],
           "yaxis": "y"
          },
          {
           "hovertemplate": "<b>%{hovertext}</b><br><br>color=green<br>type=target<br>frame=33<br>x=%{x}<br>y=%{y}<br>size=%{marker.size}<extra></extra>",
           "hovertext": [
            "green | target | 2"
           ],
           "ids": [
            2
           ],
           "legendgroup": "green, target",
           "marker": {
            "color": "#EF553B",
            "size": [
             40
            ],
            "sizemode": "area",
            "sizeref": 0.25,
            "symbol": "circle"
           },
           "mode": "markers",
           "name": "green, target",
           "orientation": "v",
           "showlegend": true,
           "type": "scatter",
           "x": [
            0.65
           ],
           "xaxis": "x",
           "y": [
            0.8500000000000001
           ],
           "yaxis": "y"
          },
          {
           "hovertemplate": "<b>%{hovertext}</b><br><br>color=green<br>type=box<br>frame=33<br>x=%{x}<br>y=%{y}<br>size=%{marker.size}<extra></extra>",
           "hovertext": [
            "green | box | 13"
           ],
           "ids": [
            13
           ],
           "legendgroup": "green, box",
           "marker": {
            "color": "#EF553B",
            "size": [
             40
            ],
            "sizemode": "area",
            "sizeref": 0.25,
            "symbol": "diamond"
           },
           "mode": "markers",
           "name": "green, box",
           "orientation": "v",
           "showlegend": true,
           "type": "scatter",
           "x": [
            1.5
           ],
           "xaxis": "x",
           "y": [
            0.15000000000000002
           ],
           "yaxis": "y"
          },
          {
           "hovertemplate": "<b>%{hovertext}</b><br><br>color=purple<br>type=target<br>frame=33<br>x=%{x}<br>y=%{y}<br>size=%{marker.size}<extra></extra>",
           "hovertext": [
            "purple | target | 15"
           ],
           "ids": [
            15
           ],
           "legendgroup": "purple, target",
           "marker": {
            "color": "#00cc96",
            "size": [
             40
            ],
            "sizemode": "area",
            "sizeref": 0.25,
            "symbol": "circle"
           },
           "mode": "markers",
           "name": "purple, target",
           "orientation": "v",
           "showlegend": true,
           "type": "scatter",
           "x": [
            1.5
           ],
           "xaxis": "x",
           "y": [
            0.8500000000000001
           ],
           "yaxis": "y"
          },
          {
           "hovertemplate": "<b>%{hovertext}</b><br><br>color=purple<br>type=box<br>frame=33<br>x=%{x}<br>y=%{y}<br>size=%{marker.size}<extra></extra>",
           "hovertext": [
            "purple | box | 6"
           ],
           "ids": [
            6
           ],
           "legendgroup": "purple, box",
           "marker": {
            "color": "#00cc96",
            "size": [
             40
            ],
            "sizemode": "area",
            "sizeref": 0.25,
            "symbol": "diamond"
           },
           "mode": "markers",
           "name": "purple, box",
           "orientation": "v",
           "showlegend": true,
           "type": "scatter",
           "x": [
            1.19
           ],
           "xaxis": "x",
           "y": [
            1.15
           ],
           "yaxis": "y"
          },
          {
           "hovertemplate": "<b>%{hovertext}</b><br><br>color=red<br>type=target<br>frame=33<br>x=%{x}<br>y=%{y}<br>size=%{marker.size}<extra></extra>",
           "hovertext": [
            "red | target | 17"
           ],
           "ids": [
            17
           ],
           "legendgroup": "red, target",
           "marker": {
            "color": "#FFA15A",
            "size": [
             40
            ],
            "sizemode": "area",
            "sizeref": 0.25,
            "symbol": "circle"
           },
           "mode": "markers",
           "name": "red, target",
           "orientation": "v",
           "showlegend": true,
           "type": "scatter",
           "x": [
            1.5
           ],
           "xaxis": "x",
           "y": [
            1.85
           ],
           "yaxis": "y"
          },
          {
           "hovertemplate": "<b>%{hovertext}</b><br><br>color=red<br>type=box<br>frame=33<br>x=%{x}<br>y=%{y}<br>size=%{marker.size}<extra></extra>",
           "hovertext": [
            "red | box | 5"
           ],
           "ids": [
            5
           ],
           "legendgroup": "red, box",
           "marker": {
            "color": "#FFA15A",
            "size": [
             40
            ],
            "sizemode": "area",
            "sizeref": 0.25,
            "symbol": "diamond"
           },
           "mode": "markers",
           "name": "red, box",
           "orientation": "v",
           "showlegend": true,
           "type": "scatter",
           "x": [
            1.5
           ],
           "xaxis": "x",
           "y": [
            1.15
           ],
           "yaxis": "y"
          }
         ],
         "name": "33"
        },
        {
         "data": [
          {
           "hovertemplate": "<b>%{hovertext}</b><br><br>color=blue<br>type=target<br>frame=34<br>x=%{x}<br>y=%{y}<br>size=%{marker.size}<extra></extra>",
           "hovertext": [
            "blue | target | 0",
            "blue | target | 1"
           ],
           "ids": [
            0,
            1
           ],
           "legendgroup": "blue, target",
           "marker": {
            "color": "#636efa",
            "size": [
             19.999999999999996,
             19.999999999999996
            ],
            "sizemode": "area",
            "sizeref": 0.25,
            "symbol": "circle"
           },
           "mode": "markers",
           "name": "blue, target",
           "orientation": "v",
           "showlegend": true,
           "type": "scatter",
           "x": [
            0.35,
            0.5
           ],
           "xaxis": "x",
           "y": [
            0.85,
            0.85
           ],
           "yaxis": "y"
          },
          {
           "hovertemplate": "<b>%{hovertext}</b><br><br>color=blue<br>type=box<br>frame=34<br>x=%{x}<br>y=%{y}<br>size=%{marker.size}<extra></extra>",
           "hovertext": [
            "blue | box | 4",
            "blue | box | 16"
           ],
           "ids": [
            4,
            16
           ],
           "legendgroup": "blue, box",
           "marker": {
            "color": "#636efa",
            "size": [
             19.999999999999996,
             19.999999999999996
            ],
            "sizemode": "area",
            "sizeref": 0.25,
            "symbol": "diamond"
           },
           "mode": "markers",
           "name": "blue, box",
           "orientation": "v",
           "showlegend": true,
           "type": "scatter",
           "x": [
            0.5,
            1.35
           ],
           "xaxis": "x",
           "y": [
            0.95,
            1.15
           ],
           "yaxis": "y"
          },
          {
           "hovertemplate": "<b>%{hovertext}</b><br><br>color=green<br>type=target<br>frame=34<br>x=%{x}<br>y=%{y}<br>size=%{marker.size}<extra></extra>",
           "hovertext": [
            "green | target | 2"
           ],
           "ids": [
            2
           ],
           "legendgroup": "green, target",
           "marker": {
            "color": "#EF553B",
            "size": [
             19.999999999999996
            ],
            "sizemode": "area",
            "sizeref": 0.25,
            "symbol": "circle"
           },
           "mode": "markers",
           "name": "green, target",
           "orientation": "v",
           "showlegend": true,
           "type": "scatter",
           "x": [
            0.65
           ],
           "xaxis": "x",
           "y": [
            0.85
           ],
           "yaxis": "y"
          },
          {
           "hovertemplate": "<b>%{hovertext}</b><br><br>color=green<br>type=box<br>frame=34<br>x=%{x}<br>y=%{y}<br>size=%{marker.size}<extra></extra>",
           "hovertext": [
            "green | box | 13"
           ],
           "ids": [
            13
           ],
           "legendgroup": "green, box",
           "marker": {
            "color": "#EF553B",
            "size": [
             19.999999999999996
            ],
            "sizemode": "area",
            "sizeref": 0.25,
            "symbol": "diamond"
           },
           "mode": "markers",
           "name": "green, box",
           "orientation": "v",
           "showlegend": true,
           "type": "scatter",
           "x": [
            1.5
           ],
           "xaxis": "x",
           "y": [
            0.15000000000000002
           ],
           "yaxis": "y"
          },
          {
           "hovertemplate": "<b>%{hovertext}</b><br><br>color=purple<br>type=target<br>frame=34<br>x=%{x}<br>y=%{y}<br>size=%{marker.size}<extra></extra>",
           "hovertext": [
            "purple | target | 15"
           ],
           "ids": [
            15
           ],
           "legendgroup": "purple, target",
           "marker": {
            "color": "#00cc96",
            "size": [
             19.999999999999996
            ],
            "sizemode": "area",
            "sizeref": 0.25,
            "symbol": "circle"
           },
           "mode": "markers",
           "name": "purple, target",
           "orientation": "v",
           "showlegend": true,
           "type": "scatter",
           "x": [
            1.5
           ],
           "xaxis": "x",
           "y": [
            0.85
           ],
           "yaxis": "y"
          },
          {
           "hovertemplate": "<b>%{hovertext}</b><br><br>color=purple<br>type=box<br>frame=34<br>x=%{x}<br>y=%{y}<br>size=%{marker.size}<extra></extra>",
           "hovertext": [
            "purple | box | 6"
           ],
           "ids": [
            6
           ],
           "legendgroup": "purple, box",
           "marker": {
            "color": "#00cc96",
            "size": [
             19.999999999999996
            ],
            "sizemode": "area",
            "sizeref": 0.25,
            "symbol": "diamond"
           },
           "mode": "markers",
           "name": "purple, box",
           "orientation": "v",
           "showlegend": true,
           "type": "scatter",
           "x": [
            1.42
           ],
           "xaxis": "x",
           "y": [
            1.15
           ],
           "yaxis": "y"
          },
          {
           "hovertemplate": "<b>%{hovertext}</b><br><br>color=red<br>type=target<br>frame=34<br>x=%{x}<br>y=%{y}<br>size=%{marker.size}<extra></extra>",
           "hovertext": [
            "red | target | 17"
           ],
           "ids": [
            17
           ],
           "legendgroup": "red, target",
           "marker": {
            "color": "#FFA15A",
            "size": [
             19.999999999999996
            ],
            "sizemode": "area",
            "sizeref": 0.25,
            "symbol": "circle"
           },
           "mode": "markers",
           "name": "red, target",
           "orientation": "v",
           "showlegend": true,
           "type": "scatter",
           "x": [
            1.5
           ],
           "xaxis": "x",
           "y": [
            1.85
           ],
           "yaxis": "y"
          },
          {
           "hovertemplate": "<b>%{hovertext}</b><br><br>color=red<br>type=box<br>frame=34<br>x=%{x}<br>y=%{y}<br>size=%{marker.size}<extra></extra>",
           "hovertext": [
            "red | box | 5"
           ],
           "ids": [
            5
           ],
           "legendgroup": "red, box",
           "marker": {
            "color": "#FFA15A",
            "size": [
             19.999999999999996
            ],
            "sizemode": "area",
            "sizeref": 0.25,
            "symbol": "diamond"
           },
           "mode": "markers",
           "name": "red, box",
           "orientation": "v",
           "showlegend": true,
           "type": "scatter",
           "x": [
            1.5
           ],
           "xaxis": "x",
           "y": [
            1.15
           ],
           "yaxis": "y"
          }
         ],
         "name": "34"
        },
        {
         "data": [
          {
           "hovertemplate": "<b>%{hovertext}</b><br><br>color=blue<br>type=target<br>frame=35<br>x=%{x}<br>y=%{y}<br>size=%{marker.size}<extra></extra>",
           "hovertext": [
            "blue | target | 0",
            "blue | target | 1"
           ],
           "ids": [
            0,
            1
           ],
           "legendgroup": "blue, target",
           "marker": {
            "color": "#636efa",
            "size": [
             0,
             0
            ],
            "sizemode": "area",
            "sizeref": 0.25,
            "symbol": "circle"
           },
           "mode": "markers",
           "name": "blue, target",
           "orientation": "v",
           "showlegend": true,
           "type": "scatter",
           "x": [
            0.35,
            0.5
           ],
           "xaxis": "x",
           "y": [
            0.85,
            0.85
           ],
           "yaxis": "y"
          },
          {
           "hovertemplate": "<b>%{hovertext}</b><br><br>color=blue<br>type=box<br>frame=35<br>x=%{x}<br>y=%{y}<br>size=%{marker.size}<extra></extra>",
           "hovertext": [
            "blue | box | 4",
            "blue | box | 16"
           ],
           "ids": [
            4,
            16
           ],
           "legendgroup": "blue, box",
           "marker": {
            "color": "#636efa",
            "size": [
             0,
             0
            ],
            "sizemode": "area",
            "sizeref": 0.25,
            "symbol": "diamond"
           },
           "mode": "markers",
           "name": "blue, box",
           "orientation": "v",
           "showlegend": true,
           "type": "scatter",
           "x": [
            0.5,
            1.35
           ],
           "xaxis": "x",
           "y": [
            1.15,
            1.15
           ],
           "yaxis": "y"
          },
          {
           "hovertemplate": "<b>%{hovertext}</b><br><br>color=green<br>type=target<br>frame=35<br>x=%{x}<br>y=%{y}<br>size=%{marker.size}<extra></extra>",
           "hovertext": [
            "green | target | 2"
           ],
           "ids": [
            2
           ],
           "legendgroup": "green, target",
           "marker": {
            "color": "#EF553B",
            "size": [
             0
            ],
            "sizemode": "area",
            "sizeref": 0.25,
            "symbol": "circle"
           },
           "mode": "markers",
           "name": "green, target",
           "orientation": "v",
           "showlegend": true,
           "type": "scatter",
           "x": [
            0.65
           ],
           "xaxis": "x",
           "y": [
            0.85
           ],
           "yaxis": "y"
          },
          {
           "hovertemplate": "<b>%{hovertext}</b><br><br>color=green<br>type=box<br>frame=35<br>x=%{x}<br>y=%{y}<br>size=%{marker.size}<extra></extra>",
           "hovertext": [
            "green | box | 13"
           ],
           "ids": [
            13
           ],
           "legendgroup": "green, box",
           "marker": {
            "color": "#EF553B",
            "size": [
             0
            ],
            "sizemode": "area",
            "sizeref": 0.25,
            "symbol": "diamond"
           },
           "mode": "markers",
           "name": "green, box",
           "orientation": "v",
           "showlegend": true,
           "type": "scatter",
           "x": [
            1.5
           ],
           "xaxis": "x",
           "y": [
            0.15000000000000002
           ],
           "yaxis": "y"
          },
          {
           "hovertemplate": "<b>%{hovertext}</b><br><br>color=purple<br>type=target<br>frame=35<br>x=%{x}<br>y=%{y}<br>size=%{marker.size}<extra></extra>",
           "hovertext": [
            "purple | target | 15"
           ],
           "ids": [
            15
           ],
           "legendgroup": "purple, target",
           "marker": {
            "color": "#00cc96",
            "size": [
             0
            ],
            "sizemode": "area",
            "sizeref": 0.25,
            "symbol": "circle"
           },
           "mode": "markers",
           "name": "purple, target",
           "orientation": "v",
           "showlegend": true,
           "type": "scatter",
           "x": [
            1.5
           ],
           "xaxis": "x",
           "y": [
            0.85
           ],
           "yaxis": "y"
          },
          {
           "hovertemplate": "<b>%{hovertext}</b><br><br>color=purple<br>type=box<br>frame=35<br>x=%{x}<br>y=%{y}<br>size=%{marker.size}<extra></extra>",
           "hovertext": [
            "purple | box | 6"
           ],
           "ids": [
            6
           ],
           "legendgroup": "purple, box",
           "marker": {
            "color": "#00cc96",
            "size": [
             0
            ],
            "sizemode": "area",
            "sizeref": 0.25,
            "symbol": "diamond"
           },
           "mode": "markers",
           "name": "purple, box",
           "orientation": "v",
           "showlegend": true,
           "type": "scatter",
           "x": [
            1.65
           ],
           "xaxis": "x",
           "y": [
            1.15
           ],
           "yaxis": "y"
          },
          {
           "hovertemplate": "<b>%{hovertext}</b><br><br>color=red<br>type=target<br>frame=35<br>x=%{x}<br>y=%{y}<br>size=%{marker.size}<extra></extra>",
           "hovertext": [
            "red | target | 17"
           ],
           "ids": [
            17
           ],
           "legendgroup": "red, target",
           "marker": {
            "color": "#FFA15A",
            "size": [
             0
            ],
            "sizemode": "area",
            "sizeref": 0.25,
            "symbol": "circle"
           },
           "mode": "markers",
           "name": "red, target",
           "orientation": "v",
           "showlegend": true,
           "type": "scatter",
           "x": [
            1.5
           ],
           "xaxis": "x",
           "y": [
            1.85
           ],
           "yaxis": "y"
          },
          {
           "hovertemplate": "<b>%{hovertext}</b><br><br>color=red<br>type=box<br>frame=35<br>x=%{x}<br>y=%{y}<br>size=%{marker.size}<extra></extra>",
           "hovertext": [
            "red | box | 5"
           ],
           "ids": [
            5
           ],
           "legendgroup": "red, box",
           "marker": {
            "color": "#FFA15A",
            "size": [
             0
            ],
            "sizemode": "area",
            "sizeref": 0.25,
            "symbol": "diamond"
           },
           "mode": "markers",
           "name": "red, box",
           "orientation": "v",
           "showlegend": true,
           "type": "scatter",
           "x": [
            1.5
           ],
           "xaxis": "x",
           "y": [
            1.15
           ],
           "yaxis": "y"
          }
         ],
         "name": "35"
        },
        {
         "data": [
          {
           "hovertemplate": "<b>%{hovertext}</b><br><br>color=blue<br>type=target<br>frame=36<br>x=%{x}<br>y=%{y}<br>size=%{marker.size}<extra></extra>",
           "hovertext": [
            "blue | target | 0",
            "blue | target | 1"
           ],
           "ids": [
            0,
            1
           ],
           "legendgroup": "blue, target",
           "marker": {
            "color": "#636efa",
            "size": [
             100,
             100
            ],
            "sizemode": "area",
            "sizeref": 0.25,
            "symbol": "circle"
           },
           "mode": "markers",
           "name": "blue, target",
           "orientation": "v",
           "showlegend": true,
           "type": "scatter",
           "x": [
            0.35,
            0.5
           ],
           "xaxis": "x",
           "y": [
            0.85,
            0.85
           ],
           "yaxis": "y"
          },
          {
           "hovertemplate": "<b>%{hovertext}</b><br><br>color=blue<br>type=box<br>frame=36<br>x=%{x}<br>y=%{y}<br>size=%{marker.size}<extra></extra>",
           "hovertext": [
            "blue | box | 4",
            "blue | box | 16"
           ],
           "ids": [
            4,
            16
           ],
           "legendgroup": "blue, box",
           "marker": {
            "color": "#636efa",
            "size": [
             100,
             100
            ],
            "sizemode": "area",
            "sizeref": 0.25,
            "symbol": "diamond"
           },
           "mode": "markers",
           "name": "blue, box",
           "orientation": "v",
           "showlegend": true,
           "type": "scatter",
           "x": [
            0.5,
            1.35
           ],
           "xaxis": "x",
           "y": [
            1.15,
            1.15
           ],
           "yaxis": "y"
          },
          {
           "hovertemplate": "<b>%{hovertext}</b><br><br>color=green<br>type=target<br>frame=36<br>x=%{x}<br>y=%{y}<br>size=%{marker.size}<extra></extra>",
           "hovertext": [
            "green | target | 2"
           ],
           "ids": [
            2
           ],
           "legendgroup": "green, target",
           "marker": {
            "color": "#EF553B",
            "size": [
             100
            ],
            "sizemode": "area",
            "sizeref": 0.25,
            "symbol": "circle"
           },
           "mode": "markers",
           "name": "green, target",
           "orientation": "v",
           "showlegend": true,
           "type": "scatter",
           "x": [
            0.65
           ],
           "xaxis": "x",
           "y": [
            0.85
           ],
           "yaxis": "y"
          },
          {
           "hovertemplate": "<b>%{hovertext}</b><br><br>color=green<br>type=box<br>frame=36<br>x=%{x}<br>y=%{y}<br>size=%{marker.size}<extra></extra>",
           "hovertext": [
            "green | box | 13"
           ],
           "ids": [
            13
           ],
           "legendgroup": "green, box",
           "marker": {
            "color": "#EF553B",
            "size": [
             100
            ],
            "sizemode": "area",
            "sizeref": 0.25,
            "symbol": "diamond"
           },
           "mode": "markers",
           "name": "green, box",
           "orientation": "v",
           "showlegend": true,
           "type": "scatter",
           "x": [
            1.5
           ],
           "xaxis": "x",
           "y": [
            0.15000000000000002
           ],
           "yaxis": "y"
          },
          {
           "hovertemplate": "<b>%{hovertext}</b><br><br>color=purple<br>type=target<br>frame=36<br>x=%{x}<br>y=%{y}<br>size=%{marker.size}<extra></extra>",
           "hovertext": [
            "purple | target | 15"
           ],
           "ids": [
            15
           ],
           "legendgroup": "purple, target",
           "marker": {
            "color": "#00cc96",
            "size": [
             100
            ],
            "sizemode": "area",
            "sizeref": 0.25,
            "symbol": "circle"
           },
           "mode": "markers",
           "name": "purple, target",
           "orientation": "v",
           "showlegend": true,
           "type": "scatter",
           "x": [
            1.5
           ],
           "xaxis": "x",
           "y": [
            0.85
           ],
           "yaxis": "y"
          },
          {
           "hovertemplate": "<b>%{hovertext}</b><br><br>color=purple<br>type=box<br>frame=36<br>x=%{x}<br>y=%{y}<br>size=%{marker.size}<extra></extra>",
           "hovertext": [
            "purple | box | 6"
           ],
           "ids": [
            6
           ],
           "legendgroup": "purple, box",
           "marker": {
            "color": "#00cc96",
            "size": [
             100
            ],
            "sizemode": "area",
            "sizeref": 0.25,
            "symbol": "diamond"
           },
           "mode": "markers",
           "name": "purple, box",
           "orientation": "v",
           "showlegend": true,
           "type": "scatter",
           "x": [
            1.65
           ],
           "xaxis": "x",
           "y": [
            1.15
           ],
           "yaxis": "y"
          },
          {
           "hovertemplate": "<b>%{hovertext}</b><br><br>color=red<br>type=target<br>frame=36<br>x=%{x}<br>y=%{y}<br>size=%{marker.size}<extra></extra>",
           "hovertext": [
            "red | target | 17"
           ],
           "ids": [
            17
           ],
           "legendgroup": "red, target",
           "marker": {
            "color": "#FFA15A",
            "size": [
             100
            ],
            "sizemode": "area",
            "sizeref": 0.25,
            "symbol": "circle"
           },
           "mode": "markers",
           "name": "red, target",
           "orientation": "v",
           "showlegend": true,
           "type": "scatter",
           "x": [
            1.5
           ],
           "xaxis": "x",
           "y": [
            1.85
           ],
           "yaxis": "y"
          },
          {
           "hovertemplate": "<b>%{hovertext}</b><br><br>color=red<br>type=box<br>frame=36<br>x=%{x}<br>y=%{y}<br>size=%{marker.size}<extra></extra>",
           "hovertext": [
            "red | box | 5"
           ],
           "ids": [
            5
           ],
           "legendgroup": "red, box",
           "marker": {
            "color": "#FFA15A",
            "size": [
             100
            ],
            "sizemode": "area",
            "sizeref": 0.25,
            "symbol": "diamond"
           },
           "mode": "markers",
           "name": "red, box",
           "orientation": "v",
           "showlegend": true,
           "type": "scatter",
           "x": [
            1.5
           ],
           "xaxis": "x",
           "y": [
            1.15
           ],
           "yaxis": "y"
          }
         ],
         "name": "36"
        },
        {
         "data": [
          {
           "hovertemplate": "<b>%{hovertext}</b><br><br>color=blue<br>type=target<br>frame=37<br>x=%{x}<br>y=%{y}<br>size=%{marker.size}<extra></extra>",
           "hovertext": [
            "blue | target | 0",
            "blue | target | 1"
           ],
           "ids": [
            0,
            1
           ],
           "legendgroup": "blue, target",
           "marker": {
            "color": "#636efa",
            "size": [
             80,
             80
            ],
            "sizemode": "area",
            "sizeref": 0.25,
            "symbol": "circle"
           },
           "mode": "markers",
           "name": "blue, target",
           "orientation": "v",
           "showlegend": true,
           "type": "scatter",
           "x": [
            0.35,
            0.5
           ],
           "xaxis": "x",
           "y": [
            0.8500000000000001,
            0.8500000000000001
           ],
           "yaxis": "y"
          },
          {
           "hovertemplate": "<b>%{hovertext}</b><br><br>color=blue<br>type=box<br>frame=37<br>x=%{x}<br>y=%{y}<br>size=%{marker.size}<extra></extra>",
           "hovertext": [
            "blue | box | 4",
            "blue | box | 16"
           ],
           "ids": [
            4,
            16
           ],
           "legendgroup": "blue, box",
           "marker": {
            "color": "#636efa",
            "size": [
             80,
             80
            ],
            "sizemode": "area",
            "sizeref": 0.25,
            "symbol": "diamond"
           },
           "mode": "markers",
           "name": "blue, box",
           "orientation": "v",
           "showlegend": true,
           "type": "scatter",
           "x": [
            0.5,
            1.35
           ],
           "xaxis": "x",
           "y": [
            1.15,
            1.15
           ],
           "yaxis": "y"
          },
          {
           "hovertemplate": "<b>%{hovertext}</b><br><br>color=green<br>type=target<br>frame=37<br>x=%{x}<br>y=%{y}<br>size=%{marker.size}<extra></extra>",
           "hovertext": [
            "green | target | 2"
           ],
           "ids": [
            2
           ],
           "legendgroup": "green, target",
           "marker": {
            "color": "#EF553B",
            "size": [
             80
            ],
            "sizemode": "area",
            "sizeref": 0.25,
            "symbol": "circle"
           },
           "mode": "markers",
           "name": "green, target",
           "orientation": "v",
           "showlegend": true,
           "type": "scatter",
           "x": [
            0.65
           ],
           "xaxis": "x",
           "y": [
            0.8500000000000001
           ],
           "yaxis": "y"
          },
          {
           "hovertemplate": "<b>%{hovertext}</b><br><br>color=green<br>type=box<br>frame=37<br>x=%{x}<br>y=%{y}<br>size=%{marker.size}<extra></extra>",
           "hovertext": [
            "green | box | 13"
           ],
           "ids": [
            13
           ],
           "legendgroup": "green, box",
           "marker": {
            "color": "#EF553B",
            "size": [
             80
            ],
            "sizemode": "area",
            "sizeref": 0.25,
            "symbol": "diamond"
           },
           "mode": "markers",
           "name": "green, box",
           "orientation": "v",
           "showlegend": true,
           "type": "scatter",
           "x": [
            1.5000000000000002
           ],
           "xaxis": "x",
           "y": [
            0.15000000000000002
           ],
           "yaxis": "y"
          },
          {
           "hovertemplate": "<b>%{hovertext}</b><br><br>color=purple<br>type=target<br>frame=37<br>x=%{x}<br>y=%{y}<br>size=%{marker.size}<extra></extra>",
           "hovertext": [
            "purple | target | 15"
           ],
           "ids": [
            15
           ],
           "legendgroup": "purple, target",
           "marker": {
            "color": "#00cc96",
            "size": [
             80
            ],
            "sizemode": "area",
            "sizeref": 0.25,
            "symbol": "circle"
           },
           "mode": "markers",
           "name": "purple, target",
           "orientation": "v",
           "showlegend": true,
           "type": "scatter",
           "x": [
            1.5000000000000002
           ],
           "xaxis": "x",
           "y": [
            0.8500000000000001
           ],
           "yaxis": "y"
          },
          {
           "hovertemplate": "<b>%{hovertext}</b><br><br>color=purple<br>type=box<br>frame=37<br>x=%{x}<br>y=%{y}<br>size=%{marker.size}<extra></extra>",
           "hovertext": [
            "purple | box | 6"
           ],
           "ids": [
            6
           ],
           "legendgroup": "purple, box",
           "marker": {
            "color": "#00cc96",
            "size": [
             80
            ],
            "sizemode": "area",
            "sizeref": 0.25,
            "symbol": "diamond"
           },
           "mode": "markers",
           "name": "purple, box",
           "orientation": "v",
           "showlegend": true,
           "type": "scatter",
           "x": [
            1.62
           ],
           "xaxis": "x",
           "y": [
            1.15
           ],
           "yaxis": "y"
          },
          {
           "hovertemplate": "<b>%{hovertext}</b><br><br>color=red<br>type=target<br>frame=37<br>x=%{x}<br>y=%{y}<br>size=%{marker.size}<extra></extra>",
           "hovertext": [
            "red | target | 17"
           ],
           "ids": [
            17
           ],
           "legendgroup": "red, target",
           "marker": {
            "color": "#FFA15A",
            "size": [
             80
            ],
            "sizemode": "area",
            "sizeref": 0.25,
            "symbol": "circle"
           },
           "mode": "markers",
           "name": "red, target",
           "orientation": "v",
           "showlegend": true,
           "type": "scatter",
           "x": [
            1.5000000000000002
           ],
           "xaxis": "x",
           "y": [
            1.7800000000000002
           ],
           "yaxis": "y"
          },
          {
           "hovertemplate": "<b>%{hovertext}</b><br><br>color=red<br>type=box<br>frame=37<br>x=%{x}<br>y=%{y}<br>size=%{marker.size}<extra></extra>",
           "hovertext": [
            "red | box | 5"
           ],
           "ids": [
            5
           ],
           "legendgroup": "red, box",
           "marker": {
            "color": "#FFA15A",
            "size": [
             80
            ],
            "sizemode": "area",
            "sizeref": 0.25,
            "symbol": "diamond"
           },
           "mode": "markers",
           "name": "red, box",
           "orientation": "v",
           "showlegend": true,
           "type": "scatter",
           "x": [
            1.5000000000000002
           ],
           "xaxis": "x",
           "y": [
            1.22
           ],
           "yaxis": "y"
          }
         ],
         "name": "37"
        },
        {
         "data": [
          {
           "hovertemplate": "<b>%{hovertext}</b><br><br>color=blue<br>type=target<br>frame=38<br>x=%{x}<br>y=%{y}<br>size=%{marker.size}<extra></extra>",
           "hovertext": [
            "blue | target | 0",
            "blue | target | 1"
           ],
           "ids": [
            0,
            1
           ],
           "legendgroup": "blue, target",
           "marker": {
            "color": "#636efa",
            "size": [
             60,
             60
            ],
            "sizemode": "area",
            "sizeref": 0.25,
            "symbol": "circle"
           },
           "mode": "markers",
           "name": "blue, target",
           "orientation": "v",
           "showlegend": true,
           "type": "scatter",
           "x": [
            0.35,
            0.5
           ],
           "xaxis": "x",
           "y": [
            0.8500000000000001,
            0.8500000000000001
           ],
           "yaxis": "y"
          },
          {
           "hovertemplate": "<b>%{hovertext}</b><br><br>color=blue<br>type=box<br>frame=38<br>x=%{x}<br>y=%{y}<br>size=%{marker.size}<extra></extra>",
           "hovertext": [
            "blue | box | 4",
            "blue | box | 16"
           ],
           "ids": [
            4,
            16
           ],
           "legendgroup": "blue, box",
           "marker": {
            "color": "#636efa",
            "size": [
             60,
             60
            ],
            "sizemode": "area",
            "sizeref": 0.25,
            "symbol": "diamond"
           },
           "mode": "markers",
           "name": "blue, box",
           "orientation": "v",
           "showlegend": true,
           "type": "scatter",
           "x": [
            0.5,
            1.35
           ],
           "xaxis": "x",
           "y": [
            1.15,
            1.15
           ],
           "yaxis": "y"
          },
          {
           "hovertemplate": "<b>%{hovertext}</b><br><br>color=green<br>type=target<br>frame=38<br>x=%{x}<br>y=%{y}<br>size=%{marker.size}<extra></extra>",
           "hovertext": [
            "green | target | 2"
           ],
           "ids": [
            2
           ],
           "legendgroup": "green, target",
           "marker": {
            "color": "#EF553B",
            "size": [
             60
            ],
            "sizemode": "area",
            "sizeref": 0.25,
            "symbol": "circle"
           },
           "mode": "markers",
           "name": "green, target",
           "orientation": "v",
           "showlegend": true,
           "type": "scatter",
           "x": [
            0.65
           ],
           "xaxis": "x",
           "y": [
            0.8500000000000001
           ],
           "yaxis": "y"
          },
          {
           "hovertemplate": "<b>%{hovertext}</b><br><br>color=green<br>type=box<br>frame=38<br>x=%{x}<br>y=%{y}<br>size=%{marker.size}<extra></extra>",
           "hovertext": [
            "green | box | 13"
           ],
           "ids": [
            13
           ],
           "legendgroup": "green, box",
           "marker": {
            "color": "#EF553B",
            "size": [
             60
            ],
            "sizemode": "area",
            "sizeref": 0.25,
            "symbol": "diamond"
           },
           "mode": "markers",
           "name": "green, box",
           "orientation": "v",
           "showlegend": true,
           "type": "scatter",
           "x": [
            1.5
           ],
           "xaxis": "x",
           "y": [
            0.15000000000000002
           ],
           "yaxis": "y"
          },
          {
           "hovertemplate": "<b>%{hovertext}</b><br><br>color=purple<br>type=target<br>frame=38<br>x=%{x}<br>y=%{y}<br>size=%{marker.size}<extra></extra>",
           "hovertext": [
            "purple | target | 15"
           ],
           "ids": [
            15
           ],
           "legendgroup": "purple, target",
           "marker": {
            "color": "#00cc96",
            "size": [
             60
            ],
            "sizemode": "area",
            "sizeref": 0.25,
            "symbol": "circle"
           },
           "mode": "markers",
           "name": "purple, target",
           "orientation": "v",
           "showlegend": true,
           "type": "scatter",
           "x": [
            1.5
           ],
           "xaxis": "x",
           "y": [
            0.8500000000000001
           ],
           "yaxis": "y"
          },
          {
           "hovertemplate": "<b>%{hovertext}</b><br><br>color=purple<br>type=box<br>frame=38<br>x=%{x}<br>y=%{y}<br>size=%{marker.size}<extra></extra>",
           "hovertext": [
            "purple | box | 6"
           ],
           "ids": [
            6
           ],
           "legendgroup": "purple, box",
           "marker": {
            "color": "#00cc96",
            "size": [
             60
            ],
            "sizemode": "area",
            "sizeref": 0.25,
            "symbol": "diamond"
           },
           "mode": "markers",
           "name": "purple, box",
           "orientation": "v",
           "showlegend": true,
           "type": "scatter",
           "x": [
            1.5899999999999999
           ],
           "xaxis": "x",
           "y": [
            1.15
           ],
           "yaxis": "y"
          },
          {
           "hovertemplate": "<b>%{hovertext}</b><br><br>color=red<br>type=target<br>frame=38<br>x=%{x}<br>y=%{y}<br>size=%{marker.size}<extra></extra>",
           "hovertext": [
            "red | target | 17"
           ],
           "ids": [
            17
           ],
           "legendgroup": "red, target",
           "marker": {
            "color": "#FFA15A",
            "size": [
             60
            ],
            "sizemode": "area",
            "sizeref": 0.25,
            "symbol": "circle"
           },
           "mode": "markers",
           "name": "red, target",
           "orientation": "v",
           "showlegend": true,
           "type": "scatter",
           "x": [
            1.5
           ],
           "xaxis": "x",
           "y": [
            1.7100000000000002
           ],
           "yaxis": "y"
          },
          {
           "hovertemplate": "<b>%{hovertext}</b><br><br>color=red<br>type=box<br>frame=38<br>x=%{x}<br>y=%{y}<br>size=%{marker.size}<extra></extra>",
           "hovertext": [
            "red | box | 5"
           ],
           "ids": [
            5
           ],
           "legendgroup": "red, box",
           "marker": {
            "color": "#FFA15A",
            "size": [
             60
            ],
            "sizemode": "area",
            "sizeref": 0.25,
            "symbol": "diamond"
           },
           "mode": "markers",
           "name": "red, box",
           "orientation": "v",
           "showlegend": true,
           "type": "scatter",
           "x": [
            1.5
           ],
           "xaxis": "x",
           "y": [
            1.29
           ],
           "yaxis": "y"
          }
         ],
         "name": "38"
        },
        {
         "data": [
          {
           "hovertemplate": "<b>%{hovertext}</b><br><br>color=blue<br>type=target<br>frame=39<br>x=%{x}<br>y=%{y}<br>size=%{marker.size}<extra></extra>",
           "hovertext": [
            "blue | target | 0",
            "blue | target | 1"
           ],
           "ids": [
            0,
            1
           ],
           "legendgroup": "blue, target",
           "marker": {
            "color": "#636efa",
            "size": [
             40,
             40
            ],
            "sizemode": "area",
            "sizeref": 0.25,
            "symbol": "circle"
           },
           "mode": "markers",
           "name": "blue, target",
           "orientation": "v",
           "showlegend": true,
           "type": "scatter",
           "x": [
            0.35,
            0.5
           ],
           "xaxis": "x",
           "y": [
            0.8500000000000001,
            0.8500000000000001
           ],
           "yaxis": "y"
          },
          {
           "hovertemplate": "<b>%{hovertext}</b><br><br>color=blue<br>type=box<br>frame=39<br>x=%{x}<br>y=%{y}<br>size=%{marker.size}<extra></extra>",
           "hovertext": [
            "blue | box | 4",
            "blue | box | 16"
           ],
           "ids": [
            4,
            16
           ],
           "legendgroup": "blue, box",
           "marker": {
            "color": "#636efa",
            "size": [
             40,
             40
            ],
            "sizemode": "area",
            "sizeref": 0.25,
            "symbol": "diamond"
           },
           "mode": "markers",
           "name": "blue, box",
           "orientation": "v",
           "showlegend": true,
           "type": "scatter",
           "x": [
            0.5,
            1.35
           ],
           "xaxis": "x",
           "y": [
            1.15,
            1.15
           ],
           "yaxis": "y"
          },
          {
           "hovertemplate": "<b>%{hovertext}</b><br><br>color=green<br>type=target<br>frame=39<br>x=%{x}<br>y=%{y}<br>size=%{marker.size}<extra></extra>",
           "hovertext": [
            "green | target | 2"
           ],
           "ids": [
            2
           ],
           "legendgroup": "green, target",
           "marker": {
            "color": "#EF553B",
            "size": [
             40
            ],
            "sizemode": "area",
            "sizeref": 0.25,
            "symbol": "circle"
           },
           "mode": "markers",
           "name": "green, target",
           "orientation": "v",
           "showlegend": true,
           "type": "scatter",
           "x": [
            0.65
           ],
           "xaxis": "x",
           "y": [
            0.8500000000000001
           ],
           "yaxis": "y"
          },
          {
           "hovertemplate": "<b>%{hovertext}</b><br><br>color=green<br>type=box<br>frame=39<br>x=%{x}<br>y=%{y}<br>size=%{marker.size}<extra></extra>",
           "hovertext": [
            "green | box | 13"
           ],
           "ids": [
            13
           ],
           "legendgroup": "green, box",
           "marker": {
            "color": "#EF553B",
            "size": [
             40
            ],
            "sizemode": "area",
            "sizeref": 0.25,
            "symbol": "diamond"
           },
           "mode": "markers",
           "name": "green, box",
           "orientation": "v",
           "showlegend": true,
           "type": "scatter",
           "x": [
            1.5
           ],
           "xaxis": "x",
           "y": [
            0.15000000000000002
           ],
           "yaxis": "y"
          },
          {
           "hovertemplate": "<b>%{hovertext}</b><br><br>color=purple<br>type=target<br>frame=39<br>x=%{x}<br>y=%{y}<br>size=%{marker.size}<extra></extra>",
           "hovertext": [
            "purple | target | 15"
           ],
           "ids": [
            15
           ],
           "legendgroup": "purple, target",
           "marker": {
            "color": "#00cc96",
            "size": [
             40
            ],
            "sizemode": "area",
            "sizeref": 0.25,
            "symbol": "circle"
           },
           "mode": "markers",
           "name": "purple, target",
           "orientation": "v",
           "showlegend": true,
           "type": "scatter",
           "x": [
            1.5
           ],
           "xaxis": "x",
           "y": [
            0.8500000000000001
           ],
           "yaxis": "y"
          },
          {
           "hovertemplate": "<b>%{hovertext}</b><br><br>color=purple<br>type=box<br>frame=39<br>x=%{x}<br>y=%{y}<br>size=%{marker.size}<extra></extra>",
           "hovertext": [
            "purple | box | 6"
           ],
           "ids": [
            6
           ],
           "legendgroup": "purple, box",
           "marker": {
            "color": "#00cc96",
            "size": [
             40
            ],
            "sizemode": "area",
            "sizeref": 0.25,
            "symbol": "diamond"
           },
           "mode": "markers",
           "name": "purple, box",
           "orientation": "v",
           "showlegend": true,
           "type": "scatter",
           "x": [
            1.56
           ],
           "xaxis": "x",
           "y": [
            1.15
           ],
           "yaxis": "y"
          },
          {
           "hovertemplate": "<b>%{hovertext}</b><br><br>color=red<br>type=target<br>frame=39<br>x=%{x}<br>y=%{y}<br>size=%{marker.size}<extra></extra>",
           "hovertext": [
            "red | target | 17"
           ],
           "ids": [
            17
           ],
           "legendgroup": "red, target",
           "marker": {
            "color": "#FFA15A",
            "size": [
             40
            ],
            "sizemode": "area",
            "sizeref": 0.25,
            "symbol": "circle"
           },
           "mode": "markers",
           "name": "red, target",
           "orientation": "v",
           "showlegend": true,
           "type": "scatter",
           "x": [
            1.5
           ],
           "xaxis": "x",
           "y": [
            1.6400000000000001
           ],
           "yaxis": "y"
          },
          {
           "hovertemplate": "<b>%{hovertext}</b><br><br>color=red<br>type=box<br>frame=39<br>x=%{x}<br>y=%{y}<br>size=%{marker.size}<extra></extra>",
           "hovertext": [
            "red | box | 5"
           ],
           "ids": [
            5
           ],
           "legendgroup": "red, box",
           "marker": {
            "color": "#FFA15A",
            "size": [
             40
            ],
            "sizemode": "area",
            "sizeref": 0.25,
            "symbol": "diamond"
           },
           "mode": "markers",
           "name": "red, box",
           "orientation": "v",
           "showlegend": true,
           "type": "scatter",
           "x": [
            1.5
           ],
           "xaxis": "x",
           "y": [
            1.3599999999999999
           ],
           "yaxis": "y"
          }
         ],
         "name": "39"
        },
        {
         "data": [
          {
           "hovertemplate": "<b>%{hovertext}</b><br><br>color=blue<br>type=target<br>frame=40<br>x=%{x}<br>y=%{y}<br>size=%{marker.size}<extra></extra>",
           "hovertext": [
            "blue | target | 0",
            "blue | target | 1"
           ],
           "ids": [
            0,
            1
           ],
           "legendgroup": "blue, target",
           "marker": {
            "color": "#636efa",
            "size": [
             19.999999999999996,
             19.999999999999996
            ],
            "sizemode": "area",
            "sizeref": 0.25,
            "symbol": "circle"
           },
           "mode": "markers",
           "name": "blue, target",
           "orientation": "v",
           "showlegend": true,
           "type": "scatter",
           "x": [
            0.35,
            0.5
           ],
           "xaxis": "x",
           "y": [
            0.85,
            0.85
           ],
           "yaxis": "y"
          },
          {
           "hovertemplate": "<b>%{hovertext}</b><br><br>color=blue<br>type=box<br>frame=40<br>x=%{x}<br>y=%{y}<br>size=%{marker.size}<extra></extra>",
           "hovertext": [
            "blue | box | 4",
            "blue | box | 16"
           ],
           "ids": [
            4,
            16
           ],
           "legendgroup": "blue, box",
           "marker": {
            "color": "#636efa",
            "size": [
             19.999999999999996,
             19.999999999999996
            ],
            "sizemode": "area",
            "sizeref": 0.25,
            "symbol": "diamond"
           },
           "mode": "markers",
           "name": "blue, box",
           "orientation": "v",
           "showlegend": true,
           "type": "scatter",
           "x": [
            0.5,
            1.35
           ],
           "xaxis": "x",
           "y": [
            1.15,
            1.15
           ],
           "yaxis": "y"
          },
          {
           "hovertemplate": "<b>%{hovertext}</b><br><br>color=green<br>type=target<br>frame=40<br>x=%{x}<br>y=%{y}<br>size=%{marker.size}<extra></extra>",
           "hovertext": [
            "green | target | 2"
           ],
           "ids": [
            2
           ],
           "legendgroup": "green, target",
           "marker": {
            "color": "#EF553B",
            "size": [
             19.999999999999996
            ],
            "sizemode": "area",
            "sizeref": 0.25,
            "symbol": "circle"
           },
           "mode": "markers",
           "name": "green, target",
           "orientation": "v",
           "showlegend": true,
           "type": "scatter",
           "x": [
            0.65
           ],
           "xaxis": "x",
           "y": [
            0.85
           ],
           "yaxis": "y"
          },
          {
           "hovertemplate": "<b>%{hovertext}</b><br><br>color=green<br>type=box<br>frame=40<br>x=%{x}<br>y=%{y}<br>size=%{marker.size}<extra></extra>",
           "hovertext": [
            "green | box | 13"
           ],
           "ids": [
            13
           ],
           "legendgroup": "green, box",
           "marker": {
            "color": "#EF553B",
            "size": [
             19.999999999999996
            ],
            "sizemode": "area",
            "sizeref": 0.25,
            "symbol": "diamond"
           },
           "mode": "markers",
           "name": "green, box",
           "orientation": "v",
           "showlegend": true,
           "type": "scatter",
           "x": [
            1.5
           ],
           "xaxis": "x",
           "y": [
            0.15000000000000002
           ],
           "yaxis": "y"
          },
          {
           "hovertemplate": "<b>%{hovertext}</b><br><br>color=purple<br>type=target<br>frame=40<br>x=%{x}<br>y=%{y}<br>size=%{marker.size}<extra></extra>",
           "hovertext": [
            "purple | target | 15"
           ],
           "ids": [
            15
           ],
           "legendgroup": "purple, target",
           "marker": {
            "color": "#00cc96",
            "size": [
             19.999999999999996
            ],
            "sizemode": "area",
            "sizeref": 0.25,
            "symbol": "circle"
           },
           "mode": "markers",
           "name": "purple, target",
           "orientation": "v",
           "showlegend": true,
           "type": "scatter",
           "x": [
            1.5
           ],
           "xaxis": "x",
           "y": [
            0.85
           ],
           "yaxis": "y"
          },
          {
           "hovertemplate": "<b>%{hovertext}</b><br><br>color=purple<br>type=box<br>frame=40<br>x=%{x}<br>y=%{y}<br>size=%{marker.size}<extra></extra>",
           "hovertext": [
            "purple | box | 6"
           ],
           "ids": [
            6
           ],
           "legendgroup": "purple, box",
           "marker": {
            "color": "#00cc96",
            "size": [
             19.999999999999996
            ],
            "sizemode": "area",
            "sizeref": 0.25,
            "symbol": "diamond"
           },
           "mode": "markers",
           "name": "purple, box",
           "orientation": "v",
           "showlegend": true,
           "type": "scatter",
           "x": [
            1.53
           ],
           "xaxis": "x",
           "y": [
            1.15
           ],
           "yaxis": "y"
          },
          {
           "hovertemplate": "<b>%{hovertext}</b><br><br>color=red<br>type=target<br>frame=40<br>x=%{x}<br>y=%{y}<br>size=%{marker.size}<extra></extra>",
           "hovertext": [
            "red | target | 17"
           ],
           "ids": [
            17
           ],
           "legendgroup": "red, target",
           "marker": {
            "color": "#FFA15A",
            "size": [
             19.999999999999996
            ],
            "sizemode": "area",
            "sizeref": 0.25,
            "symbol": "circle"
           },
           "mode": "markers",
           "name": "red, target",
           "orientation": "v",
           "showlegend": true,
           "type": "scatter",
           "x": [
            1.5
           ],
           "xaxis": "x",
           "y": [
            1.57
           ],
           "yaxis": "y"
          },
          {
           "hovertemplate": "<b>%{hovertext}</b><br><br>color=red<br>type=box<br>frame=40<br>x=%{x}<br>y=%{y}<br>size=%{marker.size}<extra></extra>",
           "hovertext": [
            "red | box | 5"
           ],
           "ids": [
            5
           ],
           "legendgroup": "red, box",
           "marker": {
            "color": "#FFA15A",
            "size": [
             19.999999999999996
            ],
            "sizemode": "area",
            "sizeref": 0.25,
            "symbol": "diamond"
           },
           "mode": "markers",
           "name": "red, box",
           "orientation": "v",
           "showlegend": true,
           "type": "scatter",
           "x": [
            1.5
           ],
           "xaxis": "x",
           "y": [
            1.4300000000000002
           ],
           "yaxis": "y"
          }
         ],
         "name": "40"
        },
        {
         "data": [
          {
           "hovertemplate": "<b>%{hovertext}</b><br><br>color=blue<br>type=target<br>frame=41<br>x=%{x}<br>y=%{y}<br>size=%{marker.size}<extra></extra>",
           "hovertext": [
            "blue | target | 0",
            "blue | target | 1"
           ],
           "ids": [
            0,
            1
           ],
           "legendgroup": "blue, target",
           "marker": {
            "color": "#636efa",
            "size": [
             0,
             0
            ],
            "sizemode": "area",
            "sizeref": 0.25,
            "symbol": "circle"
           },
           "mode": "markers",
           "name": "blue, target",
           "orientation": "v",
           "showlegend": true,
           "type": "scatter",
           "x": [
            0.35,
            0.5
           ],
           "xaxis": "x",
           "y": [
            0.85,
            0.85
           ],
           "yaxis": "y"
          },
          {
           "hovertemplate": "<b>%{hovertext}</b><br><br>color=blue<br>type=box<br>frame=41<br>x=%{x}<br>y=%{y}<br>size=%{marker.size}<extra></extra>",
           "hovertext": [
            "blue | box | 4",
            "blue | box | 16"
           ],
           "ids": [
            4,
            16
           ],
           "legendgroup": "blue, box",
           "marker": {
            "color": "#636efa",
            "size": [
             0,
             0
            ],
            "sizemode": "area",
            "sizeref": 0.25,
            "symbol": "diamond"
           },
           "mode": "markers",
           "name": "blue, box",
           "orientation": "v",
           "showlegend": true,
           "type": "scatter",
           "x": [
            0.5,
            1.35
           ],
           "xaxis": "x",
           "y": [
            1.15,
            1.15
           ],
           "yaxis": "y"
          },
          {
           "hovertemplate": "<b>%{hovertext}</b><br><br>color=green<br>type=target<br>frame=41<br>x=%{x}<br>y=%{y}<br>size=%{marker.size}<extra></extra>",
           "hovertext": [
            "green | target | 2"
           ],
           "ids": [
            2
           ],
           "legendgroup": "green, target",
           "marker": {
            "color": "#EF553B",
            "size": [
             0
            ],
            "sizemode": "area",
            "sizeref": 0.25,
            "symbol": "circle"
           },
           "mode": "markers",
           "name": "green, target",
           "orientation": "v",
           "showlegend": true,
           "type": "scatter",
           "x": [
            0.65
           ],
           "xaxis": "x",
           "y": [
            0.85
           ],
           "yaxis": "y"
          },
          {
           "hovertemplate": "<b>%{hovertext}</b><br><br>color=green<br>type=box<br>frame=41<br>x=%{x}<br>y=%{y}<br>size=%{marker.size}<extra></extra>",
           "hovertext": [
            "green | box | 13"
           ],
           "ids": [
            13
           ],
           "legendgroup": "green, box",
           "marker": {
            "color": "#EF553B",
            "size": [
             0
            ],
            "sizemode": "area",
            "sizeref": 0.25,
            "symbol": "diamond"
           },
           "mode": "markers",
           "name": "green, box",
           "orientation": "v",
           "showlegend": true,
           "type": "scatter",
           "x": [
            1.5
           ],
           "xaxis": "x",
           "y": [
            0.15000000000000002
           ],
           "yaxis": "y"
          },
          {
           "hovertemplate": "<b>%{hovertext}</b><br><br>color=purple<br>type=target<br>frame=41<br>x=%{x}<br>y=%{y}<br>size=%{marker.size}<extra></extra>",
           "hovertext": [
            "purple | target | 15"
           ],
           "ids": [
            15
           ],
           "legendgroup": "purple, target",
           "marker": {
            "color": "#00cc96",
            "size": [
             0
            ],
            "sizemode": "area",
            "sizeref": 0.25,
            "symbol": "circle"
           },
           "mode": "markers",
           "name": "purple, target",
           "orientation": "v",
           "showlegend": true,
           "type": "scatter",
           "x": [
            1.5
           ],
           "xaxis": "x",
           "y": [
            0.85
           ],
           "yaxis": "y"
          },
          {
           "hovertemplate": "<b>%{hovertext}</b><br><br>color=purple<br>type=box<br>frame=41<br>x=%{x}<br>y=%{y}<br>size=%{marker.size}<extra></extra>",
           "hovertext": [
            "purple | box | 6"
           ],
           "ids": [
            6
           ],
           "legendgroup": "purple, box",
           "marker": {
            "color": "#00cc96",
            "size": [
             0
            ],
            "sizemode": "area",
            "sizeref": 0.25,
            "symbol": "diamond"
           },
           "mode": "markers",
           "name": "purple, box",
           "orientation": "v",
           "showlegend": true,
           "type": "scatter",
           "x": [
            1.5
           ],
           "xaxis": "x",
           "y": [
            1.15
           ],
           "yaxis": "y"
          },
          {
           "hovertemplate": "<b>%{hovertext}</b><br><br>color=red<br>type=target<br>frame=41<br>x=%{x}<br>y=%{y}<br>size=%{marker.size}<extra></extra>",
           "hovertext": [
            "red | target | 17"
           ],
           "ids": [
            17
           ],
           "legendgroup": "red, target",
           "marker": {
            "color": "#FFA15A",
            "size": [
             0
            ],
            "sizemode": "area",
            "sizeref": 0.25,
            "symbol": "circle"
           },
           "mode": "markers",
           "name": "red, target",
           "orientation": "v",
           "showlegend": true,
           "type": "scatter",
           "x": [
            1.5
           ],
           "xaxis": "x",
           "y": [
            1.5
           ],
           "yaxis": "y"
          },
          {
           "hovertemplate": "<b>%{hovertext}</b><br><br>color=red<br>type=box<br>frame=41<br>x=%{x}<br>y=%{y}<br>size=%{marker.size}<extra></extra>",
           "hovertext": [
            "red | box | 5"
           ],
           "ids": [
            5
           ],
           "legendgroup": "red, box",
           "marker": {
            "color": "#FFA15A",
            "size": [
             0
            ],
            "sizemode": "area",
            "sizeref": 0.25,
            "symbol": "diamond"
           },
           "mode": "markers",
           "name": "red, box",
           "orientation": "v",
           "showlegend": true,
           "type": "scatter",
           "x": [
            1.5
           ],
           "xaxis": "x",
           "y": [
            1.5
           ],
           "yaxis": "y"
          }
         ],
         "name": "41"
        },
        {
         "data": [
          {
           "hovertemplate": "<b>%{hovertext}</b><br><br>color=blue<br>type=target<br>frame=42<br>x=%{x}<br>y=%{y}<br>size=%{marker.size}<extra></extra>",
           "hovertext": [
            "blue | target | 0",
            "blue | target | 1"
           ],
           "ids": [
            0,
            1
           ],
           "legendgroup": "blue, target",
           "marker": {
            "color": "#636efa",
            "size": [
             100,
             100
            ],
            "sizemode": "area",
            "sizeref": 0.25,
            "symbol": "circle"
           },
           "mode": "markers",
           "name": "blue, target",
           "orientation": "v",
           "showlegend": true,
           "type": "scatter",
           "x": [
            0.35,
            0.5
           ],
           "xaxis": "x",
           "y": [
            0.85,
            0.85
           ],
           "yaxis": "y"
          },
          {
           "hovertemplate": "<b>%{hovertext}</b><br><br>color=blue<br>type=box<br>frame=42<br>x=%{x}<br>y=%{y}<br>size=%{marker.size}<extra></extra>",
           "hovertext": [
            "blue | box | 4",
            "blue | box | 16"
           ],
           "ids": [
            4,
            16
           ],
           "legendgroup": "blue, box",
           "marker": {
            "color": "#636efa",
            "size": [
             100,
             100
            ],
            "sizemode": "area",
            "sizeref": 0.25,
            "symbol": "diamond"
           },
           "mode": "markers",
           "name": "blue, box",
           "orientation": "v",
           "showlegend": true,
           "type": "scatter",
           "x": [
            0.5,
            1.35
           ],
           "xaxis": "x",
           "y": [
            1.15,
            1.15
           ],
           "yaxis": "y"
          },
          {
           "hovertemplate": "<b>%{hovertext}</b><br><br>color=green<br>type=target<br>frame=42<br>x=%{x}<br>y=%{y}<br>size=%{marker.size}<extra></extra>",
           "hovertext": [
            "green | target | 2"
           ],
           "ids": [
            2
           ],
           "legendgroup": "green, target",
           "marker": {
            "color": "#EF553B",
            "size": [
             100
            ],
            "sizemode": "area",
            "sizeref": 0.25,
            "symbol": "circle"
           },
           "mode": "markers",
           "name": "green, target",
           "orientation": "v",
           "showlegend": true,
           "type": "scatter",
           "x": [
            0.65
           ],
           "xaxis": "x",
           "y": [
            0.85
           ],
           "yaxis": "y"
          },
          {
           "hovertemplate": "<b>%{hovertext}</b><br><br>color=green<br>type=box<br>frame=42<br>x=%{x}<br>y=%{y}<br>size=%{marker.size}<extra></extra>",
           "hovertext": [
            "green | box | 13"
           ],
           "ids": [
            13
           ],
           "legendgroup": "green, box",
           "marker": {
            "color": "#EF553B",
            "size": [
             100
            ],
            "sizemode": "area",
            "sizeref": 0.25,
            "symbol": "diamond"
           },
           "mode": "markers",
           "name": "green, box",
           "orientation": "v",
           "showlegend": true,
           "type": "scatter",
           "x": [
            1.5
           ],
           "xaxis": "x",
           "y": [
            0.15000000000000002
           ],
           "yaxis": "y"
          },
          {
           "hovertemplate": "<b>%{hovertext}</b><br><br>color=purple<br>type=target<br>frame=42<br>x=%{x}<br>y=%{y}<br>size=%{marker.size}<extra></extra>",
           "hovertext": [
            "purple | target | 15"
           ],
           "ids": [
            15
           ],
           "legendgroup": "purple, target",
           "marker": {
            "color": "#00cc96",
            "size": [
             100
            ],
            "sizemode": "area",
            "sizeref": 0.25,
            "symbol": "circle"
           },
           "mode": "markers",
           "name": "purple, target",
           "orientation": "v",
           "showlegend": true,
           "type": "scatter",
           "x": [
            1.5
           ],
           "xaxis": "x",
           "y": [
            0.85
           ],
           "yaxis": "y"
          },
          {
           "hovertemplate": "<b>%{hovertext}</b><br><br>color=purple<br>type=box<br>frame=42<br>x=%{x}<br>y=%{y}<br>size=%{marker.size}<extra></extra>",
           "hovertext": [
            "purple | box | 6"
           ],
           "ids": [
            6
           ],
           "legendgroup": "purple, box",
           "marker": {
            "color": "#00cc96",
            "size": [
             100
            ],
            "sizemode": "area",
            "sizeref": 0.25,
            "symbol": "diamond"
           },
           "mode": "markers",
           "name": "purple, box",
           "orientation": "v",
           "showlegend": true,
           "type": "scatter",
           "x": [
            1.5
           ],
           "xaxis": "x",
           "y": [
            1.15
           ],
           "yaxis": "y"
          }
         ],
         "name": "42"
        },
        {
         "data": [
          {
           "hovertemplate": "<b>%{hovertext}</b><br><br>color=blue<br>type=target<br>frame=43<br>x=%{x}<br>y=%{y}<br>size=%{marker.size}<extra></extra>",
           "hovertext": [
            "blue | target | 0",
            "blue | target | 1"
           ],
           "ids": [
            0,
            1
           ],
           "legendgroup": "blue, target",
           "marker": {
            "color": "#636efa",
            "size": [
             80,
             80
            ],
            "sizemode": "area",
            "sizeref": 0.25,
            "symbol": "circle"
           },
           "mode": "markers",
           "name": "blue, target",
           "orientation": "v",
           "showlegend": true,
           "type": "scatter",
           "x": [
            0.35,
            0.5
           ],
           "xaxis": "x",
           "y": [
            0.8500000000000001,
            0.8500000000000001
           ],
           "yaxis": "y"
          },
          {
           "hovertemplate": "<b>%{hovertext}</b><br><br>color=blue<br>type=box<br>frame=43<br>x=%{x}<br>y=%{y}<br>size=%{marker.size}<extra></extra>",
           "hovertext": [
            "blue | box | 4",
            "blue | box | 16"
           ],
           "ids": [
            4,
            16
           ],
           "legendgroup": "blue, box",
           "marker": {
            "color": "#636efa",
            "size": [
             80,
             80
            ],
            "sizemode": "area",
            "sizeref": 0.25,
            "symbol": "diamond"
           },
           "mode": "markers",
           "name": "blue, box",
           "orientation": "v",
           "showlegend": true,
           "type": "scatter",
           "x": [
            0.47000000000000003,
            1.35
           ],
           "xaxis": "x",
           "y": [
            0.95,
            1.15
           ],
           "yaxis": "y"
          },
          {
           "hovertemplate": "<b>%{hovertext}</b><br><br>color=green<br>type=target<br>frame=43<br>x=%{x}<br>y=%{y}<br>size=%{marker.size}<extra></extra>",
           "hovertext": [
            "green | target | 2"
           ],
           "ids": [
            2
           ],
           "legendgroup": "green, target",
           "marker": {
            "color": "#EF553B",
            "size": [
             80
            ],
            "sizemode": "area",
            "sizeref": 0.25,
            "symbol": "circle"
           },
           "mode": "markers",
           "name": "green, target",
           "orientation": "v",
           "showlegend": true,
           "type": "scatter",
           "x": [
            0.65
           ],
           "xaxis": "x",
           "y": [
            0.8500000000000001
           ],
           "yaxis": "y"
          },
          {
           "hovertemplate": "<b>%{hovertext}</b><br><br>color=green<br>type=box<br>frame=43<br>x=%{x}<br>y=%{y}<br>size=%{marker.size}<extra></extra>",
           "hovertext": [
            "green | box | 13"
           ],
           "ids": [
            13
           ],
           "legendgroup": "green, box",
           "marker": {
            "color": "#EF553B",
            "size": [
             80
            ],
            "sizemode": "area",
            "sizeref": 0.25,
            "symbol": "diamond"
           },
           "mode": "markers",
           "name": "green, box",
           "orientation": "v",
           "showlegend": true,
           "type": "scatter",
           "x": [
            1.3000000000000003
           ],
           "xaxis": "x",
           "y": [
            0.15000000000000002
           ],
           "yaxis": "y"
          },
          {
           "hovertemplate": "<b>%{hovertext}</b><br><br>color=purple<br>type=target<br>frame=43<br>x=%{x}<br>y=%{y}<br>size=%{marker.size}<extra></extra>",
           "hovertext": [
            "purple | target | 15"
           ],
           "ids": [
            15
           ],
           "legendgroup": "purple, target",
           "marker": {
            "color": "#00cc96",
            "size": [
             80
            ],
            "sizemode": "area",
            "sizeref": 0.25,
            "symbol": "circle"
           },
           "mode": "markers",
           "name": "purple, target",
           "orientation": "v",
           "showlegend": true,
           "type": "scatter",
           "x": [
            1.5000000000000002
           ],
           "xaxis": "x",
           "y": [
            0.8500000000000001
           ],
           "yaxis": "y"
          },
          {
           "hovertemplate": "<b>%{hovertext}</b><br><br>color=purple<br>type=box<br>frame=43<br>x=%{x}<br>y=%{y}<br>size=%{marker.size}<extra></extra>",
           "hovertext": [
            "purple | box | 6"
           ],
           "ids": [
            6
           ],
           "legendgroup": "purple, box",
           "marker": {
            "color": "#00cc96",
            "size": [
             80
            ],
            "sizemode": "area",
            "sizeref": 0.25,
            "symbol": "diamond"
           },
           "mode": "markers",
           "name": "purple, box",
           "orientation": "v",
           "showlegend": true,
           "type": "scatter",
           "x": [
            1.5000000000000002
           ],
           "xaxis": "x",
           "y": [
            1.15
           ],
           "yaxis": "y"
          }
         ],
         "name": "43"
        },
        {
         "data": [
          {
           "hovertemplate": "<b>%{hovertext}</b><br><br>color=blue<br>type=target<br>frame=44<br>x=%{x}<br>y=%{y}<br>size=%{marker.size}<extra></extra>",
           "hovertext": [
            "blue | target | 0",
            "blue | target | 1"
           ],
           "ids": [
            0,
            1
           ],
           "legendgroup": "blue, target",
           "marker": {
            "color": "#636efa",
            "size": [
             60,
             60
            ],
            "sizemode": "area",
            "sizeref": 0.25,
            "symbol": "circle"
           },
           "mode": "markers",
           "name": "blue, target",
           "orientation": "v",
           "showlegend": true,
           "type": "scatter",
           "x": [
            0.35,
            0.5
           ],
           "xaxis": "x",
           "y": [
            0.8500000000000001,
            0.8500000000000001
           ],
           "yaxis": "y"
          },
          {
           "hovertemplate": "<b>%{hovertext}</b><br><br>color=blue<br>type=box<br>frame=44<br>x=%{x}<br>y=%{y}<br>size=%{marker.size}<extra></extra>",
           "hovertext": [
            "blue | box | 4",
            "blue | box | 16"
           ],
           "ids": [
            4,
            16
           ],
           "legendgroup": "blue, box",
           "marker": {
            "color": "#636efa",
            "size": [
             60,
             60
            ],
            "sizemode": "area",
            "sizeref": 0.25,
            "symbol": "diamond"
           },
           "mode": "markers",
           "name": "blue, box",
           "orientation": "v",
           "showlegend": true,
           "type": "scatter",
           "x": [
            0.43999999999999995,
            1.35
           ],
           "xaxis": "x",
           "y": [
            0.75,
            1.15
           ],
           "yaxis": "y"
          },
          {
           "hovertemplate": "<b>%{hovertext}</b><br><br>color=green<br>type=target<br>frame=44<br>x=%{x}<br>y=%{y}<br>size=%{marker.size}<extra></extra>",
           "hovertext": [
            "green | target | 2"
           ],
           "ids": [
            2
           ],
           "legendgroup": "green, target",
           "marker": {
            "color": "#EF553B",
            "size": [
             60
            ],
            "sizemode": "area",
            "sizeref": 0.25,
            "symbol": "circle"
           },
           "mode": "markers",
           "name": "green, target",
           "orientation": "v",
           "showlegend": true,
           "type": "scatter",
           "x": [
            0.65
           ],
           "xaxis": "x",
           "y": [
            0.8500000000000001
           ],
           "yaxis": "y"
          },
          {
           "hovertemplate": "<b>%{hovertext}</b><br><br>color=green<br>type=box<br>frame=44<br>x=%{x}<br>y=%{y}<br>size=%{marker.size}<extra></extra>",
           "hovertext": [
            "green | box | 13"
           ],
           "ids": [
            13
           ],
           "legendgroup": "green, box",
           "marker": {
            "color": "#EF553B",
            "size": [
             60
            ],
            "sizemode": "area",
            "sizeref": 0.25,
            "symbol": "diamond"
           },
           "mode": "markers",
           "name": "green, box",
           "orientation": "v",
           "showlegend": true,
           "type": "scatter",
           "x": [
            1.0999999999999999
           ],
           "xaxis": "x",
           "y": [
            0.15000000000000002
           ],
           "yaxis": "y"
          },
          {
           "hovertemplate": "<b>%{hovertext}</b><br><br>color=purple<br>type=target<br>frame=44<br>x=%{x}<br>y=%{y}<br>size=%{marker.size}<extra></extra>",
           "hovertext": [
            "purple | target | 15"
           ],
           "ids": [
            15
           ],
           "legendgroup": "purple, target",
           "marker": {
            "color": "#00cc96",
            "size": [
             60
            ],
            "sizemode": "area",
            "sizeref": 0.25,
            "symbol": "circle"
           },
           "mode": "markers",
           "name": "purple, target",
           "orientation": "v",
           "showlegend": true,
           "type": "scatter",
           "x": [
            1.5
           ],
           "xaxis": "x",
           "y": [
            0.8500000000000001
           ],
           "yaxis": "y"
          },
          {
           "hovertemplate": "<b>%{hovertext}</b><br><br>color=purple<br>type=box<br>frame=44<br>x=%{x}<br>y=%{y}<br>size=%{marker.size}<extra></extra>",
           "hovertext": [
            "purple | box | 6"
           ],
           "ids": [
            6
           ],
           "legendgroup": "purple, box",
           "marker": {
            "color": "#00cc96",
            "size": [
             60
            ],
            "sizemode": "area",
            "sizeref": 0.25,
            "symbol": "diamond"
           },
           "mode": "markers",
           "name": "purple, box",
           "orientation": "v",
           "showlegend": true,
           "type": "scatter",
           "x": [
            1.5
           ],
           "xaxis": "x",
           "y": [
            1.15
           ],
           "yaxis": "y"
          }
         ],
         "name": "44"
        },
        {
         "data": [
          {
           "hovertemplate": "<b>%{hovertext}</b><br><br>color=blue<br>type=target<br>frame=45<br>x=%{x}<br>y=%{y}<br>size=%{marker.size}<extra></extra>",
           "hovertext": [
            "blue | target | 0",
            "blue | target | 1"
           ],
           "ids": [
            0,
            1
           ],
           "legendgroup": "blue, target",
           "marker": {
            "color": "#636efa",
            "size": [
             40,
             40
            ],
            "sizemode": "area",
            "sizeref": 0.25,
            "symbol": "circle"
           },
           "mode": "markers",
           "name": "blue, target",
           "orientation": "v",
           "showlegend": true,
           "type": "scatter",
           "x": [
            0.35,
            0.5
           ],
           "xaxis": "x",
           "y": [
            0.8500000000000001,
            0.8500000000000001
           ],
           "yaxis": "y"
          },
          {
           "hovertemplate": "<b>%{hovertext}</b><br><br>color=blue<br>type=box<br>frame=45<br>x=%{x}<br>y=%{y}<br>size=%{marker.size}<extra></extra>",
           "hovertext": [
            "blue | box | 4",
            "blue | box | 16"
           ],
           "ids": [
            4,
            16
           ],
           "legendgroup": "blue, box",
           "marker": {
            "color": "#636efa",
            "size": [
             40,
             40
            ],
            "sizemode": "area",
            "sizeref": 0.25,
            "symbol": "diamond"
           },
           "mode": "markers",
           "name": "blue, box",
           "orientation": "v",
           "showlegend": true,
           "type": "scatter",
           "x": [
            0.41000000000000003,
            1.35
           ],
           "xaxis": "x",
           "y": [
            0.5499999999999999,
            1.15
           ],
           "yaxis": "y"
          },
          {
           "hovertemplate": "<b>%{hovertext}</b><br><br>color=green<br>type=target<br>frame=45<br>x=%{x}<br>y=%{y}<br>size=%{marker.size}<extra></extra>",
           "hovertext": [
            "green | target | 2"
           ],
           "ids": [
            2
           ],
           "legendgroup": "green, target",
           "marker": {
            "color": "#EF553B",
            "size": [
             40
            ],
            "sizemode": "area",
            "sizeref": 0.25,
            "symbol": "circle"
           },
           "mode": "markers",
           "name": "green, target",
           "orientation": "v",
           "showlegend": true,
           "type": "scatter",
           "x": [
            0.65
           ],
           "xaxis": "x",
           "y": [
            0.8500000000000001
           ],
           "yaxis": "y"
          },
          {
           "hovertemplate": "<b>%{hovertext}</b><br><br>color=green<br>type=box<br>frame=45<br>x=%{x}<br>y=%{y}<br>size=%{marker.size}<extra></extra>",
           "hovertext": [
            "green | box | 13"
           ],
           "ids": [
            13
           ],
           "legendgroup": "green, box",
           "marker": {
            "color": "#EF553B",
            "size": [
             40
            ],
            "sizemode": "area",
            "sizeref": 0.25,
            "symbol": "diamond"
           },
           "mode": "markers",
           "name": "green, box",
           "orientation": "v",
           "showlegend": true,
           "type": "scatter",
           "x": [
            0.9000000000000001
           ],
           "xaxis": "x",
           "y": [
            0.15000000000000002
           ],
           "yaxis": "y"
          },
          {
           "hovertemplate": "<b>%{hovertext}</b><br><br>color=purple<br>type=target<br>frame=45<br>x=%{x}<br>y=%{y}<br>size=%{marker.size}<extra></extra>",
           "hovertext": [
            "purple | target | 15"
           ],
           "ids": [
            15
           ],
           "legendgroup": "purple, target",
           "marker": {
            "color": "#00cc96",
            "size": [
             40
            ],
            "sizemode": "area",
            "sizeref": 0.25,
            "symbol": "circle"
           },
           "mode": "markers",
           "name": "purple, target",
           "orientation": "v",
           "showlegend": true,
           "type": "scatter",
           "x": [
            1.5
           ],
           "xaxis": "x",
           "y": [
            0.8500000000000001
           ],
           "yaxis": "y"
          },
          {
           "hovertemplate": "<b>%{hovertext}</b><br><br>color=purple<br>type=box<br>frame=45<br>x=%{x}<br>y=%{y}<br>size=%{marker.size}<extra></extra>",
           "hovertext": [
            "purple | box | 6"
           ],
           "ids": [
            6
           ],
           "legendgroup": "purple, box",
           "marker": {
            "color": "#00cc96",
            "size": [
             40
            ],
            "sizemode": "area",
            "sizeref": 0.25,
            "symbol": "diamond"
           },
           "mode": "markers",
           "name": "purple, box",
           "orientation": "v",
           "showlegend": true,
           "type": "scatter",
           "x": [
            1.5
           ],
           "xaxis": "x",
           "y": [
            1.15
           ],
           "yaxis": "y"
          }
         ],
         "name": "45"
        },
        {
         "data": [
          {
           "hovertemplate": "<b>%{hovertext}</b><br><br>color=blue<br>type=target<br>frame=46<br>x=%{x}<br>y=%{y}<br>size=%{marker.size}<extra></extra>",
           "hovertext": [
            "blue | target | 0",
            "blue | target | 1"
           ],
           "ids": [
            0,
            1
           ],
           "legendgroup": "blue, target",
           "marker": {
            "color": "#636efa",
            "size": [
             19.999999999999996,
             19.999999999999996
            ],
            "sizemode": "area",
            "sizeref": 0.25,
            "symbol": "circle"
           },
           "mode": "markers",
           "name": "blue, target",
           "orientation": "v",
           "showlegend": true,
           "type": "scatter",
           "x": [
            0.35,
            0.5
           ],
           "xaxis": "x",
           "y": [
            0.85,
            0.85
           ],
           "yaxis": "y"
          },
          {
           "hovertemplate": "<b>%{hovertext}</b><br><br>color=blue<br>type=box<br>frame=46<br>x=%{x}<br>y=%{y}<br>size=%{marker.size}<extra></extra>",
           "hovertext": [
            "blue | box | 4",
            "blue | box | 16"
           ],
           "ids": [
            4,
            16
           ],
           "legendgroup": "blue, box",
           "marker": {
            "color": "#636efa",
            "size": [
             19.999999999999996,
             19.999999999999996
            ],
            "sizemode": "area",
            "sizeref": 0.25,
            "symbol": "diamond"
           },
           "mode": "markers",
           "name": "blue, box",
           "orientation": "v",
           "showlegend": true,
           "type": "scatter",
           "x": [
            0.37999999999999995,
            1.35
           ],
           "xaxis": "x",
           "y": [
            0.35,
            1.15
           ],
           "yaxis": "y"
          },
          {
           "hovertemplate": "<b>%{hovertext}</b><br><br>color=green<br>type=target<br>frame=46<br>x=%{x}<br>y=%{y}<br>size=%{marker.size}<extra></extra>",
           "hovertext": [
            "green | target | 2"
           ],
           "ids": [
            2
           ],
           "legendgroup": "green, target",
           "marker": {
            "color": "#EF553B",
            "size": [
             19.999999999999996
            ],
            "sizemode": "area",
            "sizeref": 0.25,
            "symbol": "circle"
           },
           "mode": "markers",
           "name": "green, target",
           "orientation": "v",
           "showlegend": true,
           "type": "scatter",
           "x": [
            0.65
           ],
           "xaxis": "x",
           "y": [
            0.85
           ],
           "yaxis": "y"
          },
          {
           "hovertemplate": "<b>%{hovertext}</b><br><br>color=green<br>type=box<br>frame=46<br>x=%{x}<br>y=%{y}<br>size=%{marker.size}<extra></extra>",
           "hovertext": [
            "green | box | 13"
           ],
           "ids": [
            13
           ],
           "legendgroup": "green, box",
           "marker": {
            "color": "#EF553B",
            "size": [
             19.999999999999996
            ],
            "sizemode": "area",
            "sizeref": 0.25,
            "symbol": "diamond"
           },
           "mode": "markers",
           "name": "green, box",
           "orientation": "v",
           "showlegend": true,
           "type": "scatter",
           "x": [
            0.7
           ],
           "xaxis": "x",
           "y": [
            0.15000000000000002
           ],
           "yaxis": "y"
          },
          {
           "hovertemplate": "<b>%{hovertext}</b><br><br>color=purple<br>type=target<br>frame=46<br>x=%{x}<br>y=%{y}<br>size=%{marker.size}<extra></extra>",
           "hovertext": [
            "purple | target | 15"
           ],
           "ids": [
            15
           ],
           "legendgroup": "purple, target",
           "marker": {
            "color": "#00cc96",
            "size": [
             19.999999999999996
            ],
            "sizemode": "area",
            "sizeref": 0.25,
            "symbol": "circle"
           },
           "mode": "markers",
           "name": "purple, target",
           "orientation": "v",
           "showlegend": true,
           "type": "scatter",
           "x": [
            1.5
           ],
           "xaxis": "x",
           "y": [
            0.85
           ],
           "yaxis": "y"
          },
          {
           "hovertemplate": "<b>%{hovertext}</b><br><br>color=purple<br>type=box<br>frame=46<br>x=%{x}<br>y=%{y}<br>size=%{marker.size}<extra></extra>",
           "hovertext": [
            "purple | box | 6"
           ],
           "ids": [
            6
           ],
           "legendgroup": "purple, box",
           "marker": {
            "color": "#00cc96",
            "size": [
             19.999999999999996
            ],
            "sizemode": "area",
            "sizeref": 0.25,
            "symbol": "diamond"
           },
           "mode": "markers",
           "name": "purple, box",
           "orientation": "v",
           "showlegend": true,
           "type": "scatter",
           "x": [
            1.5
           ],
           "xaxis": "x",
           "y": [
            1.15
           ],
           "yaxis": "y"
          }
         ],
         "name": "46"
        },
        {
         "data": [
          {
           "hovertemplate": "<b>%{hovertext}</b><br><br>color=blue<br>type=target<br>frame=47<br>x=%{x}<br>y=%{y}<br>size=%{marker.size}<extra></extra>",
           "hovertext": [
            "blue | target | 0",
            "blue | target | 1"
           ],
           "ids": [
            0,
            1
           ],
           "legendgroup": "blue, target",
           "marker": {
            "color": "#636efa",
            "size": [
             0,
             0
            ],
            "sizemode": "area",
            "sizeref": 0.25,
            "symbol": "circle"
           },
           "mode": "markers",
           "name": "blue, target",
           "orientation": "v",
           "showlegend": true,
           "type": "scatter",
           "x": [
            0.35,
            0.5
           ],
           "xaxis": "x",
           "y": [
            0.85,
            0.85
           ],
           "yaxis": "y"
          },
          {
           "hovertemplate": "<b>%{hovertext}</b><br><br>color=blue<br>type=box<br>frame=47<br>x=%{x}<br>y=%{y}<br>size=%{marker.size}<extra></extra>",
           "hovertext": [
            "blue | box | 4",
            "blue | box | 16"
           ],
           "ids": [
            4,
            16
           ],
           "legendgroup": "blue, box",
           "marker": {
            "color": "#636efa",
            "size": [
             0,
             0
            ],
            "sizemode": "area",
            "sizeref": 0.25,
            "symbol": "diamond"
           },
           "mode": "markers",
           "name": "blue, box",
           "orientation": "v",
           "showlegend": true,
           "type": "scatter",
           "x": [
            0.35,
            1.35
           ],
           "xaxis": "x",
           "y": [
            0.15000000000000002,
            1.15
           ],
           "yaxis": "y"
          },
          {
           "hovertemplate": "<b>%{hovertext}</b><br><br>color=green<br>type=target<br>frame=47<br>x=%{x}<br>y=%{y}<br>size=%{marker.size}<extra></extra>",
           "hovertext": [
            "green | target | 2"
           ],
           "ids": [
            2
           ],
           "legendgroup": "green, target",
           "marker": {
            "color": "#EF553B",
            "size": [
             0
            ],
            "sizemode": "area",
            "sizeref": 0.25,
            "symbol": "circle"
           },
           "mode": "markers",
           "name": "green, target",
           "orientation": "v",
           "showlegend": true,
           "type": "scatter",
           "x": [
            0.65
           ],
           "xaxis": "x",
           "y": [
            0.85
           ],
           "yaxis": "y"
          },
          {
           "hovertemplate": "<b>%{hovertext}</b><br><br>color=green<br>type=box<br>frame=47<br>x=%{x}<br>y=%{y}<br>size=%{marker.size}<extra></extra>",
           "hovertext": [
            "green | box | 13"
           ],
           "ids": [
            13
           ],
           "legendgroup": "green, box",
           "marker": {
            "color": "#EF553B",
            "size": [
             0
            ],
            "sizemode": "area",
            "sizeref": 0.25,
            "symbol": "diamond"
           },
           "mode": "markers",
           "name": "green, box",
           "orientation": "v",
           "showlegend": true,
           "type": "scatter",
           "x": [
            0.5
           ],
           "xaxis": "x",
           "y": [
            0.15000000000000002
           ],
           "yaxis": "y"
          },
          {
           "hovertemplate": "<b>%{hovertext}</b><br><br>color=purple<br>type=target<br>frame=47<br>x=%{x}<br>y=%{y}<br>size=%{marker.size}<extra></extra>",
           "hovertext": [
            "purple | target | 15"
           ],
           "ids": [
            15
           ],
           "legendgroup": "purple, target",
           "marker": {
            "color": "#00cc96",
            "size": [
             0
            ],
            "sizemode": "area",
            "sizeref": 0.25,
            "symbol": "circle"
           },
           "mode": "markers",
           "name": "purple, target",
           "orientation": "v",
           "showlegend": true,
           "type": "scatter",
           "x": [
            1.5
           ],
           "xaxis": "x",
           "y": [
            0.85
           ],
           "yaxis": "y"
          },
          {
           "hovertemplate": "<b>%{hovertext}</b><br><br>color=purple<br>type=box<br>frame=47<br>x=%{x}<br>y=%{y}<br>size=%{marker.size}<extra></extra>",
           "hovertext": [
            "purple | box | 6"
           ],
           "ids": [
            6
           ],
           "legendgroup": "purple, box",
           "marker": {
            "color": "#00cc96",
            "size": [
             0
            ],
            "sizemode": "area",
            "sizeref": 0.25,
            "symbol": "diamond"
           },
           "mode": "markers",
           "name": "purple, box",
           "orientation": "v",
           "showlegend": true,
           "type": "scatter",
           "x": [
            1.5
           ],
           "xaxis": "x",
           "y": [
            1.15
           ],
           "yaxis": "y"
          }
         ],
         "name": "47"
        },
        {
         "data": [
          {
           "hovertemplate": "<b>%{hovertext}</b><br><br>color=blue<br>type=target<br>frame=48<br>x=%{x}<br>y=%{y}<br>size=%{marker.size}<extra></extra>",
           "hovertext": [
            "blue | target | 0",
            "blue | target | 1"
           ],
           "ids": [
            0,
            1
           ],
           "legendgroup": "blue, target",
           "marker": {
            "color": "#636efa",
            "size": [
             100,
             100
            ],
            "sizemode": "area",
            "sizeref": 0.25,
            "symbol": "circle"
           },
           "mode": "markers",
           "name": "blue, target",
           "orientation": "v",
           "showlegend": true,
           "type": "scatter",
           "x": [
            0.35,
            0.5
           ],
           "xaxis": "x",
           "y": [
            0.85,
            0.85
           ],
           "yaxis": "y"
          },
          {
           "hovertemplate": "<b>%{hovertext}</b><br><br>color=blue<br>type=box<br>frame=48<br>x=%{x}<br>y=%{y}<br>size=%{marker.size}<extra></extra>",
           "hovertext": [
            "blue | box | 4",
            "blue | box | 16"
           ],
           "ids": [
            4,
            16
           ],
           "legendgroup": "blue, box",
           "marker": {
            "color": "#636efa",
            "size": [
             100,
             100
            ],
            "sizemode": "area",
            "sizeref": 0.25,
            "symbol": "diamond"
           },
           "mode": "markers",
           "name": "blue, box",
           "orientation": "v",
           "showlegend": true,
           "type": "scatter",
           "x": [
            0.35,
            1.35
           ],
           "xaxis": "x",
           "y": [
            0.15000000000000002,
            1.15
           ],
           "yaxis": "y"
          },
          {
           "hovertemplate": "<b>%{hovertext}</b><br><br>color=green<br>type=target<br>frame=48<br>x=%{x}<br>y=%{y}<br>size=%{marker.size}<extra></extra>",
           "hovertext": [
            "green | target | 2"
           ],
           "ids": [
            2
           ],
           "legendgroup": "green, target",
           "marker": {
            "color": "#EF553B",
            "size": [
             100
            ],
            "sizemode": "area",
            "sizeref": 0.25,
            "symbol": "circle"
           },
           "mode": "markers",
           "name": "green, target",
           "orientation": "v",
           "showlegend": true,
           "type": "scatter",
           "x": [
            0.65
           ],
           "xaxis": "x",
           "y": [
            0.85
           ],
           "yaxis": "y"
          },
          {
           "hovertemplate": "<b>%{hovertext}</b><br><br>color=green<br>type=box<br>frame=48<br>x=%{x}<br>y=%{y}<br>size=%{marker.size}<extra></extra>",
           "hovertext": [
            "green | box | 13"
           ],
           "ids": [
            13
           ],
           "legendgroup": "green, box",
           "marker": {
            "color": "#EF553B",
            "size": [
             100
            ],
            "sizemode": "area",
            "sizeref": 0.25,
            "symbol": "diamond"
           },
           "mode": "markers",
           "name": "green, box",
           "orientation": "v",
           "showlegend": true,
           "type": "scatter",
           "x": [
            0.5
           ],
           "xaxis": "x",
           "y": [
            0.15000000000000002
           ],
           "yaxis": "y"
          },
          {
           "hovertemplate": "<b>%{hovertext}</b><br><br>color=purple<br>type=target<br>frame=48<br>x=%{x}<br>y=%{y}<br>size=%{marker.size}<extra></extra>",
           "hovertext": [
            "purple | target | 15"
           ],
           "ids": [
            15
           ],
           "legendgroup": "purple, target",
           "marker": {
            "color": "#00cc96",
            "size": [
             100
            ],
            "sizemode": "area",
            "sizeref": 0.25,
            "symbol": "circle"
           },
           "mode": "markers",
           "name": "purple, target",
           "orientation": "v",
           "showlegend": true,
           "type": "scatter",
           "x": [
            1.5
           ],
           "xaxis": "x",
           "y": [
            0.85
           ],
           "yaxis": "y"
          },
          {
           "hovertemplate": "<b>%{hovertext}</b><br><br>color=purple<br>type=box<br>frame=48<br>x=%{x}<br>y=%{y}<br>size=%{marker.size}<extra></extra>",
           "hovertext": [
            "purple | box | 6"
           ],
           "ids": [
            6
           ],
           "legendgroup": "purple, box",
           "marker": {
            "color": "#00cc96",
            "size": [
             100
            ],
            "sizemode": "area",
            "sizeref": 0.25,
            "symbol": "diamond"
           },
           "mode": "markers",
           "name": "purple, box",
           "orientation": "v",
           "showlegend": true,
           "type": "scatter",
           "x": [
            1.5
           ],
           "xaxis": "x",
           "y": [
            1.15
           ],
           "yaxis": "y"
          }
         ],
         "name": "48"
        },
        {
         "data": [
          {
           "hovertemplate": "<b>%{hovertext}</b><br><br>color=blue<br>type=target<br>frame=49<br>x=%{x}<br>y=%{y}<br>size=%{marker.size}<extra></extra>",
           "hovertext": [
            "blue | target | 0",
            "blue | target | 1"
           ],
           "ids": [
            0,
            1
           ],
           "legendgroup": "blue, target",
           "marker": {
            "color": "#636efa",
            "size": [
             80,
             80
            ],
            "sizemode": "area",
            "sizeref": 0.25,
            "symbol": "circle"
           },
           "mode": "markers",
           "name": "blue, target",
           "orientation": "v",
           "showlegend": true,
           "type": "scatter",
           "x": [
            0.35,
            0.5
           ],
           "xaxis": "x",
           "y": [
            0.8500000000000001,
            0.8500000000000001
           ],
           "yaxis": "y"
          },
          {
           "hovertemplate": "<b>%{hovertext}</b><br><br>color=blue<br>type=box<br>frame=49<br>x=%{x}<br>y=%{y}<br>size=%{marker.size}<extra></extra>",
           "hovertext": [
            "blue | box | 4",
            "blue | box | 16"
           ],
           "ids": [
            4,
            16
           ],
           "legendgroup": "blue, box",
           "marker": {
            "color": "#636efa",
            "size": [
             80,
             80
            ],
            "sizemode": "area",
            "sizeref": 0.25,
            "symbol": "diamond"
           },
           "mode": "markers",
           "name": "blue, box",
           "orientation": "v",
           "showlegend": true,
           "type": "scatter",
           "x": [
            0.38,
            1.1800000000000002
           ],
           "xaxis": "x",
           "y": [
            0.15000000000000002,
            1.15
           ],
           "yaxis": "y"
          },
          {
           "hovertemplate": "<b>%{hovertext}</b><br><br>color=green<br>type=target<br>frame=49<br>x=%{x}<br>y=%{y}<br>size=%{marker.size}<extra></extra>",
           "hovertext": [
            "green | target | 2"
           ],
           "ids": [
            2
           ],
           "legendgroup": "green, target",
           "marker": {
            "color": "#EF553B",
            "size": [
             80
            ],
            "sizemode": "area",
            "sizeref": 0.25,
            "symbol": "circle"
           },
           "mode": "markers",
           "name": "green, target",
           "orientation": "v",
           "showlegend": true,
           "type": "scatter",
           "x": [
            0.62
           ],
           "xaxis": "x",
           "y": [
            0.78
           ],
           "yaxis": "y"
          },
          {
           "hovertemplate": "<b>%{hovertext}</b><br><br>color=green<br>type=box<br>frame=49<br>x=%{x}<br>y=%{y}<br>size=%{marker.size}<extra></extra>",
           "hovertext": [
            "green | box | 13"
           ],
           "ids": [
            13
           ],
           "legendgroup": "green, box",
           "marker": {
            "color": "#EF553B",
            "size": [
             80
            ],
            "sizemode": "area",
            "sizeref": 0.25,
            "symbol": "diamond"
           },
           "mode": "markers",
           "name": "green, box",
           "orientation": "v",
           "showlegend": true,
           "type": "scatter",
           "x": [
            0.5
           ],
           "xaxis": "x",
           "y": [
            0.22000000000000003
           ],
           "yaxis": "y"
          },
          {
           "hovertemplate": "<b>%{hovertext}</b><br><br>color=purple<br>type=target<br>frame=49<br>x=%{x}<br>y=%{y}<br>size=%{marker.size}<extra></extra>",
           "hovertext": [
            "purple | target | 15"
           ],
           "ids": [
            15
           ],
           "legendgroup": "purple, target",
           "marker": {
            "color": "#00cc96",
            "size": [
             80
            ],
            "sizemode": "area",
            "sizeref": 0.25,
            "symbol": "circle"
           },
           "mode": "markers",
           "name": "purple, target",
           "orientation": "v",
           "showlegend": true,
           "type": "scatter",
           "x": [
            1.5000000000000002
           ],
           "xaxis": "x",
           "y": [
            0.8500000000000001
           ],
           "yaxis": "y"
          },
          {
           "hovertemplate": "<b>%{hovertext}</b><br><br>color=purple<br>type=box<br>frame=49<br>x=%{x}<br>y=%{y}<br>size=%{marker.size}<extra></extra>",
           "hovertext": [
            "purple | box | 6"
           ],
           "ids": [
            6
           ],
           "legendgroup": "purple, box",
           "marker": {
            "color": "#00cc96",
            "size": [
             80
            ],
            "sizemode": "area",
            "sizeref": 0.25,
            "symbol": "diamond"
           },
           "mode": "markers",
           "name": "purple, box",
           "orientation": "v",
           "showlegend": true,
           "type": "scatter",
           "x": [
            1.5000000000000002
           ],
           "xaxis": "x",
           "y": [
            1.15
           ],
           "yaxis": "y"
          }
         ],
         "name": "49"
        },
        {
         "data": [
          {
           "hovertemplate": "<b>%{hovertext}</b><br><br>color=blue<br>type=target<br>frame=50<br>x=%{x}<br>y=%{y}<br>size=%{marker.size}<extra></extra>",
           "hovertext": [
            "blue | target | 0",
            "blue | target | 1"
           ],
           "ids": [
            0,
            1
           ],
           "legendgroup": "blue, target",
           "marker": {
            "color": "#636efa",
            "size": [
             60,
             60
            ],
            "sizemode": "area",
            "sizeref": 0.25,
            "symbol": "circle"
           },
           "mode": "markers",
           "name": "blue, target",
           "orientation": "v",
           "showlegend": true,
           "type": "scatter",
           "x": [
            0.35,
            0.5
           ],
           "xaxis": "x",
           "y": [
            0.8500000000000001,
            0.8500000000000001
           ],
           "yaxis": "y"
          },
          {
           "hovertemplate": "<b>%{hovertext}</b><br><br>color=blue<br>type=box<br>frame=50<br>x=%{x}<br>y=%{y}<br>size=%{marker.size}<extra></extra>",
           "hovertext": [
            "blue | box | 4",
            "blue | box | 16"
           ],
           "ids": [
            4,
            16
           ],
           "legendgroup": "blue, box",
           "marker": {
            "color": "#636efa",
            "size": [
             60,
             60
            ],
            "sizemode": "area",
            "sizeref": 0.25,
            "symbol": "diamond"
           },
           "mode": "markers",
           "name": "blue, box",
           "orientation": "v",
           "showlegend": true,
           "type": "scatter",
           "x": [
            0.41000000000000003,
            1.01
           ],
           "xaxis": "x",
           "y": [
            0.15000000000000002,
            1.15
           ],
           "yaxis": "y"
          },
          {
           "hovertemplate": "<b>%{hovertext}</b><br><br>color=green<br>type=target<br>frame=50<br>x=%{x}<br>y=%{y}<br>size=%{marker.size}<extra></extra>",
           "hovertext": [
            "green | target | 2"
           ],
           "ids": [
            2
           ],
           "legendgroup": "green, target",
           "marker": {
            "color": "#EF553B",
            "size": [
             60
            ],
            "sizemode": "area",
            "sizeref": 0.25,
            "symbol": "circle"
           },
           "mode": "markers",
           "name": "green, target",
           "orientation": "v",
           "showlegend": true,
           "type": "scatter",
           "x": [
            0.5900000000000001
           ],
           "xaxis": "x",
           "y": [
            0.71
           ],
           "yaxis": "y"
          },
          {
           "hovertemplate": "<b>%{hovertext}</b><br><br>color=green<br>type=box<br>frame=50<br>x=%{x}<br>y=%{y}<br>size=%{marker.size}<extra></extra>",
           "hovertext": [
            "green | box | 13"
           ],
           "ids": [
            13
           ],
           "legendgroup": "green, box",
           "marker": {
            "color": "#EF553B",
            "size": [
             60
            ],
            "sizemode": "area",
            "sizeref": 0.25,
            "symbol": "diamond"
           },
           "mode": "markers",
           "name": "green, box",
           "orientation": "v",
           "showlegend": true,
           "type": "scatter",
           "x": [
            0.5
           ],
           "xaxis": "x",
           "y": [
            0.29000000000000004
           ],
           "yaxis": "y"
          },
          {
           "hovertemplate": "<b>%{hovertext}</b><br><br>color=purple<br>type=target<br>frame=50<br>x=%{x}<br>y=%{y}<br>size=%{marker.size}<extra></extra>",
           "hovertext": [
            "purple | target | 15"
           ],
           "ids": [
            15
           ],
           "legendgroup": "purple, target",
           "marker": {
            "color": "#00cc96",
            "size": [
             60
            ],
            "sizemode": "area",
            "sizeref": 0.25,
            "symbol": "circle"
           },
           "mode": "markers",
           "name": "purple, target",
           "orientation": "v",
           "showlegend": true,
           "type": "scatter",
           "x": [
            1.5
           ],
           "xaxis": "x",
           "y": [
            0.8500000000000001
           ],
           "yaxis": "y"
          },
          {
           "hovertemplate": "<b>%{hovertext}</b><br><br>color=purple<br>type=box<br>frame=50<br>x=%{x}<br>y=%{y}<br>size=%{marker.size}<extra></extra>",
           "hovertext": [
            "purple | box | 6"
           ],
           "ids": [
            6
           ],
           "legendgroup": "purple, box",
           "marker": {
            "color": "#00cc96",
            "size": [
             60
            ],
            "sizemode": "area",
            "sizeref": 0.25,
            "symbol": "diamond"
           },
           "mode": "markers",
           "name": "purple, box",
           "orientation": "v",
           "showlegend": true,
           "type": "scatter",
           "x": [
            1.5
           ],
           "xaxis": "x",
           "y": [
            1.15
           ],
           "yaxis": "y"
          }
         ],
         "name": "50"
        },
        {
         "data": [
          {
           "hovertemplate": "<b>%{hovertext}</b><br><br>color=blue<br>type=target<br>frame=51<br>x=%{x}<br>y=%{y}<br>size=%{marker.size}<extra></extra>",
           "hovertext": [
            "blue | target | 0",
            "blue | target | 1"
           ],
           "ids": [
            0,
            1
           ],
           "legendgroup": "blue, target",
           "marker": {
            "color": "#636efa",
            "size": [
             40,
             40
            ],
            "sizemode": "area",
            "sizeref": 0.25,
            "symbol": "circle"
           },
           "mode": "markers",
           "name": "blue, target",
           "orientation": "v",
           "showlegend": true,
           "type": "scatter",
           "x": [
            0.35,
            0.5
           ],
           "xaxis": "x",
           "y": [
            0.8500000000000001,
            0.8500000000000001
           ],
           "yaxis": "y"
          },
          {
           "hovertemplate": "<b>%{hovertext}</b><br><br>color=blue<br>type=box<br>frame=51<br>x=%{x}<br>y=%{y}<br>size=%{marker.size}<extra></extra>",
           "hovertext": [
            "blue | box | 4",
            "blue | box | 16"
           ],
           "ids": [
            4,
            16
           ],
           "legendgroup": "blue, box",
           "marker": {
            "color": "#636efa",
            "size": [
             40,
             40
            ],
            "sizemode": "area",
            "sizeref": 0.25,
            "symbol": "diamond"
           },
           "mode": "markers",
           "name": "blue, box",
           "orientation": "v",
           "showlegend": true,
           "type": "scatter",
           "x": [
            0.43999999999999995,
            0.8400000000000001
           ],
           "xaxis": "x",
           "y": [
            0.15000000000000002,
            1.15
           ],
           "yaxis": "y"
          },
          {
           "hovertemplate": "<b>%{hovertext}</b><br><br>color=green<br>type=target<br>frame=51<br>x=%{x}<br>y=%{y}<br>size=%{marker.size}<extra></extra>",
           "hovertext": [
            "green | target | 2"
           ],
           "ids": [
            2
           ],
           "legendgroup": "green, target",
           "marker": {
            "color": "#EF553B",
            "size": [
             40
            ],
            "sizemode": "area",
            "sizeref": 0.25,
            "symbol": "circle"
           },
           "mode": "markers",
           "name": "green, target",
           "orientation": "v",
           "showlegend": true,
           "type": "scatter",
           "x": [
            0.56
           ],
           "xaxis": "x",
           "y": [
            0.64
           ],
           "yaxis": "y"
          },
          {
           "hovertemplate": "<b>%{hovertext}</b><br><br>color=green<br>type=box<br>frame=51<br>x=%{x}<br>y=%{y}<br>size=%{marker.size}<extra></extra>",
           "hovertext": [
            "green | box | 13"
           ],
           "ids": [
            13
           ],
           "legendgroup": "green, box",
           "marker": {
            "color": "#EF553B",
            "size": [
             40
            ],
            "sizemode": "area",
            "sizeref": 0.25,
            "symbol": "diamond"
           },
           "mode": "markers",
           "name": "green, box",
           "orientation": "v",
           "showlegend": true,
           "type": "scatter",
           "x": [
            0.5
           ],
           "xaxis": "x",
           "y": [
            0.36
           ],
           "yaxis": "y"
          },
          {
           "hovertemplate": "<b>%{hovertext}</b><br><br>color=purple<br>type=target<br>frame=51<br>x=%{x}<br>y=%{y}<br>size=%{marker.size}<extra></extra>",
           "hovertext": [
            "purple | target | 15"
           ],
           "ids": [
            15
           ],
           "legendgroup": "purple, target",
           "marker": {
            "color": "#00cc96",
            "size": [
             40
            ],
            "sizemode": "area",
            "sizeref": 0.25,
            "symbol": "circle"
           },
           "mode": "markers",
           "name": "purple, target",
           "orientation": "v",
           "showlegend": true,
           "type": "scatter",
           "x": [
            1.5
           ],
           "xaxis": "x",
           "y": [
            0.8500000000000001
           ],
           "yaxis": "y"
          },
          {
           "hovertemplate": "<b>%{hovertext}</b><br><br>color=purple<br>type=box<br>frame=51<br>x=%{x}<br>y=%{y}<br>size=%{marker.size}<extra></extra>",
           "hovertext": [
            "purple | box | 6"
           ],
           "ids": [
            6
           ],
           "legendgroup": "purple, box",
           "marker": {
            "color": "#00cc96",
            "size": [
             40
            ],
            "sizemode": "area",
            "sizeref": 0.25,
            "symbol": "diamond"
           },
           "mode": "markers",
           "name": "purple, box",
           "orientation": "v",
           "showlegend": true,
           "type": "scatter",
           "x": [
            1.5
           ],
           "xaxis": "x",
           "y": [
            1.15
           ],
           "yaxis": "y"
          }
         ],
         "name": "51"
        },
        {
         "data": [
          {
           "hovertemplate": "<b>%{hovertext}</b><br><br>color=blue<br>type=target<br>frame=52<br>x=%{x}<br>y=%{y}<br>size=%{marker.size}<extra></extra>",
           "hovertext": [
            "blue | target | 0",
            "blue | target | 1"
           ],
           "ids": [
            0,
            1
           ],
           "legendgroup": "blue, target",
           "marker": {
            "color": "#636efa",
            "size": [
             19.999999999999996,
             19.999999999999996
            ],
            "sizemode": "area",
            "sizeref": 0.25,
            "symbol": "circle"
           },
           "mode": "markers",
           "name": "blue, target",
           "orientation": "v",
           "showlegend": true,
           "type": "scatter",
           "x": [
            0.35,
            0.5
           ],
           "xaxis": "x",
           "y": [
            0.85,
            0.85
           ],
           "yaxis": "y"
          },
          {
           "hovertemplate": "<b>%{hovertext}</b><br><br>color=blue<br>type=box<br>frame=52<br>x=%{x}<br>y=%{y}<br>size=%{marker.size}<extra></extra>",
           "hovertext": [
            "blue | box | 4",
            "blue | box | 16"
           ],
           "ids": [
            4,
            16
           ],
           "legendgroup": "blue, box",
           "marker": {
            "color": "#636efa",
            "size": [
             19.999999999999996,
             19.999999999999996
            ],
            "sizemode": "area",
            "sizeref": 0.25,
            "symbol": "diamond"
           },
           "mode": "markers",
           "name": "blue, box",
           "orientation": "v",
           "showlegend": true,
           "type": "scatter",
           "x": [
            0.47,
            0.6699999999999999
           ],
           "xaxis": "x",
           "y": [
            0.15000000000000002,
            1.15
           ],
           "yaxis": "y"
          },
          {
           "hovertemplate": "<b>%{hovertext}</b><br><br>color=green<br>type=target<br>frame=52<br>x=%{x}<br>y=%{y}<br>size=%{marker.size}<extra></extra>",
           "hovertext": [
            "green | target | 2"
           ],
           "ids": [
            2
           ],
           "legendgroup": "green, target",
           "marker": {
            "color": "#EF553B",
            "size": [
             19.999999999999996
            ],
            "sizemode": "area",
            "sizeref": 0.25,
            "symbol": "circle"
           },
           "mode": "markers",
           "name": "green, target",
           "orientation": "v",
           "showlegend": true,
           "type": "scatter",
           "x": [
            0.53
           ],
           "xaxis": "x",
           "y": [
            0.57
           ],
           "yaxis": "y"
          },
          {
           "hovertemplate": "<b>%{hovertext}</b><br><br>color=green<br>type=box<br>frame=52<br>x=%{x}<br>y=%{y}<br>size=%{marker.size}<extra></extra>",
           "hovertext": [
            "green | box | 13"
           ],
           "ids": [
            13
           ],
           "legendgroup": "green, box",
           "marker": {
            "color": "#EF553B",
            "size": [
             19.999999999999996
            ],
            "sizemode": "area",
            "sizeref": 0.25,
            "symbol": "diamond"
           },
           "mode": "markers",
           "name": "green, box",
           "orientation": "v",
           "showlegend": true,
           "type": "scatter",
           "x": [
            0.5
           ],
           "xaxis": "x",
           "y": [
            0.43000000000000005
           ],
           "yaxis": "y"
          },
          {
           "hovertemplate": "<b>%{hovertext}</b><br><br>color=purple<br>type=target<br>frame=52<br>x=%{x}<br>y=%{y}<br>size=%{marker.size}<extra></extra>",
           "hovertext": [
            "purple | target | 15"
           ],
           "ids": [
            15
           ],
           "legendgroup": "purple, target",
           "marker": {
            "color": "#00cc96",
            "size": [
             19.999999999999996
            ],
            "sizemode": "area",
            "sizeref": 0.25,
            "symbol": "circle"
           },
           "mode": "markers",
           "name": "purple, target",
           "orientation": "v",
           "showlegend": true,
           "type": "scatter",
           "x": [
            1.5
           ],
           "xaxis": "x",
           "y": [
            0.85
           ],
           "yaxis": "y"
          },
          {
           "hovertemplate": "<b>%{hovertext}</b><br><br>color=purple<br>type=box<br>frame=52<br>x=%{x}<br>y=%{y}<br>size=%{marker.size}<extra></extra>",
           "hovertext": [
            "purple | box | 6"
           ],
           "ids": [
            6
           ],
           "legendgroup": "purple, box",
           "marker": {
            "color": "#00cc96",
            "size": [
             19.999999999999996
            ],
            "sizemode": "area",
            "sizeref": 0.25,
            "symbol": "diamond"
           },
           "mode": "markers",
           "name": "purple, box",
           "orientation": "v",
           "showlegend": true,
           "type": "scatter",
           "x": [
            1.5
           ],
           "xaxis": "x",
           "y": [
            1.15
           ],
           "yaxis": "y"
          }
         ],
         "name": "52"
        },
        {
         "data": [
          {
           "hovertemplate": "<b>%{hovertext}</b><br><br>color=blue<br>type=target<br>frame=53<br>x=%{x}<br>y=%{y}<br>size=%{marker.size}<extra></extra>",
           "hovertext": [
            "blue | target | 0",
            "blue | target | 1"
           ],
           "ids": [
            0,
            1
           ],
           "legendgroup": "blue, target",
           "marker": {
            "color": "#636efa",
            "size": [
             0,
             0
            ],
            "sizemode": "area",
            "sizeref": 0.25,
            "symbol": "circle"
           },
           "mode": "markers",
           "name": "blue, target",
           "orientation": "v",
           "showlegend": true,
           "type": "scatter",
           "x": [
            0.35,
            0.5
           ],
           "xaxis": "x",
           "y": [
            0.85,
            0.85
           ],
           "yaxis": "y"
          },
          {
           "hovertemplate": "<b>%{hovertext}</b><br><br>color=blue<br>type=box<br>frame=53<br>x=%{x}<br>y=%{y}<br>size=%{marker.size}<extra></extra>",
           "hovertext": [
            "blue | box | 4",
            "blue | box | 16"
           ],
           "ids": [
            4,
            16
           ],
           "legendgroup": "blue, box",
           "marker": {
            "color": "#636efa",
            "size": [
             0,
             0
            ],
            "sizemode": "area",
            "sizeref": 0.25,
            "symbol": "diamond"
           },
           "mode": "markers",
           "name": "blue, box",
           "orientation": "v",
           "showlegend": true,
           "type": "scatter",
           "x": [
            0.5,
            0.5
           ],
           "xaxis": "x",
           "y": [
            0.15000000000000002,
            1.15
           ],
           "yaxis": "y"
          },
          {
           "hovertemplate": "<b>%{hovertext}</b><br><br>color=green<br>type=target<br>frame=53<br>x=%{x}<br>y=%{y}<br>size=%{marker.size}<extra></extra>",
           "hovertext": [
            "green | target | 2"
           ],
           "ids": [
            2
           ],
           "legendgroup": "green, target",
           "marker": {
            "color": "#EF553B",
            "size": [
             0
            ],
            "sizemode": "area",
            "sizeref": 0.25,
            "symbol": "circle"
           },
           "mode": "markers",
           "name": "green, target",
           "orientation": "v",
           "showlegend": true,
           "type": "scatter",
           "x": [
            0.5
           ],
           "xaxis": "x",
           "y": [
            0.5
           ],
           "yaxis": "y"
          },
          {
           "hovertemplate": "<b>%{hovertext}</b><br><br>color=green<br>type=box<br>frame=53<br>x=%{x}<br>y=%{y}<br>size=%{marker.size}<extra></extra>",
           "hovertext": [
            "green | box | 13"
           ],
           "ids": [
            13
           ],
           "legendgroup": "green, box",
           "marker": {
            "color": "#EF553B",
            "size": [
             0
            ],
            "sizemode": "area",
            "sizeref": 0.25,
            "symbol": "diamond"
           },
           "mode": "markers",
           "name": "green, box",
           "orientation": "v",
           "showlegend": true,
           "type": "scatter",
           "x": [
            0.5
           ],
           "xaxis": "x",
           "y": [
            0.5
           ],
           "yaxis": "y"
          },
          {
           "hovertemplate": "<b>%{hovertext}</b><br><br>color=purple<br>type=target<br>frame=53<br>x=%{x}<br>y=%{y}<br>size=%{marker.size}<extra></extra>",
           "hovertext": [
            "purple | target | 15"
           ],
           "ids": [
            15
           ],
           "legendgroup": "purple, target",
           "marker": {
            "color": "#00cc96",
            "size": [
             0
            ],
            "sizemode": "area",
            "sizeref": 0.25,
            "symbol": "circle"
           },
           "mode": "markers",
           "name": "purple, target",
           "orientation": "v",
           "showlegend": true,
           "type": "scatter",
           "x": [
            1.5
           ],
           "xaxis": "x",
           "y": [
            0.85
           ],
           "yaxis": "y"
          },
          {
           "hovertemplate": "<b>%{hovertext}</b><br><br>color=purple<br>type=box<br>frame=53<br>x=%{x}<br>y=%{y}<br>size=%{marker.size}<extra></extra>",
           "hovertext": [
            "purple | box | 6"
           ],
           "ids": [
            6
           ],
           "legendgroup": "purple, box",
           "marker": {
            "color": "#00cc96",
            "size": [
             0
            ],
            "sizemode": "area",
            "sizeref": 0.25,
            "symbol": "diamond"
           },
           "mode": "markers",
           "name": "purple, box",
           "orientation": "v",
           "showlegend": true,
           "type": "scatter",
           "x": [
            1.5
           ],
           "xaxis": "x",
           "y": [
            1.15
           ],
           "yaxis": "y"
          }
         ],
         "name": "53"
        },
        {
         "data": [
          {
           "hovertemplate": "<b>%{hovertext}</b><br><br>color=blue<br>type=target<br>frame=54<br>x=%{x}<br>y=%{y}<br>size=%{marker.size}<extra></extra>",
           "hovertext": [
            "blue | target | 0",
            "blue | target | 1"
           ],
           "ids": [
            0,
            1
           ],
           "legendgroup": "blue, target",
           "marker": {
            "color": "#636efa",
            "size": [
             100,
             100
            ],
            "sizemode": "area",
            "sizeref": 0.25,
            "symbol": "circle"
           },
           "mode": "markers",
           "name": "blue, target",
           "orientation": "v",
           "showlegend": true,
           "type": "scatter",
           "x": [
            0.35,
            0.5
           ],
           "xaxis": "x",
           "y": [
            0.85,
            0.85
           ],
           "yaxis": "y"
          },
          {
           "hovertemplate": "<b>%{hovertext}</b><br><br>color=blue<br>type=box<br>frame=54<br>x=%{x}<br>y=%{y}<br>size=%{marker.size}<extra></extra>",
           "hovertext": [
            "blue | box | 4",
            "blue | box | 16"
           ],
           "ids": [
            4,
            16
           ],
           "legendgroup": "blue, box",
           "marker": {
            "color": "#636efa",
            "size": [
             100,
             100
            ],
            "sizemode": "area",
            "sizeref": 0.25,
            "symbol": "diamond"
           },
           "mode": "markers",
           "name": "blue, box",
           "orientation": "v",
           "showlegend": true,
           "type": "scatter",
           "x": [
            0.5,
            0.5
           ],
           "xaxis": "x",
           "y": [
            0.15000000000000002,
            1.15
           ],
           "yaxis": "y"
          },
          {
           "hovertemplate": "<b>%{hovertext}</b><br><br>color=purple<br>type=target<br>frame=54<br>x=%{x}<br>y=%{y}<br>size=%{marker.size}<extra></extra>",
           "hovertext": [
            "purple | target | 15"
           ],
           "ids": [
            15
           ],
           "legendgroup": "purple, target",
           "marker": {
            "color": "#00cc96",
            "size": [
             100
            ],
            "sizemode": "area",
            "sizeref": 0.25,
            "symbol": "circle"
           },
           "mode": "markers",
           "name": "purple, target",
           "orientation": "v",
           "showlegend": true,
           "type": "scatter",
           "x": [
            1.5
           ],
           "xaxis": "x",
           "y": [
            0.85
           ],
           "yaxis": "y"
          },
          {
           "hovertemplate": "<b>%{hovertext}</b><br><br>color=purple<br>type=box<br>frame=54<br>x=%{x}<br>y=%{y}<br>size=%{marker.size}<extra></extra>",
           "hovertext": [
            "purple | box | 6"
           ],
           "ids": [
            6
           ],
           "legendgroup": "purple, box",
           "marker": {
            "color": "#00cc96",
            "size": [
             100
            ],
            "sizemode": "area",
            "sizeref": 0.25,
            "symbol": "diamond"
           },
           "mode": "markers",
           "name": "purple, box",
           "orientation": "v",
           "showlegend": true,
           "type": "scatter",
           "x": [
            1.5
           ],
           "xaxis": "x",
           "y": [
            1.15
           ],
           "yaxis": "y"
          }
         ],
         "name": "54"
        },
        {
         "data": [
          {
           "hovertemplate": "<b>%{hovertext}</b><br><br>color=blue<br>type=target<br>frame=55<br>x=%{x}<br>y=%{y}<br>size=%{marker.size}<extra></extra>",
           "hovertext": [
            "blue | target | 0",
            "blue | target | 1"
           ],
           "ids": [
            0,
            1
           ],
           "legendgroup": "blue, target",
           "marker": {
            "color": "#636efa",
            "size": [
             80,
             80
            ],
            "sizemode": "area",
            "sizeref": 0.25,
            "symbol": "circle"
           },
           "mode": "markers",
           "name": "blue, target",
           "orientation": "v",
           "showlegend": true,
           "type": "scatter",
           "x": [
            0.38,
            0.5
           ],
           "xaxis": "x",
           "y": [
            0.8500000000000001,
            0.78
           ],
           "yaxis": "y"
          },
          {
           "hovertemplate": "<b>%{hovertext}</b><br><br>color=blue<br>type=box<br>frame=55<br>x=%{x}<br>y=%{y}<br>size=%{marker.size}<extra></extra>",
           "hovertext": [
            "blue | box | 4",
            "blue | box | 16"
           ],
           "ids": [
            4,
            16
           ],
           "legendgroup": "blue, box",
           "marker": {
            "color": "#636efa",
            "size": [
             80,
             80
            ],
            "sizemode": "area",
            "sizeref": 0.25,
            "symbol": "diamond"
           },
           "mode": "markers",
           "name": "blue, box",
           "orientation": "v",
           "showlegend": true,
           "type": "scatter",
           "x": [
            0.5,
            0.5
           ],
           "xaxis": "x",
           "y": [
            0.22000000000000003,
            0.95
           ],
           "yaxis": "y"
          },
          {
           "hovertemplate": "<b>%{hovertext}</b><br><br>color=purple<br>type=target<br>frame=55<br>x=%{x}<br>y=%{y}<br>size=%{marker.size}<extra></extra>",
           "hovertext": [
            "purple | target | 15"
           ],
           "ids": [
            15
           ],
           "legendgroup": "purple, target",
           "marker": {
            "color": "#00cc96",
            "size": [
             80
            ],
            "sizemode": "area",
            "sizeref": 0.25,
            "symbol": "circle"
           },
           "mode": "markers",
           "name": "purple, target",
           "orientation": "v",
           "showlegend": true,
           "type": "scatter",
           "x": [
            1.5000000000000002
           ],
           "xaxis": "x",
           "y": [
            0.8500000000000001
           ],
           "yaxis": "y"
          },
          {
           "hovertemplate": "<b>%{hovertext}</b><br><br>color=purple<br>type=box<br>frame=55<br>x=%{x}<br>y=%{y}<br>size=%{marker.size}<extra></extra>",
           "hovertext": [
            "purple | box | 6"
           ],
           "ids": [
            6
           ],
           "legendgroup": "purple, box",
           "marker": {
            "color": "#00cc96",
            "size": [
             80
            ],
            "sizemode": "area",
            "sizeref": 0.25,
            "symbol": "diamond"
           },
           "mode": "markers",
           "name": "purple, box",
           "orientation": "v",
           "showlegend": true,
           "type": "scatter",
           "x": [
            1.5000000000000002
           ],
           "xaxis": "x",
           "y": [
            1.15
           ],
           "yaxis": "y"
          }
         ],
         "name": "55"
        },
        {
         "data": [
          {
           "hovertemplate": "<b>%{hovertext}</b><br><br>color=blue<br>type=target<br>frame=56<br>x=%{x}<br>y=%{y}<br>size=%{marker.size}<extra></extra>",
           "hovertext": [
            "blue | target | 0",
            "blue | target | 1"
           ],
           "ids": [
            0,
            1
           ],
           "legendgroup": "blue, target",
           "marker": {
            "color": "#636efa",
            "size": [
             60,
             60
            ],
            "sizemode": "area",
            "sizeref": 0.25,
            "symbol": "circle"
           },
           "mode": "markers",
           "name": "blue, target",
           "orientation": "v",
           "showlegend": true,
           "type": "scatter",
           "x": [
            0.41000000000000003,
            0.5
           ],
           "xaxis": "x",
           "y": [
            0.8500000000000001,
            0.71
           ],
           "yaxis": "y"
          },
          {
           "hovertemplate": "<b>%{hovertext}</b><br><br>color=blue<br>type=box<br>frame=56<br>x=%{x}<br>y=%{y}<br>size=%{marker.size}<extra></extra>",
           "hovertext": [
            "blue | box | 4",
            "blue | box | 16"
           ],
           "ids": [
            4,
            16
           ],
           "legendgroup": "blue, box",
           "marker": {
            "color": "#636efa",
            "size": [
             60,
             60
            ],
            "sizemode": "area",
            "sizeref": 0.25,
            "symbol": "diamond"
           },
           "mode": "markers",
           "name": "blue, box",
           "orientation": "v",
           "showlegend": true,
           "type": "scatter",
           "x": [
            0.5,
            0.5
           ],
           "xaxis": "x",
           "y": [
            0.29000000000000004,
            0.75
           ],
           "yaxis": "y"
          },
          {
           "hovertemplate": "<b>%{hovertext}</b><br><br>color=purple<br>type=target<br>frame=56<br>x=%{x}<br>y=%{y}<br>size=%{marker.size}<extra></extra>",
           "hovertext": [
            "purple | target | 15"
           ],
           "ids": [
            15
           ],
           "legendgroup": "purple, target",
           "marker": {
            "color": "#00cc96",
            "size": [
             60
            ],
            "sizemode": "area",
            "sizeref": 0.25,
            "symbol": "circle"
           },
           "mode": "markers",
           "name": "purple, target",
           "orientation": "v",
           "showlegend": true,
           "type": "scatter",
           "x": [
            1.5
           ],
           "xaxis": "x",
           "y": [
            0.8500000000000001
           ],
           "yaxis": "y"
          },
          {
           "hovertemplate": "<b>%{hovertext}</b><br><br>color=purple<br>type=box<br>frame=56<br>x=%{x}<br>y=%{y}<br>size=%{marker.size}<extra></extra>",
           "hovertext": [
            "purple | box | 6"
           ],
           "ids": [
            6
           ],
           "legendgroup": "purple, box",
           "marker": {
            "color": "#00cc96",
            "size": [
             60
            ],
            "sizemode": "area",
            "sizeref": 0.25,
            "symbol": "diamond"
           },
           "mode": "markers",
           "name": "purple, box",
           "orientation": "v",
           "showlegend": true,
           "type": "scatter",
           "x": [
            1.5
           ],
           "xaxis": "x",
           "y": [
            1.15
           ],
           "yaxis": "y"
          }
         ],
         "name": "56"
        },
        {
         "data": [
          {
           "hovertemplate": "<b>%{hovertext}</b><br><br>color=blue<br>type=target<br>frame=57<br>x=%{x}<br>y=%{y}<br>size=%{marker.size}<extra></extra>",
           "hovertext": [
            "blue | target | 0",
            "blue | target | 1"
           ],
           "ids": [
            0,
            1
           ],
           "legendgroup": "blue, target",
           "marker": {
            "color": "#636efa",
            "size": [
             40,
             40
            ],
            "sizemode": "area",
            "sizeref": 0.25,
            "symbol": "circle"
           },
           "mode": "markers",
           "name": "blue, target",
           "orientation": "v",
           "showlegend": true,
           "type": "scatter",
           "x": [
            0.43999999999999995,
            0.5
           ],
           "xaxis": "x",
           "y": [
            0.8500000000000001,
            0.64
           ],
           "yaxis": "y"
          },
          {
           "hovertemplate": "<b>%{hovertext}</b><br><br>color=blue<br>type=box<br>frame=57<br>x=%{x}<br>y=%{y}<br>size=%{marker.size}<extra></extra>",
           "hovertext": [
            "blue | box | 4",
            "blue | box | 16"
           ],
           "ids": [
            4,
            16
           ],
           "legendgroup": "blue, box",
           "marker": {
            "color": "#636efa",
            "size": [
             40,
             40
            ],
            "sizemode": "area",
            "sizeref": 0.25,
            "symbol": "diamond"
           },
           "mode": "markers",
           "name": "blue, box",
           "orientation": "v",
           "showlegend": true,
           "type": "scatter",
           "x": [
            0.5,
            0.5
           ],
           "xaxis": "x",
           "y": [
            0.36,
            0.5499999999999999
           ],
           "yaxis": "y"
          },
          {
           "hovertemplate": "<b>%{hovertext}</b><br><br>color=purple<br>type=target<br>frame=57<br>x=%{x}<br>y=%{y}<br>size=%{marker.size}<extra></extra>",
           "hovertext": [
            "purple | target | 15"
           ],
           "ids": [
            15
           ],
           "legendgroup": "purple, target",
           "marker": {
            "color": "#00cc96",
            "size": [
             40
            ],
            "sizemode": "area",
            "sizeref": 0.25,
            "symbol": "circle"
           },
           "mode": "markers",
           "name": "purple, target",
           "orientation": "v",
           "showlegend": true,
           "type": "scatter",
           "x": [
            1.5
           ],
           "xaxis": "x",
           "y": [
            0.8500000000000001
           ],
           "yaxis": "y"
          },
          {
           "hovertemplate": "<b>%{hovertext}</b><br><br>color=purple<br>type=box<br>frame=57<br>x=%{x}<br>y=%{y}<br>size=%{marker.size}<extra></extra>",
           "hovertext": [
            "purple | box | 6"
           ],
           "ids": [
            6
           ],
           "legendgroup": "purple, box",
           "marker": {
            "color": "#00cc96",
            "size": [
             40
            ],
            "sizemode": "area",
            "sizeref": 0.25,
            "symbol": "diamond"
           },
           "mode": "markers",
           "name": "purple, box",
           "orientation": "v",
           "showlegend": true,
           "type": "scatter",
           "x": [
            1.5
           ],
           "xaxis": "x",
           "y": [
            1.15
           ],
           "yaxis": "y"
          }
         ],
         "name": "57"
        },
        {
         "data": [
          {
           "hovertemplate": "<b>%{hovertext}</b><br><br>color=blue<br>type=target<br>frame=58<br>x=%{x}<br>y=%{y}<br>size=%{marker.size}<extra></extra>",
           "hovertext": [
            "blue | target | 0",
            "blue | target | 1"
           ],
           "ids": [
            0,
            1
           ],
           "legendgroup": "blue, target",
           "marker": {
            "color": "#636efa",
            "size": [
             19.999999999999996,
             19.999999999999996
            ],
            "sizemode": "area",
            "sizeref": 0.25,
            "symbol": "circle"
           },
           "mode": "markers",
           "name": "blue, target",
           "orientation": "v",
           "showlegend": true,
           "type": "scatter",
           "x": [
            0.47,
            0.5
           ],
           "xaxis": "x",
           "y": [
            0.85,
            0.57
           ],
           "yaxis": "y"
          },
          {
           "hovertemplate": "<b>%{hovertext}</b><br><br>color=blue<br>type=box<br>frame=58<br>x=%{x}<br>y=%{y}<br>size=%{marker.size}<extra></extra>",
           "hovertext": [
            "blue | box | 4",
            "blue | box | 16"
           ],
           "ids": [
            4,
            16
           ],
           "legendgroup": "blue, box",
           "marker": {
            "color": "#636efa",
            "size": [
             19.999999999999996,
             19.999999999999996
            ],
            "sizemode": "area",
            "sizeref": 0.25,
            "symbol": "diamond"
           },
           "mode": "markers",
           "name": "blue, box",
           "orientation": "v",
           "showlegend": true,
           "type": "scatter",
           "x": [
            0.5,
            0.5
           ],
           "xaxis": "x",
           "y": [
            0.43000000000000005,
            0.35
           ],
           "yaxis": "y"
          },
          {
           "hovertemplate": "<b>%{hovertext}</b><br><br>color=purple<br>type=target<br>frame=58<br>x=%{x}<br>y=%{y}<br>size=%{marker.size}<extra></extra>",
           "hovertext": [
            "purple | target | 15"
           ],
           "ids": [
            15
           ],
           "legendgroup": "purple, target",
           "marker": {
            "color": "#00cc96",
            "size": [
             19.999999999999996
            ],
            "sizemode": "area",
            "sizeref": 0.25,
            "symbol": "circle"
           },
           "mode": "markers",
           "name": "purple, target",
           "orientation": "v",
           "showlegend": true,
           "type": "scatter",
           "x": [
            1.5
           ],
           "xaxis": "x",
           "y": [
            0.85
           ],
           "yaxis": "y"
          },
          {
           "hovertemplate": "<b>%{hovertext}</b><br><br>color=purple<br>type=box<br>frame=58<br>x=%{x}<br>y=%{y}<br>size=%{marker.size}<extra></extra>",
           "hovertext": [
            "purple | box | 6"
           ],
           "ids": [
            6
           ],
           "legendgroup": "purple, box",
           "marker": {
            "color": "#00cc96",
            "size": [
             19.999999999999996
            ],
            "sizemode": "area",
            "sizeref": 0.25,
            "symbol": "diamond"
           },
           "mode": "markers",
           "name": "purple, box",
           "orientation": "v",
           "showlegend": true,
           "type": "scatter",
           "x": [
            1.5
           ],
           "xaxis": "x",
           "y": [
            1.15
           ],
           "yaxis": "y"
          }
         ],
         "name": "58"
        },
        {
         "data": [
          {
           "hovertemplate": "<b>%{hovertext}</b><br><br>color=blue<br>type=target<br>frame=59<br>x=%{x}<br>y=%{y}<br>size=%{marker.size}<extra></extra>",
           "hovertext": [
            "blue | target | 0",
            "blue | target | 1"
           ],
           "ids": [
            0,
            1
           ],
           "legendgroup": "blue, target",
           "marker": {
            "color": "#636efa",
            "size": [
             0,
             0
            ],
            "sizemode": "area",
            "sizeref": 0.25,
            "symbol": "circle"
           },
           "mode": "markers",
           "name": "blue, target",
           "orientation": "v",
           "showlegend": true,
           "type": "scatter",
           "x": [
            0.5,
            0.5
           ],
           "xaxis": "x",
           "y": [
            0.85,
            0.5
           ],
           "yaxis": "y"
          },
          {
           "hovertemplate": "<b>%{hovertext}</b><br><br>color=blue<br>type=box<br>frame=59<br>x=%{x}<br>y=%{y}<br>size=%{marker.size}<extra></extra>",
           "hovertext": [
            "blue | box | 4",
            "blue | box | 16"
           ],
           "ids": [
            4,
            16
           ],
           "legendgroup": "blue, box",
           "marker": {
            "color": "#636efa",
            "size": [
             0,
             0
            ],
            "sizemode": "area",
            "sizeref": 0.25,
            "symbol": "diamond"
           },
           "mode": "markers",
           "name": "blue, box",
           "orientation": "v",
           "showlegend": true,
           "type": "scatter",
           "x": [
            0.5,
            0.5
           ],
           "xaxis": "x",
           "y": [
            0.5,
            0.15000000000000002
           ],
           "yaxis": "y"
          },
          {
           "hovertemplate": "<b>%{hovertext}</b><br><br>color=purple<br>type=target<br>frame=59<br>x=%{x}<br>y=%{y}<br>size=%{marker.size}<extra></extra>",
           "hovertext": [
            "purple | target | 15"
           ],
           "ids": [
            15
           ],
           "legendgroup": "purple, target",
           "marker": {
            "color": "#00cc96",
            "size": [
             0
            ],
            "sizemode": "area",
            "sizeref": 0.25,
            "symbol": "circle"
           },
           "mode": "markers",
           "name": "purple, target",
           "orientation": "v",
           "showlegend": true,
           "type": "scatter",
           "x": [
            1.5
           ],
           "xaxis": "x",
           "y": [
            0.85
           ],
           "yaxis": "y"
          },
          {
           "hovertemplate": "<b>%{hovertext}</b><br><br>color=purple<br>type=box<br>frame=59<br>x=%{x}<br>y=%{y}<br>size=%{marker.size}<extra></extra>",
           "hovertext": [
            "purple | box | 6"
           ],
           "ids": [
            6
           ],
           "legendgroup": "purple, box",
           "marker": {
            "color": "#00cc96",
            "size": [
             0
            ],
            "sizemode": "area",
            "sizeref": 0.25,
            "symbol": "diamond"
           },
           "mode": "markers",
           "name": "purple, box",
           "orientation": "v",
           "showlegend": true,
           "type": "scatter",
           "x": [
            1.5
           ],
           "xaxis": "x",
           "y": [
            1.15
           ],
           "yaxis": "y"
          }
         ],
         "name": "59"
        },
        {
         "data": [
          {
           "hovertemplate": "<b>%{hovertext}</b><br><br>color=blue<br>type=target<br>frame=60<br>x=%{x}<br>y=%{y}<br>size=%{marker.size}<extra></extra>",
           "hovertext": [
            "blue | target | 0"
           ],
           "ids": [
            0
           ],
           "legendgroup": "blue, target",
           "marker": {
            "color": "#636efa",
            "size": [
             100
            ],
            "sizemode": "area",
            "sizeref": 0.25,
            "symbol": "circle"
           },
           "mode": "markers",
           "name": "blue, target",
           "orientation": "v",
           "showlegend": true,
           "type": "scatter",
           "x": [
            0.5
           ],
           "xaxis": "x",
           "y": [
            0.85
           ],
           "yaxis": "y"
          },
          {
           "hovertemplate": "<b>%{hovertext}</b><br><br>color=blue<br>type=box<br>frame=60<br>x=%{x}<br>y=%{y}<br>size=%{marker.size}<extra></extra>",
           "hovertext": [
            "blue | box | 16"
           ],
           "ids": [
            16
           ],
           "legendgroup": "blue, box",
           "marker": {
            "color": "#636efa",
            "size": [
             100
            ],
            "sizemode": "area",
            "sizeref": 0.25,
            "symbol": "diamond"
           },
           "mode": "markers",
           "name": "blue, box",
           "orientation": "v",
           "showlegend": true,
           "type": "scatter",
           "x": [
            0.5
           ],
           "xaxis": "x",
           "y": [
            0.15000000000000002
           ],
           "yaxis": "y"
          },
          {
           "hovertemplate": "<b>%{hovertext}</b><br><br>color=purple<br>type=target<br>frame=60<br>x=%{x}<br>y=%{y}<br>size=%{marker.size}<extra></extra>",
           "hovertext": [
            "purple | target | 15"
           ],
           "ids": [
            15
           ],
           "legendgroup": "purple, target",
           "marker": {
            "color": "#00cc96",
            "size": [
             100
            ],
            "sizemode": "area",
            "sizeref": 0.25,
            "symbol": "circle"
           },
           "mode": "markers",
           "name": "purple, target",
           "orientation": "v",
           "showlegend": true,
           "type": "scatter",
           "x": [
            1.5
           ],
           "xaxis": "x",
           "y": [
            0.85
           ],
           "yaxis": "y"
          },
          {
           "hovertemplate": "<b>%{hovertext}</b><br><br>color=purple<br>type=box<br>frame=60<br>x=%{x}<br>y=%{y}<br>size=%{marker.size}<extra></extra>",
           "hovertext": [
            "purple | box | 6"
           ],
           "ids": [
            6
           ],
           "legendgroup": "purple, box",
           "marker": {
            "color": "#00cc96",
            "size": [
             100
            ],
            "sizemode": "area",
            "sizeref": 0.25,
            "symbol": "diamond"
           },
           "mode": "markers",
           "name": "purple, box",
           "orientation": "v",
           "showlegend": true,
           "type": "scatter",
           "x": [
            1.5
           ],
           "xaxis": "x",
           "y": [
            1.15
           ],
           "yaxis": "y"
          }
         ],
         "name": "60"
        },
        {
         "data": [
          {
           "hovertemplate": "<b>%{hovertext}</b><br><br>color=blue<br>type=target<br>frame=61<br>x=%{x}<br>y=%{y}<br>size=%{marker.size}<extra></extra>",
           "hovertext": [
            "blue | target | 0"
           ],
           "ids": [
            0
           ],
           "legendgroup": "blue, target",
           "marker": {
            "color": "#636efa",
            "size": [
             80
            ],
            "sizemode": "area",
            "sizeref": 0.25,
            "symbol": "circle"
           },
           "mode": "markers",
           "name": "blue, target",
           "orientation": "v",
           "showlegend": true,
           "type": "scatter",
           "x": [
            0.5
           ],
           "xaxis": "x",
           "y": [
            0.78
           ],
           "yaxis": "y"
          },
          {
           "hovertemplate": "<b>%{hovertext}</b><br><br>color=blue<br>type=box<br>frame=61<br>x=%{x}<br>y=%{y}<br>size=%{marker.size}<extra></extra>",
           "hovertext": [
            "blue | box | 16"
           ],
           "ids": [
            16
           ],
           "legendgroup": "blue, box",
           "marker": {
            "color": "#636efa",
            "size": [
             80
            ],
            "sizemode": "area",
            "sizeref": 0.25,
            "symbol": "diamond"
           },
           "mode": "markers",
           "name": "blue, box",
           "orientation": "v",
           "showlegend": true,
           "type": "scatter",
           "x": [
            0.5
           ],
           "xaxis": "x",
           "y": [
            0.22000000000000003
           ],
           "yaxis": "y"
          },
          {
           "hovertemplate": "<b>%{hovertext}</b><br><br>color=purple<br>type=target<br>frame=61<br>x=%{x}<br>y=%{y}<br>size=%{marker.size}<extra></extra>",
           "hovertext": [
            "purple | target | 15"
           ],
           "ids": [
            15
           ],
           "legendgroup": "purple, target",
           "marker": {
            "color": "#00cc96",
            "size": [
             80
            ],
            "sizemode": "area",
            "sizeref": 0.25,
            "symbol": "circle"
           },
           "mode": "markers",
           "name": "purple, target",
           "orientation": "v",
           "showlegend": true,
           "type": "scatter",
           "x": [
            1.5000000000000002
           ],
           "xaxis": "x",
           "y": [
            0.8500000000000001
           ],
           "yaxis": "y"
          },
          {
           "hovertemplate": "<b>%{hovertext}</b><br><br>color=purple<br>type=box<br>frame=61<br>x=%{x}<br>y=%{y}<br>size=%{marker.size}<extra></extra>",
           "hovertext": [
            "purple | box | 6"
           ],
           "ids": [
            6
           ],
           "legendgroup": "purple, box",
           "marker": {
            "color": "#00cc96",
            "size": [
             80
            ],
            "sizemode": "area",
            "sizeref": 0.25,
            "symbol": "diamond"
           },
           "mode": "markers",
           "name": "purple, box",
           "orientation": "v",
           "showlegend": true,
           "type": "scatter",
           "x": [
            1.5000000000000002
           ],
           "xaxis": "x",
           "y": [
            0.95
           ],
           "yaxis": "y"
          }
         ],
         "name": "61"
        },
        {
         "data": [
          {
           "hovertemplate": "<b>%{hovertext}</b><br><br>color=blue<br>type=target<br>frame=62<br>x=%{x}<br>y=%{y}<br>size=%{marker.size}<extra></extra>",
           "hovertext": [
            "blue | target | 0"
           ],
           "ids": [
            0
           ],
           "legendgroup": "blue, target",
           "marker": {
            "color": "#636efa",
            "size": [
             60
            ],
            "sizemode": "area",
            "sizeref": 0.25,
            "symbol": "circle"
           },
           "mode": "markers",
           "name": "blue, target",
           "orientation": "v",
           "showlegend": true,
           "type": "scatter",
           "x": [
            0.5
           ],
           "xaxis": "x",
           "y": [
            0.71
           ],
           "yaxis": "y"
          },
          {
           "hovertemplate": "<b>%{hovertext}</b><br><br>color=blue<br>type=box<br>frame=62<br>x=%{x}<br>y=%{y}<br>size=%{marker.size}<extra></extra>",
           "hovertext": [
            "blue | box | 16"
           ],
           "ids": [
            16
           ],
           "legendgroup": "blue, box",
           "marker": {
            "color": "#636efa",
            "size": [
             60
            ],
            "sizemode": "area",
            "sizeref": 0.25,
            "symbol": "diamond"
           },
           "mode": "markers",
           "name": "blue, box",
           "orientation": "v",
           "showlegend": true,
           "type": "scatter",
           "x": [
            0.5
           ],
           "xaxis": "x",
           "y": [
            0.29000000000000004
           ],
           "yaxis": "y"
          },
          {
           "hovertemplate": "<b>%{hovertext}</b><br><br>color=purple<br>type=target<br>frame=62<br>x=%{x}<br>y=%{y}<br>size=%{marker.size}<extra></extra>",
           "hovertext": [
            "purple | target | 15"
           ],
           "ids": [
            15
           ],
           "legendgroup": "purple, target",
           "marker": {
            "color": "#00cc96",
            "size": [
             60
            ],
            "sizemode": "area",
            "sizeref": 0.25,
            "symbol": "circle"
           },
           "mode": "markers",
           "name": "purple, target",
           "orientation": "v",
           "showlegend": true,
           "type": "scatter",
           "x": [
            1.5
           ],
           "xaxis": "x",
           "y": [
            0.8500000000000001
           ],
           "yaxis": "y"
          },
          {
           "hovertemplate": "<b>%{hovertext}</b><br><br>color=purple<br>type=box<br>frame=62<br>x=%{x}<br>y=%{y}<br>size=%{marker.size}<extra></extra>",
           "hovertext": [
            "purple | box | 6"
           ],
           "ids": [
            6
           ],
           "legendgroup": "purple, box",
           "marker": {
            "color": "#00cc96",
            "size": [
             60
            ],
            "sizemode": "area",
            "sizeref": 0.25,
            "symbol": "diamond"
           },
           "mode": "markers",
           "name": "purple, box",
           "orientation": "v",
           "showlegend": true,
           "type": "scatter",
           "x": [
            1.5
           ],
           "xaxis": "x",
           "y": [
            0.75
           ],
           "yaxis": "y"
          }
         ],
         "name": "62"
        },
        {
         "data": [
          {
           "hovertemplate": "<b>%{hovertext}</b><br><br>color=blue<br>type=target<br>frame=63<br>x=%{x}<br>y=%{y}<br>size=%{marker.size}<extra></extra>",
           "hovertext": [
            "blue | target | 0"
           ],
           "ids": [
            0
           ],
           "legendgroup": "blue, target",
           "marker": {
            "color": "#636efa",
            "size": [
             40
            ],
            "sizemode": "area",
            "sizeref": 0.25,
            "symbol": "circle"
           },
           "mode": "markers",
           "name": "blue, target",
           "orientation": "v",
           "showlegend": true,
           "type": "scatter",
           "x": [
            0.5
           ],
           "xaxis": "x",
           "y": [
            0.64
           ],
           "yaxis": "y"
          },
          {
           "hovertemplate": "<b>%{hovertext}</b><br><br>color=blue<br>type=box<br>frame=63<br>x=%{x}<br>y=%{y}<br>size=%{marker.size}<extra></extra>",
           "hovertext": [
            "blue | box | 16"
           ],
           "ids": [
            16
           ],
           "legendgroup": "blue, box",
           "marker": {
            "color": "#636efa",
            "size": [
             40
            ],
            "sizemode": "area",
            "sizeref": 0.25,
            "symbol": "diamond"
           },
           "mode": "markers",
           "name": "blue, box",
           "orientation": "v",
           "showlegend": true,
           "type": "scatter",
           "x": [
            0.5
           ],
           "xaxis": "x",
           "y": [
            0.36
           ],
           "yaxis": "y"
          },
          {
           "hovertemplate": "<b>%{hovertext}</b><br><br>color=purple<br>type=target<br>frame=63<br>x=%{x}<br>y=%{y}<br>size=%{marker.size}<extra></extra>",
           "hovertext": [
            "purple | target | 15"
           ],
           "ids": [
            15
           ],
           "legendgroup": "purple, target",
           "marker": {
            "color": "#00cc96",
            "size": [
             40
            ],
            "sizemode": "area",
            "sizeref": 0.25,
            "symbol": "circle"
           },
           "mode": "markers",
           "name": "purple, target",
           "orientation": "v",
           "showlegend": true,
           "type": "scatter",
           "x": [
            1.5
           ],
           "xaxis": "x",
           "y": [
            0.8500000000000001
           ],
           "yaxis": "y"
          },
          {
           "hovertemplate": "<b>%{hovertext}</b><br><br>color=purple<br>type=box<br>frame=63<br>x=%{x}<br>y=%{y}<br>size=%{marker.size}<extra></extra>",
           "hovertext": [
            "purple | box | 6"
           ],
           "ids": [
            6
           ],
           "legendgroup": "purple, box",
           "marker": {
            "color": "#00cc96",
            "size": [
             40
            ],
            "sizemode": "area",
            "sizeref": 0.25,
            "symbol": "diamond"
           },
           "mode": "markers",
           "name": "purple, box",
           "orientation": "v",
           "showlegend": true,
           "type": "scatter",
           "x": [
            1.5
           ],
           "xaxis": "x",
           "y": [
            0.5499999999999999
           ],
           "yaxis": "y"
          }
         ],
         "name": "63"
        },
        {
         "data": [
          {
           "hovertemplate": "<b>%{hovertext}</b><br><br>color=blue<br>type=target<br>frame=64<br>x=%{x}<br>y=%{y}<br>size=%{marker.size}<extra></extra>",
           "hovertext": [
            "blue | target | 0"
           ],
           "ids": [
            0
           ],
           "legendgroup": "blue, target",
           "marker": {
            "color": "#636efa",
            "size": [
             19.999999999999996
            ],
            "sizemode": "area",
            "sizeref": 0.25,
            "symbol": "circle"
           },
           "mode": "markers",
           "name": "blue, target",
           "orientation": "v",
           "showlegend": true,
           "type": "scatter",
           "x": [
            0.5
           ],
           "xaxis": "x",
           "y": [
            0.57
           ],
           "yaxis": "y"
          },
          {
           "hovertemplate": "<b>%{hovertext}</b><br><br>color=blue<br>type=box<br>frame=64<br>x=%{x}<br>y=%{y}<br>size=%{marker.size}<extra></extra>",
           "hovertext": [
            "blue | box | 16"
           ],
           "ids": [
            16
           ],
           "legendgroup": "blue, box",
           "marker": {
            "color": "#636efa",
            "size": [
             19.999999999999996
            ],
            "sizemode": "area",
            "sizeref": 0.25,
            "symbol": "diamond"
           },
           "mode": "markers",
           "name": "blue, box",
           "orientation": "v",
           "showlegend": true,
           "type": "scatter",
           "x": [
            0.5
           ],
           "xaxis": "x",
           "y": [
            0.43000000000000005
           ],
           "yaxis": "y"
          },
          {
           "hovertemplate": "<b>%{hovertext}</b><br><br>color=purple<br>type=target<br>frame=64<br>x=%{x}<br>y=%{y}<br>size=%{marker.size}<extra></extra>",
           "hovertext": [
            "purple | target | 15"
           ],
           "ids": [
            15
           ],
           "legendgroup": "purple, target",
           "marker": {
            "color": "#00cc96",
            "size": [
             19.999999999999996
            ],
            "sizemode": "area",
            "sizeref": 0.25,
            "symbol": "circle"
           },
           "mode": "markers",
           "name": "purple, target",
           "orientation": "v",
           "showlegend": true,
           "type": "scatter",
           "x": [
            1.5
           ],
           "xaxis": "x",
           "y": [
            0.85
           ],
           "yaxis": "y"
          },
          {
           "hovertemplate": "<b>%{hovertext}</b><br><br>color=purple<br>type=box<br>frame=64<br>x=%{x}<br>y=%{y}<br>size=%{marker.size}<extra></extra>",
           "hovertext": [
            "purple | box | 6"
           ],
           "ids": [
            6
           ],
           "legendgroup": "purple, box",
           "marker": {
            "color": "#00cc96",
            "size": [
             19.999999999999996
            ],
            "sizemode": "area",
            "sizeref": 0.25,
            "symbol": "diamond"
           },
           "mode": "markers",
           "name": "purple, box",
           "orientation": "v",
           "showlegend": true,
           "type": "scatter",
           "x": [
            1.5
           ],
           "xaxis": "x",
           "y": [
            0.35
           ],
           "yaxis": "y"
          }
         ],
         "name": "64"
        },
        {
         "data": [
          {
           "hovertemplate": "<b>%{hovertext}</b><br><br>color=blue<br>type=target<br>frame=65<br>x=%{x}<br>y=%{y}<br>size=%{marker.size}<extra></extra>",
           "hovertext": [
            "blue | target | 0"
           ],
           "ids": [
            0
           ],
           "legendgroup": "blue, target",
           "marker": {
            "color": "#636efa",
            "size": [
             0
            ],
            "sizemode": "area",
            "sizeref": 0.25,
            "symbol": "circle"
           },
           "mode": "markers",
           "name": "blue, target",
           "orientation": "v",
           "showlegend": true,
           "type": "scatter",
           "x": [
            0.5
           ],
           "xaxis": "x",
           "y": [
            0.5
           ],
           "yaxis": "y"
          },
          {
           "hovertemplate": "<b>%{hovertext}</b><br><br>color=blue<br>type=box<br>frame=65<br>x=%{x}<br>y=%{y}<br>size=%{marker.size}<extra></extra>",
           "hovertext": [
            "blue | box | 16"
           ],
           "ids": [
            16
           ],
           "legendgroup": "blue, box",
           "marker": {
            "color": "#636efa",
            "size": [
             0
            ],
            "sizemode": "area",
            "sizeref": 0.25,
            "symbol": "diamond"
           },
           "mode": "markers",
           "name": "blue, box",
           "orientation": "v",
           "showlegend": true,
           "type": "scatter",
           "x": [
            0.5
           ],
           "xaxis": "x",
           "y": [
            0.5
           ],
           "yaxis": "y"
          },
          {
           "hovertemplate": "<b>%{hovertext}</b><br><br>color=purple<br>type=target<br>frame=65<br>x=%{x}<br>y=%{y}<br>size=%{marker.size}<extra></extra>",
           "hovertext": [
            "purple | target | 15"
           ],
           "ids": [
            15
           ],
           "legendgroup": "purple, target",
           "marker": {
            "color": "#00cc96",
            "size": [
             0
            ],
            "sizemode": "area",
            "sizeref": 0.25,
            "symbol": "circle"
           },
           "mode": "markers",
           "name": "purple, target",
           "orientation": "v",
           "showlegend": true,
           "type": "scatter",
           "x": [
            1.5
           ],
           "xaxis": "x",
           "y": [
            0.85
           ],
           "yaxis": "y"
          },
          {
           "hovertemplate": "<b>%{hovertext}</b><br><br>color=purple<br>type=box<br>frame=65<br>x=%{x}<br>y=%{y}<br>size=%{marker.size}<extra></extra>",
           "hovertext": [
            "purple | box | 6"
           ],
           "ids": [
            6
           ],
           "legendgroup": "purple, box",
           "marker": {
            "color": "#00cc96",
            "size": [
             0
            ],
            "sizemode": "area",
            "sizeref": 0.25,
            "symbol": "diamond"
           },
           "mode": "markers",
           "name": "purple, box",
           "orientation": "v",
           "showlegend": true,
           "type": "scatter",
           "x": [
            1.5
           ],
           "xaxis": "x",
           "y": [
            0.15000000000000002
           ],
           "yaxis": "y"
          }
         ],
         "name": "65"
        },
        {
         "data": [
          {
           "hovertemplate": "<b>%{hovertext}</b><br><br>color=purple<br>type=target<br>frame=66<br>x=%{x}<br>y=%{y}<br>size=%{marker.size}<extra></extra>",
           "hovertext": [
            "purple | target | 15"
           ],
           "ids": [
            15
           ],
           "legendgroup": "purple, target",
           "marker": {
            "color": "#00cc96",
            "size": [
             100
            ],
            "sizemode": "area",
            "sizeref": 0.25,
            "symbol": "circle"
           },
           "mode": "markers",
           "name": "purple, target",
           "orientation": "v",
           "showlegend": true,
           "type": "scatter",
           "x": [
            1.5
           ],
           "xaxis": "x",
           "y": [
            0.85
           ],
           "yaxis": "y"
          },
          {
           "hovertemplate": "<b>%{hovertext}</b><br><br>color=purple<br>type=box<br>frame=66<br>x=%{x}<br>y=%{y}<br>size=%{marker.size}<extra></extra>",
           "hovertext": [
            "purple | box | 6"
           ],
           "ids": [
            6
           ],
           "legendgroup": "purple, box",
           "marker": {
            "color": "#00cc96",
            "size": [
             100
            ],
            "sizemode": "area",
            "sizeref": 0.25,
            "symbol": "diamond"
           },
           "mode": "markers",
           "name": "purple, box",
           "orientation": "v",
           "showlegend": true,
           "type": "scatter",
           "x": [
            1.5
           ],
           "xaxis": "x",
           "y": [
            0.15000000000000002
           ],
           "yaxis": "y"
          }
         ],
         "name": "66"
        },
        {
         "data": [
          {
           "hovertemplate": "<b>%{hovertext}</b><br><br>color=purple<br>type=target<br>frame=67<br>x=%{x}<br>y=%{y}<br>size=%{marker.size}<extra></extra>",
           "hovertext": [
            "purple | target | 15"
           ],
           "ids": [
            15
           ],
           "legendgroup": "purple, target",
           "marker": {
            "color": "#00cc96",
            "size": [
             80
            ],
            "sizemode": "area",
            "sizeref": 0.25,
            "symbol": "circle"
           },
           "mode": "markers",
           "name": "purple, target",
           "orientation": "v",
           "showlegend": true,
           "type": "scatter",
           "x": [
            1.5000000000000002
           ],
           "xaxis": "x",
           "y": [
            0.78
           ],
           "yaxis": "y"
          },
          {
           "hovertemplate": "<b>%{hovertext}</b><br><br>color=purple<br>type=box<br>frame=67<br>x=%{x}<br>y=%{y}<br>size=%{marker.size}<extra></extra>",
           "hovertext": [
            "purple | box | 6"
           ],
           "ids": [
            6
           ],
           "legendgroup": "purple, box",
           "marker": {
            "color": "#00cc96",
            "size": [
             80
            ],
            "sizemode": "area",
            "sizeref": 0.25,
            "symbol": "diamond"
           },
           "mode": "markers",
           "name": "purple, box",
           "orientation": "v",
           "showlegend": true,
           "type": "scatter",
           "x": [
            1.5000000000000002
           ],
           "xaxis": "x",
           "y": [
            0.22000000000000003
           ],
           "yaxis": "y"
          }
         ],
         "name": "67"
        },
        {
         "data": [
          {
           "hovertemplate": "<b>%{hovertext}</b><br><br>color=purple<br>type=target<br>frame=68<br>x=%{x}<br>y=%{y}<br>size=%{marker.size}<extra></extra>",
           "hovertext": [
            "purple | target | 15"
           ],
           "ids": [
            15
           ],
           "legendgroup": "purple, target",
           "marker": {
            "color": "#00cc96",
            "size": [
             60
            ],
            "sizemode": "area",
            "sizeref": 0.25,
            "symbol": "circle"
           },
           "mode": "markers",
           "name": "purple, target",
           "orientation": "v",
           "showlegend": true,
           "type": "scatter",
           "x": [
            1.5
           ],
           "xaxis": "x",
           "y": [
            0.71
           ],
           "yaxis": "y"
          },
          {
           "hovertemplate": "<b>%{hovertext}</b><br><br>color=purple<br>type=box<br>frame=68<br>x=%{x}<br>y=%{y}<br>size=%{marker.size}<extra></extra>",
           "hovertext": [
            "purple | box | 6"
           ],
           "ids": [
            6
           ],
           "legendgroup": "purple, box",
           "marker": {
            "color": "#00cc96",
            "size": [
             60
            ],
            "sizemode": "area",
            "sizeref": 0.25,
            "symbol": "diamond"
           },
           "mode": "markers",
           "name": "purple, box",
           "orientation": "v",
           "showlegend": true,
           "type": "scatter",
           "x": [
            1.5
           ],
           "xaxis": "x",
           "y": [
            0.29000000000000004
           ],
           "yaxis": "y"
          }
         ],
         "name": "68"
        },
        {
         "data": [
          {
           "hovertemplate": "<b>%{hovertext}</b><br><br>color=purple<br>type=target<br>frame=69<br>x=%{x}<br>y=%{y}<br>size=%{marker.size}<extra></extra>",
           "hovertext": [
            "purple | target | 15"
           ],
           "ids": [
            15
           ],
           "legendgroup": "purple, target",
           "marker": {
            "color": "#00cc96",
            "size": [
             40
            ],
            "sizemode": "area",
            "sizeref": 0.25,
            "symbol": "circle"
           },
           "mode": "markers",
           "name": "purple, target",
           "orientation": "v",
           "showlegend": true,
           "type": "scatter",
           "x": [
            1.5
           ],
           "xaxis": "x",
           "y": [
            0.64
           ],
           "yaxis": "y"
          },
          {
           "hovertemplate": "<b>%{hovertext}</b><br><br>color=purple<br>type=box<br>frame=69<br>x=%{x}<br>y=%{y}<br>size=%{marker.size}<extra></extra>",
           "hovertext": [
            "purple | box | 6"
           ],
           "ids": [
            6
           ],
           "legendgroup": "purple, box",
           "marker": {
            "color": "#00cc96",
            "size": [
             40
            ],
            "sizemode": "area",
            "sizeref": 0.25,
            "symbol": "diamond"
           },
           "mode": "markers",
           "name": "purple, box",
           "orientation": "v",
           "showlegend": true,
           "type": "scatter",
           "x": [
            1.5
           ],
           "xaxis": "x",
           "y": [
            0.36
           ],
           "yaxis": "y"
          }
         ],
         "name": "69"
        },
        {
         "data": [
          {
           "hovertemplate": "<b>%{hovertext}</b><br><br>color=purple<br>type=target<br>frame=70<br>x=%{x}<br>y=%{y}<br>size=%{marker.size}<extra></extra>",
           "hovertext": [
            "purple | target | 15"
           ],
           "ids": [
            15
           ],
           "legendgroup": "purple, target",
           "marker": {
            "color": "#00cc96",
            "size": [
             19.999999999999996
            ],
            "sizemode": "area",
            "sizeref": 0.25,
            "symbol": "circle"
           },
           "mode": "markers",
           "name": "purple, target",
           "orientation": "v",
           "showlegend": true,
           "type": "scatter",
           "x": [
            1.5
           ],
           "xaxis": "x",
           "y": [
            0.57
           ],
           "yaxis": "y"
          },
          {
           "hovertemplate": "<b>%{hovertext}</b><br><br>color=purple<br>type=box<br>frame=70<br>x=%{x}<br>y=%{y}<br>size=%{marker.size}<extra></extra>",
           "hovertext": [
            "purple | box | 6"
           ],
           "ids": [
            6
           ],
           "legendgroup": "purple, box",
           "marker": {
            "color": "#00cc96",
            "size": [
             19.999999999999996
            ],
            "sizemode": "area",
            "sizeref": 0.25,
            "symbol": "diamond"
           },
           "mode": "markers",
           "name": "purple, box",
           "orientation": "v",
           "showlegend": true,
           "type": "scatter",
           "x": [
            1.5
           ],
           "xaxis": "x",
           "y": [
            0.43000000000000005
           ],
           "yaxis": "y"
          }
         ],
         "name": "70"
        },
        {
         "data": [
          {
           "hovertemplate": "<b>%{hovertext}</b><br><br>color=purple<br>type=target<br>frame=71<br>x=%{x}<br>y=%{y}<br>size=%{marker.size}<extra></extra>",
           "hovertext": [
            "purple | target | 15"
           ],
           "ids": [
            15
           ],
           "legendgroup": "purple, target",
           "marker": {
            "color": "#00cc96",
            "size": [
             0
            ],
            "sizemode": "area",
            "sizeref": 0.25,
            "symbol": "circle"
           },
           "mode": "markers",
           "name": "purple, target",
           "orientation": "v",
           "showlegend": true,
           "type": "scatter",
           "x": [
            1.5
           ],
           "xaxis": "x",
           "y": [
            0.5
           ],
           "yaxis": "y"
          },
          {
           "hovertemplate": "<b>%{hovertext}</b><br><br>color=purple<br>type=box<br>frame=71<br>x=%{x}<br>y=%{y}<br>size=%{marker.size}<extra></extra>",
           "hovertext": [
            "purple | box | 6"
           ],
           "ids": [
            6
           ],
           "legendgroup": "purple, box",
           "marker": {
            "color": "#00cc96",
            "size": [
             0
            ],
            "sizemode": "area",
            "sizeref": 0.25,
            "symbol": "diamond"
           },
           "mode": "markers",
           "name": "purple, box",
           "orientation": "v",
           "showlegend": true,
           "type": "scatter",
           "x": [
            1.5
           ],
           "xaxis": "x",
           "y": [
            0.5
           ],
           "yaxis": "y"
          }
         ],
         "name": "71"
        }
       ],
       "layout": {
        "height": 600,
        "images": [
         {
          "layer": "above",
          "sizex": 0.3,
          "sizey": 0.3,
          "source": "data:image/png;base64,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",
          "x": 0.5,
          "xanchor": "center",
          "xref": "x",
          "y": 0.5,
          "yanchor": "middle",
          "yref": "y"
         },
         {
          "layer": "above",
          "sizex": 0.3,
          "sizey": 0.3,
          "source": "data:image/png;base64,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",
          "x": 0.5,
          "xanchor": "center",
          "xref": "x",
          "y": 1.5,
          "yanchor": "middle",
          "yref": "y"
         },
         {
          "layer": "above",
          "sizex": 0.3,
          "sizey": 0.3,
          "source": "data:image/png;base64,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",
          "x": 1.5,
          "xanchor": "center",
          "xref": "x",
          "y": 0.5,
          "yanchor": "middle",
          "yref": "y"
         },
         {
          "layer": "above",
          "sizex": 0.3,
          "sizey": 0.3,
          "source": "data:image/png;base64,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",
          "x": 1.5,
          "xanchor": "center",
          "xref": "x",
          "y": 1.5,
          "yanchor": "middle",
          "yref": "y"
         }
        ],
        "legend": {
         "itemsizing": "constant",
         "title": {
          "text": "color, type"
         },
         "tracegroupgap": 0
        },
        "margin": {
         "t": 60
        },
        "plot_bgcolor": "white",
        "shapes": [
         {
          "line": {
           "color": "black",
           "width": 2
          },
          "type": "rect",
          "x0": 0,
          "x1": 1,
          "y0": 0,
          "y1": 1
         },
         {
          "line": {
           "color": "black",
           "width": 2
          },
          "type": "rect",
          "x0": 0,
          "x1": 1,
          "y0": 1,
          "y1": 2
         },
         {
          "line": {
           "color": "black",
           "width": 2
          },
          "type": "rect",
          "x0": 1,
          "x1": 2,
          "y0": 0,
          "y1": 1
         },
         {
          "line": {
           "color": "black",
           "width": 2
          },
          "type": "rect",
          "x0": 1,
          "x1": 2,
          "y0": 1,
          "y1": 2
         }
        ],
        "showlegend": false,
        "sliders": [
         {
          "active": 0,
          "currentvalue": {
           "prefix": "frame="
          },
          "len": 0.9,
          "pad": {
           "b": 10,
           "t": 60
          },
          "steps": [
           {
            "args": [
             [
              "0"
             ],
             {
              "frame": {
               "duration": 0,
               "redraw": false
              },
              "fromcurrent": true,
              "mode": "immediate",
              "transition": {
               "duration": 0,
               "easing": "linear"
              }
             }
            ],
            "label": "0",
            "method": "animate"
           },
           {
            "args": [
             [
              "1"
             ],
             {
              "frame": {
               "duration": 0,
               "redraw": false
              },
              "fromcurrent": true,
              "mode": "immediate",
              "transition": {
               "duration": 0,
               "easing": "linear"
              }
             }
            ],
            "label": "1",
            "method": "animate"
           },
           {
            "args": [
             [
              "2"
             ],
             {
              "frame": {
               "duration": 0,
               "redraw": false
              },
              "fromcurrent": true,
              "mode": "immediate",
              "transition": {
               "duration": 0,
               "easing": "linear"
              }
             }
            ],
            "label": "2",
            "method": "animate"
           },
           {
            "args": [
             [
              "3"
             ],
             {
              "frame": {
               "duration": 0,
               "redraw": false
              },
              "fromcurrent": true,
              "mode": "immediate",
              "transition": {
               "duration": 0,
               "easing": "linear"
              }
             }
            ],
            "label": "3",
            "method": "animate"
           },
           {
            "args": [
             [
              "4"
             ],
             {
              "frame": {
               "duration": 0,
               "redraw": false
              },
              "fromcurrent": true,
              "mode": "immediate",
              "transition": {
               "duration": 0,
               "easing": "linear"
              }
             }
            ],
            "label": "4",
            "method": "animate"
           },
           {
            "args": [
             [
              "5"
             ],
             {
              "frame": {
               "duration": 0,
               "redraw": false
              },
              "fromcurrent": true,
              "mode": "immediate",
              "transition": {
               "duration": 0,
               "easing": "linear"
              }
             }
            ],
            "label": "5",
            "method": "animate"
           },
           {
            "args": [
             [
              "6"
             ],
             {
              "frame": {
               "duration": 0,
               "redraw": false
              },
              "fromcurrent": true,
              "mode": "immediate",
              "transition": {
               "duration": 0,
               "easing": "linear"
              }
             }
            ],
            "label": "6",
            "method": "animate"
           },
           {
            "args": [
             [
              "7"
             ],
             {
              "frame": {
               "duration": 0,
               "redraw": false
              },
              "fromcurrent": true,
              "mode": "immediate",
              "transition": {
               "duration": 0,
               "easing": "linear"
              }
             }
            ],
            "label": "7",
            "method": "animate"
           },
           {
            "args": [
             [
              "8"
             ],
             {
              "frame": {
               "duration": 0,
               "redraw": false
              },
              "fromcurrent": true,
              "mode": "immediate",
              "transition": {
               "duration": 0,
               "easing": "linear"
              }
             }
            ],
            "label": "8",
            "method": "animate"
           },
           {
            "args": [
             [
              "9"
             ],
             {
              "frame": {
               "duration": 0,
               "redraw": false
              },
              "fromcurrent": true,
              "mode": "immediate",
              "transition": {
               "duration": 0,
               "easing": "linear"
              }
             }
            ],
            "label": "9",
            "method": "animate"
           },
           {
            "args": [
             [
              "10"
             ],
             {
              "frame": {
               "duration": 0,
               "redraw": false
              },
              "fromcurrent": true,
              "mode": "immediate",
              "transition": {
               "duration": 0,
               "easing": "linear"
              }
             }
            ],
            "label": "10",
            "method": "animate"
           },
           {
            "args": [
             [
              "11"
             ],
             {
              "frame": {
               "duration": 0,
               "redraw": false
              },
              "fromcurrent": true,
              "mode": "immediate",
              "transition": {
               "duration": 0,
               "easing": "linear"
              }
             }
            ],
            "label": "11",
            "method": "animate"
           },
           {
            "args": [
             [
              "12"
             ],
             {
              "frame": {
               "duration": 0,
               "redraw": false
              },
              "fromcurrent": true,
              "mode": "immediate",
              "transition": {
               "duration": 0,
               "easing": "linear"
              }
             }
            ],
            "label": "12",
            "method": "animate"
           },
           {
            "args": [
             [
              "13"
             ],
             {
              "frame": {
               "duration": 0,
               "redraw": false
              },
              "fromcurrent": true,
              "mode": "immediate",
              "transition": {
               "duration": 0,
               "easing": "linear"
              }
             }
            ],
            "label": "13",
            "method": "animate"
           },
           {
            "args": [
             [
              "14"
             ],
             {
              "frame": {
               "duration": 0,
               "redraw": false
              },
              "fromcurrent": true,
              "mode": "immediate",
              "transition": {
               "duration": 0,
               "easing": "linear"
              }
             }
            ],
            "label": "14",
            "method": "animate"
           },
           {
            "args": [
             [
              "15"
             ],
             {
              "frame": {
               "duration": 0,
               "redraw": false
              },
              "fromcurrent": true,
              "mode": "immediate",
              "transition": {
               "duration": 0,
               "easing": "linear"
              }
             }
            ],
            "label": "15",
            "method": "animate"
           },
           {
            "args": [
             [
              "16"
             ],
             {
              "frame": {
               "duration": 0,
               "redraw": false
              },
              "fromcurrent": true,
              "mode": "immediate",
              "transition": {
               "duration": 0,
               "easing": "linear"
              }
             }
            ],
            "label": "16",
            "method": "animate"
           },
           {
            "args": [
             [
              "17"
             ],
             {
              "frame": {
               "duration": 0,
               "redraw": false
              },
              "fromcurrent": true,
              "mode": "immediate",
              "transition": {
               "duration": 0,
               "easing": "linear"
              }
             }
            ],
            "label": "17",
            "method": "animate"
           },
           {
            "args": [
             [
              "18"
             ],
             {
              "frame": {
               "duration": 0,
               "redraw": false
              },
              "fromcurrent": true,
              "mode": "immediate",
              "transition": {
               "duration": 0,
               "easing": "linear"
              }
             }
            ],
            "label": "18",
            "method": "animate"
           },
           {
            "args": [
             [
              "19"
             ],
             {
              "frame": {
               "duration": 0,
               "redraw": false
              },
              "fromcurrent": true,
              "mode": "immediate",
              "transition": {
               "duration": 0,
               "easing": "linear"
              }
             }
            ],
            "label": "19",
            "method": "animate"
           },
           {
            "args": [
             [
              "20"
             ],
             {
              "frame": {
               "duration": 0,
               "redraw": false
              },
              "fromcurrent": true,
              "mode": "immediate",
              "transition": {
               "duration": 0,
               "easing": "linear"
              }
             }
            ],
            "label": "20",
            "method": "animate"
           },
           {
            "args": [
             [
              "21"
             ],
             {
              "frame": {
               "duration": 0,
               "redraw": false
              },
              "fromcurrent": true,
              "mode": "immediate",
              "transition": {
               "duration": 0,
               "easing": "linear"
              }
             }
            ],
            "label": "21",
            "method": "animate"
           },
           {
            "args": [
             [
              "22"
             ],
             {
              "frame": {
               "duration": 0,
               "redraw": false
              },
              "fromcurrent": true,
              "mode": "immediate",
              "transition": {
               "duration": 0,
               "easing": "linear"
              }
             }
            ],
            "label": "22",
            "method": "animate"
           },
           {
            "args": [
             [
              "23"
             ],
             {
              "frame": {
               "duration": 0,
               "redraw": false
              },
              "fromcurrent": true,
              "mode": "immediate",
              "transition": {
               "duration": 0,
               "easing": "linear"
              }
             }
            ],
            "label": "23",
            "method": "animate"
           },
           {
            "args": [
             [
              "24"
             ],
             {
              "frame": {
               "duration": 0,
               "redraw": false
              },
              "fromcurrent": true,
              "mode": "immediate",
              "transition": {
               "duration": 0,
               "easing": "linear"
              }
             }
            ],
            "label": "24",
            "method": "animate"
           },
           {
            "args": [
             [
              "25"
             ],
             {
              "frame": {
               "duration": 0,
               "redraw": false
              },
              "fromcurrent": true,
              "mode": "immediate",
              "transition": {
               "duration": 0,
               "easing": "linear"
              }
             }
            ],
            "label": "25",
            "method": "animate"
           },
           {
            "args": [
             [
              "26"
             ],
             {
              "frame": {
               "duration": 0,
               "redraw": false
              },
              "fromcurrent": true,
              "mode": "immediate",
              "transition": {
               "duration": 0,
               "easing": "linear"
              }
             }
            ],
            "label": "26",
            "method": "animate"
           },
           {
            "args": [
             [
              "27"
             ],
             {
              "frame": {
               "duration": 0,
               "redraw": false
              },
              "fromcurrent": true,
              "mode": "immediate",
              "transition": {
               "duration": 0,
               "easing": "linear"
              }
             }
            ],
            "label": "27",
            "method": "animate"
           },
           {
            "args": [
             [
              "28"
             ],
             {
              "frame": {
               "duration": 0,
               "redraw": false
              },
              "fromcurrent": true,
              "mode": "immediate",
              "transition": {
               "duration": 0,
               "easing": "linear"
              }
             }
            ],
            "label": "28",
            "method": "animate"
           },
           {
            "args": [
             [
              "29"
             ],
             {
              "frame": {
               "duration": 0,
               "redraw": false
              },
              "fromcurrent": true,
              "mode": "immediate",
              "transition": {
               "duration": 0,
               "easing": "linear"
              }
             }
            ],
            "label": "29",
            "method": "animate"
           },
           {
            "args": [
             [
              "30"
             ],
             {
              "frame": {
               "duration": 0,
               "redraw": false
              },
              "fromcurrent": true,
              "mode": "immediate",
              "transition": {
               "duration": 0,
               "easing": "linear"
              }
             }
            ],
            "label": "30",
            "method": "animate"
           },
           {
            "args": [
             [
              "31"
             ],
             {
              "frame": {
               "duration": 0,
               "redraw": false
              },
              "fromcurrent": true,
              "mode": "immediate",
              "transition": {
               "duration": 0,
               "easing": "linear"
              }
             }
            ],
            "label": "31",
            "method": "animate"
           },
           {
            "args": [
             [
              "32"
             ],
             {
              "frame": {
               "duration": 0,
               "redraw": false
              },
              "fromcurrent": true,
              "mode": "immediate",
              "transition": {
               "duration": 0,
               "easing": "linear"
              }
             }
            ],
            "label": "32",
            "method": "animate"
           },
           {
            "args": [
             [
              "33"
             ],
             {
              "frame": {
               "duration": 0,
               "redraw": false
              },
              "fromcurrent": true,
              "mode": "immediate",
              "transition": {
               "duration": 0,
               "easing": "linear"
              }
             }
            ],
            "label": "33",
            "method": "animate"
           },
           {
            "args": [
             [
              "34"
             ],
             {
              "frame": {
               "duration": 0,
               "redraw": false
              },
              "fromcurrent": true,
              "mode": "immediate",
              "transition": {
               "duration": 0,
               "easing": "linear"
              }
             }
            ],
            "label": "34",
            "method": "animate"
           },
           {
            "args": [
             [
              "35"
             ],
             {
              "frame": {
               "duration": 0,
               "redraw": false
              },
              "fromcurrent": true,
              "mode": "immediate",
              "transition": {
               "duration": 0,
               "easing": "linear"
              }
             }
            ],
            "label": "35",
            "method": "animate"
           },
           {
            "args": [
             [
              "36"
             ],
             {
              "frame": {
               "duration": 0,
               "redraw": false
              },
              "fromcurrent": true,
              "mode": "immediate",
              "transition": {
               "duration": 0,
               "easing": "linear"
              }
             }
            ],
            "label": "36",
            "method": "animate"
           },
           {
            "args": [
             [
              "37"
             ],
             {
              "frame": {
               "duration": 0,
               "redraw": false
              },
              "fromcurrent": true,
              "mode": "immediate",
              "transition": {
               "duration": 0,
               "easing": "linear"
              }
             }
            ],
            "label": "37",
            "method": "animate"
           },
           {
            "args": [
             [
              "38"
             ],
             {
              "frame": {
               "duration": 0,
               "redraw": false
              },
              "fromcurrent": true,
              "mode": "immediate",
              "transition": {
               "duration": 0,
               "easing": "linear"
              }
             }
            ],
            "label": "38",
            "method": "animate"
           },
           {
            "args": [
             [
              "39"
             ],
             {
              "frame": {
               "duration": 0,
               "redraw": false
              },
              "fromcurrent": true,
              "mode": "immediate",
              "transition": {
               "duration": 0,
               "easing": "linear"
              }
             }
            ],
            "label": "39",
            "method": "animate"
           },
           {
            "args": [
             [
              "40"
             ],
             {
              "frame": {
               "duration": 0,
               "redraw": false
              },
              "fromcurrent": true,
              "mode": "immediate",
              "transition": {
               "duration": 0,
               "easing": "linear"
              }
             }
            ],
            "label": "40",
            "method": "animate"
           },
           {
            "args": [
             [
              "41"
             ],
             {
              "frame": {
               "duration": 0,
               "redraw": false
              },
              "fromcurrent": true,
              "mode": "immediate",
              "transition": {
               "duration": 0,
               "easing": "linear"
              }
             }
            ],
            "label": "41",
            "method": "animate"
           },
           {
            "args": [
             [
              "42"
             ],
             {
              "frame": {
               "duration": 0,
               "redraw": false
              },
              "fromcurrent": true,
              "mode": "immediate",
              "transition": {
               "duration": 0,
               "easing": "linear"
              }
             }
            ],
            "label": "42",
            "method": "animate"
           },
           {
            "args": [
             [
              "43"
             ],
             {
              "frame": {
               "duration": 0,
               "redraw": false
              },
              "fromcurrent": true,
              "mode": "immediate",
              "transition": {
               "duration": 0,
               "easing": "linear"
              }
             }
            ],
            "label": "43",
            "method": "animate"
           },
           {
            "args": [
             [
              "44"
             ],
             {
              "frame": {
               "duration": 0,
               "redraw": false
              },
              "fromcurrent": true,
              "mode": "immediate",
              "transition": {
               "duration": 0,
               "easing": "linear"
              }
             }
            ],
            "label": "44",
            "method": "animate"
           },
           {
            "args": [
             [
              "45"
             ],
             {
              "frame": {
               "duration": 0,
               "redraw": false
              },
              "fromcurrent": true,
              "mode": "immediate",
              "transition": {
               "duration": 0,
               "easing": "linear"
              }
             }
            ],
            "label": "45",
            "method": "animate"
           },
           {
            "args": [
             [
              "46"
             ],
             {
              "frame": {
               "duration": 0,
               "redraw": false
              },
              "fromcurrent": true,
              "mode": "immediate",
              "transition": {
               "duration": 0,
               "easing": "linear"
              }
             }
            ],
            "label": "46",
            "method": "animate"
           },
           {
            "args": [
             [
              "47"
             ],
             {
              "frame": {
               "duration": 0,
               "redraw": false
              },
              "fromcurrent": true,
              "mode": "immediate",
              "transition": {
               "duration": 0,
               "easing": "linear"
              }
             }
            ],
            "label": "47",
            "method": "animate"
           },
           {
            "args": [
             [
              "48"
             ],
             {
              "frame": {
               "duration": 0,
               "redraw": false
              },
              "fromcurrent": true,
              "mode": "immediate",
              "transition": {
               "duration": 0,
               "easing": "linear"
              }
             }
            ],
            "label": "48",
            "method": "animate"
           },
           {
            "args": [
             [
              "49"
             ],
             {
              "frame": {
               "duration": 0,
               "redraw": false
              },
              "fromcurrent": true,
              "mode": "immediate",
              "transition": {
               "duration": 0,
               "easing": "linear"
              }
             }
            ],
            "label": "49",
            "method": "animate"
           },
           {
            "args": [
             [
              "50"
             ],
             {
              "frame": {
               "duration": 0,
               "redraw": false
              },
              "fromcurrent": true,
              "mode": "immediate",
              "transition": {
               "duration": 0,
               "easing": "linear"
              }
             }
            ],
            "label": "50",
            "method": "animate"
           },
           {
            "args": [
             [
              "51"
             ],
             {
              "frame": {
               "duration": 0,
               "redraw": false
              },
              "fromcurrent": true,
              "mode": "immediate",
              "transition": {
               "duration": 0,
               "easing": "linear"
              }
             }
            ],
            "label": "51",
            "method": "animate"
           },
           {
            "args": [
             [
              "52"
             ],
             {
              "frame": {
               "duration": 0,
               "redraw": false
              },
              "fromcurrent": true,
              "mode": "immediate",
              "transition": {
               "duration": 0,
               "easing": "linear"
              }
             }
            ],
            "label": "52",
            "method": "animate"
           },
           {
            "args": [
             [
              "53"
             ],
             {
              "frame": {
               "duration": 0,
               "redraw": false
              },
              "fromcurrent": true,
              "mode": "immediate",
              "transition": {
               "duration": 0,
               "easing": "linear"
              }
             }
            ],
            "label": "53",
            "method": "animate"
           },
           {
            "args": [
             [
              "54"
             ],
             {
              "frame": {
               "duration": 0,
               "redraw": false
              },
              "fromcurrent": true,
              "mode": "immediate",
              "transition": {
               "duration": 0,
               "easing": "linear"
              }
             }
            ],
            "label": "54",
            "method": "animate"
           },
           {
            "args": [
             [
              "55"
             ],
             {
              "frame": {
               "duration": 0,
               "redraw": false
              },
              "fromcurrent": true,
              "mode": "immediate",
              "transition": {
               "duration": 0,
               "easing": "linear"
              }
             }
            ],
            "label": "55",
            "method": "animate"
           },
           {
            "args": [
             [
              "56"
             ],
             {
              "frame": {
               "duration": 0,
               "redraw": false
              },
              "fromcurrent": true,
              "mode": "immediate",
              "transition": {
               "duration": 0,
               "easing": "linear"
              }
             }
            ],
            "label": "56",
            "method": "animate"
           },
           {
            "args": [
             [
              "57"
             ],
             {
              "frame": {
               "duration": 0,
               "redraw": false
              },
              "fromcurrent": true,
              "mode": "immediate",
              "transition": {
               "duration": 0,
               "easing": "linear"
              }
             }
            ],
            "label": "57",
            "method": "animate"
           },
           {
            "args": [
             [
              "58"
             ],
             {
              "frame": {
               "duration": 0,
               "redraw": false
              },
              "fromcurrent": true,
              "mode": "immediate",
              "transition": {
               "duration": 0,
               "easing": "linear"
              }
             }
            ],
            "label": "58",
            "method": "animate"
           },
           {
            "args": [
             [
              "59"
             ],
             {
              "frame": {
               "duration": 0,
               "redraw": false
              },
              "fromcurrent": true,
              "mode": "immediate",
              "transition": {
               "duration": 0,
               "easing": "linear"
              }
             }
            ],
            "label": "59",
            "method": "animate"
           },
           {
            "args": [
             [
              "60"
             ],
             {
              "frame": {
               "duration": 0,
               "redraw": false
              },
              "fromcurrent": true,
              "mode": "immediate",
              "transition": {
               "duration": 0,
               "easing": "linear"
              }
             }
            ],
            "label": "60",
            "method": "animate"
           },
           {
            "args": [
             [
              "61"
             ],
             {
              "frame": {
               "duration": 0,
               "redraw": false
              },
              "fromcurrent": true,
              "mode": "immediate",
              "transition": {
               "duration": 0,
               "easing": "linear"
              }
             }
            ],
            "label": "61",
            "method": "animate"
           },
           {
            "args": [
             [
              "62"
             ],
             {
              "frame": {
               "duration": 0,
               "redraw": false
              },
              "fromcurrent": true,
              "mode": "immediate",
              "transition": {
               "duration": 0,
               "easing": "linear"
              }
             }
            ],
            "label": "62",
            "method": "animate"
           },
           {
            "args": [
             [
              "63"
             ],
             {
              "frame": {
               "duration": 0,
               "redraw": false
              },
              "fromcurrent": true,
              "mode": "immediate",
              "transition": {
               "duration": 0,
               "easing": "linear"
              }
             }
            ],
            "label": "63",
            "method": "animate"
           },
           {
            "args": [
             [
              "64"
             ],
             {
              "frame": {
               "duration": 0,
               "redraw": false
              },
              "fromcurrent": true,
              "mode": "immediate",
              "transition": {
               "duration": 0,
               "easing": "linear"
              }
             }
            ],
            "label": "64",
            "method": "animate"
           },
           {
            "args": [
             [
              "65"
             ],
             {
              "frame": {
               "duration": 0,
               "redraw": false
              },
              "fromcurrent": true,
              "mode": "immediate",
              "transition": {
               "duration": 0,
               "easing": "linear"
              }
             }
            ],
            "label": "65",
            "method": "animate"
           },
           {
            "args": [
             [
              "66"
             ],
             {
              "frame": {
               "duration": 0,
               "redraw": false
              },
              "fromcurrent": true,
              "mode": "immediate",
              "transition": {
               "duration": 0,
               "easing": "linear"
              }
             }
            ],
            "label": "66",
            "method": "animate"
           },
           {
            "args": [
             [
              "67"
             ],
             {
              "frame": {
               "duration": 0,
               "redraw": false
              },
              "fromcurrent": true,
              "mode": "immediate",
              "transition": {
               "duration": 0,
               "easing": "linear"
              }
             }
            ],
            "label": "67",
            "method": "animate"
           },
           {
            "args": [
             [
              "68"
             ],
             {
              "frame": {
               "duration": 0,
               "redraw": false
              },
              "fromcurrent": true,
              "mode": "immediate",
              "transition": {
               "duration": 0,
               "easing": "linear"
              }
             }
            ],
            "label": "68",
            "method": "animate"
           },
           {
            "args": [
             [
              "69"
             ],
             {
              "frame": {
               "duration": 0,
               "redraw": false
              },
              "fromcurrent": true,
              "mode": "immediate",
              "transition": {
               "duration": 0,
               "easing": "linear"
              }
             }
            ],
            "label": "69",
            "method": "animate"
           },
           {
            "args": [
             [
              "70"
             ],
             {
              "frame": {
               "duration": 0,
               "redraw": false
              },
              "fromcurrent": true,
              "mode": "immediate",
              "transition": {
               "duration": 0,
               "easing": "linear"
              }
             }
            ],
            "label": "70",
            "method": "animate"
           },
           {
            "args": [
             [
              "71"
             ],
             {
              "frame": {
               "duration": 0,
               "redraw": false
              },
              "fromcurrent": true,
              "mode": "immediate",
              "transition": {
               "duration": 0,
               "easing": "linear"
              }
             }
            ],
            "label": "71",
            "method": "animate"
           }
          ],
          "x": 0.1,
          "xanchor": "left",
          "y": 0,
          "yanchor": "top"
         }
        ],
        "template": {
         "data": {
          "bar": [
           {
            "error_x": {
             "color": "#2a3f5f"
            },
            "error_y": {
             "color": "#2a3f5f"
            },
            "marker": {
             "line": {
              "color": "#E5ECF6",
              "width": 0.5
             },
             "pattern": {
              "fillmode": "overlay",
              "size": 10,
              "solidity": 0.2
             }
            },
            "type": "bar"
           }
          ],
          "barpolar": [
           {
            "marker": {
             "line": {
              "color": "#E5ECF6",
              "width": 0.5
             },
             "pattern": {
              "fillmode": "overlay",
              "size": 10,
              "solidity": 0.2
             }
            },
            "type": "barpolar"
           }
          ],
          "carpet": [
           {
            "aaxis": {
             "endlinecolor": "#2a3f5f",
             "gridcolor": "white",
             "linecolor": "white",
             "minorgridcolor": "white",
             "startlinecolor": "#2a3f5f"
            },
            "baxis": {
             "endlinecolor": "#2a3f5f",
             "gridcolor": "white",
             "linecolor": "white",
             "minorgridcolor": "white",
             "startlinecolor": "#2a3f5f"
            },
            "type": "carpet"
           }
          ],
          "choropleth": [
           {
            "colorbar": {
             "outlinewidth": 0,
             "ticks": ""
            },
            "type": "choropleth"
           }
          ],
          "contour": [
           {
            "colorbar": {
             "outlinewidth": 0,
             "ticks": ""
            },
            "colorscale": [
             [
              0,
              "#0d0887"
             ],
             [
              0.1111111111111111,
              "#46039f"
             ],
             [
              0.2222222222222222,
              "#7201a8"
             ],
             [
              0.3333333333333333,
              "#9c179e"
             ],
             [
              0.4444444444444444,
              "#bd3786"
             ],
             [
              0.5555555555555556,
              "#d8576b"
             ],
             [
              0.6666666666666666,
              "#ed7953"
             ],
             [
              0.7777777777777778,
              "#fb9f3a"
             ],
             [
              0.8888888888888888,
              "#fdca26"
             ],
             [
              1,
              "#f0f921"
             ]
            ],
            "type": "contour"
           }
          ],
          "contourcarpet": [
           {
            "colorbar": {
             "outlinewidth": 0,
             "ticks": ""
            },
            "type": "contourcarpet"
           }
          ],
          "heatmap": [
           {
            "colorbar": {
             "outlinewidth": 0,
             "ticks": ""
            },
            "colorscale": [
             [
              0,
              "#0d0887"
             ],
             [
              0.1111111111111111,
              "#46039f"
             ],
             [
              0.2222222222222222,
              "#7201a8"
             ],
             [
              0.3333333333333333,
              "#9c179e"
             ],
             [
              0.4444444444444444,
              "#bd3786"
             ],
             [
              0.5555555555555556,
              "#d8576b"
             ],
             [
              0.6666666666666666,
              "#ed7953"
             ],
             [
              0.7777777777777778,
              "#fb9f3a"
             ],
             [
              0.8888888888888888,
              "#fdca26"
             ],
             [
              1,
              "#f0f921"
             ]
            ],
            "type": "heatmap"
           }
          ],
          "heatmapgl": [
           {
            "colorbar": {
             "outlinewidth": 0,
             "ticks": ""
            },
            "colorscale": [
             [
              0,
              "#0d0887"
             ],
             [
              0.1111111111111111,
              "#46039f"
             ],
             [
              0.2222222222222222,
              "#7201a8"
             ],
             [
              0.3333333333333333,
              "#9c179e"
             ],
             [
              0.4444444444444444,
              "#bd3786"
             ],
             [
              0.5555555555555556,
              "#d8576b"
             ],
             [
              0.6666666666666666,
              "#ed7953"
             ],
             [
              0.7777777777777778,
              "#fb9f3a"
             ],
             [
              0.8888888888888888,
              "#fdca26"
             ],
             [
              1,
              "#f0f921"
             ]
            ],
            "type": "heatmapgl"
           }
          ],
          "histogram": [
           {
            "marker": {
             "pattern": {
              "fillmode": "overlay",
              "size": 10,
              "solidity": 0.2
             }
            },
            "type": "histogram"
           }
          ],
          "histogram2d": [
           {
            "colorbar": {
             "outlinewidth": 0,
             "ticks": ""
            },
            "colorscale": [
             [
              0,
              "#0d0887"
             ],
             [
              0.1111111111111111,
              "#46039f"
             ],
             [
              0.2222222222222222,
              "#7201a8"
             ],
             [
              0.3333333333333333,
              "#9c179e"
             ],
             [
              0.4444444444444444,
              "#bd3786"
             ],
             [
              0.5555555555555556,
              "#d8576b"
             ],
             [
              0.6666666666666666,
              "#ed7953"
             ],
             [
              0.7777777777777778,
              "#fb9f3a"
             ],
             [
              0.8888888888888888,
              "#fdca26"
             ],
             [
              1,
              "#f0f921"
             ]
            ],
            "type": "histogram2d"
           }
          ],
          "histogram2dcontour": [
           {
            "colorbar": {
             "outlinewidth": 0,
             "ticks": ""
            },
            "colorscale": [
             [
              0,
              "#0d0887"
             ],
             [
              0.1111111111111111,
              "#46039f"
             ],
             [
              0.2222222222222222,
              "#7201a8"
             ],
             [
              0.3333333333333333,
              "#9c179e"
             ],
             [
              0.4444444444444444,
              "#bd3786"
             ],
             [
              0.5555555555555556,
              "#d8576b"
             ],
             [
              0.6666666666666666,
              "#ed7953"
             ],
             [
              0.7777777777777778,
              "#fb9f3a"
             ],
             [
              0.8888888888888888,
              "#fdca26"
             ],
             [
              1,
              "#f0f921"
             ]
            ],
            "type": "histogram2dcontour"
           }
          ],
          "mesh3d": [
           {
            "colorbar": {
             "outlinewidth": 0,
             "ticks": ""
            },
            "type": "mesh3d"
           }
          ],
          "parcoords": [
           {
            "line": {
             "colorbar": {
              "outlinewidth": 0,
              "ticks": ""
             }
            },
            "type": "parcoords"
           }
          ],
          "pie": [
           {
            "automargin": true,
            "type": "pie"
           }
          ],
          "scatter": [
           {
            "fillpattern": {
             "fillmode": "overlay",
             "size": 10,
             "solidity": 0.2
            },
            "type": "scatter"
           }
          ],
          "scatter3d": [
           {
            "line": {
             "colorbar": {
              "outlinewidth": 0,
              "ticks": ""
             }
            },
            "marker": {
             "colorbar": {
              "outlinewidth": 0,
              "ticks": ""
             }
            },
            "type": "scatter3d"
           }
          ],
          "scattercarpet": [
           {
            "marker": {
             "colorbar": {
              "outlinewidth": 0,
              "ticks": ""
             }
            },
            "type": "scattercarpet"
           }
          ],
          "scattergeo": [
           {
            "marker": {
             "colorbar": {
              "outlinewidth": 0,
              "ticks": ""
             }
            },
            "type": "scattergeo"
           }
          ],
          "scattergl": [
           {
            "marker": {
             "colorbar": {
              "outlinewidth": 0,
              "ticks": ""
             }
            },
            "type": "scattergl"
           }
          ],
          "scattermapbox": [
           {
            "marker": {
             "colorbar": {
              "outlinewidth": 0,
              "ticks": ""
             }
            },
            "type": "scattermapbox"
           }
          ],
          "scatterpolar": [
           {
            "marker": {
             "colorbar": {
              "outlinewidth": 0,
              "ticks": ""
             }
            },
            "type": "scatterpolar"
           }
          ],
          "scatterpolargl": [
           {
            "marker": {
             "colorbar": {
              "outlinewidth": 0,
              "ticks": ""
             }
            },
            "type": "scatterpolargl"
           }
          ],
          "scatterternary": [
           {
            "marker": {
             "colorbar": {
              "outlinewidth": 0,
              "ticks": ""
             }
            },
            "type": "scatterternary"
           }
          ],
          "surface": [
           {
            "colorbar": {
             "outlinewidth": 0,
             "ticks": ""
            },
            "colorscale": [
             [
              0,
              "#0d0887"
             ],
             [
              0.1111111111111111,
              "#46039f"
             ],
             [
              0.2222222222222222,
              "#7201a8"
             ],
             [
              0.3333333333333333,
              "#9c179e"
             ],
             [
              0.4444444444444444,
              "#bd3786"
             ],
             [
              0.5555555555555556,
              "#d8576b"
             ],
             [
              0.6666666666666666,
              "#ed7953"
             ],
             [
              0.7777777777777778,
              "#fb9f3a"
             ],
             [
              0.8888888888888888,
              "#fdca26"
             ],
             [
              1,
              "#f0f921"
             ]
            ],
            "type": "surface"
           }
          ],
          "table": [
           {
            "cells": {
             "fill": {
              "color": "#EBF0F8"
             },
             "line": {
              "color": "white"
             }
            },
            "header": {
             "fill": {
              "color": "#C8D4E3"
             },
             "line": {
              "color": "white"
             }
            },
            "type": "table"
           }
          ]
         },
         "layout": {
          "annotationdefaults": {
           "arrowcolor": "#2a3f5f",
           "arrowhead": 0,
           "arrowwidth": 1
          },
          "autotypenumbers": "strict",
          "coloraxis": {
           "colorbar": {
            "outlinewidth": 0,
            "ticks": ""
           }
          },
          "colorscale": {
           "diverging": [
            [
             0,
             "#8e0152"
            ],
            [
             0.1,
             "#c51b7d"
            ],
            [
             0.2,
             "#de77ae"
            ],
            [
             0.3,
             "#f1b6da"
            ],
            [
             0.4,
             "#fde0ef"
            ],
            [
             0.5,
             "#f7f7f7"
            ],
            [
             0.6,
             "#e6f5d0"
            ],
            [
             0.7,
             "#b8e186"
            ],
            [
             0.8,
             "#7fbc41"
            ],
            [
             0.9,
             "#4d9221"
            ],
            [
             1,
             "#276419"
            ]
           ],
           "sequential": [
            [
             0,
             "#0d0887"
            ],
            [
             0.1111111111111111,
             "#46039f"
            ],
            [
             0.2222222222222222,
             "#7201a8"
            ],
            [
             0.3333333333333333,
             "#9c179e"
            ],
            [
             0.4444444444444444,
             "#bd3786"
            ],
            [
             0.5555555555555556,
             "#d8576b"
            ],
            [
             0.6666666666666666,
             "#ed7953"
            ],
            [
             0.7777777777777778,
             "#fb9f3a"
            ],
            [
             0.8888888888888888,
             "#fdca26"
            ],
            [
             1,
             "#f0f921"
            ]
           ],
           "sequentialminus": [
            [
             0,
             "#0d0887"
            ],
            [
             0.1111111111111111,
             "#46039f"
            ],
            [
             0.2222222222222222,
             "#7201a8"
            ],
            [
             0.3333333333333333,
             "#9c179e"
            ],
            [
             0.4444444444444444,
             "#bd3786"
            ],
            [
             0.5555555555555556,
             "#d8576b"
            ],
            [
             0.6666666666666666,
             "#ed7953"
            ],
            [
             0.7777777777777778,
             "#fb9f3a"
            ],
            [
             0.8888888888888888,
             "#fdca26"
            ],
            [
             1,
             "#f0f921"
            ]
           ]
          },
          "colorway": [
           "#636efa",
           "#EF553B",
           "#00cc96",
           "#ab63fa",
           "#FFA15A",
           "#19d3f3",
           "#FF6692",
           "#B6E880",
           "#FF97FF",
           "#FECB52"
          ],
          "font": {
           "color": "#2a3f5f"
          },
          "geo": {
           "bgcolor": "white",
           "lakecolor": "white",
           "landcolor": "#E5ECF6",
           "showlakes": true,
           "showland": true,
           "subunitcolor": "white"
          },
          "hoverlabel": {
           "align": "left"
          },
          "hovermode": "closest",
          "mapbox": {
           "style": "light"
          },
          "paper_bgcolor": "white",
          "plot_bgcolor": "#E5ECF6",
          "polar": {
           "angularaxis": {
            "gridcolor": "white",
            "linecolor": "white",
            "ticks": ""
           },
           "bgcolor": "#E5ECF6",
           "radialaxis": {
            "gridcolor": "white",
            "linecolor": "white",
            "ticks": ""
           }
          },
          "scene": {
           "xaxis": {
            "backgroundcolor": "#E5ECF6",
            "gridcolor": "white",
            "gridwidth": 2,
            "linecolor": "white",
            "showbackground": true,
            "ticks": "",
            "zerolinecolor": "white"
           },
           "yaxis": {
            "backgroundcolor": "#E5ECF6",
            "gridcolor": "white",
            "gridwidth": 2,
            "linecolor": "white",
            "showbackground": true,
            "ticks": "",
            "zerolinecolor": "white"
           },
           "zaxis": {
            "backgroundcolor": "#E5ECF6",
            "gridcolor": "white",
            "gridwidth": 2,
            "linecolor": "white",
            "showbackground": true,
            "ticks": "",
            "zerolinecolor": "white"
           }
          },
          "shapedefaults": {
           "line": {
            "color": "#2a3f5f"
           }
          },
          "ternary": {
           "aaxis": {
            "gridcolor": "white",
            "linecolor": "white",
            "ticks": ""
           },
           "baxis": {
            "gridcolor": "white",
            "linecolor": "white",
            "ticks": ""
           },
           "bgcolor": "#E5ECF6",
           "caxis": {
            "gridcolor": "white",
            "linecolor": "white",
            "ticks": ""
           }
          },
          "title": {
           "x": 0.05
          },
          "xaxis": {
           "automargin": true,
           "gridcolor": "white",
           "linecolor": "white",
           "ticks": "",
           "title": {
            "standoff": 15
           },
           "zerolinecolor": "white",
           "zerolinewidth": 2
          },
          "yaxis": {
           "automargin": true,
           "gridcolor": "white",
           "linecolor": "white",
           "ticks": "",
           "title": {
            "standoff": 15
           },
           "zerolinecolor": "white",
           "zerolinewidth": 2
          }
         }
        },
        "title": {
         "font": {
          "size": 18
         },
         "text": "Moving Boxes Through a Sequence of Actions",
         "x": 0.5,
         "xanchor": "center",
         "yanchor": "top"
        },
        "updatemenus": [
         {
          "buttons": [
           {
            "args": [
             null,
             {
              "frame": {
               "duration": 500,
               "redraw": false
              },
              "fromcurrent": true,
              "mode": "immediate",
              "transition": {
               "duration": 500,
               "easing": "linear"
              }
             }
            ],
            "label": "&#9654;",
            "method": "animate"
           },
           {
            "args": [
             [
              null
             ],
             {
              "frame": {
               "duration": 0,
               "redraw": false
              },
              "fromcurrent": true,
              "mode": "immediate",
              "transition": {
               "duration": 0,
               "easing": "linear"
              }
             }
            ],
            "label": "&#9724;",
            "method": "animate"
           }
          ],
          "direction": "left",
          "pad": {
           "r": 10,
           "t": 70
          },
          "showactive": false,
          "type": "buttons",
          "x": 0.1,
          "xanchor": "right",
          "y": 0,
          "yanchor": "top"
         }
        ],
        "width": 600,
        "xaxis": {
         "anchor": "y",
         "domain": [
          0,
          1
         ],
         "range": [
          0,
          2
         ],
         "showgrid": false,
         "title": {
          "text": "X Coordinate"
         },
         "zeroline": false
        },
        "yaxis": {
         "anchor": "x",
         "domain": [
          0,
          1
         ],
         "range": [
          0,
          2
         ],
         "showgrid": false,
         "title": {
          "text": "Y Coordinate"
         },
         "zeroline": false
        }
       }
      }
     },
     "metadata": {},
     "output_type": "display_data"
    }
   ],
   "source": [
    "fig.show()"
   ]
  },
  {
   "cell_type": "code",
   "execution_count": null,
   "id": "a74d6cf8-76f1-46a4-9b4f-e9e7533bb8ce",
   "metadata": {},
   "outputs": [],
   "source": []
  },
  {
   "cell_type": "code",
   "execution_count": null,
   "id": "b992e352-8d83-4679-9b41-5caba5f909ae",
   "metadata": {},
   "outputs": [],
   "source": []
  },
  {
   "cell_type": "code",
   "execution_count": null,
   "id": "7c25618f-5281-4f73-a88f-277bbbccfd74",
   "metadata": {},
   "outputs": [],
   "source": []
  },
  {
   "cell_type": "code",
   "execution_count": null,
   "id": "cd17992c-a0ea-4fb7-a6c2-c2de8742074e",
   "metadata": {},
   "outputs": [],
   "source": []
  },
  {
   "cell_type": "code",
   "execution_count": null,
   "id": "1c7e8750-bdca-4de7-90cf-d27f1efe763b",
   "metadata": {},
   "outputs": [],
   "source": []
  },
  {
   "cell_type": "code",
   "execution_count": null,
   "id": "0dac52e2-2d90-4953-b0b8-f3eb0b8e983d",
   "metadata": {},
   "outputs": [],
   "source": []
  },
  {
   "cell_type": "code",
   "execution_count": null,
   "id": "89c56311-ff95-4693-bcf1-d06749165d55",
   "metadata": {},
   "outputs": [],
   "source": []
  },
  {
   "cell_type": "code",
   "execution_count": null,
   "id": "a5860140-e09a-4852-aabd-56c8bb581e97",
   "metadata": {},
   "outputs": [],
   "source": []
  },
  {
   "cell_type": "code",
   "execution_count": null,
   "id": "ce69cf1f-d22c-4dbb-a5db-9a0387ce5c93",
   "metadata": {},
   "outputs": [],
   "source": []
  },
  {
   "cell_type": "code",
   "execution_count": null,
   "id": "80155f3e-0b12-4915-a9aa-cc50e5c1e5a2",
   "metadata": {},
   "outputs": [],
   "source": []
  },
  {
   "cell_type": "code",
   "execution_count": null,
   "id": "28c695d7-0f2c-4d78-a57c-d378dbeb412f",
   "metadata": {},
   "outputs": [],
   "source": []
  }
 ],
 "metadata": {
  "kernelspec": {
   "display_name": "Python 3 (ipykernel)",
   "language": "python",
   "name": "python3"
  },
  "language_info": {
   "codemirror_mode": {
    "name": "ipython",
    "version": 3
   },
   "file_extension": ".py",
   "mimetype": "text/x-python",
   "name": "python",
   "nbconvert_exporter": "python",
   "pygments_lexer": "ipython3",
   "version": "3.10.15"
  }
 },
 "nbformat": 4,
 "nbformat_minor": 5
}
