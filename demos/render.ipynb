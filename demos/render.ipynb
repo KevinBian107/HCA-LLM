{
 "cells": [
  {
   "cell_type": "markdown",
   "id": "605cf9e7",
   "metadata": {},
   "source": [
    "# Rendering and Animation"
   ]
  },
  {
   "cell_type": "code",
   "execution_count": null,
   "id": "643ce711-9e68-418d-8f4e-e56244523919",
   "metadata": {},
   "outputs": [],
   "source": []
  },
  {
   "cell_type": "code",
   "execution_count": 3,
   "id": "cece67a2-b781-4239-ba19-fc536793a06d",
   "metadata": {},
   "outputs": [],
   "source": [
    "%load_ext autoreload\n",
    "%autoreload 2\n",
    "\n",
    "from pathlib import Path\n",
    "import sys\n",
    "import numpy as np\n",
    "import pandas as pd \n",
    "current_folder = Path.cwd()\n",
    "parent_folder = current_folder.parent\n",
    "sys.path.insert(0, str(parent_folder))\n",
    "\n",
    "from rplh.rendering.render_state import *\n",
    "from rplh.rendering.animations import *"
   ]
  },
  {
   "cell_type": "markdown",
   "id": "93ee1518",
   "metadata": {},
   "source": [
    "# Rendering of States"
   ]
  },
  {
   "cell_type": "code",
   "execution_count": 4,
   "id": "27fc83e0-5de1-42a7-aef6-2fa429528789",
   "metadata": {},
   "outputs": [
    {
     "name": "stdout",
     "output_type": "stream",
     "text": [
      "box map: {(0.5, 0.5): [['box', 'blue', 0], ['target', 'blue', 1], ['target', 'red', 2], ['box', 'green', 3], ['target', 'purple', 4], ['box', 'purple', 5]], (0.5, 1.5): [['box', 'blue', 6], ['box', 'red', 7], ['box', 'purple', 8], ['box', 'purple', 9], ['box', 'orange', 10]], (1.5, 0.5): [['target', 'blue', 11], ['target', 'red', 12], ['target', 'green', 13], ['target', 'purple', 14], ['target', 'purple', 15], ['target', 'orange', 16]], (1.5, 1.5): [['target', 'blue', 17], ['box', 'blue', 18], ['box', 'red', 19]]}\n",
      "-------------------------------------------------------------------------------------------\n",
      "action_list: [{(0.5, 0.5): ('box_blue', 'target_blue'), (1.5, 1.5): ('box_red', (1.5, 0.5))}, {(1.5, 1.5): ('box_blue', 'target_blue'), (1.5, 0.5): ('box_red', 'target_red')}]\n"
     ]
    }
   ],
   "source": [
    "pg_state_0 =  {\"0.5_0.5\": [\"box_blue\", \"target_blue\", \"target_red\", \"box_green\", \"target_purple\", \"box_purple\"], \n",
    "               \"0.5_1.5\": [\"box_blue\", \"box_red\", \"box_purple\", \"box_purple\", \"box_orange\"], \n",
    "               \"1.5_0.5\": [\"target_blue\", \"target_red\", \"target_green\", \"target_purple\", \"target_purple\", \"target_orange\"], \n",
    "               \"1.5_1.5\": [\"target_blue\", \"box_blue\", \"box_red\"]}\n",
    "\n",
    "action_0 = {'Agent[0.5, 0.5]': 'move(box_blue, target_blue)', \n",
    "            'Agent[1.5, 1.5]': 'move(box_red, square[1.5, 0.5])'}\n",
    "\n",
    "action_1 = {'Agent[1.5, 1.5]': 'move(box_blue, target_blue)', \n",
    "            'Agent[1.5, 0.5]': 'move(box_red, target_red)'}\n",
    "\n",
    "\n",
    "action = transform_action(action_0)\n",
    "action_list_raw = [action_0, action_1]\n",
    "box_map, action_list = trans_data(pg_state_0, action_list_raw)\n",
    "print(\"box map:\", box_map)\n",
    "print(\"-------------------------------------------------------------------------------------------\")\n",
    "print(\"action_list:\", action_list)"
   ]
  },
  {
   "cell_type": "code",
   "execution_count": 5,
   "id": "2840d16e-3908-4d35-adc3-bc479129060a",
   "metadata": {},
   "outputs": [
    {
     "data": {
      "text/html": [
       "<div>\n",
       "<style scoped>\n",
       "    .dataframe tbody tr th:only-of-type {\n",
       "        vertical-align: middle;\n",
       "    }\n",
       "\n",
       "    .dataframe tbody tr th {\n",
       "        vertical-align: top;\n",
       "    }\n",
       "\n",
       "    .dataframe thead th {\n",
       "        text-align: right;\n",
       "    }\n",
       "</style>\n",
       "<table border=\"1\" class=\"dataframe\">\n",
       "  <thead>\n",
       "    <tr style=\"text-align: right;\">\n",
       "      <th></th>\n",
       "      <th>x</th>\n",
       "      <th>y</th>\n",
       "      <th>center</th>\n",
       "      <th>type</th>\n",
       "      <th>color</th>\n",
       "      <th>id</th>\n",
       "    </tr>\n",
       "  </thead>\n",
       "  <tbody>\n",
       "    <tr>\n",
       "      <th>0</th>\n",
       "      <td>0.35</td>\n",
       "      <td>0.85</td>\n",
       "      <td>(0.5, 0.5)</td>\n",
       "      <td>target</td>\n",
       "      <td>blue</td>\n",
       "      <td>1</td>\n",
       "    </tr>\n",
       "    <tr>\n",
       "      <th>1</th>\n",
       "      <td>0.50</td>\n",
       "      <td>0.85</td>\n",
       "      <td>(0.5, 0.5)</td>\n",
       "      <td>target</td>\n",
       "      <td>red</td>\n",
       "      <td>2</td>\n",
       "    </tr>\n",
       "    <tr>\n",
       "      <th>2</th>\n",
       "      <td>0.65</td>\n",
       "      <td>0.85</td>\n",
       "      <td>(0.5, 0.5)</td>\n",
       "      <td>target</td>\n",
       "      <td>purple</td>\n",
       "      <td>4</td>\n",
       "    </tr>\n",
       "    <tr>\n",
       "      <th>3</th>\n",
       "      <td>0.35</td>\n",
       "      <td>0.15</td>\n",
       "      <td>(0.5, 0.5)</td>\n",
       "      <td>box</td>\n",
       "      <td>blue</td>\n",
       "      <td>0</td>\n",
       "    </tr>\n",
       "    <tr>\n",
       "      <th>4</th>\n",
       "      <td>0.50</td>\n",
       "      <td>0.15</td>\n",
       "      <td>(0.5, 0.5)</td>\n",
       "      <td>box</td>\n",
       "      <td>green</td>\n",
       "      <td>3</td>\n",
       "    </tr>\n",
       "    <tr>\n",
       "      <th>5</th>\n",
       "      <td>0.65</td>\n",
       "      <td>0.15</td>\n",
       "      <td>(0.5, 0.5)</td>\n",
       "      <td>box</td>\n",
       "      <td>purple</td>\n",
       "      <td>5</td>\n",
       "    </tr>\n",
       "    <tr>\n",
       "      <th>6</th>\n",
       "      <td>0.20</td>\n",
       "      <td>1.15</td>\n",
       "      <td>(0.5, 1.5)</td>\n",
       "      <td>box</td>\n",
       "      <td>blue</td>\n",
       "      <td>6</td>\n",
       "    </tr>\n",
       "    <tr>\n",
       "      <th>7</th>\n",
       "      <td>0.35</td>\n",
       "      <td>1.15</td>\n",
       "      <td>(0.5, 1.5)</td>\n",
       "      <td>box</td>\n",
       "      <td>red</td>\n",
       "      <td>7</td>\n",
       "    </tr>\n",
       "    <tr>\n",
       "      <th>8</th>\n",
       "      <td>0.50</td>\n",
       "      <td>1.15</td>\n",
       "      <td>(0.5, 1.5)</td>\n",
       "      <td>box</td>\n",
       "      <td>purple</td>\n",
       "      <td>8</td>\n",
       "    </tr>\n",
       "    <tr>\n",
       "      <th>9</th>\n",
       "      <td>0.65</td>\n",
       "      <td>1.15</td>\n",
       "      <td>(0.5, 1.5)</td>\n",
       "      <td>box</td>\n",
       "      <td>purple</td>\n",
       "      <td>9</td>\n",
       "    </tr>\n",
       "    <tr>\n",
       "      <th>10</th>\n",
       "      <td>0.80</td>\n",
       "      <td>1.15</td>\n",
       "      <td>(0.5, 1.5)</td>\n",
       "      <td>box</td>\n",
       "      <td>orange</td>\n",
       "      <td>10</td>\n",
       "    </tr>\n",
       "    <tr>\n",
       "      <th>11</th>\n",
       "      <td>1.20</td>\n",
       "      <td>0.85</td>\n",
       "      <td>(1.5, 0.5)</td>\n",
       "      <td>target</td>\n",
       "      <td>blue</td>\n",
       "      <td>11</td>\n",
       "    </tr>\n",
       "    <tr>\n",
       "      <th>12</th>\n",
       "      <td>1.35</td>\n",
       "      <td>0.85</td>\n",
       "      <td>(1.5, 0.5)</td>\n",
       "      <td>target</td>\n",
       "      <td>red</td>\n",
       "      <td>12</td>\n",
       "    </tr>\n",
       "    <tr>\n",
       "      <th>13</th>\n",
       "      <td>1.50</td>\n",
       "      <td>0.85</td>\n",
       "      <td>(1.5, 0.5)</td>\n",
       "      <td>target</td>\n",
       "      <td>green</td>\n",
       "      <td>13</td>\n",
       "    </tr>\n",
       "    <tr>\n",
       "      <th>14</th>\n",
       "      <td>1.65</td>\n",
       "      <td>0.85</td>\n",
       "      <td>(1.5, 0.5)</td>\n",
       "      <td>target</td>\n",
       "      <td>purple</td>\n",
       "      <td>14</td>\n",
       "    </tr>\n",
       "    <tr>\n",
       "      <th>15</th>\n",
       "      <td>1.80</td>\n",
       "      <td>0.85</td>\n",
       "      <td>(1.5, 0.5)</td>\n",
       "      <td>target</td>\n",
       "      <td>purple</td>\n",
       "      <td>15</td>\n",
       "    </tr>\n",
       "    <tr>\n",
       "      <th>16</th>\n",
       "      <td>1.20</td>\n",
       "      <td>0.65</td>\n",
       "      <td>(1.5, 0.5)</td>\n",
       "      <td>target</td>\n",
       "      <td>orange</td>\n",
       "      <td>16</td>\n",
       "    </tr>\n",
       "    <tr>\n",
       "      <th>17</th>\n",
       "      <td>1.50</td>\n",
       "      <td>1.85</td>\n",
       "      <td>(1.5, 1.5)</td>\n",
       "      <td>target</td>\n",
       "      <td>blue</td>\n",
       "      <td>17</td>\n",
       "    </tr>\n",
       "    <tr>\n",
       "      <th>18</th>\n",
       "      <td>1.35</td>\n",
       "      <td>1.15</td>\n",
       "      <td>(1.5, 1.5)</td>\n",
       "      <td>box</td>\n",
       "      <td>blue</td>\n",
       "      <td>18</td>\n",
       "    </tr>\n",
       "    <tr>\n",
       "      <th>19</th>\n",
       "      <td>1.50</td>\n",
       "      <td>1.15</td>\n",
       "      <td>(1.5, 1.5)</td>\n",
       "      <td>box</td>\n",
       "      <td>red</td>\n",
       "      <td>19</td>\n",
       "    </tr>\n",
       "  </tbody>\n",
       "</table>\n",
       "</div>"
      ],
      "text/plain": [
       "       x     y      center    type   color  id\n",
       "0   0.35  0.85  (0.5, 0.5)  target    blue   1\n",
       "1   0.50  0.85  (0.5, 0.5)  target     red   2\n",
       "2   0.65  0.85  (0.5, 0.5)  target  purple   4\n",
       "3   0.35  0.15  (0.5, 0.5)     box    blue   0\n",
       "4   0.50  0.15  (0.5, 0.5)     box   green   3\n",
       "5   0.65  0.15  (0.5, 0.5)     box  purple   5\n",
       "6   0.20  1.15  (0.5, 1.5)     box    blue   6\n",
       "7   0.35  1.15  (0.5, 1.5)     box     red   7\n",
       "8   0.50  1.15  (0.5, 1.5)     box  purple   8\n",
       "9   0.65  1.15  (0.5, 1.5)     box  purple   9\n",
       "10  0.80  1.15  (0.5, 1.5)     box  orange  10\n",
       "11  1.20  0.85  (1.5, 0.5)  target    blue  11\n",
       "12  1.35  0.85  (1.5, 0.5)  target     red  12\n",
       "13  1.50  0.85  (1.5, 0.5)  target   green  13\n",
       "14  1.65  0.85  (1.5, 0.5)  target  purple  14\n",
       "15  1.80  0.85  (1.5, 0.5)  target  purple  15\n",
       "16  1.20  0.65  (1.5, 0.5)  target  orange  16\n",
       "17  1.50  1.85  (1.5, 1.5)  target    blue  17\n",
       "18  1.35  1.15  (1.5, 1.5)     box    blue  18\n",
       "19  1.50  1.15  (1.5, 1.5)     box     red  19"
      ]
     },
     "execution_count": 5,
     "metadata": {},
     "output_type": "execute_result"
    }
   ],
   "source": [
    "map_df(box_map)"
   ]
  },
  {
   "cell_type": "code",
   "execution_count": 6,
   "id": "08e654f8-e04a-40be-9233-094b1ce3663a",
   "metadata": {},
   "outputs": [
    {
     "data": {
      "application/vnd.plotly.v1+json": {
       "config": {
        "plotlyServerURL": "https://plot.ly"
       },
       "data": [
        {
         "hoverinfo": "text",
         "marker": {
          "color": [
           "blue",
           "red",
           "purple",
           "blue",
           "green",
           "purple",
           "blue",
           "red",
           "purple",
           "purple",
           "orange",
           "blue",
           "red",
           "green",
           "purple",
           "purple",
           "orange",
           "blue",
           "blue",
           "red"
          ],
          "size": 20,
          "symbol": [
           "diamond-open",
           "diamond-open",
           "diamond-open",
           "square",
           "square",
           "square",
           "square",
           "square",
           "square",
           "square",
           "square",
           "diamond-open",
           "diamond-open",
           "diamond-open",
           "diamond-open",
           "diamond-open",
           "diamond-open",
           "diamond-open",
           "square",
           "square"
          ]
         },
         "mode": "markers",
         "text": [
          "Type: target<br>Color: blue",
          "Type: target<br>Color: red",
          "Type: target<br>Color: purple",
          "Type: box<br>Color: blue",
          "Type: box<br>Color: green",
          "Type: box<br>Color: purple",
          "Type: box<br>Color: blue",
          "Type: box<br>Color: red",
          "Type: box<br>Color: purple",
          "Type: box<br>Color: purple",
          "Type: box<br>Color: orange",
          "Type: target<br>Color: blue",
          "Type: target<br>Color: red",
          "Type: target<br>Color: green",
          "Type: target<br>Color: purple",
          "Type: target<br>Color: purple",
          "Type: target<br>Color: orange",
          "Type: target<br>Color: blue",
          "Type: box<br>Color: blue",
          "Type: box<br>Color: red"
         ],
         "type": "scatter",
         "x": [
          0.35,
          0.5,
          0.65,
          0.35,
          0.5,
          0.65,
          0.2,
          0.35,
          0.5,
          0.65,
          0.8,
          1.2,
          1.35,
          1.5,
          1.65,
          1.8,
          1.2,
          1.5,
          1.35,
          1.5
         ],
         "y": [
          0.85,
          0.85,
          0.85,
          0.15000000000000002,
          0.15000000000000002,
          0.15000000000000002,
          1.15,
          1.15,
          1.15,
          1.15,
          1.15,
          0.85,
          0.85,
          0.85,
          0.85,
          0.85,
          0.65,
          1.85,
          1.15,
          1.15
         ]
        }
       ],
       "layout": {
        "height": 600,
        "images": [
         {
          "layer": "above",
          "sizex": 0.3,
          "sizey": 0.3,
          "source": "data:image/png;base64,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",
          "x": 0.5,
          "xanchor": "center",
          "xref": "x",
          "y": 0.5,
          "yanchor": "middle",
          "yref": "y"
         },
         {
          "layer": "above",
          "sizex": 0.3,
          "sizey": 0.3,
          "source": "data:image/png;base64,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",
          "x": 0.5,
          "xanchor": "center",
          "xref": "x",
          "y": 1.5,
          "yanchor": "middle",
          "yref": "y"
         },
         {
          "layer": "above",
          "sizex": 0.3,
          "sizey": 0.3,
          "source": "data:image/png;base64,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",
          "x": 1.5,
          "xanchor": "center",
          "xref": "x",
          "y": 0.5,
          "yanchor": "middle",
          "yref": "y"
         },
         {
          "layer": "above",
          "sizex": 0.3,
          "sizey": 0.3,
          "source": "data:image/png;base64,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",
          "x": 1.5,
          "xanchor": "center",
          "xref": "x",
          "y": 1.5,
          "yanchor": "middle",
          "yref": "y"
         }
        ],
        "plot_bgcolor": "white",
        "shapes": [
         {
          "line": {
           "color": "black",
           "width": 2
          },
          "type": "rect",
          "x0": 0,
          "x1": 1,
          "y0": 0,
          "y1": 1
         },
         {
          "line": {
           "color": "black",
           "width": 2
          },
          "type": "rect",
          "x0": 0,
          "x1": 1,
          "y0": 1,
          "y1": 2
         },
         {
          "line": {
           "color": "black",
           "width": 2
          },
          "type": "rect",
          "x0": 1,
          "x1": 2,
          "y0": 0,
          "y1": 1
         },
         {
          "line": {
           "color": "black",
           "width": 2
          },
          "type": "rect",
          "x0": 1,
          "x1": 2,
          "y0": 1,
          "y1": 2
         }
        ],
        "template": {
         "data": {
          "bar": [
           {
            "error_x": {
             "color": "#2a3f5f"
            },
            "error_y": {
             "color": "#2a3f5f"
            },
            "marker": {
             "line": {
              "color": "#E5ECF6",
              "width": 0.5
             },
             "pattern": {
              "fillmode": "overlay",
              "size": 10,
              "solidity": 0.2
             }
            },
            "type": "bar"
           }
          ],
          "barpolar": [
           {
            "marker": {
             "line": {
              "color": "#E5ECF6",
              "width": 0.5
             },
             "pattern": {
              "fillmode": "overlay",
              "size": 10,
              "solidity": 0.2
             }
            },
            "type": "barpolar"
           }
          ],
          "carpet": [
           {
            "aaxis": {
             "endlinecolor": "#2a3f5f",
             "gridcolor": "white",
             "linecolor": "white",
             "minorgridcolor": "white",
             "startlinecolor": "#2a3f5f"
            },
            "baxis": {
             "endlinecolor": "#2a3f5f",
             "gridcolor": "white",
             "linecolor": "white",
             "minorgridcolor": "white",
             "startlinecolor": "#2a3f5f"
            },
            "type": "carpet"
           }
          ],
          "choropleth": [
           {
            "colorbar": {
             "outlinewidth": 0,
             "ticks": ""
            },
            "type": "choropleth"
           }
          ],
          "contour": [
           {
            "colorbar": {
             "outlinewidth": 0,
             "ticks": ""
            },
            "colorscale": [
             [
              0,
              "#0d0887"
             ],
             [
              0.1111111111111111,
              "#46039f"
             ],
             [
              0.2222222222222222,
              "#7201a8"
             ],
             [
              0.3333333333333333,
              "#9c179e"
             ],
             [
              0.4444444444444444,
              "#bd3786"
             ],
             [
              0.5555555555555556,
              "#d8576b"
             ],
             [
              0.6666666666666666,
              "#ed7953"
             ],
             [
              0.7777777777777778,
              "#fb9f3a"
             ],
             [
              0.8888888888888888,
              "#fdca26"
             ],
             [
              1,
              "#f0f921"
             ]
            ],
            "type": "contour"
           }
          ],
          "contourcarpet": [
           {
            "colorbar": {
             "outlinewidth": 0,
             "ticks": ""
            },
            "type": "contourcarpet"
           }
          ],
          "heatmap": [
           {
            "colorbar": {
             "outlinewidth": 0,
             "ticks": ""
            },
            "colorscale": [
             [
              0,
              "#0d0887"
             ],
             [
              0.1111111111111111,
              "#46039f"
             ],
             [
              0.2222222222222222,
              "#7201a8"
             ],
             [
              0.3333333333333333,
              "#9c179e"
             ],
             [
              0.4444444444444444,
              "#bd3786"
             ],
             [
              0.5555555555555556,
              "#d8576b"
             ],
             [
              0.6666666666666666,
              "#ed7953"
             ],
             [
              0.7777777777777778,
              "#fb9f3a"
             ],
             [
              0.8888888888888888,
              "#fdca26"
             ],
             [
              1,
              "#f0f921"
             ]
            ],
            "type": "heatmap"
           }
          ],
          "heatmapgl": [
           {
            "colorbar": {
             "outlinewidth": 0,
             "ticks": ""
            },
            "colorscale": [
             [
              0,
              "#0d0887"
             ],
             [
              0.1111111111111111,
              "#46039f"
             ],
             [
              0.2222222222222222,
              "#7201a8"
             ],
             [
              0.3333333333333333,
              "#9c179e"
             ],
             [
              0.4444444444444444,
              "#bd3786"
             ],
             [
              0.5555555555555556,
              "#d8576b"
             ],
             [
              0.6666666666666666,
              "#ed7953"
             ],
             [
              0.7777777777777778,
              "#fb9f3a"
             ],
             [
              0.8888888888888888,
              "#fdca26"
             ],
             [
              1,
              "#f0f921"
             ]
            ],
            "type": "heatmapgl"
           }
          ],
          "histogram": [
           {
            "marker": {
             "pattern": {
              "fillmode": "overlay",
              "size": 10,
              "solidity": 0.2
             }
            },
            "type": "histogram"
           }
          ],
          "histogram2d": [
           {
            "colorbar": {
             "outlinewidth": 0,
             "ticks": ""
            },
            "colorscale": [
             [
              0,
              "#0d0887"
             ],
             [
              0.1111111111111111,
              "#46039f"
             ],
             [
              0.2222222222222222,
              "#7201a8"
             ],
             [
              0.3333333333333333,
              "#9c179e"
             ],
             [
              0.4444444444444444,
              "#bd3786"
             ],
             [
              0.5555555555555556,
              "#d8576b"
             ],
             [
              0.6666666666666666,
              "#ed7953"
             ],
             [
              0.7777777777777778,
              "#fb9f3a"
             ],
             [
              0.8888888888888888,
              "#fdca26"
             ],
             [
              1,
              "#f0f921"
             ]
            ],
            "type": "histogram2d"
           }
          ],
          "histogram2dcontour": [
           {
            "colorbar": {
             "outlinewidth": 0,
             "ticks": ""
            },
            "colorscale": [
             [
              0,
              "#0d0887"
             ],
             [
              0.1111111111111111,
              "#46039f"
             ],
             [
              0.2222222222222222,
              "#7201a8"
             ],
             [
              0.3333333333333333,
              "#9c179e"
             ],
             [
              0.4444444444444444,
              "#bd3786"
             ],
             [
              0.5555555555555556,
              "#d8576b"
             ],
             [
              0.6666666666666666,
              "#ed7953"
             ],
             [
              0.7777777777777778,
              "#fb9f3a"
             ],
             [
              0.8888888888888888,
              "#fdca26"
             ],
             [
              1,
              "#f0f921"
             ]
            ],
            "type": "histogram2dcontour"
           }
          ],
          "mesh3d": [
           {
            "colorbar": {
             "outlinewidth": 0,
             "ticks": ""
            },
            "type": "mesh3d"
           }
          ],
          "parcoords": [
           {
            "line": {
             "colorbar": {
              "outlinewidth": 0,
              "ticks": ""
             }
            },
            "type": "parcoords"
           }
          ],
          "pie": [
           {
            "automargin": true,
            "type": "pie"
           }
          ],
          "scatter": [
           {
            "fillpattern": {
             "fillmode": "overlay",
             "size": 10,
             "solidity": 0.2
            },
            "type": "scatter"
           }
          ],
          "scatter3d": [
           {
            "line": {
             "colorbar": {
              "outlinewidth": 0,
              "ticks": ""
             }
            },
            "marker": {
             "colorbar": {
              "outlinewidth": 0,
              "ticks": ""
             }
            },
            "type": "scatter3d"
           }
          ],
          "scattercarpet": [
           {
            "marker": {
             "colorbar": {
              "outlinewidth": 0,
              "ticks": ""
             }
            },
            "type": "scattercarpet"
           }
          ],
          "scattergeo": [
           {
            "marker": {
             "colorbar": {
              "outlinewidth": 0,
              "ticks": ""
             }
            },
            "type": "scattergeo"
           }
          ],
          "scattergl": [
           {
            "marker": {
             "colorbar": {
              "outlinewidth": 0,
              "ticks": ""
             }
            },
            "type": "scattergl"
           }
          ],
          "scattermapbox": [
           {
            "marker": {
             "colorbar": {
              "outlinewidth": 0,
              "ticks": ""
             }
            },
            "type": "scattermapbox"
           }
          ],
          "scatterpolar": [
           {
            "marker": {
             "colorbar": {
              "outlinewidth": 0,
              "ticks": ""
             }
            },
            "type": "scatterpolar"
           }
          ],
          "scatterpolargl": [
           {
            "marker": {
             "colorbar": {
              "outlinewidth": 0,
              "ticks": ""
             }
            },
            "type": "scatterpolargl"
           }
          ],
          "scatterternary": [
           {
            "marker": {
             "colorbar": {
              "outlinewidth": 0,
              "ticks": ""
             }
            },
            "type": "scatterternary"
           }
          ],
          "surface": [
           {
            "colorbar": {
             "outlinewidth": 0,
             "ticks": ""
            },
            "colorscale": [
             [
              0,
              "#0d0887"
             ],
             [
              0.1111111111111111,
              "#46039f"
             ],
             [
              0.2222222222222222,
              "#7201a8"
             ],
             [
              0.3333333333333333,
              "#9c179e"
             ],
             [
              0.4444444444444444,
              "#bd3786"
             ],
             [
              0.5555555555555556,
              "#d8576b"
             ],
             [
              0.6666666666666666,
              "#ed7953"
             ],
             [
              0.7777777777777778,
              "#fb9f3a"
             ],
             [
              0.8888888888888888,
              "#fdca26"
             ],
             [
              1,
              "#f0f921"
             ]
            ],
            "type": "surface"
           }
          ],
          "table": [
           {
            "cells": {
             "fill": {
              "color": "#EBF0F8"
             },
             "line": {
              "color": "white"
             }
            },
            "header": {
             "fill": {
              "color": "#C8D4E3"
             },
             "line": {
              "color": "white"
             }
            },
            "type": "table"
           }
          ]
         },
         "layout": {
          "annotationdefaults": {
           "arrowcolor": "#2a3f5f",
           "arrowhead": 0,
           "arrowwidth": 1
          },
          "autotypenumbers": "strict",
          "coloraxis": {
           "colorbar": {
            "outlinewidth": 0,
            "ticks": ""
           }
          },
          "colorscale": {
           "diverging": [
            [
             0,
             "#8e0152"
            ],
            [
             0.1,
             "#c51b7d"
            ],
            [
             0.2,
             "#de77ae"
            ],
            [
             0.3,
             "#f1b6da"
            ],
            [
             0.4,
             "#fde0ef"
            ],
            [
             0.5,
             "#f7f7f7"
            ],
            [
             0.6,
             "#e6f5d0"
            ],
            [
             0.7,
             "#b8e186"
            ],
            [
             0.8,
             "#7fbc41"
            ],
            [
             0.9,
             "#4d9221"
            ],
            [
             1,
             "#276419"
            ]
           ],
           "sequential": [
            [
             0,
             "#0d0887"
            ],
            [
             0.1111111111111111,
             "#46039f"
            ],
            [
             0.2222222222222222,
             "#7201a8"
            ],
            [
             0.3333333333333333,
             "#9c179e"
            ],
            [
             0.4444444444444444,
             "#bd3786"
            ],
            [
             0.5555555555555556,
             "#d8576b"
            ],
            [
             0.6666666666666666,
             "#ed7953"
            ],
            [
             0.7777777777777778,
             "#fb9f3a"
            ],
            [
             0.8888888888888888,
             "#fdca26"
            ],
            [
             1,
             "#f0f921"
            ]
           ],
           "sequentialminus": [
            [
             0,
             "#0d0887"
            ],
            [
             0.1111111111111111,
             "#46039f"
            ],
            [
             0.2222222222222222,
             "#7201a8"
            ],
            [
             0.3333333333333333,
             "#9c179e"
            ],
            [
             0.4444444444444444,
             "#bd3786"
            ],
            [
             0.5555555555555556,
             "#d8576b"
            ],
            [
             0.6666666666666666,
             "#ed7953"
            ],
            [
             0.7777777777777778,
             "#fb9f3a"
            ],
            [
             0.8888888888888888,
             "#fdca26"
            ],
            [
             1,
             "#f0f921"
            ]
           ]
          },
          "colorway": [
           "#636efa",
           "#EF553B",
           "#00cc96",
           "#ab63fa",
           "#FFA15A",
           "#19d3f3",
           "#FF6692",
           "#B6E880",
           "#FF97FF",
           "#FECB52"
          ],
          "font": {
           "color": "#2a3f5f"
          },
          "geo": {
           "bgcolor": "white",
           "lakecolor": "white",
           "landcolor": "#E5ECF6",
           "showlakes": true,
           "showland": true,
           "subunitcolor": "white"
          },
          "hoverlabel": {
           "align": "left"
          },
          "hovermode": "closest",
          "mapbox": {
           "style": "light"
          },
          "paper_bgcolor": "white",
          "plot_bgcolor": "#E5ECF6",
          "polar": {
           "angularaxis": {
            "gridcolor": "white",
            "linecolor": "white",
            "ticks": ""
           },
           "bgcolor": "#E5ECF6",
           "radialaxis": {
            "gridcolor": "white",
            "linecolor": "white",
            "ticks": ""
           }
          },
          "scene": {
           "xaxis": {
            "backgroundcolor": "#E5ECF6",
            "gridcolor": "white",
            "gridwidth": 2,
            "linecolor": "white",
            "showbackground": true,
            "ticks": "",
            "zerolinecolor": "white"
           },
           "yaxis": {
            "backgroundcolor": "#E5ECF6",
            "gridcolor": "white",
            "gridwidth": 2,
            "linecolor": "white",
            "showbackground": true,
            "ticks": "",
            "zerolinecolor": "white"
           },
           "zaxis": {
            "backgroundcolor": "#E5ECF6",
            "gridcolor": "white",
            "gridwidth": 2,
            "linecolor": "white",
            "showbackground": true,
            "ticks": "",
            "zerolinecolor": "white"
           }
          },
          "shapedefaults": {
           "line": {
            "color": "#2a3f5f"
           }
          },
          "ternary": {
           "aaxis": {
            "gridcolor": "white",
            "linecolor": "white",
            "ticks": ""
           },
           "baxis": {
            "gridcolor": "white",
            "linecolor": "white",
            "ticks": ""
           },
           "bgcolor": "#E5ECF6",
           "caxis": {
            "gridcolor": "white",
            "linecolor": "white",
            "ticks": ""
           }
          },
          "title": {
           "x": 0.05
          },
          "xaxis": {
           "automargin": true,
           "gridcolor": "white",
           "linecolor": "white",
           "ticks": "",
           "title": {
            "standoff": 15
           },
           "zerolinecolor": "white",
           "zerolinewidth": 2
          },
          "yaxis": {
           "automargin": true,
           "gridcolor": "white",
           "linecolor": "white",
           "ticks": "",
           "title": {
            "standoff": 15
           },
           "zerolinecolor": "white",
           "zerolinewidth": 2
          }
         }
        },
        "title": {
         "font": {
          "size": 18
         },
         "text": "Moving Box to The Right Target",
         "x": 0.5,
         "xanchor": "center",
         "yanchor": "top"
        },
        "width": 600,
        "xaxis": {
         "range": [
          0,
          2
         ],
         "showgrid": false,
         "title": {
          "text": "X Coordinate"
         },
         "type": "linear",
         "zeroline": false
        },
        "yaxis": {
         "range": [
          0,
          2
         ],
         "showgrid": false,
         "title": {
          "text": "Y Coordinate"
         },
         "type": "linear",
         "zeroline": false
        }
       }
      }
     },
     "metadata": {},
     "output_type": "display_data"
    }
   ],
   "source": [
    "render_graph(box_map)"
   ]
  },
  {
   "cell_type": "code",
   "execution_count": 7,
   "id": "63d73d79",
   "metadata": {},
   "outputs": [],
   "source": [
    "# state = {\"0.5_0.5\": [\"target_blue\", \"box_blue\", \"target_orange\"], \n",
    "#      \"0.5_1.5\": [\"box_orange\", \"target_green\", \"target_blue\"], \n",
    "#      \"1.5_0.5\": [\"box_green\", \"target_green\", \"box_green\"], \n",
    "#      \"1.5_1.5\": [\"box_blue\"]}\n",
    "\n",
    "# render_state, a_lst = trans_data(state, []) \n",
    "\n",
    "# render_graph(render_state)"
   ]
  },
  {
   "cell_type": "code",
   "execution_count": 8,
   "id": "8b2efb51",
   "metadata": {},
   "outputs": [],
   "source": [
    "# action_0 = {'Agent[0.5, 0.5]': 'move(box_blue, target_blue)', \n",
    "#             'Agent[0.5, 1.5]': 'move(box_orange, square[0.5, 0.5])', \n",
    "#             'Agent[1.5, 0.5]': 'move(box_green, target_green)', \n",
    "#             'Agent[1.5, 1.5]': 'move(box_blue, square[0.5, 1.5])'\n",
    "#             }\n",
    "\n",
    "# # render_state_1, a_lst = trans_data(state, [transform_action(action_0)])\n",
    "\n",
    "# state = {\"0.5_0.5\": [\"target_orange\", \"box_orange\"], \n",
    "#      \"0.5_1.5\": [\"target_green\", \"target_blue\", \"box_blue\"], \n",
    "#      \"1.5_0.5\": [\"box_green\"], \n",
    "#      \"1.5_1.5\": []}\n",
    "\n",
    "# render_state, a_lst = trans_data(state, []) \n",
    "\n",
    "# render_graph(render_state)"
   ]
  },
  {
   "cell_type": "markdown",
   "id": "a11f7f26-6065-4b31-b62d-abe2fbc9961a",
   "metadata": {},
   "source": [
    "# Rendering Actions + States"
   ]
  },
  {
   "cell_type": "code",
   "execution_count": 9,
   "id": "0a54b06a-bc6d-4c9c-bd69-fde17f86aa1a",
   "metadata": {},
   "outputs": [],
   "source": [
    "# render_graph(box_map)"
   ]
  },
  {
   "cell_type": "markdown",
   "id": "4efefa1c",
   "metadata": {},
   "source": [
    "# Rendering Animations"
   ]
  },
  {
   "cell_type": "code",
   "execution_count": 18,
   "id": "e3803d6f-d96e-439d-ab18-c108aa3d233e",
   "metadata": {},
   "outputs": [
    {
     "data": {
      "application/vnd.plotly.v1+json": {
       "config": {
        "plotlyServerURL": "https://plot.ly"
       },
       "data": [
        {
         "hovertemplate": "<b>%{hovertext}</b><br><br>color=blue<br>type=target<br>frame=5<br>x=%{x}<br>y=%{y}<br>size=%{marker.size}<extra></extra>",
         "hovertext": [
          "blue | target",
          "blue | target",
          "blue | target"
         ],
         "ids": [
          1,
          11,
          17
         ],
         "legendgroup": "blue, target",
         "marker": {
          "color": "#636efa",
          "size": [
           10,
           10,
           10
          ],
          "sizemode": "area",
          "sizeref": 0.025,
          "symbol": "circle"
         },
         "mode": "markers",
         "name": "blue, target",
         "orientation": "v",
         "showlegend": true,
         "type": "scatter",
         "x": [
          0.5,
          1.2,
          1.5
         ],
         "xaxis": "x",
         "y": [
          0.5,
          0.85,
          1.85
         ],
         "yaxis": "y"
        },
        {
         "hovertemplate": "<b>%{hovertext}</b><br><br>color=blue<br>type=box<br>frame=5<br>x=%{x}<br>y=%{y}<br>size=%{marker.size}<extra></extra>",
         "hovertext": [
          "blue | box",
          "blue | box",
          "blue | box"
         ],
         "ids": [
          0,
          6,
          18
         ],
         "legendgroup": "blue, box",
         "marker": {
          "color": "#636efa",
          "size": [
           10,
           10,
           10
          ],
          "sizemode": "area",
          "sizeref": 0.025,
          "symbol": "diamond"
         },
         "mode": "markers",
         "name": "blue, box",
         "orientation": "v",
         "showlegend": true,
         "type": "scatter",
         "x": [
          0.5,
          0.2,
          1.5
         ],
         "xaxis": "x",
         "y": [
          0.5,
          1.15,
          1.15
         ],
         "yaxis": "y"
        },
        {
         "hovertemplate": "<b>%{hovertext}</b><br><br>color=red<br>type=target<br>frame=5<br>x=%{x}<br>y=%{y}<br>size=%{marker.size}<extra></extra>",
         "hovertext": [
          "red | target",
          "red | target"
         ],
         "ids": [
          2,
          12
         ],
         "legendgroup": "red, target",
         "marker": {
          "color": "#EF553B",
          "size": [
           10,
           10
          ],
          "sizemode": "area",
          "sizeref": 0.025,
          "symbol": "circle"
         },
         "mode": "markers",
         "name": "red, target",
         "orientation": "v",
         "showlegend": true,
         "type": "scatter",
         "x": [
          0.35,
          1.35
         ],
         "xaxis": "x",
         "y": [
          0.85,
          0.85
         ],
         "yaxis": "y"
        },
        {
         "hovertemplate": "<b>%{hovertext}</b><br><br>color=red<br>type=box<br>frame=5<br>x=%{x}<br>y=%{y}<br>size=%{marker.size}<extra></extra>",
         "hovertext": [
          "red | box",
          "red | box"
         ],
         "ids": [
          7,
          19
         ],
         "legendgroup": "red, box",
         "marker": {
          "color": "#EF553B",
          "size": [
           10,
           10
          ],
          "sizemode": "area",
          "sizeref": 0.025,
          "symbol": "diamond"
         },
         "mode": "markers",
         "name": "red, box",
         "orientation": "v",
         "showlegend": true,
         "type": "scatter",
         "x": [
          0.35,
          1.5
         ],
         "xaxis": "x",
         "y": [
          1.15,
          0.15000000000000002
         ],
         "yaxis": "y"
        },
        {
         "hovertemplate": "<b>%{hovertext}</b><br><br>color=purple<br>type=target<br>frame=5<br>x=%{x}<br>y=%{y}<br>size=%{marker.size}<extra></extra>",
         "hovertext": [
          "purple | target",
          "purple | target",
          "purple | target"
         ],
         "ids": [
          4,
          14,
          15
         ],
         "legendgroup": "purple, target",
         "marker": {
          "color": "#00cc96",
          "size": [
           10,
           10,
           10
          ],
          "sizemode": "area",
          "sizeref": 0.025,
          "symbol": "circle"
         },
         "mode": "markers",
         "name": "purple, target",
         "orientation": "v",
         "showlegend": true,
         "type": "scatter",
         "x": [
          0.5,
          1.65,
          1.8
         ],
         "xaxis": "x",
         "y": [
          0.85,
          0.85,
          0.85
         ],
         "yaxis": "y"
        },
        {
         "hovertemplate": "<b>%{hovertext}</b><br><br>color=purple<br>type=box<br>frame=5<br>x=%{x}<br>y=%{y}<br>size=%{marker.size}<extra></extra>",
         "hovertext": [
          "purple | box",
          "purple | box",
          "purple | box"
         ],
         "ids": [
          5,
          8,
          9
         ],
         "legendgroup": "purple, box",
         "marker": {
          "color": "#00cc96",
          "size": [
           10,
           10,
           10
          ],
          "sizemode": "area",
          "sizeref": 0.025,
          "symbol": "diamond"
         },
         "mode": "markers",
         "name": "purple, box",
         "orientation": "v",
         "showlegend": true,
         "type": "scatter",
         "x": [
          0.5,
          0.5,
          0.65
         ],
         "xaxis": "x",
         "y": [
          0.15000000000000002,
          1.15,
          1.15
         ],
         "yaxis": "y"
        },
        {
         "hovertemplate": "<b>%{hovertext}</b><br><br>color=green<br>type=target<br>frame=5<br>x=%{x}<br>y=%{y}<br>size=%{marker.size}<extra></extra>",
         "hovertext": [
          "green | target"
         ],
         "ids": [
          13
         ],
         "legendgroup": "green, target",
         "marker": {
          "color": "#ab63fa",
          "size": [
           10
          ],
          "sizemode": "area",
          "sizeref": 0.025,
          "symbol": "circle"
         },
         "mode": "markers",
         "name": "green, target",
         "orientation": "v",
         "showlegend": true,
         "type": "scatter",
         "x": [
          1.5
         ],
         "xaxis": "x",
         "y": [
          0.85
         ],
         "yaxis": "y"
        },
        {
         "hovertemplate": "<b>%{hovertext}</b><br><br>color=green<br>type=box<br>frame=5<br>x=%{x}<br>y=%{y}<br>size=%{marker.size}<extra></extra>",
         "hovertext": [
          "green | box"
         ],
         "ids": [
          3
         ],
         "legendgroup": "green, box",
         "marker": {
          "color": "#ab63fa",
          "size": [
           10
          ],
          "sizemode": "area",
          "sizeref": 0.025,
          "symbol": "diamond"
         },
         "mode": "markers",
         "name": "green, box",
         "orientation": "v",
         "showlegend": true,
         "type": "scatter",
         "x": [
          0.35
         ],
         "xaxis": "x",
         "y": [
          0.15000000000000002
         ],
         "yaxis": "y"
        },
        {
         "hovertemplate": "<b>%{hovertext}</b><br><br>color=orange<br>type=target<br>frame=5<br>x=%{x}<br>y=%{y}<br>size=%{marker.size}<extra></extra>",
         "hovertext": [
          "orange | target"
         ],
         "ids": [
          16
         ],
         "legendgroup": "orange, target",
         "marker": {
          "color": "#FFA15A",
          "size": [
           10
          ],
          "sizemode": "area",
          "sizeref": 0.025,
          "symbol": "circle"
         },
         "mode": "markers",
         "name": "orange, target",
         "orientation": "v",
         "showlegend": true,
         "type": "scatter",
         "x": [
          1.2
         ],
         "xaxis": "x",
         "y": [
          0.65
         ],
         "yaxis": "y"
        },
        {
         "hovertemplate": "<b>%{hovertext}</b><br><br>color=orange<br>type=box<br>frame=5<br>x=%{x}<br>y=%{y}<br>size=%{marker.size}<extra></extra>",
         "hovertext": [
          "orange | box"
         ],
         "ids": [
          10
         ],
         "legendgroup": "orange, box",
         "marker": {
          "color": "#FFA15A",
          "size": [
           10
          ],
          "sizemode": "area",
          "sizeref": 0.025,
          "symbol": "diamond"
         },
         "mode": "markers",
         "name": "orange, box",
         "orientation": "v",
         "showlegend": true,
         "type": "scatter",
         "x": [
          0.8
         ],
         "xaxis": "x",
         "y": [
          1.15
         ],
         "yaxis": "y"
        }
       ],
       "frames": [
        {
         "data": [
          {
           "hovertemplate": "<b>%{hovertext}</b><br><br>color=blue<br>type=target<br>frame=0<br>x=%{x}<br>y=%{y}<br>size=%{marker.size}<extra></extra>",
           "hovertext": [
            "blue | target",
            "blue | target",
            "blue | target"
           ],
           "ids": [
            1,
            11,
            17
           ],
           "legendgroup": "blue, target",
           "marker": {
            "color": "#636efa",
            "size": [
             10,
             10,
             10
            ],
            "sizemode": "area",
            "sizeref": 0.025,
            "symbol": "circle"
           },
           "mode": "markers",
           "name": "blue, target",
           "orientation": "v",
           "showlegend": true,
           "type": "scatter",
           "x": [
            0.35,
            1.2,
            1.5
           ],
           "xaxis": "x",
           "y": [
            0.85,
            0.85,
            1.85
           ],
           "yaxis": "y"
          },
          {
           "hovertemplate": "<b>%{hovertext}</b><br><br>color=blue<br>type=box<br>frame=0<br>x=%{x}<br>y=%{y}<br>size=%{marker.size}<extra></extra>",
           "hovertext": [
            "blue | box",
            "blue | box",
            "blue | box"
           ],
           "ids": [
            0,
            6,
            18
           ],
           "legendgroup": "blue, box",
           "marker": {
            "color": "#636efa",
            "size": [
             10,
             10,
             10
            ],
            "sizemode": "area",
            "sizeref": 0.025,
            "symbol": "diamond"
           },
           "mode": "markers",
           "name": "blue, box",
           "orientation": "v",
           "showlegend": true,
           "type": "scatter",
           "x": [
            0.35,
            0.2,
            1.35
           ],
           "xaxis": "x",
           "y": [
            0.15000000000000002,
            1.15,
            1.15
           ],
           "yaxis": "y"
          },
          {
           "hovertemplate": "<b>%{hovertext}</b><br><br>color=red<br>type=target<br>frame=0<br>x=%{x}<br>y=%{y}<br>size=%{marker.size}<extra></extra>",
           "hovertext": [
            "red | target",
            "red | target"
           ],
           "ids": [
            2,
            12
           ],
           "legendgroup": "red, target",
           "marker": {
            "color": "#EF553B",
            "size": [
             10,
             10
            ],
            "sizemode": "area",
            "sizeref": 0.025,
            "symbol": "circle"
           },
           "mode": "markers",
           "name": "red, target",
           "orientation": "v",
           "showlegend": true,
           "type": "scatter",
           "x": [
            0.5,
            1.35
           ],
           "xaxis": "x",
           "y": [
            0.85,
            0.85
           ],
           "yaxis": "y"
          },
          {
           "hovertemplate": "<b>%{hovertext}</b><br><br>color=red<br>type=box<br>frame=0<br>x=%{x}<br>y=%{y}<br>size=%{marker.size}<extra></extra>",
           "hovertext": [
            "red | box",
            "red | box"
           ],
           "ids": [
            7,
            19
           ],
           "legendgroup": "red, box",
           "marker": {
            "color": "#EF553B",
            "size": [
             10,
             10
            ],
            "sizemode": "area",
            "sizeref": 0.025,
            "symbol": "diamond"
           },
           "mode": "markers",
           "name": "red, box",
           "orientation": "v",
           "showlegend": true,
           "type": "scatter",
           "x": [
            0.35,
            1.5
           ],
           "xaxis": "x",
           "y": [
            1.15,
            1.15
           ],
           "yaxis": "y"
          },
          {
           "hovertemplate": "<b>%{hovertext}</b><br><br>color=purple<br>type=target<br>frame=0<br>x=%{x}<br>y=%{y}<br>size=%{marker.size}<extra></extra>",
           "hovertext": [
            "purple | target",
            "purple | target",
            "purple | target"
           ],
           "ids": [
            4,
            14,
            15
           ],
           "legendgroup": "purple, target",
           "marker": {
            "color": "#00cc96",
            "size": [
             10,
             10,
             10
            ],
            "sizemode": "area",
            "sizeref": 0.025,
            "symbol": "circle"
           },
           "mode": "markers",
           "name": "purple, target",
           "orientation": "v",
           "showlegend": true,
           "type": "scatter",
           "x": [
            0.65,
            1.65,
            1.8
           ],
           "xaxis": "x",
           "y": [
            0.85,
            0.85,
            0.85
           ],
           "yaxis": "y"
          },
          {
           "hovertemplate": "<b>%{hovertext}</b><br><br>color=purple<br>type=box<br>frame=0<br>x=%{x}<br>y=%{y}<br>size=%{marker.size}<extra></extra>",
           "hovertext": [
            "purple | box",
            "purple | box",
            "purple | box"
           ],
           "ids": [
            5,
            8,
            9
           ],
           "legendgroup": "purple, box",
           "marker": {
            "color": "#00cc96",
            "size": [
             10,
             10,
             10
            ],
            "sizemode": "area",
            "sizeref": 0.025,
            "symbol": "diamond"
           },
           "mode": "markers",
           "name": "purple, box",
           "orientation": "v",
           "showlegend": true,
           "type": "scatter",
           "x": [
            0.65,
            0.5,
            0.65
           ],
           "xaxis": "x",
           "y": [
            0.15000000000000002,
            1.15,
            1.15
           ],
           "yaxis": "y"
          },
          {
           "hovertemplate": "<b>%{hovertext}</b><br><br>color=green<br>type=target<br>frame=0<br>x=%{x}<br>y=%{y}<br>size=%{marker.size}<extra></extra>",
           "hovertext": [
            "green | target"
           ],
           "ids": [
            13
           ],
           "legendgroup": "green, target",
           "marker": {
            "color": "#ab63fa",
            "size": [
             10
            ],
            "sizemode": "area",
            "sizeref": 0.025,
            "symbol": "circle"
           },
           "mode": "markers",
           "name": "green, target",
           "orientation": "v",
           "showlegend": true,
           "type": "scatter",
           "x": [
            1.5
           ],
           "xaxis": "x",
           "y": [
            0.85
           ],
           "yaxis": "y"
          },
          {
           "hovertemplate": "<b>%{hovertext}</b><br><br>color=green<br>type=box<br>frame=0<br>x=%{x}<br>y=%{y}<br>size=%{marker.size}<extra></extra>",
           "hovertext": [
            "green | box"
           ],
           "ids": [
            3
           ],
           "legendgroup": "green, box",
           "marker": {
            "color": "#ab63fa",
            "size": [
             10
            ],
            "sizemode": "area",
            "sizeref": 0.025,
            "symbol": "diamond"
           },
           "mode": "markers",
           "name": "green, box",
           "orientation": "v",
           "showlegend": true,
           "type": "scatter",
           "x": [
            0.5
           ],
           "xaxis": "x",
           "y": [
            0.15000000000000002
           ],
           "yaxis": "y"
          },
          {
           "hovertemplate": "<b>%{hovertext}</b><br><br>color=orange<br>type=target<br>frame=0<br>x=%{x}<br>y=%{y}<br>size=%{marker.size}<extra></extra>",
           "hovertext": [
            "orange | target"
           ],
           "ids": [
            16
           ],
           "legendgroup": "orange, target",
           "marker": {
            "color": "#FFA15A",
            "size": [
             10
            ],
            "sizemode": "area",
            "sizeref": 0.025,
            "symbol": "circle"
           },
           "mode": "markers",
           "name": "orange, target",
           "orientation": "v",
           "showlegend": true,
           "type": "scatter",
           "x": [
            1.2
           ],
           "xaxis": "x",
           "y": [
            0.65
           ],
           "yaxis": "y"
          },
          {
           "hovertemplate": "<b>%{hovertext}</b><br><br>color=orange<br>type=box<br>frame=0<br>x=%{x}<br>y=%{y}<br>size=%{marker.size}<extra></extra>",
           "hovertext": [
            "orange | box"
           ],
           "ids": [
            10
           ],
           "legendgroup": "orange, box",
           "marker": {
            "color": "#FFA15A",
            "size": [
             10
            ],
            "sizemode": "area",
            "sizeref": 0.025,
            "symbol": "diamond"
           },
           "mode": "markers",
           "name": "orange, box",
           "orientation": "v",
           "showlegend": true,
           "type": "scatter",
           "x": [
            0.8
           ],
           "xaxis": "x",
           "y": [
            1.15
           ],
           "yaxis": "y"
          }
         ],
         "name": "0"
        },
        {
         "data": [
          {
           "hovertemplate": "<b>%{hovertext}</b><br><br>color=blue<br>type=target<br>frame=1<br>x=%{x}<br>y=%{y}<br>size=%{marker.size}<extra></extra>",
           "hovertext": [
            "blue | target",
            "blue | target",
            "blue | target"
           ],
           "ids": [
            1,
            11,
            17
           ],
           "legendgroup": "blue, target",
           "marker": {
            "color": "#636efa",
            "size": [
             10,
             10,
             10
            ],
            "sizemode": "area",
            "sizeref": 0.025,
            "symbol": "circle"
           },
           "mode": "markers",
           "name": "blue, target",
           "orientation": "v",
           "showlegend": true,
           "type": "scatter",
           "x": [
            0.38,
            1.2,
            1.5000000000000002
           ],
           "xaxis": "x",
           "y": [
            0.78,
            0.8500000000000001,
            1.8500000000000003
           ],
           "yaxis": "y"
          },
          {
           "hovertemplate": "<b>%{hovertext}</b><br><br>color=blue<br>type=box<br>frame=1<br>x=%{x}<br>y=%{y}<br>size=%{marker.size}<extra></extra>",
           "hovertext": [
            "blue | box",
            "blue | box",
            "blue | box"
           ],
           "ids": [
            0,
            6,
            18
           ],
           "legendgroup": "blue, box",
           "marker": {
            "color": "#636efa",
            "size": [
             10,
             10,
             10
            ],
            "sizemode": "area",
            "sizeref": 0.025,
            "symbol": "diamond"
           },
           "mode": "markers",
           "name": "blue, box",
           "orientation": "v",
           "showlegend": true,
           "type": "scatter",
           "x": [
            0.38,
            0.20000000000000004,
            1.3800000000000001
           ],
           "xaxis": "x",
           "y": [
            0.22000000000000003,
            1.15,
            1.15
           ],
           "yaxis": "y"
          },
          {
           "hovertemplate": "<b>%{hovertext}</b><br><br>color=red<br>type=target<br>frame=1<br>x=%{x}<br>y=%{y}<br>size=%{marker.size}<extra></extra>",
           "hovertext": [
            "red | target",
            "red | target"
           ],
           "ids": [
            2,
            12
           ],
           "legendgroup": "red, target",
           "marker": {
            "color": "#EF553B",
            "size": [
             10,
             10
            ],
            "sizemode": "area",
            "sizeref": 0.025,
            "symbol": "circle"
           },
           "mode": "markers",
           "name": "red, target",
           "orientation": "v",
           "showlegend": true,
           "type": "scatter",
           "x": [
            0.47000000000000003,
            1.35
           ],
           "xaxis": "x",
           "y": [
            0.8500000000000001,
            0.8500000000000001
           ],
           "yaxis": "y"
          },
          {
           "hovertemplate": "<b>%{hovertext}</b><br><br>color=red<br>type=box<br>frame=1<br>x=%{x}<br>y=%{y}<br>size=%{marker.size}<extra></extra>",
           "hovertext": [
            "red | box",
            "red | box"
           ],
           "ids": [
            7,
            19
           ],
           "legendgroup": "red, box",
           "marker": {
            "color": "#EF553B",
            "size": [
             10,
             10
            ],
            "sizemode": "area",
            "sizeref": 0.025,
            "symbol": "diamond"
           },
           "mode": "markers",
           "name": "red, box",
           "orientation": "v",
           "showlegend": true,
           "type": "scatter",
           "x": [
            0.35,
            1.5000000000000002
           ],
           "xaxis": "x",
           "y": [
            1.15,
            0.95
           ],
           "yaxis": "y"
          },
          {
           "hovertemplate": "<b>%{hovertext}</b><br><br>color=purple<br>type=target<br>frame=1<br>x=%{x}<br>y=%{y}<br>size=%{marker.size}<extra></extra>",
           "hovertext": [
            "purple | target",
            "purple | target",
            "purple | target"
           ],
           "ids": [
            4,
            14,
            15
           ],
           "legendgroup": "purple, target",
           "marker": {
            "color": "#00cc96",
            "size": [
             10,
             10,
             10
            ],
            "sizemode": "area",
            "sizeref": 0.025,
            "symbol": "circle"
           },
           "mode": "markers",
           "name": "purple, target",
           "orientation": "v",
           "showlegend": true,
           "type": "scatter",
           "x": [
            0.62,
            1.6500000000000001,
            1.8000000000000003
           ],
           "xaxis": "x",
           "y": [
            0.8500000000000001,
            0.8500000000000001,
            0.8500000000000001
           ],
           "yaxis": "y"
          },
          {
           "hovertemplate": "<b>%{hovertext}</b><br><br>color=purple<br>type=box<br>frame=1<br>x=%{x}<br>y=%{y}<br>size=%{marker.size}<extra></extra>",
           "hovertext": [
            "purple | box",
            "purple | box",
            "purple | box"
           ],
           "ids": [
            5,
            8,
            9
           ],
           "legendgroup": "purple, box",
           "marker": {
            "color": "#00cc96",
            "size": [
             10,
             10,
             10
            ],
            "sizemode": "area",
            "sizeref": 0.025,
            "symbol": "diamond"
           },
           "mode": "markers",
           "name": "purple, box",
           "orientation": "v",
           "showlegend": true,
           "type": "scatter",
           "x": [
            0.62,
            0.5,
            0.65
           ],
           "xaxis": "x",
           "y": [
            0.15000000000000002,
            1.15,
            1.15
           ],
           "yaxis": "y"
          },
          {
           "hovertemplate": "<b>%{hovertext}</b><br><br>color=green<br>type=target<br>frame=1<br>x=%{x}<br>y=%{y}<br>size=%{marker.size}<extra></extra>",
           "hovertext": [
            "green | target"
           ],
           "ids": [
            13
           ],
           "legendgroup": "green, target",
           "marker": {
            "color": "#ab63fa",
            "size": [
             10
            ],
            "sizemode": "area",
            "sizeref": 0.025,
            "symbol": "circle"
           },
           "mode": "markers",
           "name": "green, target",
           "orientation": "v",
           "showlegend": true,
           "type": "scatter",
           "x": [
            1.5000000000000002
           ],
           "xaxis": "x",
           "y": [
            0.8500000000000001
           ],
           "yaxis": "y"
          },
          {
           "hovertemplate": "<b>%{hovertext}</b><br><br>color=green<br>type=box<br>frame=1<br>x=%{x}<br>y=%{y}<br>size=%{marker.size}<extra></extra>",
           "hovertext": [
            "green | box"
           ],
           "ids": [
            3
           ],
           "legendgroup": "green, box",
           "marker": {
            "color": "#ab63fa",
            "size": [
             10
            ],
            "sizemode": "area",
            "sizeref": 0.025,
            "symbol": "diamond"
           },
           "mode": "markers",
           "name": "green, box",
           "orientation": "v",
           "showlegend": true,
           "type": "scatter",
           "x": [
            0.47000000000000003
           ],
           "xaxis": "x",
           "y": [
            0.15000000000000002
           ],
           "yaxis": "y"
          },
          {
           "hovertemplate": "<b>%{hovertext}</b><br><br>color=orange<br>type=target<br>frame=1<br>x=%{x}<br>y=%{y}<br>size=%{marker.size}<extra></extra>",
           "hovertext": [
            "orange | target"
           ],
           "ids": [
            16
           ],
           "legendgroup": "orange, target",
           "marker": {
            "color": "#FFA15A",
            "size": [
             10
            ],
            "sizemode": "area",
            "sizeref": 0.025,
            "symbol": "circle"
           },
           "mode": "markers",
           "name": "orange, target",
           "orientation": "v",
           "showlegend": true,
           "type": "scatter",
           "x": [
            1.2
           ],
           "xaxis": "x",
           "y": [
            0.65
           ],
           "yaxis": "y"
          },
          {
           "hovertemplate": "<b>%{hovertext}</b><br><br>color=orange<br>type=box<br>frame=1<br>x=%{x}<br>y=%{y}<br>size=%{marker.size}<extra></extra>",
           "hovertext": [
            "orange | box"
           ],
           "ids": [
            10
           ],
           "legendgroup": "orange, box",
           "marker": {
            "color": "#FFA15A",
            "size": [
             10
            ],
            "sizemode": "area",
            "sizeref": 0.025,
            "symbol": "diamond"
           },
           "mode": "markers",
           "name": "orange, box",
           "orientation": "v",
           "showlegend": true,
           "type": "scatter",
           "x": [
            0.8000000000000002
           ],
           "xaxis": "x",
           "y": [
            1.15
           ],
           "yaxis": "y"
          }
         ],
         "name": "1"
        },
        {
         "data": [
          {
           "hovertemplate": "<b>%{hovertext}</b><br><br>color=blue<br>type=target<br>frame=2<br>x=%{x}<br>y=%{y}<br>size=%{marker.size}<extra></extra>",
           "hovertext": [
            "blue | target",
            "blue | target",
            "blue | target"
           ],
           "ids": [
            1,
            11,
            17
           ],
           "legendgroup": "blue, target",
           "marker": {
            "color": "#636efa",
            "size": [
             10,
             10,
             10
            ],
            "sizemode": "area",
            "sizeref": 0.025,
            "symbol": "circle"
           },
           "mode": "markers",
           "name": "blue, target",
           "orientation": "v",
           "showlegend": true,
           "type": "scatter",
           "x": [
            0.41000000000000003,
            1.2,
            1.5
           ],
           "xaxis": "x",
           "y": [
            0.71,
            0.8500000000000001,
            1.85
           ],
           "yaxis": "y"
          },
          {
           "hovertemplate": "<b>%{hovertext}</b><br><br>color=blue<br>type=box<br>frame=2<br>x=%{x}<br>y=%{y}<br>size=%{marker.size}<extra></extra>",
           "hovertext": [
            "blue | box",
            "blue | box",
            "blue | box"
           ],
           "ids": [
            0,
            6,
            18
           ],
           "legendgroup": "blue, box",
           "marker": {
            "color": "#636efa",
            "size": [
             10,
             10,
             10
            ],
            "sizemode": "area",
            "sizeref": 0.025,
            "symbol": "diamond"
           },
           "mode": "markers",
           "name": "blue, box",
           "orientation": "v",
           "showlegend": true,
           "type": "scatter",
           "x": [
            0.41000000000000003,
            0.2,
            1.4100000000000001
           ],
           "xaxis": "x",
           "y": [
            0.29000000000000004,
            1.15,
            1.15
           ],
           "yaxis": "y"
          },
          {
           "hovertemplate": "<b>%{hovertext}</b><br><br>color=red<br>type=target<br>frame=2<br>x=%{x}<br>y=%{y}<br>size=%{marker.size}<extra></extra>",
           "hovertext": [
            "red | target",
            "red | target"
           ],
           "ids": [
            2,
            12
           ],
           "legendgroup": "red, target",
           "marker": {
            "color": "#EF553B",
            "size": [
             10,
             10
            ],
            "sizemode": "area",
            "sizeref": 0.025,
            "symbol": "circle"
           },
           "mode": "markers",
           "name": "red, target",
           "orientation": "v",
           "showlegend": true,
           "type": "scatter",
           "x": [
            0.43999999999999995,
            1.35
           ],
           "xaxis": "x",
           "y": [
            0.8500000000000001,
            0.8500000000000001
           ],
           "yaxis": "y"
          },
          {
           "hovertemplate": "<b>%{hovertext}</b><br><br>color=red<br>type=box<br>frame=2<br>x=%{x}<br>y=%{y}<br>size=%{marker.size}<extra></extra>",
           "hovertext": [
            "red | box",
            "red | box"
           ],
           "ids": [
            7,
            19
           ],
           "legendgroup": "red, box",
           "marker": {
            "color": "#EF553B",
            "size": [
             10,
             10
            ],
            "sizemode": "area",
            "sizeref": 0.025,
            "symbol": "diamond"
           },
           "mode": "markers",
           "name": "red, box",
           "orientation": "v",
           "showlegend": true,
           "type": "scatter",
           "x": [
            0.35,
            1.5
           ],
           "xaxis": "x",
           "y": [
            1.15,
            0.75
           ],
           "yaxis": "y"
          },
          {
           "hovertemplate": "<b>%{hovertext}</b><br><br>color=purple<br>type=target<br>frame=2<br>x=%{x}<br>y=%{y}<br>size=%{marker.size}<extra></extra>",
           "hovertext": [
            "purple | target",
            "purple | target",
            "purple | target"
           ],
           "ids": [
            4,
            14,
            15
           ],
           "legendgroup": "purple, target",
           "marker": {
            "color": "#00cc96",
            "size": [
             10,
             10,
             10
            ],
            "sizemode": "area",
            "sizeref": 0.025,
            "symbol": "circle"
           },
           "mode": "markers",
           "name": "purple, target",
           "orientation": "v",
           "showlegend": true,
           "type": "scatter",
           "x": [
            0.5900000000000001,
            1.65,
            1.8000000000000003
           ],
           "xaxis": "x",
           "y": [
            0.8500000000000001,
            0.8500000000000001,
            0.8500000000000001
           ],
           "yaxis": "y"
          },
          {
           "hovertemplate": "<b>%{hovertext}</b><br><br>color=purple<br>type=box<br>frame=2<br>x=%{x}<br>y=%{y}<br>size=%{marker.size}<extra></extra>",
           "hovertext": [
            "purple | box",
            "purple | box",
            "purple | box"
           ],
           "ids": [
            5,
            8,
            9
           ],
           "legendgroup": "purple, box",
           "marker": {
            "color": "#00cc96",
            "size": [
             10,
             10,
             10
            ],
            "sizemode": "area",
            "sizeref": 0.025,
            "symbol": "diamond"
           },
           "mode": "markers",
           "name": "purple, box",
           "orientation": "v",
           "showlegend": true,
           "type": "scatter",
           "x": [
            0.5900000000000001,
            0.5,
            0.65
           ],
           "xaxis": "x",
           "y": [
            0.15000000000000002,
            1.15,
            1.15
           ],
           "yaxis": "y"
          },
          {
           "hovertemplate": "<b>%{hovertext}</b><br><br>color=green<br>type=target<br>frame=2<br>x=%{x}<br>y=%{y}<br>size=%{marker.size}<extra></extra>",
           "hovertext": [
            "green | target"
           ],
           "ids": [
            13
           ],
           "legendgroup": "green, target",
           "marker": {
            "color": "#ab63fa",
            "size": [
             10
            ],
            "sizemode": "area",
            "sizeref": 0.025,
            "symbol": "circle"
           },
           "mode": "markers",
           "name": "green, target",
           "orientation": "v",
           "showlegend": true,
           "type": "scatter",
           "x": [
            1.5
           ],
           "xaxis": "x",
           "y": [
            0.8500000000000001
           ],
           "yaxis": "y"
          },
          {
           "hovertemplate": "<b>%{hovertext}</b><br><br>color=green<br>type=box<br>frame=2<br>x=%{x}<br>y=%{y}<br>size=%{marker.size}<extra></extra>",
           "hovertext": [
            "green | box"
           ],
           "ids": [
            3
           ],
           "legendgroup": "green, box",
           "marker": {
            "color": "#ab63fa",
            "size": [
             10
            ],
            "sizemode": "area",
            "sizeref": 0.025,
            "symbol": "diamond"
           },
           "mode": "markers",
           "name": "green, box",
           "orientation": "v",
           "showlegend": true,
           "type": "scatter",
           "x": [
            0.43999999999999995
           ],
           "xaxis": "x",
           "y": [
            0.15000000000000002
           ],
           "yaxis": "y"
          },
          {
           "hovertemplate": "<b>%{hovertext}</b><br><br>color=orange<br>type=target<br>frame=2<br>x=%{x}<br>y=%{y}<br>size=%{marker.size}<extra></extra>",
           "hovertext": [
            "orange | target"
           ],
           "ids": [
            16
           ],
           "legendgroup": "orange, target",
           "marker": {
            "color": "#FFA15A",
            "size": [
             10
            ],
            "sizemode": "area",
            "sizeref": 0.025,
            "symbol": "circle"
           },
           "mode": "markers",
           "name": "orange, target",
           "orientation": "v",
           "showlegend": true,
           "type": "scatter",
           "x": [
            1.2
           ],
           "xaxis": "x",
           "y": [
            0.65
           ],
           "yaxis": "y"
          },
          {
           "hovertemplate": "<b>%{hovertext}</b><br><br>color=orange<br>type=box<br>frame=2<br>x=%{x}<br>y=%{y}<br>size=%{marker.size}<extra></extra>",
           "hovertext": [
            "orange | box"
           ],
           "ids": [
            10
           ],
           "legendgroup": "orange, box",
           "marker": {
            "color": "#FFA15A",
            "size": [
             10
            ],
            "sizemode": "area",
            "sizeref": 0.025,
            "symbol": "diamond"
           },
           "mode": "markers",
           "name": "orange, box",
           "orientation": "v",
           "showlegend": true,
           "type": "scatter",
           "x": [
            0.8
           ],
           "xaxis": "x",
           "y": [
            1.15
           ],
           "yaxis": "y"
          }
         ],
         "name": "2"
        },
        {
         "data": [
          {
           "hovertemplate": "<b>%{hovertext}</b><br><br>color=blue<br>type=target<br>frame=3<br>x=%{x}<br>y=%{y}<br>size=%{marker.size}<extra></extra>",
           "hovertext": [
            "blue | target",
            "blue | target",
            "blue | target"
           ],
           "ids": [
            1,
            11,
            17
           ],
           "legendgroup": "blue, target",
           "marker": {
            "color": "#636efa",
            "size": [
             10,
             10,
             10
            ],
            "sizemode": "area",
            "sizeref": 0.025,
            "symbol": "circle"
           },
           "mode": "markers",
           "name": "blue, target",
           "orientation": "v",
           "showlegend": true,
           "type": "scatter",
           "x": [
            0.43999999999999995,
            1.2,
            1.5
           ],
           "xaxis": "x",
           "y": [
            0.64,
            0.8500000000000001,
            1.85
           ],
           "yaxis": "y"
          },
          {
           "hovertemplate": "<b>%{hovertext}</b><br><br>color=blue<br>type=box<br>frame=3<br>x=%{x}<br>y=%{y}<br>size=%{marker.size}<extra></extra>",
           "hovertext": [
            "blue | box",
            "blue | box",
            "blue | box"
           ],
           "ids": [
            0,
            6,
            18
           ],
           "legendgroup": "blue, box",
           "marker": {
            "color": "#636efa",
            "size": [
             10,
             10,
             10
            ],
            "sizemode": "area",
            "sizeref": 0.025,
            "symbol": "diamond"
           },
           "mode": "markers",
           "name": "blue, box",
           "orientation": "v",
           "showlegend": true,
           "type": "scatter",
           "x": [
            0.43999999999999995,
            0.2,
            1.44
           ],
           "xaxis": "x",
           "y": [
            0.36,
            1.15,
            1.15
           ],
           "yaxis": "y"
          },
          {
           "hovertemplate": "<b>%{hovertext}</b><br><br>color=red<br>type=target<br>frame=3<br>x=%{x}<br>y=%{y}<br>size=%{marker.size}<extra></extra>",
           "hovertext": [
            "red | target",
            "red | target"
           ],
           "ids": [
            2,
            12
           ],
           "legendgroup": "red, target",
           "marker": {
            "color": "#EF553B",
            "size": [
             10,
             10
            ],
            "sizemode": "area",
            "sizeref": 0.025,
            "symbol": "circle"
           },
           "mode": "markers",
           "name": "red, target",
           "orientation": "v",
           "showlegend": true,
           "type": "scatter",
           "x": [
            0.41000000000000003,
            1.35
           ],
           "xaxis": "x",
           "y": [
            0.8500000000000001,
            0.8500000000000001
           ],
           "yaxis": "y"
          },
          {
           "hovertemplate": "<b>%{hovertext}</b><br><br>color=red<br>type=box<br>frame=3<br>x=%{x}<br>y=%{y}<br>size=%{marker.size}<extra></extra>",
           "hovertext": [
            "red | box",
            "red | box"
           ],
           "ids": [
            7,
            19
           ],
           "legendgroup": "red, box",
           "marker": {
            "color": "#EF553B",
            "size": [
             10,
             10
            ],
            "sizemode": "area",
            "sizeref": 0.025,
            "symbol": "diamond"
           },
           "mode": "markers",
           "name": "red, box",
           "orientation": "v",
           "showlegend": true,
           "type": "scatter",
           "x": [
            0.35,
            1.5
           ],
           "xaxis": "x",
           "y": [
            1.15,
            0.5499999999999999
           ],
           "yaxis": "y"
          },
          {
           "hovertemplate": "<b>%{hovertext}</b><br><br>color=purple<br>type=target<br>frame=3<br>x=%{x}<br>y=%{y}<br>size=%{marker.size}<extra></extra>",
           "hovertext": [
            "purple | target",
            "purple | target",
            "purple | target"
           ],
           "ids": [
            4,
            14,
            15
           ],
           "legendgroup": "purple, target",
           "marker": {
            "color": "#00cc96",
            "size": [
             10,
             10,
             10
            ],
            "sizemode": "area",
            "sizeref": 0.025,
            "symbol": "circle"
           },
           "mode": "markers",
           "name": "purple, target",
           "orientation": "v",
           "showlegend": true,
           "type": "scatter",
           "x": [
            0.56,
            1.65,
            1.8000000000000003
           ],
           "xaxis": "x",
           "y": [
            0.8500000000000001,
            0.8500000000000001,
            0.8500000000000001
           ],
           "yaxis": "y"
          },
          {
           "hovertemplate": "<b>%{hovertext}</b><br><br>color=purple<br>type=box<br>frame=3<br>x=%{x}<br>y=%{y}<br>size=%{marker.size}<extra></extra>",
           "hovertext": [
            "purple | box",
            "purple | box",
            "purple | box"
           ],
           "ids": [
            5,
            8,
            9
           ],
           "legendgroup": "purple, box",
           "marker": {
            "color": "#00cc96",
            "size": [
             10,
             10,
             10
            ],
            "sizemode": "area",
            "sizeref": 0.025,
            "symbol": "diamond"
           },
           "mode": "markers",
           "name": "purple, box",
           "orientation": "v",
           "showlegend": true,
           "type": "scatter",
           "x": [
            0.56,
            0.5,
            0.65
           ],
           "xaxis": "x",
           "y": [
            0.15000000000000002,
            1.15,
            1.15
           ],
           "yaxis": "y"
          },
          {
           "hovertemplate": "<b>%{hovertext}</b><br><br>color=green<br>type=target<br>frame=3<br>x=%{x}<br>y=%{y}<br>size=%{marker.size}<extra></extra>",
           "hovertext": [
            "green | target"
           ],
           "ids": [
            13
           ],
           "legendgroup": "green, target",
           "marker": {
            "color": "#ab63fa",
            "size": [
             10
            ],
            "sizemode": "area",
            "sizeref": 0.025,
            "symbol": "circle"
           },
           "mode": "markers",
           "name": "green, target",
           "orientation": "v",
           "showlegend": true,
           "type": "scatter",
           "x": [
            1.5
           ],
           "xaxis": "x",
           "y": [
            0.8500000000000001
           ],
           "yaxis": "y"
          },
          {
           "hovertemplate": "<b>%{hovertext}</b><br><br>color=green<br>type=box<br>frame=3<br>x=%{x}<br>y=%{y}<br>size=%{marker.size}<extra></extra>",
           "hovertext": [
            "green | box"
           ],
           "ids": [
            3
           ],
           "legendgroup": "green, box",
           "marker": {
            "color": "#ab63fa",
            "size": [
             10
            ],
            "sizemode": "area",
            "sizeref": 0.025,
            "symbol": "diamond"
           },
           "mode": "markers",
           "name": "green, box",
           "orientation": "v",
           "showlegend": true,
           "type": "scatter",
           "x": [
            0.41000000000000003
           ],
           "xaxis": "x",
           "y": [
            0.15000000000000002
           ],
           "yaxis": "y"
          },
          {
           "hovertemplate": "<b>%{hovertext}</b><br><br>color=orange<br>type=target<br>frame=3<br>x=%{x}<br>y=%{y}<br>size=%{marker.size}<extra></extra>",
           "hovertext": [
            "orange | target"
           ],
           "ids": [
            16
           ],
           "legendgroup": "orange, target",
           "marker": {
            "color": "#FFA15A",
            "size": [
             10
            ],
            "sizemode": "area",
            "sizeref": 0.025,
            "symbol": "circle"
           },
           "mode": "markers",
           "name": "orange, target",
           "orientation": "v",
           "showlegend": true,
           "type": "scatter",
           "x": [
            1.2
           ],
           "xaxis": "x",
           "y": [
            0.65
           ],
           "yaxis": "y"
          },
          {
           "hovertemplate": "<b>%{hovertext}</b><br><br>color=orange<br>type=box<br>frame=3<br>x=%{x}<br>y=%{y}<br>size=%{marker.size}<extra></extra>",
           "hovertext": [
            "orange | box"
           ],
           "ids": [
            10
           ],
           "legendgroup": "orange, box",
           "marker": {
            "color": "#FFA15A",
            "size": [
             10
            ],
            "sizemode": "area",
            "sizeref": 0.025,
            "symbol": "diamond"
           },
           "mode": "markers",
           "name": "orange, box",
           "orientation": "v",
           "showlegend": true,
           "type": "scatter",
           "x": [
            0.8
           ],
           "xaxis": "x",
           "y": [
            1.15
           ],
           "yaxis": "y"
          }
         ],
         "name": "3"
        },
        {
         "data": [
          {
           "hovertemplate": "<b>%{hovertext}</b><br><br>color=blue<br>type=target<br>frame=4<br>x=%{x}<br>y=%{y}<br>size=%{marker.size}<extra></extra>",
           "hovertext": [
            "blue | target",
            "blue | target",
            "blue | target"
           ],
           "ids": [
            1,
            11,
            17
           ],
           "legendgroup": "blue, target",
           "marker": {
            "color": "#636efa",
            "size": [
             10,
             10,
             10
            ],
            "sizemode": "area",
            "sizeref": 0.025,
            "symbol": "circle"
           },
           "mode": "markers",
           "name": "blue, target",
           "orientation": "v",
           "showlegend": true,
           "type": "scatter",
           "x": [
            0.47,
            1.2,
            1.5
           ],
           "xaxis": "x",
           "y": [
            0.57,
            0.85,
            1.85
           ],
           "yaxis": "y"
          },
          {
           "hovertemplate": "<b>%{hovertext}</b><br><br>color=blue<br>type=box<br>frame=4<br>x=%{x}<br>y=%{y}<br>size=%{marker.size}<extra></extra>",
           "hovertext": [
            "blue | box",
            "blue | box",
            "blue | box"
           ],
           "ids": [
            0,
            6,
            18
           ],
           "legendgroup": "blue, box",
           "marker": {
            "color": "#636efa",
            "size": [
             10,
             10,
             10
            ],
            "sizemode": "area",
            "sizeref": 0.025,
            "symbol": "diamond"
           },
           "mode": "markers",
           "name": "blue, box",
           "orientation": "v",
           "showlegend": true,
           "type": "scatter",
           "x": [
            0.47,
            0.2,
            1.4700000000000002
           ],
           "xaxis": "x",
           "y": [
            0.43000000000000005,
            1.15,
            1.15
           ],
           "yaxis": "y"
          },
          {
           "hovertemplate": "<b>%{hovertext}</b><br><br>color=red<br>type=target<br>frame=4<br>x=%{x}<br>y=%{y}<br>size=%{marker.size}<extra></extra>",
           "hovertext": [
            "red | target",
            "red | target"
           ],
           "ids": [
            2,
            12
           ],
           "legendgroup": "red, target",
           "marker": {
            "color": "#EF553B",
            "size": [
             10,
             10
            ],
            "sizemode": "area",
            "sizeref": 0.025,
            "symbol": "circle"
           },
           "mode": "markers",
           "name": "red, target",
           "orientation": "v",
           "showlegend": true,
           "type": "scatter",
           "x": [
            0.37999999999999995,
            1.35
           ],
           "xaxis": "x",
           "y": [
            0.85,
            0.85
           ],
           "yaxis": "y"
          },
          {
           "hovertemplate": "<b>%{hovertext}</b><br><br>color=red<br>type=box<br>frame=4<br>x=%{x}<br>y=%{y}<br>size=%{marker.size}<extra></extra>",
           "hovertext": [
            "red | box",
            "red | box"
           ],
           "ids": [
            7,
            19
           ],
           "legendgroup": "red, box",
           "marker": {
            "color": "#EF553B",
            "size": [
             10,
             10
            ],
            "sizemode": "area",
            "sizeref": 0.025,
            "symbol": "diamond"
           },
           "mode": "markers",
           "name": "red, box",
           "orientation": "v",
           "showlegend": true,
           "type": "scatter",
           "x": [
            0.35,
            1.5
           ],
           "xaxis": "x",
           "y": [
            1.15,
            0.35
           ],
           "yaxis": "y"
          },
          {
           "hovertemplate": "<b>%{hovertext}</b><br><br>color=purple<br>type=target<br>frame=4<br>x=%{x}<br>y=%{y}<br>size=%{marker.size}<extra></extra>",
           "hovertext": [
            "purple | target",
            "purple | target",
            "purple | target"
           ],
           "ids": [
            4,
            14,
            15
           ],
           "legendgroup": "purple, target",
           "marker": {
            "color": "#00cc96",
            "size": [
             10,
             10,
             10
            ],
            "sizemode": "area",
            "sizeref": 0.025,
            "symbol": "circle"
           },
           "mode": "markers",
           "name": "purple, target",
           "orientation": "v",
           "showlegend": true,
           "type": "scatter",
           "x": [
            0.53,
            1.65,
            1.8
           ],
           "xaxis": "x",
           "y": [
            0.85,
            0.85,
            0.85
           ],
           "yaxis": "y"
          },
          {
           "hovertemplate": "<b>%{hovertext}</b><br><br>color=purple<br>type=box<br>frame=4<br>x=%{x}<br>y=%{y}<br>size=%{marker.size}<extra></extra>",
           "hovertext": [
            "purple | box",
            "purple | box",
            "purple | box"
           ],
           "ids": [
            5,
            8,
            9
           ],
           "legendgroup": "purple, box",
           "marker": {
            "color": "#00cc96",
            "size": [
             10,
             10,
             10
            ],
            "sizemode": "area",
            "sizeref": 0.025,
            "symbol": "diamond"
           },
           "mode": "markers",
           "name": "purple, box",
           "orientation": "v",
           "showlegend": true,
           "type": "scatter",
           "x": [
            0.53,
            0.5,
            0.65
           ],
           "xaxis": "x",
           "y": [
            0.15000000000000002,
            1.15,
            1.15
           ],
           "yaxis": "y"
          },
          {
           "hovertemplate": "<b>%{hovertext}</b><br><br>color=green<br>type=target<br>frame=4<br>x=%{x}<br>y=%{y}<br>size=%{marker.size}<extra></extra>",
           "hovertext": [
            "green | target"
           ],
           "ids": [
            13
           ],
           "legendgroup": "green, target",
           "marker": {
            "color": "#ab63fa",
            "size": [
             10
            ],
            "sizemode": "area",
            "sizeref": 0.025,
            "symbol": "circle"
           },
           "mode": "markers",
           "name": "green, target",
           "orientation": "v",
           "showlegend": true,
           "type": "scatter",
           "x": [
            1.5
           ],
           "xaxis": "x",
           "y": [
            0.85
           ],
           "yaxis": "y"
          },
          {
           "hovertemplate": "<b>%{hovertext}</b><br><br>color=green<br>type=box<br>frame=4<br>x=%{x}<br>y=%{y}<br>size=%{marker.size}<extra></extra>",
           "hovertext": [
            "green | box"
           ],
           "ids": [
            3
           ],
           "legendgroup": "green, box",
           "marker": {
            "color": "#ab63fa",
            "size": [
             10
            ],
            "sizemode": "area",
            "sizeref": 0.025,
            "symbol": "diamond"
           },
           "mode": "markers",
           "name": "green, box",
           "orientation": "v",
           "showlegend": true,
           "type": "scatter",
           "x": [
            0.37999999999999995
           ],
           "xaxis": "x",
           "y": [
            0.15000000000000002
           ],
           "yaxis": "y"
          },
          {
           "hovertemplate": "<b>%{hovertext}</b><br><br>color=orange<br>type=target<br>frame=4<br>x=%{x}<br>y=%{y}<br>size=%{marker.size}<extra></extra>",
           "hovertext": [
            "orange | target"
           ],
           "ids": [
            16
           ],
           "legendgroup": "orange, target",
           "marker": {
            "color": "#FFA15A",
            "size": [
             10
            ],
            "sizemode": "area",
            "sizeref": 0.025,
            "symbol": "circle"
           },
           "mode": "markers",
           "name": "orange, target",
           "orientation": "v",
           "showlegend": true,
           "type": "scatter",
           "x": [
            1.2
           ],
           "xaxis": "x",
           "y": [
            0.65
           ],
           "yaxis": "y"
          },
          {
           "hovertemplate": "<b>%{hovertext}</b><br><br>color=orange<br>type=box<br>frame=4<br>x=%{x}<br>y=%{y}<br>size=%{marker.size}<extra></extra>",
           "hovertext": [
            "orange | box"
           ],
           "ids": [
            10
           ],
           "legendgroup": "orange, box",
           "marker": {
            "color": "#FFA15A",
            "size": [
             10
            ],
            "sizemode": "area",
            "sizeref": 0.025,
            "symbol": "diamond"
           },
           "mode": "markers",
           "name": "orange, box",
           "orientation": "v",
           "showlegend": true,
           "type": "scatter",
           "x": [
            0.8
           ],
           "xaxis": "x",
           "y": [
            1.15
           ],
           "yaxis": "y"
          }
         ],
         "name": "4"
        },
        {
         "data": [
          {
           "hovertemplate": "<b>%{hovertext}</b><br><br>color=blue<br>type=target<br>frame=5<br>x=%{x}<br>y=%{y}<br>size=%{marker.size}<extra></extra>",
           "hovertext": [
            "blue | target",
            "blue | target",
            "blue | target"
           ],
           "ids": [
            1,
            11,
            17
           ],
           "legendgroup": "blue, target",
           "marker": {
            "color": "#636efa",
            "size": [
             10,
             10,
             10
            ],
            "sizemode": "area",
            "sizeref": 0.025,
            "symbol": "circle"
           },
           "mode": "markers",
           "name": "blue, target",
           "orientation": "v",
           "showlegend": true,
           "type": "scatter",
           "x": [
            0.5,
            1.2,
            1.5
           ],
           "xaxis": "x",
           "y": [
            0.5,
            0.85,
            1.85
           ],
           "yaxis": "y"
          },
          {
           "hovertemplate": "<b>%{hovertext}</b><br><br>color=blue<br>type=box<br>frame=5<br>x=%{x}<br>y=%{y}<br>size=%{marker.size}<extra></extra>",
           "hovertext": [
            "blue | box",
            "blue | box",
            "blue | box"
           ],
           "ids": [
            0,
            6,
            18
           ],
           "legendgroup": "blue, box",
           "marker": {
            "color": "#636efa",
            "size": [
             10,
             10,
             10
            ],
            "sizemode": "area",
            "sizeref": 0.025,
            "symbol": "diamond"
           },
           "mode": "markers",
           "name": "blue, box",
           "orientation": "v",
           "showlegend": true,
           "type": "scatter",
           "x": [
            0.5,
            0.2,
            1.5
           ],
           "xaxis": "x",
           "y": [
            0.5,
            1.15,
            1.15
           ],
           "yaxis": "y"
          },
          {
           "hovertemplate": "<b>%{hovertext}</b><br><br>color=red<br>type=target<br>frame=5<br>x=%{x}<br>y=%{y}<br>size=%{marker.size}<extra></extra>",
           "hovertext": [
            "red | target",
            "red | target"
           ],
           "ids": [
            2,
            12
           ],
           "legendgroup": "red, target",
           "marker": {
            "color": "#EF553B",
            "size": [
             10,
             10
            ],
            "sizemode": "area",
            "sizeref": 0.025,
            "symbol": "circle"
           },
           "mode": "markers",
           "name": "red, target",
           "orientation": "v",
           "showlegend": true,
           "type": "scatter",
           "x": [
            0.35,
            1.35
           ],
           "xaxis": "x",
           "y": [
            0.85,
            0.85
           ],
           "yaxis": "y"
          },
          {
           "hovertemplate": "<b>%{hovertext}</b><br><br>color=red<br>type=box<br>frame=5<br>x=%{x}<br>y=%{y}<br>size=%{marker.size}<extra></extra>",
           "hovertext": [
            "red | box",
            "red | box"
           ],
           "ids": [
            7,
            19
           ],
           "legendgroup": "red, box",
           "marker": {
            "color": "#EF553B",
            "size": [
             10,
             10
            ],
            "sizemode": "area",
            "sizeref": 0.025,
            "symbol": "diamond"
           },
           "mode": "markers",
           "name": "red, box",
           "orientation": "v",
           "showlegend": true,
           "type": "scatter",
           "x": [
            0.35,
            1.5
           ],
           "xaxis": "x",
           "y": [
            1.15,
            0.15000000000000002
           ],
           "yaxis": "y"
          },
          {
           "hovertemplate": "<b>%{hovertext}</b><br><br>color=purple<br>type=target<br>frame=5<br>x=%{x}<br>y=%{y}<br>size=%{marker.size}<extra></extra>",
           "hovertext": [
            "purple | target",
            "purple | target",
            "purple | target"
           ],
           "ids": [
            4,
            14,
            15
           ],
           "legendgroup": "purple, target",
           "marker": {
            "color": "#00cc96",
            "size": [
             10,
             10,
             10
            ],
            "sizemode": "area",
            "sizeref": 0.025,
            "symbol": "circle"
           },
           "mode": "markers",
           "name": "purple, target",
           "orientation": "v",
           "showlegend": true,
           "type": "scatter",
           "x": [
            0.5,
            1.65,
            1.8
           ],
           "xaxis": "x",
           "y": [
            0.85,
            0.85,
            0.85
           ],
           "yaxis": "y"
          },
          {
           "hovertemplate": "<b>%{hovertext}</b><br><br>color=purple<br>type=box<br>frame=5<br>x=%{x}<br>y=%{y}<br>size=%{marker.size}<extra></extra>",
           "hovertext": [
            "purple | box",
            "purple | box",
            "purple | box"
           ],
           "ids": [
            5,
            8,
            9
           ],
           "legendgroup": "purple, box",
           "marker": {
            "color": "#00cc96",
            "size": [
             10,
             10,
             10
            ],
            "sizemode": "area",
            "sizeref": 0.025,
            "symbol": "diamond"
           },
           "mode": "markers",
           "name": "purple, box",
           "orientation": "v",
           "showlegend": true,
           "type": "scatter",
           "x": [
            0.5,
            0.5,
            0.65
           ],
           "xaxis": "x",
           "y": [
            0.15000000000000002,
            1.15,
            1.15
           ],
           "yaxis": "y"
          },
          {
           "hovertemplate": "<b>%{hovertext}</b><br><br>color=green<br>type=target<br>frame=5<br>x=%{x}<br>y=%{y}<br>size=%{marker.size}<extra></extra>",
           "hovertext": [
            "green | target"
           ],
           "ids": [
            13
           ],
           "legendgroup": "green, target",
           "marker": {
            "color": "#ab63fa",
            "size": [
             10
            ],
            "sizemode": "area",
            "sizeref": 0.025,
            "symbol": "circle"
           },
           "mode": "markers",
           "name": "green, target",
           "orientation": "v",
           "showlegend": true,
           "type": "scatter",
           "x": [
            1.5
           ],
           "xaxis": "x",
           "y": [
            0.85
           ],
           "yaxis": "y"
          },
          {
           "hovertemplate": "<b>%{hovertext}</b><br><br>color=green<br>type=box<br>frame=5<br>x=%{x}<br>y=%{y}<br>size=%{marker.size}<extra></extra>",
           "hovertext": [
            "green | box"
           ],
           "ids": [
            3
           ],
           "legendgroup": "green, box",
           "marker": {
            "color": "#ab63fa",
            "size": [
             10
            ],
            "sizemode": "area",
            "sizeref": 0.025,
            "symbol": "diamond"
           },
           "mode": "markers",
           "name": "green, box",
           "orientation": "v",
           "showlegend": true,
           "type": "scatter",
           "x": [
            0.35
           ],
           "xaxis": "x",
           "y": [
            0.15000000000000002
           ],
           "yaxis": "y"
          },
          {
           "hovertemplate": "<b>%{hovertext}</b><br><br>color=orange<br>type=target<br>frame=5<br>x=%{x}<br>y=%{y}<br>size=%{marker.size}<extra></extra>",
           "hovertext": [
            "orange | target"
           ],
           "ids": [
            16
           ],
           "legendgroup": "orange, target",
           "marker": {
            "color": "#FFA15A",
            "size": [
             10
            ],
            "sizemode": "area",
            "sizeref": 0.025,
            "symbol": "circle"
           },
           "mode": "markers",
           "name": "orange, target",
           "orientation": "v",
           "showlegend": true,
           "type": "scatter",
           "x": [
            1.2
           ],
           "xaxis": "x",
           "y": [
            0.65
           ],
           "yaxis": "y"
          },
          {
           "hovertemplate": "<b>%{hovertext}</b><br><br>color=orange<br>type=box<br>frame=5<br>x=%{x}<br>y=%{y}<br>size=%{marker.size}<extra></extra>",
           "hovertext": [
            "orange | box"
           ],
           "ids": [
            10
           ],
           "legendgroup": "orange, box",
           "marker": {
            "color": "#FFA15A",
            "size": [
             10
            ],
            "sizemode": "area",
            "sizeref": 0.025,
            "symbol": "diamond"
           },
           "mode": "markers",
           "name": "orange, box",
           "orientation": "v",
           "showlegend": true,
           "type": "scatter",
           "x": [
            0.8
           ],
           "xaxis": "x",
           "y": [
            1.15
           ],
           "yaxis": "y"
          }
         ],
         "name": "5"
        }
       ],
       "layout": {
        "height": 600,
        "images": [
         {
          "layer": "above",
          "sizex": 0.3,
          "sizey": 0.3,
          "source": "data:image/png;base64,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",
          "x": 0.5,
          "xanchor": "center",
          "xref": "x",
          "y": 0.5,
          "yanchor": "middle",
          "yref": "y"
         },
         {
          "layer": "above",
          "sizex": 0.3,
          "sizey": 0.3,
          "source": "data:image/png;base64,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",
          "x": 0.5,
          "xanchor": "center",
          "xref": "x",
          "y": 1.5,
          "yanchor": "middle",
          "yref": "y"
         },
         {
          "layer": "above",
          "sizex": 0.3,
          "sizey": 0.3,
          "source": "data:image/png;base64,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",
          "x": 1.5,
          "xanchor": "center",
          "xref": "x",
          "y": 0.5,
          "yanchor": "middle",
          "yref": "y"
         },
         {
          "layer": "above",
          "sizex": 0.3,
          "sizey": 0.3,
          "source": "data:image/png;base64,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",
          "x": 1.5,
          "xanchor": "center",
          "xref": "x",
          "y": 1.5,
          "yanchor": "middle",
          "yref": "y"
         }
        ],
        "legend": {
         "itemsizing": "constant",
         "title": {
          "text": "color, type"
         },
         "tracegroupgap": 0
        },
        "margin": {
         "t": 60
        },
        "plot_bgcolor": "white",
        "shapes": [
         {
          "line": {
           "color": "black",
           "width": 2
          },
          "type": "rect",
          "x0": 0,
          "x1": 1,
          "y0": 0,
          "y1": 1
         },
         {
          "line": {
           "color": "black",
           "width": 2
          },
          "type": "rect",
          "x0": 0,
          "x1": 1,
          "y0": 1,
          "y1": 2
         },
         {
          "line": {
           "color": "black",
           "width": 2
          },
          "type": "rect",
          "x0": 1,
          "x1": 2,
          "y0": 0,
          "y1": 1
         },
         {
          "line": {
           "color": "black",
           "width": 2
          },
          "type": "rect",
          "x0": 1,
          "x1": 2,
          "y0": 1,
          "y1": 2
         }
        ],
        "showlegend": false,
        "sliders": [
         {
          "active": 5,
          "currentvalue": {
           "prefix": "frame="
          },
          "len": 0.9,
          "pad": {
           "b": 10,
           "t": 60
          },
          "steps": [
           {
            "args": [
             [
              "0"
             ],
             {
              "frame": {
               "duration": 0,
               "redraw": false
              },
              "fromcurrent": true,
              "mode": "immediate",
              "transition": {
               "duration": 0,
               "easing": "linear"
              }
             }
            ],
            "label": "0",
            "method": "animate"
           },
           {
            "args": [
             [
              "1"
             ],
             {
              "frame": {
               "duration": 0,
               "redraw": false
              },
              "fromcurrent": true,
              "mode": "immediate",
              "transition": {
               "duration": 0,
               "easing": "linear"
              }
             }
            ],
            "label": "1",
            "method": "animate"
           },
           {
            "args": [
             [
              "2"
             ],
             {
              "frame": {
               "duration": 0,
               "redraw": false
              },
              "fromcurrent": true,
              "mode": "immediate",
              "transition": {
               "duration": 0,
               "easing": "linear"
              }
             }
            ],
            "label": "2",
            "method": "animate"
           },
           {
            "args": [
             [
              "3"
             ],
             {
              "frame": {
               "duration": 0,
               "redraw": false
              },
              "fromcurrent": true,
              "mode": "immediate",
              "transition": {
               "duration": 0,
               "easing": "linear"
              }
             }
            ],
            "label": "3",
            "method": "animate"
           },
           {
            "args": [
             [
              "4"
             ],
             {
              "frame": {
               "duration": 0,
               "redraw": false
              },
              "fromcurrent": true,
              "mode": "immediate",
              "transition": {
               "duration": 0,
               "easing": "linear"
              }
             }
            ],
            "label": "4",
            "method": "animate"
           },
           {
            "args": [
             [
              "5"
             ],
             {
              "frame": {
               "duration": 0,
               "redraw": false
              },
              "fromcurrent": true,
              "mode": "immediate",
              "transition": {
               "duration": 0,
               "easing": "linear"
              }
             }
            ],
            "label": "5",
            "method": "animate"
           }
          ],
          "x": 0.1,
          "xanchor": "left",
          "y": 0,
          "yanchor": "top"
         }
        ],
        "template": {
         "data": {
          "bar": [
           {
            "error_x": {
             "color": "#2a3f5f"
            },
            "error_y": {
             "color": "#2a3f5f"
            },
            "marker": {
             "line": {
              "color": "#E5ECF6",
              "width": 0.5
             },
             "pattern": {
              "fillmode": "overlay",
              "size": 10,
              "solidity": 0.2
             }
            },
            "type": "bar"
           }
          ],
          "barpolar": [
           {
            "marker": {
             "line": {
              "color": "#E5ECF6",
              "width": 0.5
             },
             "pattern": {
              "fillmode": "overlay",
              "size": 10,
              "solidity": 0.2
             }
            },
            "type": "barpolar"
           }
          ],
          "carpet": [
           {
            "aaxis": {
             "endlinecolor": "#2a3f5f",
             "gridcolor": "white",
             "linecolor": "white",
             "minorgridcolor": "white",
             "startlinecolor": "#2a3f5f"
            },
            "baxis": {
             "endlinecolor": "#2a3f5f",
             "gridcolor": "white",
             "linecolor": "white",
             "minorgridcolor": "white",
             "startlinecolor": "#2a3f5f"
            },
            "type": "carpet"
           }
          ],
          "choropleth": [
           {
            "colorbar": {
             "outlinewidth": 0,
             "ticks": ""
            },
            "type": "choropleth"
           }
          ],
          "contour": [
           {
            "colorbar": {
             "outlinewidth": 0,
             "ticks": ""
            },
            "colorscale": [
             [
              0,
              "#0d0887"
             ],
             [
              0.1111111111111111,
              "#46039f"
             ],
             [
              0.2222222222222222,
              "#7201a8"
             ],
             [
              0.3333333333333333,
              "#9c179e"
             ],
             [
              0.4444444444444444,
              "#bd3786"
             ],
             [
              0.5555555555555556,
              "#d8576b"
             ],
             [
              0.6666666666666666,
              "#ed7953"
             ],
             [
              0.7777777777777778,
              "#fb9f3a"
             ],
             [
              0.8888888888888888,
              "#fdca26"
             ],
             [
              1,
              "#f0f921"
             ]
            ],
            "type": "contour"
           }
          ],
          "contourcarpet": [
           {
            "colorbar": {
             "outlinewidth": 0,
             "ticks": ""
            },
            "type": "contourcarpet"
           }
          ],
          "heatmap": [
           {
            "colorbar": {
             "outlinewidth": 0,
             "ticks": ""
            },
            "colorscale": [
             [
              0,
              "#0d0887"
             ],
             [
              0.1111111111111111,
              "#46039f"
             ],
             [
              0.2222222222222222,
              "#7201a8"
             ],
             [
              0.3333333333333333,
              "#9c179e"
             ],
             [
              0.4444444444444444,
              "#bd3786"
             ],
             [
              0.5555555555555556,
              "#d8576b"
             ],
             [
              0.6666666666666666,
              "#ed7953"
             ],
             [
              0.7777777777777778,
              "#fb9f3a"
             ],
             [
              0.8888888888888888,
              "#fdca26"
             ],
             [
              1,
              "#f0f921"
             ]
            ],
            "type": "heatmap"
           }
          ],
          "heatmapgl": [
           {
            "colorbar": {
             "outlinewidth": 0,
             "ticks": ""
            },
            "colorscale": [
             [
              0,
              "#0d0887"
             ],
             [
              0.1111111111111111,
              "#46039f"
             ],
             [
              0.2222222222222222,
              "#7201a8"
             ],
             [
              0.3333333333333333,
              "#9c179e"
             ],
             [
              0.4444444444444444,
              "#bd3786"
             ],
             [
              0.5555555555555556,
              "#d8576b"
             ],
             [
              0.6666666666666666,
              "#ed7953"
             ],
             [
              0.7777777777777778,
              "#fb9f3a"
             ],
             [
              0.8888888888888888,
              "#fdca26"
             ],
             [
              1,
              "#f0f921"
             ]
            ],
            "type": "heatmapgl"
           }
          ],
          "histogram": [
           {
            "marker": {
             "pattern": {
              "fillmode": "overlay",
              "size": 10,
              "solidity": 0.2
             }
            },
            "type": "histogram"
           }
          ],
          "histogram2d": [
           {
            "colorbar": {
             "outlinewidth": 0,
             "ticks": ""
            },
            "colorscale": [
             [
              0,
              "#0d0887"
             ],
             [
              0.1111111111111111,
              "#46039f"
             ],
             [
              0.2222222222222222,
              "#7201a8"
             ],
             [
              0.3333333333333333,
              "#9c179e"
             ],
             [
              0.4444444444444444,
              "#bd3786"
             ],
             [
              0.5555555555555556,
              "#d8576b"
             ],
             [
              0.6666666666666666,
              "#ed7953"
             ],
             [
              0.7777777777777778,
              "#fb9f3a"
             ],
             [
              0.8888888888888888,
              "#fdca26"
             ],
             [
              1,
              "#f0f921"
             ]
            ],
            "type": "histogram2d"
           }
          ],
          "histogram2dcontour": [
           {
            "colorbar": {
             "outlinewidth": 0,
             "ticks": ""
            },
            "colorscale": [
             [
              0,
              "#0d0887"
             ],
             [
              0.1111111111111111,
              "#46039f"
             ],
             [
              0.2222222222222222,
              "#7201a8"
             ],
             [
              0.3333333333333333,
              "#9c179e"
             ],
             [
              0.4444444444444444,
              "#bd3786"
             ],
             [
              0.5555555555555556,
              "#d8576b"
             ],
             [
              0.6666666666666666,
              "#ed7953"
             ],
             [
              0.7777777777777778,
              "#fb9f3a"
             ],
             [
              0.8888888888888888,
              "#fdca26"
             ],
             [
              1,
              "#f0f921"
             ]
            ],
            "type": "histogram2dcontour"
           }
          ],
          "mesh3d": [
           {
            "colorbar": {
             "outlinewidth": 0,
             "ticks": ""
            },
            "type": "mesh3d"
           }
          ],
          "parcoords": [
           {
            "line": {
             "colorbar": {
              "outlinewidth": 0,
              "ticks": ""
             }
            },
            "type": "parcoords"
           }
          ],
          "pie": [
           {
            "automargin": true,
            "type": "pie"
           }
          ],
          "scatter": [
           {
            "fillpattern": {
             "fillmode": "overlay",
             "size": 10,
             "solidity": 0.2
            },
            "type": "scatter"
           }
          ],
          "scatter3d": [
           {
            "line": {
             "colorbar": {
              "outlinewidth": 0,
              "ticks": ""
             }
            },
            "marker": {
             "colorbar": {
              "outlinewidth": 0,
              "ticks": ""
             }
            },
            "type": "scatter3d"
           }
          ],
          "scattercarpet": [
           {
            "marker": {
             "colorbar": {
              "outlinewidth": 0,
              "ticks": ""
             }
            },
            "type": "scattercarpet"
           }
          ],
          "scattergeo": [
           {
            "marker": {
             "colorbar": {
              "outlinewidth": 0,
              "ticks": ""
             }
            },
            "type": "scattergeo"
           }
          ],
          "scattergl": [
           {
            "marker": {
             "colorbar": {
              "outlinewidth": 0,
              "ticks": ""
             }
            },
            "type": "scattergl"
           }
          ],
          "scattermapbox": [
           {
            "marker": {
             "colorbar": {
              "outlinewidth": 0,
              "ticks": ""
             }
            },
            "type": "scattermapbox"
           }
          ],
          "scatterpolar": [
           {
            "marker": {
             "colorbar": {
              "outlinewidth": 0,
              "ticks": ""
             }
            },
            "type": "scatterpolar"
           }
          ],
          "scatterpolargl": [
           {
            "marker": {
             "colorbar": {
              "outlinewidth": 0,
              "ticks": ""
             }
            },
            "type": "scatterpolargl"
           }
          ],
          "scatterternary": [
           {
            "marker": {
             "colorbar": {
              "outlinewidth": 0,
              "ticks": ""
             }
            },
            "type": "scatterternary"
           }
          ],
          "surface": [
           {
            "colorbar": {
             "outlinewidth": 0,
             "ticks": ""
            },
            "colorscale": [
             [
              0,
              "#0d0887"
             ],
             [
              0.1111111111111111,
              "#46039f"
             ],
             [
              0.2222222222222222,
              "#7201a8"
             ],
             [
              0.3333333333333333,
              "#9c179e"
             ],
             [
              0.4444444444444444,
              "#bd3786"
             ],
             [
              0.5555555555555556,
              "#d8576b"
             ],
             [
              0.6666666666666666,
              "#ed7953"
             ],
             [
              0.7777777777777778,
              "#fb9f3a"
             ],
             [
              0.8888888888888888,
              "#fdca26"
             ],
             [
              1,
              "#f0f921"
             ]
            ],
            "type": "surface"
           }
          ],
          "table": [
           {
            "cells": {
             "fill": {
              "color": "#EBF0F8"
             },
             "line": {
              "color": "white"
             }
            },
            "header": {
             "fill": {
              "color": "#C8D4E3"
             },
             "line": {
              "color": "white"
             }
            },
            "type": "table"
           }
          ]
         },
         "layout": {
          "annotationdefaults": {
           "arrowcolor": "#2a3f5f",
           "arrowhead": 0,
           "arrowwidth": 1
          },
          "autotypenumbers": "strict",
          "coloraxis": {
           "colorbar": {
            "outlinewidth": 0,
            "ticks": ""
           }
          },
          "colorscale": {
           "diverging": [
            [
             0,
             "#8e0152"
            ],
            [
             0.1,
             "#c51b7d"
            ],
            [
             0.2,
             "#de77ae"
            ],
            [
             0.3,
             "#f1b6da"
            ],
            [
             0.4,
             "#fde0ef"
            ],
            [
             0.5,
             "#f7f7f7"
            ],
            [
             0.6,
             "#e6f5d0"
            ],
            [
             0.7,
             "#b8e186"
            ],
            [
             0.8,
             "#7fbc41"
            ],
            [
             0.9,
             "#4d9221"
            ],
            [
             1,
             "#276419"
            ]
           ],
           "sequential": [
            [
             0,
             "#0d0887"
            ],
            [
             0.1111111111111111,
             "#46039f"
            ],
            [
             0.2222222222222222,
             "#7201a8"
            ],
            [
             0.3333333333333333,
             "#9c179e"
            ],
            [
             0.4444444444444444,
             "#bd3786"
            ],
            [
             0.5555555555555556,
             "#d8576b"
            ],
            [
             0.6666666666666666,
             "#ed7953"
            ],
            [
             0.7777777777777778,
             "#fb9f3a"
            ],
            [
             0.8888888888888888,
             "#fdca26"
            ],
            [
             1,
             "#f0f921"
            ]
           ],
           "sequentialminus": [
            [
             0,
             "#0d0887"
            ],
            [
             0.1111111111111111,
             "#46039f"
            ],
            [
             0.2222222222222222,
             "#7201a8"
            ],
            [
             0.3333333333333333,
             "#9c179e"
            ],
            [
             0.4444444444444444,
             "#bd3786"
            ],
            [
             0.5555555555555556,
             "#d8576b"
            ],
            [
             0.6666666666666666,
             "#ed7953"
            ],
            [
             0.7777777777777778,
             "#fb9f3a"
            ],
            [
             0.8888888888888888,
             "#fdca26"
            ],
            [
             1,
             "#f0f921"
            ]
           ]
          },
          "colorway": [
           "#636efa",
           "#EF553B",
           "#00cc96",
           "#ab63fa",
           "#FFA15A",
           "#19d3f3",
           "#FF6692",
           "#B6E880",
           "#FF97FF",
           "#FECB52"
          ],
          "font": {
           "color": "#2a3f5f"
          },
          "geo": {
           "bgcolor": "white",
           "lakecolor": "white",
           "landcolor": "#E5ECF6",
           "showlakes": true,
           "showland": true,
           "subunitcolor": "white"
          },
          "hoverlabel": {
           "align": "left"
          },
          "hovermode": "closest",
          "mapbox": {
           "style": "light"
          },
          "paper_bgcolor": "white",
          "plot_bgcolor": "#E5ECF6",
          "polar": {
           "angularaxis": {
            "gridcolor": "white",
            "linecolor": "white",
            "ticks": ""
           },
           "bgcolor": "#E5ECF6",
           "radialaxis": {
            "gridcolor": "white",
            "linecolor": "white",
            "ticks": ""
           }
          },
          "scene": {
           "xaxis": {
            "backgroundcolor": "#E5ECF6",
            "gridcolor": "white",
            "gridwidth": 2,
            "linecolor": "white",
            "showbackground": true,
            "ticks": "",
            "zerolinecolor": "white"
           },
           "yaxis": {
            "backgroundcolor": "#E5ECF6",
            "gridcolor": "white",
            "gridwidth": 2,
            "linecolor": "white",
            "showbackground": true,
            "ticks": "",
            "zerolinecolor": "white"
           },
           "zaxis": {
            "backgroundcolor": "#E5ECF6",
            "gridcolor": "white",
            "gridwidth": 2,
            "linecolor": "white",
            "showbackground": true,
            "ticks": "",
            "zerolinecolor": "white"
           }
          },
          "shapedefaults": {
           "line": {
            "color": "#2a3f5f"
           }
          },
          "ternary": {
           "aaxis": {
            "gridcolor": "white",
            "linecolor": "white",
            "ticks": ""
           },
           "baxis": {
            "gridcolor": "white",
            "linecolor": "white",
            "ticks": ""
           },
           "bgcolor": "#E5ECF6",
           "caxis": {
            "gridcolor": "white",
            "linecolor": "white",
            "ticks": ""
           }
          },
          "title": {
           "x": 0.05
          },
          "xaxis": {
           "automargin": true,
           "gridcolor": "white",
           "linecolor": "white",
           "ticks": "",
           "title": {
            "standoff": 15
           },
           "zerolinecolor": "white",
           "zerolinewidth": 2
          },
          "yaxis": {
           "automargin": true,
           "gridcolor": "white",
           "linecolor": "white",
           "ticks": "",
           "title": {
            "standoff": 15
           },
           "zerolinecolor": "white",
           "zerolinewidth": 2
          }
         }
        },
        "title": {
         "font": {
          "size": 18
         },
         "text": "Moving Box to The Right Target",
         "x": 0.5,
         "xanchor": "center",
         "yanchor": "top"
        },
        "updatemenus": [
         {
          "active": 0,
          "buttons": [
           {
            "args": [
             null,
             {
              "frame": {
               "duration": 500,
               "redraw": false
              },
              "fromcurrent": true,
              "mode": "immediate",
              "transition": {
               "duration": 500,
               "easing": "linear"
              }
             }
            ],
            "label": "&#9654;",
            "method": "animate"
           },
           {
            "args": [
             [
              null
             ],
             {
              "frame": {
               "duration": 0,
               "redraw": false
              },
              "fromcurrent": true,
              "mode": "immediate",
              "transition": {
               "duration": 0,
               "easing": "linear"
              }
             }
            ],
            "label": "&#9724;",
            "method": "animate"
           }
          ],
          "direction": "left",
          "pad": {
           "r": 10,
           "t": 70
          },
          "showactive": false,
          "type": "buttons",
          "x": 0.1,
          "xanchor": "right",
          "y": 0,
          "yanchor": "top"
         }
        ],
        "width": 600,
        "xaxis": {
         "anchor": "y",
         "domain": [
          0,
          1
         ],
         "range": [
          0,
          2
         ],
         "showgrid": false,
         "title": {
          "text": "X Coordinate"
         },
         "type": "linear",
         "zeroline": false
        },
        "yaxis": {
         "anchor": "x",
         "domain": [
          0,
          1
         ],
         "range": [
          0,
          2
         ],
         "showgrid": false,
         "title": {
          "text": "Y Coordinate"
         },
         "type": "linear",
         "zeroline": false
        }
       }
      },
      "image/png": "[encoded data removed]"
     },
     "metadata": {},
     "output_type": "display_data"
    }
   ],
   "source": [
    "render_animate(box_map, action_list[0], num_frames = 5)"
   ]
  },
  {
   "cell_type": "code",
   "execution_count": null,
   "id": "dc8fe3c5-670c-46b6-bc55-cd9f693f32e1",
   "metadata": {},
   "outputs": [],
   "source": []
  },
  {
   "cell_type": "code",
   "execution_count": null,
   "id": "93b0ba43-2b31-4e5b-b87b-f714ada4f0df",
   "metadata": {},
   "outputs": [],
   "source": []
  }
 ],
 "metadata": {
  "kernelspec": {
   "display_name": "Python 3 (ipykernel)",
   "language": "python",
   "name": "python3"
  },
  "language_info": {
   "codemirror_mode": {
    "name": "ipython",
    "version": 3
   },
   "file_extension": ".py",
   "mimetype": "text/x-python",
   "name": "python",
   "nbconvert_exporter": "python",
   "pygments_lexer": "ipython3",
   "version": "3.10.15"
  }
 },
 "nbformat": 4,
 "nbformat_minor": 5
}
