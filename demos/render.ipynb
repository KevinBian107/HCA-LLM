{
 "cells": [
  {
   "cell_type": "markdown",
   "id": "605cf9e7",
   "metadata": {},
   "source": [
    "# Rendering and Animation"
   ]
  },
  {
   "cell_type": "code",
   "execution_count": 1,
   "id": "cece67a2-b781-4239-ba19-fc536793a06d",
   "metadata": {},
   "outputs": [],
   "source": [
    "%load_ext autoreload\n",
    "%autoreload 2\n",
    "\n",
    "from pathlib import Path\n",
    "import sys\n",
    "\n",
    "current_folder = Path.cwd()\n",
    "parent_folder = current_folder.parent\n",
    "sys.path.insert(0, str(parent_folder))\n",
    "\n",
    "from rendering.render_state import *\n",
    "from rendering.animations import *"
   ]
  },
  {
   "cell_type": "markdown",
   "id": "93ee1518",
   "metadata": {},
   "source": [
    "# Rendering of States"
   ]
  },
  {
   "cell_type": "code",
   "execution_count": 2,
   "id": "27fc83e0-5de1-42a7-aef6-2fa429528789",
   "metadata": {
    "scrolled": true
   },
   "outputs": [],
   "source": [
    "pg_state_0 =  {\"0.5_0.5\": [\"box_blue\", \"target_blue\", \"target_red\", \"box_green\", \"target_purple\", \"box_purple\"], \n",
    "               \"0.5_1.5\": [\"box_blue\", \"box_red\", \"box_purple\", \"box_purple\", \"box_orange\"], \n",
    "               \"1.5_0.5\": [\"target_blue\", \"target_red\", \"target_green\", \"target_purple\", \"target_purple\", \"target_orange\"], \n",
    "               \"1.5_1.5\": [\"target_blue\", \"box_blue\", \"box_red\"]}\n",
    "\n",
    "action_0 = {'Agent[0.5, 0.5]': 'move(box_blue, target_blue)', \n",
    "            'Agent[1.5, 1.5]': 'move(box_red, square[1.5, 0.5])'}\n",
    "\n",
    "action_1 = {'Agent[1.5, 1.5]': 'move(box_blue, target_blue)', \n",
    "            'Agent[1.5, 0.5]': 'move(box_red, target_red)'}\n",
    "\n",
    "\n",
    "action = transform_action(action_0)\n",
    "action_list_raw = [action_0, action_1]\n",
    "box_map, action_list = trans_data(pg_state_0, action_list_raw)"
   ]
  },
  {
   "cell_type": "code",
   "execution_count": null,
   "id": "63d73d79",
   "metadata": {},
   "outputs": [],
   "source": [
    "state = {\"0.5_0.5\": [\"target_blue\", \"box_blue\", \"target_orange\"], \n",
    "     \"0.5_1.5\": [\"box_orange\", \"target_green\", \"target_blue\"], \n",
    "     \"1.5_0.5\": [\"box_green\", \"target_green\", \"box_green\"], \n",
    "     \"1.5_1.5\": [\"box_blue\"]}\n",
    "\n",
    "render_state, a_lst = trans_data(state, []) \n",
    "\n",
    "render_graph(render_state)"
   ]
  },
  {
   "cell_type": "code",
   "execution_count": null,
   "id": "8b2efb51",
   "metadata": {},
   "outputs": [],
   "source": [
    "action_0 = {'Agent[0.5, 0.5]': 'move(box_blue, target_blue)', \n",
    "            'Agent[0.5, 1.5]': 'move(box_orange, square[0.5, 0.5])', \n",
    "            'Agent[1.5, 0.5]': 'move(box_green, target_green)', \n",
    "            'Agent[1.5, 1.5]': 'move(box_blue, square[0.5, 1.5])'\n",
    "            }\n",
    "\n",
    "# render_state_1, a_lst = trans_data(state, [transform_action(action_0)])\n",
    "\n",
    "state = {\"0.5_0.5\": [\"target_orange\", \"box_orange\"], \n",
    "     \"0.5_1.5\": [\"target_green\", \"target_blue\", \"box_blue\"], \n",
    "     \"1.5_0.5\": [\"box_green\"], \n",
    "     \"1.5_1.5\": []}\n",
    "\n",
    "render_state, a_lst = trans_data(state, []) \n",
    "\n",
    "render_graph(render_state)"
   ]
  },
  {
   "cell_type": "markdown",
   "id": "a11f7f26-6065-4b31-b62d-abe2fbc9961a",
   "metadata": {},
   "source": [
    "# Rendering Actions + States"
   ]
  },
  {
   "cell_type": "code",
   "execution_count": null,
   "id": "0a54b06a-bc6d-4c9c-bd69-fde17f86aa1a",
   "metadata": {},
   "outputs": [],
   "source": [
    "render_graph(box_map)"
   ]
  },
  {
   "cell_type": "markdown",
   "id": "4efefa1c",
   "metadata": {},
   "source": [
    "# Rendering Animations"
   ]
  },
  {
   "cell_type": "code",
   "execution_count": null,
   "id": "773d2922",
   "metadata": {},
   "outputs": [],
   "source": [
    "parent_folder = current_folder.parent\n",
    "path = parent_folder / \"demos\" / \"converging_samples\" / \"rplh_efficient_2\" / \"pg_state\"\n",
    "render_maps_as_video(path)"
   ]
  },
  {
   "cell_type": "code",
   "execution_count": null,
   "id": "11c7e05a",
   "metadata": {},
   "outputs": [],
   "source": []
  },
  {
   "cell_type": "code",
   "execution_count": null,
   "id": "ca23a8fd",
   "metadata": {},
   "outputs": [],
   "source": []
  }
 ],
 "metadata": {
  "kernelspec": {
   "display_name": "WICC-L",
   "language": "python",
   "name": "python3"
  },
  "language_info": {
   "codemirror_mode": {
    "name": "ipython",
    "version": 3
   },
   "file_extension": ".py",
   "mimetype": "text/x-python",
   "name": "python",
   "nbconvert_exporter": "python",
   "pygments_lexer": "ipython3",
   "version": "3.10.9"
  }
 },
 "nbformat": 4,
 "nbformat_minor": 5
}
