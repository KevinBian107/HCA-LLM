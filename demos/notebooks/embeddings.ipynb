{
 "cells": [
  {
   "cell_type": "code",
   "execution_count": 1,
   "id": "70a650dc-d941-4e69-8787-fa4ac5902479",
   "metadata": {},
   "outputs": [],
   "source": [
    "import requests\n",
    "import numpy as np\n",
    "\n",
    "sentence1 = \"The cat sat on the mat.\"\n",
    "sentence2 = \"A cat was sitting on the mat.\"\n",
    "\n",
    "# A request to the local Ollama API for getting embeddings\n",
    "def get_embedding(text, url=\"http://localhost:11434/api/embeddings\"):\n",
    "    data = {\n",
    "        \"model\": 'nomic-embed-text', \n",
    "        \"prompt\": text\n",
    "    }\n",
    "    try:\n",
    "        response = requests.post(url=url, json=data)\n",
    "\n",
    "        if response.status_code == 200:\n",
    "            response_emb = np.array(response.json()['embedding'])\n",
    "            return response_emb\n",
    "        else:\n",
    "            print(\"Error:\", response.status_code, response.json())\n",
    "            return None\n",
    "    except Exception as e:\n",
    "        print(f\"API call failed: {e}\")\n",
    "        return None\n",
    "\n",
    "# Get embeddings for the sentences\n",
    "embedding_1 = get_embedding(sentence1)\n",
    "embedding_2 = get_embedding(sentence2)"
   ]
  },
  {
   "cell_type": "code",
   "execution_count": 2,
   "id": "56b7a02e-b725-4b15-9567-1b05a313bdba",
   "metadata": {},
   "outputs": [],
   "source": [
    "def cosine_sim(vec1, vec2):\n",
    "    # Dot product of two vectors\n",
    "    dot_product = sum(a * b for a, b in zip(vec1, vec2))\n",
    "    \n",
    "    # Magnitude of each vector\n",
    "    magnitude_vec1 = sum(a ** 2 for a in vec1) ** 0.5\n",
    "    magnitude_vec2 = sum(b ** 2 for b in vec2) ** 0.5\n",
    "    \n",
    "    # Handle zero\n",
    "    if magnitude_vec1 == 0 or magnitude_vec2 == 0:\n",
    "        return 0.0\n",
    "    \n",
    "    # Cosine similarity\n",
    "    return dot_product / (magnitude_vec1 * magnitude_vec2)\n",
    "\n",
    "# def pearson_correlation(vec1, vec2):\n",
    "#     mean1, mean2 = sum(vec1) / len(vec1), sum(vec2) / len(vec2)\n",
    "#     numerator = sum((a - mean1) * (b - mean2) for a, b in zip(vec1, vec2))\n",
    "#     denominator = (sum((a - mean1) ** 2 for a in vec1) ** 0.5) * (sum((b - mean2) ** 2 for b in vec2) ** 0.5)\n",
    "#     return numerator / denominator if denominator != 0 else 0\n"
   ]
  },
  {
   "cell_type": "code",
   "execution_count": 3,
   "id": "c8d1d374-5127-468d-b985-d454bcef7243",
   "metadata": {},
   "outputs": [
    {
     "data": {
      "text/plain": [
       "0.9777018864480065"
      ]
     },
     "execution_count": 3,
     "metadata": {},
     "output_type": "execute_result"
    }
   ],
   "source": [
    "sentence1 = \"The cat sat on the mat.\"\n",
    "sentence2 = \"A cat was sitting on the mat.\"\n",
    "\n",
    "embedding_1 = get_embedding(sentence1)\n",
    "embedding_2 = get_embedding(sentence2)\n",
    "\n",
    "cosine_sim(embedding_1, embedding_2)"
   ]
  },
  {
   "cell_type": "code",
   "execution_count": null,
   "id": "8d1e7600-1e41-404c-ab4f-59d49d923c1f",
   "metadata": {},
   "outputs": [],
   "source": []
  }
 ],
 "metadata": {
  "kernelspec": {
   "display_name": "Python 3 (ipykernel)",
   "language": "python",
   "name": "python3"
  },
  "language_info": {
   "codemirror_mode": {
    "name": "ipython",
    "version": 3
   },
   "file_extension": ".py",
   "mimetype": "text/x-python",
   "name": "python",
   "nbconvert_exporter": "python",
   "pygments_lexer": "ipython3",
   "version": "3.10.9"
  }
 },
 "nbformat": 4,
 "nbformat_minor": 5
}
