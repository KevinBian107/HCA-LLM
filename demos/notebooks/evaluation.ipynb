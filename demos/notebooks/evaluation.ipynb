{
 "cells": [
  {
   "cell_type": "markdown",
   "metadata": {},
   "source": [
    "***\n",
    "# Evaluation of RPLH\n",
    "***"
   ]
  },
  {
   "cell_type": "code",
   "execution_count": 34,
   "metadata": {},
   "outputs": [
    {
     "name": "stdout",
     "output_type": "stream",
     "text": [
      "The autoreload extension is already loaded. To reload it, use:\n",
      "  %reload_ext autoreload\n",
      "/Users/kevinb/Desktop/dsc190/RPLH\n"
     ]
    }
   ],
   "source": [
    "%load_ext autoreload\n",
    "%autoreload 2\n",
    "\n",
    "from pathlib import Path\n",
    "import sys\n",
    "import pandas as pd \n",
    "\n",
    "current_folder = Path.cwd()\n",
    "parent_folder = current_folder.parent.parent\n",
    "sys.path.insert(0, str(parent_folder))\n",
    "print(parent_folder)\n",
    "\n",
    "from rplh.evaluation.get_data import get_data\n",
    "from rplh.evaluation.embed import *"
   ]
  },
  {
   "cell_type": "markdown",
   "metadata": {},
   "source": [
    "# Importing Data"
   ]
  },
  {
   "cell_type": "code",
   "execution_count": 35,
   "metadata": {},
   "outputs": [
    {
     "name": "stdout",
     "output_type": "stream",
     "text": [
      "LOADING RPLH-SPY-AGENT... \n",
      "\n",
      "trial_6: Not Converged\n",
      "{'0.5_0.5': ['target_red'], '0.5_1.5': ['box_purple'], '0.5_2.5': ['target_blue'], '1.5_0.5': ['target_purple', 'box_orange'], '1.5_1.5': ['box_red', 'target_orange', 'box_blue', 'box_green', 'box_orange'], '1.5_2.5': ['target_orange', 'box_purple'], '2.5_0.5': ['target_purple'], '2.5_1.5': [], '2.5_2.5': ['target_green']}\n",
      "trial_7: Not Converged\n",
      "{'0.5_0.5': [], '0.5_1.5': [], '0.5_2.5': [], '1.5_0.5': [], '1.5_1.5': [], '1.5_2.5': [], '2.5_0.5': ['target_blue'], '2.5_1.5': ['box_blue'], '2.5_2.5': ['target_red', 'box_red']}\n",
      "LOADING RPLH-SPY-STANDARD... \n",
      "\n",
      "trial_5: Not Converged\n",
      "{'0.5_0.5': [], '0.5_1.5': ['box_green'], '0.5_2.5': [], '1.5_0.5': [], '1.5_1.5': [], '1.5_2.5': [], '2.5_0.5': [], '2.5_1.5': ['target_green'], '2.5_2.5': []}\n",
      "trial_9: Not Converged\n",
      "{'0.5_0.5': [], '0.5_1.5': [], '0.5_2.5': [], '1.5_0.5': ['box_red'], '1.5_1.5': [], '1.5_2.5': [], '2.5_0.5': [], '2.5_1.5': [], '2.5_2.5': ['target_red']}\n",
      "trial_10: Not Converged\n",
      "{'0.5_0.5': [], '0.5_1.5': [], '0.5_2.5': ['target_orange'], '1.5_0.5': [], '1.5_1.5': ['box_orange'], '1.5_2.5': [], '2.5_0.5': [], '2.5_1.5': [], '2.5_2.5': []}\n",
      "trial_17: Not Converged\n",
      "{'0.5_0.5': [], '0.5_1.5': ['box_blue'], '0.5_2.5': ['target_blue'], '1.5_0.5': [], '1.5_1.5': [], '1.5_2.5': [], '2.5_0.5': ['target_green', 'box_green'], '2.5_1.5': [], '2.5_2.5': []}\n",
      "trial_19: Not Converged\n",
      "{'0.5_0.5': [], '0.5_1.5': [], '0.5_2.5': [], '1.5_0.5': ['target_orange'], '1.5_1.5': ['box_orange'], '1.5_2.5': [], '2.5_0.5': [], '2.5_1.5': [], '2.5_2.5': []}\n",
      "trial_20: Not Converged\n",
      "{'0.5_0.5': ['target_red'], '0.5_1.5': [], '0.5_2.5': ['box_red'], '1.5_0.5': [], '1.5_1.5': [], '1.5_2.5': [], '2.5_0.5': [], '2.5_1.5': [], '2.5_2.5': []}\n",
      "LOADING RPLH-NoSPY-STANDADRD... \n",
      "\n",
      "trial_3: Not Converged\n",
      "{'0.5_0.5': ['target_purple'], '0.5_1.5': [], '0.5_2.5': [], '1.5_0.5': [], '1.5_1.5': ['box_purple'], '1.5_2.5': [], '2.5_0.5': [], '2.5_1.5': [], '2.5_2.5': []}\n",
      "trial_7: Not Converged\n",
      "{'0.5_0.5': [], '0.5_1.5': ['target_purple'], '0.5_2.5': [], '1.5_0.5': [], '1.5_1.5': ['box_purple'], '1.5_2.5': [], '2.5_0.5': [], '2.5_1.5': [], '2.5_2.5': []}\n",
      "trial_8: Not Converged\n",
      "{'0.5_0.5': [], '0.5_1.5': [], '0.5_2.5': [], '1.5_0.5': ['target_green'], '1.5_1.5': ['box_green'], '1.5_2.5': [], '2.5_0.5': [], '2.5_1.5': [], '2.5_2.5': []}\n",
      "trial_9: Not Converged\n",
      "{'0.5_0.5': ['target_green'], '0.5_1.5': ['box_green'], '0.5_2.5': [], '1.5_0.5': [], '1.5_1.5': [], '1.5_2.5': [], '2.5_0.5': [], '2.5_1.5': [], '2.5_2.5': []}\n"
     ]
    }
   ],
   "source": [
    "print(\"LOADING RPLH-SPY-AGENT... \\n\")\n",
    "base_dir = parent_folder / \"testing-env-agent\"\n",
    "df_a_spy, success_df_a_spy, spy_count_df, spy_df, att_df, justification_df = get_data(base_dir, 14)\n",
    "\n",
    "print(\"LOADING RPLH-SPY-STANDARD... \\n\")\n",
    "base_dir = parent_folder / \"gpt-standard-testing-env-1\"\n",
    "df_s_spy, success_df_s_spy, _, _, _, _ = get_data(base_dir, 20)\n",
    "\n",
    "print(\"LOADING RPLH-NoSPY-STANDADRD... \\n\")\n",
    "base_dir = parent_folder / \"gpt-standard-testing-nospy-env-1\"\n",
    "df_s_nospy, success_df_s_nospy, _, _, _, _ = get_data(base_dir, 10)"
   ]
  },
  {
   "cell_type": "code",
   "execution_count": 36,
   "metadata": {},
   "outputs": [],
   "source": [
    "agent_spy_merged = df_a_spy.merge(success_df_a_spy, on=\"Trial\")\n",
    "standard_spy_merged = df_s_spy.merge(success_df_s_spy, on=\"Trial\")\n",
    "standard_nospy_merged = df_s_nospy.merge(success_df_s_nospy, on=\"Trial\")"
   ]
  },
  {
   "cell_type": "markdown",
   "metadata": {},
   "source": [
    "# RPLH + Agent + Spy"
   ]
  },
  {
   "cell_type": "code",
   "execution_count": 37,
   "metadata": {},
   "outputs": [
    {
     "data": {
      "text/html": [
       "<div>\n",
       "<style scoped>\n",
       "    .dataframe tbody tr th:only-of-type {\n",
       "        vertical-align: middle;\n",
       "    }\n",
       "\n",
       "    .dataframe tbody tr th {\n",
       "        vertical-align: top;\n",
       "    }\n",
       "\n",
       "    .dataframe thead th {\n",
       "        text-align: right;\n",
       "    }\n",
       "</style>\n",
       "<table border=\"1\" class=\"dataframe\">\n",
       "  <thead>\n",
       "    <tr style=\"text-align: right;\">\n",
       "      <th></th>\n",
       "      <th>Agent[2.5, 0.5]</th>\n",
       "      <th>Agent[2.5, 1.5]</th>\n",
       "      <th>Agent[1.5, 1.5]</th>\n",
       "      <th>Agent[0.5, 1.5]</th>\n",
       "      <th>Agent[2.5, 2.5]</th>\n",
       "      <th>Agent[1.5, 2.5]</th>\n",
       "      <th>dummy</th>\n",
       "      <th>Agent[0.5, 2.5]</th>\n",
       "      <th>Agent[0.5, 0.5]</th>\n",
       "      <th>Agent[1.5, 0.5]</th>\n",
       "    </tr>\n",
       "    <tr>\n",
       "      <th>Trial</th>\n",
       "      <th></th>\n",
       "      <th></th>\n",
       "      <th></th>\n",
       "      <th></th>\n",
       "      <th></th>\n",
       "      <th></th>\n",
       "      <th></th>\n",
       "      <th></th>\n",
       "      <th></th>\n",
       "      <th></th>\n",
       "    </tr>\n",
       "  </thead>\n",
       "  <tbody>\n",
       "    <tr>\n",
       "      <th>trial_1</th>\n",
       "      <td>0.18</td>\n",
       "      <td>0.12</td>\n",
       "      <td>0.20</td>\n",
       "      <td>0.32</td>\n",
       "      <td>0.00</td>\n",
       "      <td>0.02</td>\n",
       "      <td>0.00</td>\n",
       "      <td>0.00</td>\n",
       "      <td>0.11</td>\n",
       "      <td>0.05</td>\n",
       "    </tr>\n",
       "    <tr>\n",
       "      <th>trial_2</th>\n",
       "      <td>0.06</td>\n",
       "      <td>0.13</td>\n",
       "      <td>0.22</td>\n",
       "      <td>0.19</td>\n",
       "      <td>0.08</td>\n",
       "      <td>0.09</td>\n",
       "      <td>0.00</td>\n",
       "      <td>0.04</td>\n",
       "      <td>0.11</td>\n",
       "      <td>0.08</td>\n",
       "    </tr>\n",
       "    <tr>\n",
       "      <th>trial_3</th>\n",
       "      <td>0.11</td>\n",
       "      <td>0.15</td>\n",
       "      <td>0.10</td>\n",
       "      <td>0.17</td>\n",
       "      <td>0.17</td>\n",
       "      <td>0.07</td>\n",
       "      <td>0.00</td>\n",
       "      <td>0.02</td>\n",
       "      <td>0.11</td>\n",
       "      <td>0.12</td>\n",
       "    </tr>\n",
       "    <tr>\n",
       "      <th>trial_4</th>\n",
       "      <td>0.06</td>\n",
       "      <td>0.12</td>\n",
       "      <td>0.22</td>\n",
       "      <td>0.28</td>\n",
       "      <td>0.05</td>\n",
       "      <td>0.05</td>\n",
       "      <td>0.00</td>\n",
       "      <td>0.03</td>\n",
       "      <td>0.16</td>\n",
       "      <td>0.05</td>\n",
       "    </tr>\n",
       "    <tr>\n",
       "      <th>trial_5</th>\n",
       "      <td>0.07</td>\n",
       "      <td>0.15</td>\n",
       "      <td>0.17</td>\n",
       "      <td>0.14</td>\n",
       "      <td>0.11</td>\n",
       "      <td>0.13</td>\n",
       "      <td>0.00</td>\n",
       "      <td>0.06</td>\n",
       "      <td>0.08</td>\n",
       "      <td>0.10</td>\n",
       "    </tr>\n",
       "    <tr>\n",
       "      <th>trial_6</th>\n",
       "      <td>0.08</td>\n",
       "      <td>0.08</td>\n",
       "      <td>0.18</td>\n",
       "      <td>0.20</td>\n",
       "      <td>0.10</td>\n",
       "      <td>0.07</td>\n",
       "      <td>0.00</td>\n",
       "      <td>0.00</td>\n",
       "      <td>0.15</td>\n",
       "      <td>0.13</td>\n",
       "    </tr>\n",
       "    <tr>\n",
       "      <th>trial_7</th>\n",
       "      <td>0.08</td>\n",
       "      <td>0.12</td>\n",
       "      <td>0.16</td>\n",
       "      <td>0.18</td>\n",
       "      <td>0.12</td>\n",
       "      <td>0.08</td>\n",
       "      <td>0.00</td>\n",
       "      <td>0.05</td>\n",
       "      <td>0.11</td>\n",
       "      <td>0.09</td>\n",
       "    </tr>\n",
       "    <tr>\n",
       "      <th>trial_8</th>\n",
       "      <td>0.15</td>\n",
       "      <td>0.17</td>\n",
       "      <td>0.15</td>\n",
       "      <td>0.06</td>\n",
       "      <td>0.09</td>\n",
       "      <td>0.14</td>\n",
       "      <td>0.00</td>\n",
       "      <td>0.00</td>\n",
       "      <td>0.09</td>\n",
       "      <td>0.14</td>\n",
       "    </tr>\n",
       "    <tr>\n",
       "      <th>trial_9</th>\n",
       "      <td>0.07</td>\n",
       "      <td>0.09</td>\n",
       "      <td>0.13</td>\n",
       "      <td>0.25</td>\n",
       "      <td>0.10</td>\n",
       "      <td>0.11</td>\n",
       "      <td>0.00</td>\n",
       "      <td>0.11</td>\n",
       "      <td>0.08</td>\n",
       "      <td>0.07</td>\n",
       "    </tr>\n",
       "    <tr>\n",
       "      <th>trial_10</th>\n",
       "      <td>0.17</td>\n",
       "      <td>0.08</td>\n",
       "      <td>0.18</td>\n",
       "      <td>0.07</td>\n",
       "      <td>0.03</td>\n",
       "      <td>0.09</td>\n",
       "      <td>0.00</td>\n",
       "      <td>0.04</td>\n",
       "      <td>0.14</td>\n",
       "      <td>0.20</td>\n",
       "    </tr>\n",
       "    <tr>\n",
       "      <th>trial_11</th>\n",
       "      <td>0.05</td>\n",
       "      <td>0.19</td>\n",
       "      <td>0.28</td>\n",
       "      <td>0.12</td>\n",
       "      <td>0.07</td>\n",
       "      <td>0.04</td>\n",
       "      <td>0.00</td>\n",
       "      <td>0.07</td>\n",
       "      <td>0.13</td>\n",
       "      <td>0.04</td>\n",
       "    </tr>\n",
       "    <tr>\n",
       "      <th>trial_12</th>\n",
       "      <td>0.06</td>\n",
       "      <td>0.15</td>\n",
       "      <td>0.22</td>\n",
       "      <td>0.12</td>\n",
       "      <td>0.10</td>\n",
       "      <td>0.08</td>\n",
       "      <td>0.00</td>\n",
       "      <td>0.07</td>\n",
       "      <td>0.10</td>\n",
       "      <td>0.10</td>\n",
       "    </tr>\n",
       "    <tr>\n",
       "      <th>trial_13</th>\n",
       "      <td>0.07</td>\n",
       "      <td>0.14</td>\n",
       "      <td>0.25</td>\n",
       "      <td>0.11</td>\n",
       "      <td>0.10</td>\n",
       "      <td>0.06</td>\n",
       "      <td>0.00</td>\n",
       "      <td>0.03</td>\n",
       "      <td>0.11</td>\n",
       "      <td>0.13</td>\n",
       "    </tr>\n",
       "    <tr>\n",
       "      <th>trial_14</th>\n",
       "      <td>0.07</td>\n",
       "      <td>0.08</td>\n",
       "      <td>0.21</td>\n",
       "      <td>0.20</td>\n",
       "      <td>0.14</td>\n",
       "      <td>0.13</td>\n",
       "      <td>0.01</td>\n",
       "      <td>0.05</td>\n",
       "      <td>0.00</td>\n",
       "      <td>0.12</td>\n",
       "    </tr>\n",
       "  </tbody>\n",
       "</table>\n",
       "</div>"
      ],
      "text/plain": [
       "          Agent[2.5, 0.5]  Agent[2.5, 1.5]  Agent[1.5, 1.5]  Agent[0.5, 1.5]  \\\n",
       "Trial                                                                          \n",
       "trial_1              0.18             0.12             0.20             0.32   \n",
       "trial_2              0.06             0.13             0.22             0.19   \n",
       "trial_3              0.11             0.15             0.10             0.17   \n",
       "trial_4              0.06             0.12             0.22             0.28   \n",
       "trial_5              0.07             0.15             0.17             0.14   \n",
       "trial_6              0.08             0.08             0.18             0.20   \n",
       "trial_7              0.08             0.12             0.16             0.18   \n",
       "trial_8              0.15             0.17             0.15             0.06   \n",
       "trial_9              0.07             0.09             0.13             0.25   \n",
       "trial_10             0.17             0.08             0.18             0.07   \n",
       "trial_11             0.05             0.19             0.28             0.12   \n",
       "trial_12             0.06             0.15             0.22             0.12   \n",
       "trial_13             0.07             0.14             0.25             0.11   \n",
       "trial_14             0.07             0.08             0.21             0.20   \n",
       "\n",
       "          Agent[2.5, 2.5]  Agent[1.5, 2.5]  dummy  Agent[0.5, 2.5]  \\\n",
       "Trial                                                                \n",
       "trial_1              0.00             0.02   0.00             0.00   \n",
       "trial_2              0.08             0.09   0.00             0.04   \n",
       "trial_3              0.17             0.07   0.00             0.02   \n",
       "trial_4              0.05             0.05   0.00             0.03   \n",
       "trial_5              0.11             0.13   0.00             0.06   \n",
       "trial_6              0.10             0.07   0.00             0.00   \n",
       "trial_7              0.12             0.08   0.00             0.05   \n",
       "trial_8              0.09             0.14   0.00             0.00   \n",
       "trial_9              0.10             0.11   0.00             0.11   \n",
       "trial_10             0.03             0.09   0.00             0.04   \n",
       "trial_11             0.07             0.04   0.00             0.07   \n",
       "trial_12             0.10             0.08   0.00             0.07   \n",
       "trial_13             0.10             0.06   0.00             0.03   \n",
       "trial_14             0.14             0.13   0.01             0.05   \n",
       "\n",
       "          Agent[0.5, 0.5]  Agent[1.5, 0.5]  \n",
       "Trial                                       \n",
       "trial_1              0.11             0.05  \n",
       "trial_2              0.11             0.08  \n",
       "trial_3              0.11             0.12  \n",
       "trial_4              0.16             0.05  \n",
       "trial_5              0.08             0.10  \n",
       "trial_6              0.15             0.13  \n",
       "trial_7              0.11             0.09  \n",
       "trial_8              0.09             0.14  \n",
       "trial_9              0.08             0.07  \n",
       "trial_10             0.14             0.20  \n",
       "trial_11             0.13             0.04  \n",
       "trial_12             0.10             0.10  \n",
       "trial_13             0.11             0.13  \n",
       "trial_14             0.00             0.12  "
      ]
     },
     "execution_count": 37,
     "metadata": {},
     "output_type": "execute_result"
    }
   ],
   "source": [
    "agent_round = spy_count_df.divide(spy_count_df.sum(axis=1), axis=0).round(2)\n",
    "agent_round"
   ]
  },
  {
   "cell_type": "code",
   "execution_count": 38,
   "metadata": {},
   "outputs": [
    {
     "data": {
      "text/plain": [
       "Agent[0.5, 1.5]    6\n",
       "Agent[1.5, 1.5]    6\n",
       "Agent[2.5, 1.5]    1\n",
       "Agent[1.5, 0.5]    1\n",
       "Name: count, dtype: int64"
      ]
     },
     "execution_count": 38,
     "metadata": {},
     "output_type": "execute_result"
    }
   ],
   "source": [
    "agent_round.idxmax(axis=1).value_counts()"
   ]
  },
  {
   "cell_type": "markdown",
   "metadata": {},
   "source": [
    "***\n",
    "# Senetnce Embedding Analysis\n",
    "***"
   ]
  },
  {
   "cell_type": "code",
   "execution_count": 39,
   "metadata": {},
   "outputs": [
    {
     "data": {
      "text/plain": [
       "0.9777018864480065"
      ]
     },
     "execution_count": 39,
     "metadata": {},
     "output_type": "execute_result"
    }
   ],
   "source": [
    "# Test\n",
    "sentence1 = \"The cat sat on the mat.\"\n",
    "sentence2 = \"A cat was sitting on the mat.\"\n",
    "\n",
    "embedding_1 = get_embedding(sentence1)\n",
    "embedding_2 = get_embedding(sentence2)\n",
    "\n",
    "cosine_sim(embedding_1, embedding_2)"
   ]
  },
  {
   "cell_type": "code",
   "execution_count": 40,
   "metadata": {},
   "outputs": [
    {
     "data": {
      "text/plain": [
       "261"
      ]
     },
     "execution_count": 40,
     "metadata": {},
     "output_type": "execute_result"
    }
   ],
   "source": [
    "len(att_df['Agent[2.5, 1.5]'].explode().unique())"
   ]
  },
  {
   "cell_type": "markdown",
   "metadata": {},
   "source": [
    "Need to check last few ones"
   ]
  },
  {
   "cell_type": "markdown",
   "metadata": {},
   "source": [
    "### Compare aggregated nice with nice and nice with spy in `att_df`"
   ]
  },
  {
   "cell_type": "code",
   "execution_count": 41,
   "metadata": {},
   "outputs": [
    {
     "name": "stdout",
     "output_type": "stream",
     "text": [
      "Similarity between sentence 1 and 2 (both nice agent) is: 0.4289374407567566\n",
      "Similarity between sentence 1 and 3 (both nice agent) is: 0.5614188774883344\n",
      "Similarity between sentence 1 and 4 (4 is spy agent) is: 0.37924129705279164\n",
      "Similarity between sentence 2 and 3 (both nice agent) is: 0.8454723075984248\n"
     ]
    }
   ],
   "source": [
    "sentence1 = \"Be very easy going and nice and cooperative.\"\n",
    "sentence2 = \"\".join(str(att_df['Agent[2.5, 1.5]'].explode().unique()))\n",
    "sentence3 = \"\".join(str(att_df['Agent[2.5, 0.5]'].explode().unique()))\n",
    "sentence4 = \"\".join(str(att_df['Agent[1.5, 1.5]'].explode().unique()))\n",
    "\n",
    "embedding_1 = get_embedding(sentence1)\n",
    "embedding_2 = get_embedding(sentence2)\n",
    "embedding_3 = get_embedding(sentence3)\n",
    "embedding_4 = get_embedding(sentence4)\n",
    "\n",
    "print(f\"Similarity between sentence 1 and 2 (both nice agent) is: {cosine_sim(embedding_1, embedding_2)}\")\n",
    "print(f\"Similarity between sentence 1 and 3 (both nice agent) is: {cosine_sim(embedding_1, embedding_3)}\")\n",
    "print(f\"Similarity between sentence 1 and 4 (4 is spy agent) is: {cosine_sim(embedding_1, embedding_4)}\")\n",
    "print(f\"Similarity between sentence 2 and 3 (both nice agent) is: {cosine_sim(embedding_2, embedding_3)}\")"
   ]
  },
  {
   "cell_type": "markdown",
   "metadata": {},
   "source": [
    "### Compare aggregated nice with spy in `att_df`"
   ]
  },
  {
   "cell_type": "code",
   "execution_count": 42,
   "metadata": {},
   "outputs": [
    {
     "name": "stdout",
     "output_type": "stream",
     "text": [
      "Similarity between sentence 1 and 2 is: 0.5282996040511586\n"
     ]
    }
   ],
   "source": [
    "sentence1 = \"Be very critical and try to propose many changes\"\n",
    "sentence2 = \"\".join(str(att_df['Agent[2.5, 1.5]'].explode().unique()))\n",
    "embedding_1 = get_embedding(sentence1)\n",
    "embedding_2 = get_embedding(sentence2)\n",
    "\n",
    "print(f\"Similarity between sentence 1 and 2 is: {cosine_sim(embedding_1, embedding_2)}\")"
   ]
  },
  {
   "cell_type": "markdown",
   "metadata": {},
   "source": [
    "### Compare aggregated critical with spy in `att_df`"
   ]
  },
  {
   "cell_type": "code",
   "execution_count": 43,
   "metadata": {},
   "outputs": [
    {
     "name": "stdout",
     "output_type": "stream",
     "text": [
      "Similarity between sentence 1 and 2 is: 0.5282996040511586\n"
     ]
    }
   ],
   "source": [
    "sentence1 = \"Be very critical and try to propose many changes\"\n",
    "sentence2 = \"\".join(str(att_df['Agent[2.5, 1.5]'].explode().unique()))\n",
    "embedding_1 = get_embedding(sentence1)\n",
    "embedding_2 = get_embedding(sentence2)\n",
    "\n",
    "print(f\"Similarity between sentence 1 and 2 is: {cosine_sim(embedding_1, embedding_2)}\")"
   ]
  },
  {
   "cell_type": "markdown",
   "metadata": {},
   "source": [
    "### Compare aggregated non-spy with non-spy and spy with spy in `att_df`"
   ]
  },
  {
   "cell_type": "code",
   "execution_count": 44,
   "metadata": {},
   "outputs": [
    {
     "name": "stdout",
     "output_type": "stream",
     "text": [
      "Similarity between sentence 1 and 2 (spy) is: 0.6202289427625078\n",
      "Similarity between sentence 1 and 3 (spy) is: 0.6392313577739448\n",
      "Similarity between sentence 1 and 4 (non-spy) is: 0.6356131369813269\n",
      "Similarity between sentence 1 and 5 (non-spy) is: 0.5742737322617476\n"
     ]
    }
   ],
   "source": [
    "sentence1 = \"you are the spy agent, your goal is to prevent match targets\"\n",
    "sentence2 = \"\".join(str(att_df['Agent[1.5, 1.5]'].explode().unique()))\n",
    "sentence3 = \"\".join(str(att_df['Agent[2.5, 2.5]'].explode().unique()))\n",
    "sentence4 = \"\".join(str(att_df['Agent[2.5, 1.5]'].explode().unique()))\n",
    "sentence5 = \"\".join(str(att_df['Agent[2.5, 0.5]'].explode().unique()))\n",
    "\n",
    "embedding_1 = get_embedding(sentence1)\n",
    "embedding_2 = get_embedding(sentence2)\n",
    "embedding_3 = get_embedding(sentence3)\n",
    "embedding_4 = get_embedding(sentence4)\n",
    "embedding_5 = get_embedding(sentence5)\n",
    "\n",
    "print(f\"Similarity between sentence 1 and 2 (spy) is: {cosine_sim(embedding_1, embedding_2)}\")\n",
    "print(f\"Similarity between sentence 1 and 3 (spy) is: {cosine_sim(embedding_1, embedding_3)}\")\n",
    "print(f\"Similarity between sentence 1 and 4 (non-spy) is: {cosine_sim(embedding_1, embedding_4)}\")\n",
    "print(f\"Similarity between sentence 1 and 5 (non-spy) is: {cosine_sim(embedding_1, embedding_5)}\")"
   ]
  },
  {
   "cell_type": "markdown",
   "metadata": {},
   "source": [
    "### Compare spy response with spy sentence in `att_df`"
   ]
  },
  {
   "cell_type": "code",
   "execution_count": 45,
   "metadata": {},
   "outputs": [
    {
     "data": {
      "text/plain": [
       "Trial\n",
       "trial_1     0.501774\n",
       "trial_2     0.532773\n",
       "trial_3     0.528740\n",
       "trial_4     0.621030\n",
       "trial_5     0.541421\n",
       "trial_6     0.523814\n",
       "trial_7     0.563339\n",
       "trial_8     0.494520\n",
       "trial_9     0.484337\n",
       "trial_10    0.518496\n",
       "trial_11    0.638599\n",
       "trial_12    0.724506\n",
       "trial_13    0.379190\n",
       "trial_14    0.618632\n",
       "Name: Agent[1.5, 1.5], dtype: float64"
      ]
     },
     "execution_count": 45,
     "metadata": {},
     "output_type": "execute_result"
    }
   ],
   "source": [
    "sentence1 = \"you are the spy agent, your goal is to prevent match targets\"\n",
    "embedding_1 = get_embedding(sentence1)\n",
    "att_df['Agent[1.5, 1.5]'].apply(lambda x: cosine_sim(embedding_1, get_embedding(str(x))))"
   ]
  },
  {
   "cell_type": "markdown",
   "metadata": {},
   "source": [
    "### Compare spy response with spy sentence in `spy_df`"
   ]
  },
  {
   "cell_type": "code",
   "execution_count": 46,
   "metadata": {},
   "outputs": [
    {
     "data": {
      "text/plain": [
       "Trial\n",
       "trial_1     0.562922\n",
       "trial_2     0.596249\n",
       "trial_3     0.619103\n",
       "trial_4     0.724988\n",
       "trial_5     0.589936\n",
       "trial_6     0.552098\n",
       "trial_7     0.607470\n",
       "trial_8     0.529283\n",
       "trial_9     0.509599\n",
       "trial_10    0.474674\n",
       "trial_11    0.607339\n",
       "trial_12    0.700786\n",
       "trial_13    0.568441\n",
       "trial_14    0.666732\n",
       "Name: Agent[1.5, 1.5], dtype: float64"
      ]
     },
     "execution_count": 46,
     "metadata": {},
     "output_type": "execute_result"
    }
   ],
   "source": [
    "sentence1 = \"you are the spy agent, your goal is to prevent match targets\"\n",
    "embedding_1 = get_embedding(sentence1)\n",
    "spy_df['Agent[1.5, 1.5]'].apply(lambda x: cosine_sim(embedding_1, get_embedding(str(x))))"
   ]
  },
  {
   "cell_type": "markdown",
   "metadata": {},
   "source": [
    "### Compare spy response with non-spy sentence in `att_df`"
   ]
  },
  {
   "cell_type": "code",
   "execution_count": 47,
   "metadata": {},
   "outputs": [
    {
     "data": {
      "text/plain": [
       "Trial\n",
       "trial_1     0.531023\n",
       "trial_2     0.347885\n",
       "trial_3     0.377885\n",
       "trial_4     0.481166\n",
       "trial_5     0.382660\n",
       "trial_6     0.493661\n",
       "trial_7     0.496129\n",
       "trial_8     0.429513\n",
       "trial_9     0.497625\n",
       "trial_10    0.401780\n",
       "trial_11    0.478452\n",
       "trial_12    0.377876\n",
       "trial_13    0.417905\n",
       "trial_14    0.413453\n",
       "Name: Agent[1.5, 1.5], dtype: float64"
      ]
     },
     "execution_count": 47,
     "metadata": {},
     "output_type": "execute_result"
    }
   ],
   "source": [
    "sentence1 = \"Be very easy going and nice and cooperative.\"\n",
    "embedding_1 = get_embedding(sentence1)\n",
    "att_df['Agent[1.5, 1.5]'].apply(lambda x: cosine_sim(embedding_1, get_embedding(str(x))))"
   ]
  },
  {
   "cell_type": "markdown",
   "metadata": {},
   "source": [
    "### Comparing in `justification_df` to see if suspecting is given"
   ]
  },
  {
   "cell_type": "code",
   "execution_count": 56,
   "metadata": {},
   "outputs": [
    {
     "data": {
      "text/plain": [
       "0     0.617001\n",
       "1     0.500486\n",
       "2     0.650587\n",
       "3     0.651606\n",
       "4     0.602094\n",
       "5     0.598154\n",
       "6     0.640405\n",
       "7     0.557793\n",
       "8     0.624391\n",
       "9     0.572241\n",
       "10    0.659633\n",
       "11    0.656388\n",
       "12    0.612585\n",
       "13    0.586549\n",
       "Name: Justifications, dtype: float64"
      ]
     },
     "execution_count": 56,
     "metadata": {},
     "output_type": "execute_result"
    }
   ],
   "source": [
    "sentence1 = \"I suspect that this agent is the spy agent, thus, I would not listen to this agent.\"\n",
    "embedding_1 = get_embedding(sentence1)\n",
    "justification_df['Justifications'].apply(lambda x: cosine_sim(embedding_1, get_embedding(str(x))))"
   ]
  },
  {
   "cell_type": "markdown",
   "metadata": {},
   "source": [
    "***\n",
    "# Comparing Performance Across Systems\n",
    "***"
   ]
  },
  {
   "cell_type": "code",
   "execution_count": 48,
   "metadata": {},
   "outputs": [],
   "source": [
    "# agent_spy_merged.compare(standard_nospy_merged)"
   ]
  },
  {
   "cell_type": "code",
   "execution_count": 49,
   "metadata": {},
   "outputs": [],
   "source": [
    "# agent_spy_merged.compare(standard_spy_merged)"
   ]
  },
  {
   "cell_type": "code",
   "execution_count": null,
   "metadata": {},
   "outputs": [],
   "source": []
  }
 ],
 "metadata": {
  "kernelspec": {
   "display_name": "rplh",
   "language": "python",
   "name": "python3"
  },
  "language_info": {
   "codemirror_mode": {
    "name": "ipython",
    "version": 3
   },
   "file_extension": ".py",
   "mimetype": "text/x-python",
   "name": "python",
   "nbconvert_exporter": "python",
   "pygments_lexer": "ipython3",
   "version": "3.10.9"
  }
 },
 "nbformat": 4,
 "nbformat_minor": 2
}
