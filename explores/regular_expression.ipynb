{
 "cells": [
  {
   "cell_type": "code",
   "execution_count": 20,
   "metadata": {},
   "outputs": [],
   "source": [
    "import re\n",
    "import json\n",
    "import copy\n",
    "import numpy as np\n",
    "from typing import Dict, List, Tuple"
   ]
  },
  {
   "cell_type": "code",
   "execution_count": 21,
   "metadata": {},
   "outputs": [],
   "source": [
    "def action_from_response(\n",
    "    pg_dict_input: Dict[str, List[str]], original_response_dict: Dict\n",
    ") -> Tuple[str, Dict[str, List[str]]]:\n",
    "    \"\"\"\n",
    "    Updates the environment state based on the actions in the response.\n",
    "\n",
    "    Args:\n",
    "        pg_dict_input (Dict[str, List[str]]): Current state of the playground.\n",
    "        original_response_dict (Dict): Actions to be executed.\n",
    "\n",
    "    Returns:\n",
    "        Tuple[str, Dict[str, List[str]]]: Feedback string and updated playground state.\n",
    "    \"\"\"\n",
    "    system_error_feedback = \"\"\n",
    "    pg_dict_original = copy.deepcopy(pg_dict_input)\n",
    "    transformed_dict = {}\n",
    "    for key, value in original_response_dict.items():\n",
    "        coordinates = tuple(map(float, re.findall(r\"\\d+\\.?\\d*\", key)))\n",
    "\n",
    "        # match the item and location in the value\n",
    "        match = re.match(r\"move\\((.*?),\\s(.*?)\\)\", value)\n",
    "        if match:\n",
    "            item, location = match.groups()\n",
    "            if \"square\" in location:\n",
    "                location = tuple(map(float, re.findall(r\"\\d+\\.?\\d*\", location)))\n",
    "            transformed_dict[coordinates] = [item, location]\n",
    "\n",
    "    for key, value in transformed_dict.items():\n",
    "        # print(f\"Key: {key}, Value1: {value[0]}, Value2: {value[1]}\")\n",
    "        if (\n",
    "            value[0] in pg_dict_original[str(key[0]) + \"_\" + str(key[1])]\n",
    "            and type(value[1]) == tuple\n",
    "            and (\n",
    "                (\n",
    "                    np.abs(key[0] - value[1][0]) == 0\n",
    "                    and np.abs(key[1] - value[1][1]) == 1\n",
    "                )\n",
    "                or (\n",
    "                    np.abs(key[0] - value[1][0]) == 1\n",
    "                    and np.abs(key[1] - value[1][1]) == 0\n",
    "                )\n",
    "            )\n",
    "        ):\n",
    "            pg_dict_original[str(key[0]) + \"_\" + str(key[1])].remove(value[0])\n",
    "            pg_dict_original[str(value[1][0]) + \"_\" + str(value[1][1])].append(value[0])\n",
    "        elif (\n",
    "            value[0] in pg_dict_original[str(key[0]) + \"_\" + str(key[1])]\n",
    "            and type(value[1]) == str\n",
    "            and value[1] in pg_dict_original[str(key[0]) + \"_\" + str(key[1])]\n",
    "            and value[0][:4] == \"box_\"\n",
    "            and value[1][:7] == \"target_\"\n",
    "            and value[0][4:] == value[1][7:]\n",
    "        ):\n",
    "            pg_dict_original[str(key[0]) + \"_\" + str(key[1])].remove(value[0])\n",
    "            pg_dict_original[str(key[0]) + \"_\" + str(key[1])].remove(value[1])\n",
    "        else:\n",
    "            # print(f\"Error, Iteration Num: {iteration_num}, Key: {key}, Value1: {value[0]}, Value2: {value[1]}\")\n",
    "            system_error_feedback += f\"Your assigned task for {key[0]}_{key[1]} is not in the doable action list; \"\n",
    "\n",
    "    return system_error_feedback, pg_dict_original"
   ]
  },
  {
   "cell_type": "code",
   "execution_count": 12,
   "metadata": {},
   "outputs": [],
   "source": [
    "pg_state = {\"0.5_0.5\": [\"box_red\"], \n",
    "            \"0.5_1.5\": [\"target_blue\", \"target_red\", \"box_green\", \"target_green\", \"target_purple\", \"target_orange\", \"box_orange\", \"target_orange\"], \n",
    "            \"1.5_0.5\": [\"box_blue\", \"box_purple\"], \n",
    "            \"1.5_1.5\": [\"box_orange\"]}\n",
    "action = {'Agent[0.5, 0.5]': 'move(box_red, square[0.5, 1.5])', \n",
    "          'Agent[1.5, 0.5]': 'move(box_blue, square[0.5, 0.5])'}"
   ]
  },
  {
   "cell_type": "code",
   "execution_count": 23,
   "metadata": {},
   "outputs": [
    {
     "data": {
      "text/plain": [
       "('',\n",
       " {'0.5_0.5': ['box_blue'],\n",
       "  '0.5_1.5': ['target_blue',\n",
       "   'target_red',\n",
       "   'box_green',\n",
       "   'target_green',\n",
       "   'target_purple',\n",
       "   'target_orange',\n",
       "   'box_orange',\n",
       "   'target_orange',\n",
       "   'box_red'],\n",
       "  '1.5_0.5': ['box_purple'],\n",
       "  '1.5_1.5': ['box_orange']})"
      ]
     },
     "execution_count": 23,
     "metadata": {},
     "output_type": "execute_result"
    }
   ],
   "source": [
    "action_from_response(\n",
    "    pg_dict_input=pg_state, original_response_dict=action\n",
    ")"
   ]
  },
  {
   "cell_type": "code",
   "execution_count": 1,
   "metadata": {},
   "outputs": [],
   "source": [
    "pg_dict = [\n",
    "    {'0.5_0.5': ['box_blue', 'target_blue', 'target_green', 'target_purple'], \n",
    "     '0.5_1.5': ['box_red', 'target_orange'], \n",
    "     '1.5_0.5': ['box_blue', 'target_blue', 'target_red', 'box_red', 'target_red', 'box_green', 'box_orange', 'box_orange'], \n",
    "     '1.5_1.5': ['target_blue', 'box_blue', 'box_purple', 'target_orange']}, \n",
    "    ...\n",
    "]"
   ]
  },
  {
   "cell_type": "code",
   "execution_count": 22,
   "metadata": {},
   "outputs": [],
   "source": [
    "def better_state_repres(pg_dict):\n",
    "    new_pg_dict = {}\n",
    "\n",
    "    for key, value in pg_dict.items():\n",
    "        new_pg_dict[f'{key[:3]}, {key[-3:]}'] = value\n",
    "\n",
    "    return new_pg_dict"
   ]
  },
  {
   "cell_type": "code",
   "execution_count": 23,
   "metadata": {},
   "outputs": [
    {
     "data": {
      "text/plain": [
       "{'0.5, 0.5': ['box_blue', 'target_blue', 'target_green', 'target_purple'],\n",
       " '0.5, 1.5': ['box_red', 'target_orange'],\n",
       " '1.5, 0.5': ['box_blue',\n",
       "  'target_blue',\n",
       "  'target_red',\n",
       "  'box_red',\n",
       "  'target_red',\n",
       "  'box_green',\n",
       "  'box_orange',\n",
       "  'box_orange'],\n",
       " '1.5, 1.5': ['target_blue', 'box_blue', 'box_purple', 'target_orange']}"
      ]
     },
     "execution_count": 23,
     "metadata": {},
     "output_type": "execute_result"
    }
   ],
   "source": [
    "better_state_repres(pg_dict[0])"
   ]
  },
  {
   "cell_type": "code",
   "execution_count": null,
   "metadata": {},
   "outputs": [],
   "source": []
  },
  {
   "cell_type": "code",
   "execution_count": 2,
   "metadata": {},
   "outputs": [],
   "source": [
    "def is_valid_json(response: str) -> bool:\n",
    "    \"\"\"\n",
    "    Checks if a response string is in valid JSON format.\n",
    "\n",
    "    Args:\n",
    "        response (str): The response string to validate.\n",
    "\n",
    "    Returns:\n",
    "        bool: True if the response is valid JSON, False otherwise.\n",
    "    \"\"\"\n",
    "    try:\n",
    "        json.loads(response)\n",
    "        return True\n",
    "    except ValueError:\n",
    "        return False"
   ]
  },
  {
   "cell_type": "code",
   "execution_count": 3,
   "metadata": {},
   "outputs": [],
   "source": [
    "is_judge = True\n"
   ]
  },
  {
   "cell_type": "markdown",
   "metadata": {},
   "source": [
    "1. Bracket Check - find bracket\n",
    "3. JSON Check"
   ]
  },
  {
   "cell_type": "code",
   "execution_count": 102,
   "metadata": {},
   "outputs": [],
   "source": [
    "error_response = ['asdasd{\"Agent[0.5, 0.5]\":\"move(box_blue, square[0.5, 1.5])\", \"agent[0.5, 1.5]\":\"move(box_blue, target_blue)\"}asdsada', \n",
    "                  'asdasd{\\'Agent[0.5, 0.5]\\':\\'move(box_blue, square[0.5, 1.5])\", \"Agent[0.5, 1.5]\":\"move(box_blue, target_blue)\"}asdsada',\n",
    "                  'asdasd{Agent[0.5, 0.5]:move(box_blue, square[0.5, 1.5]), Agent[0.5, 1.5]:move(box_blue, target_blue)\"}asdsada', \n",
    "                  'Agent[0.5, 0.5]\": [\"move(box_blue, square[0.5, 1.5])\"], \"Agent[0.5, 1.5]\": [\"move(box_blue, target_blue)\"]', \n",
    "                  '']"
   ]
  },
  {
   "cell_type": "code",
   "execution_count": null,
   "metadata": {},
   "outputs": [],
   "source": []
  },
  {
   "cell_type": "code",
   "execution_count": 8,
   "metadata": {},
   "outputs": [
    {
     "name": "stdout",
     "output_type": "stream",
     "text": [
      "4 4\n"
     ]
    },
    {
     "data": {
      "text/plain": [
       "{'Agent[0.5, 0.5]': 'move(box_purple, square[1.5, 1.5])',\n",
       " 'Agent[0.5, 1.5]': 'move(box_green, target_orange)',\n",
       " 'Agent[1.5, 0.5]': 'move(box_green, target_orange)',\n",
       " 'Agent[1.5, 1.5]': 'move(box_blue, target_blue)'}"
      ]
     },
     "execution_count": 8,
     "metadata": {},
     "output_type": "execute_result"
    }
   ],
   "source": [
    "raw_response='''RAW RESPONSE: aaaasdsasdasda\n",
    "sadsdasd\n",
    "adsads\n",
    "EXECUTE\n",
    "{''s[[]]][Agent[0.5, 0.5]}]\"asdasd:asda\"move(box_blue, square[0.5, 1.5])\", \"agent[0.5, 1.5]\":\"move(box_blue, target_blue)\"}\n",
    "EXECUTE\n",
    "asdsadaa''asda\\\n",
    "Justification:....\n",
    "'''\n",
    "\n",
    "def process_raw_response(response: str) -> dict:\n",
    "    \"\"\"\n",
    "    Processes a raw response string containing agent locations and actions, \n",
    "    extracts relevant information, and converts it into dictionary format for loading in json.\n",
    "\n",
    "    Args:\n",
    "        raw_response (str): The string is expected to include an \"EXECUTE\" keyword followed by \n",
    "            JSON-like content describing agent locations and actions \n",
    "            (e.g \"EXECUTE\n",
    "            {\"Agent[0.5, 0.5]\":\"move(box_blue, square[0.5, 1.5])\")\n",
    "\n",
    "    Returns:\n",
    "        dict: A dictionary where keys are agent identifiers (e.g., \"Agent[0.5, 0.5]\") \n",
    "              and values are actions (e.g., \"move(box_blue, square[0.5, 1.5])\").\n",
    "\n",
    "    Raises:\n",
    "        ValueError: If the input string cannot be parsed.\n",
    "    \"\"\"\n",
    "    \n",
    "    #response = raw_response[re.search(r'EXECUTE', raw_response).end():]\n",
    "    #response = response[:re.search(r'EXECUTE', response).start()]\n",
    "    #response = raw_response\n",
    "\n",
    "    try:\n",
    "        pattern_1 = r'agent\\[(\\d+\\.\\d+), (\\d+\\.\\d+)\\]'\n",
    "        agent_loc = re.findall(pattern_1, response, re.IGNORECASE)\n",
    "\n",
    "        pattern_2 = r'move(\\(\\w+, (?:square.\\d+\\.\\d+, \\d+\\.\\d+.|\\w+)\\))'\n",
    "        agent_action = re.findall(pattern_2, response, re.IGNORECASE)\n",
    "\n",
    "        # print(agent_loc)\n",
    "        # print(agent_action)\n",
    "    except:\n",
    "        print(f'ERROR IN PARSING THE RESPONSE: {response}')\n",
    "\n",
    "    num_agent = len(agent_loc)\n",
    "    action = []\n",
    "    print(len(agent_loc), len(agent_action))\n",
    "\n",
    "    for i in range(num_agent):\n",
    "        \n",
    "        action.append(f'\"Agent[{agent_loc[i][0]}, {agent_loc[i][1]}]\": \"move{agent_action[i]}\"')\n",
    "\n",
    "    json_str = '{' + ', '.join(action) + '}'\n",
    "    \n",
    "    response_dict = json.loads(json_str)\n",
    "\n",
    "    return response_dict\n",
    "    \n",
    "    \n",
    "ex = '{\"Agent[0.5, 0.5]\": \"move(box_purple, square[1.5, 1.5])\", \"Agent[0.5, 1.5]\": \"move(box_green, target_orange)\", \"Agent[1.5, 0.5]\": \"move(box_green, target_orange)\", \"Agent[1.5, 1.5]\": \"move(box_blue, target_blue)\"}'\n",
    "process_raw_response(ex)\n",
    "# response_dict = process_raw_response(raw_response)\n",
    "# response_dict\n"
   ]
  },
  {
   "cell_type": "code",
   "execution_count": 187,
   "metadata": {},
   "outputs": [
    {
     "name": "stdout",
     "output_type": "stream",
     "text": [
      "['{\"Agent[1.5, 0.5]\": \"move(box_purple, square[0.5, 1.5])\", \"Agent[1.5, 1.5]\": \"move(box_blue, target_orange)\"}', '{\"Agent[1.5, 0.5]\": \"move(box_purple, square[0.5, 1.5])\", \"Agent[1.5, 1.5]\": \"move(box_blue, )\"}', '{\"Agent[1.5, 0.5]\": \"move(box_purple, square[0.5, 1.5])\", \"Agent[1.5, 1.5]\": \"move(, target_orange)\"}']\n"
     ]
    }
   ],
   "source": [
    "a = '''\n",
    "A1\n",
    "{\"Agent[1.5, 0.5]\": \"move(box_purple, square[0.5, 1.5])\", \"Agent[1.5, 1.5]\": \"move(box_blue, target_orange)\"}\n",
    "A2\n",
    "{\"Agent[1.5, 0.5]\": \"move(box_purple, square[0.5, 1.5])\", \"Agent[1.5, 1.5]\": \"move(box_blue, )\"}\n",
    "\n",
    "Final Action:\n",
    "{\"Agent[1.5, 0.5]\": \"move(box_purple, square[0.5, 1.5])\", \"Agent[1.5, 1.5]\": \"move(, target_orange)\"}\n",
    "'''\n",
    "\n",
    "match = re.search(r'\\{.*?\\}', a, re.DOTALL)\n",
    "if match:\n",
    "    possible_action = re.findall(r'\\{.*?\\}', a, re.DOTALL)\n",
    "    print(possible_action)"
   ]
  },
  {
   "cell_type": "code",
   "execution_count": 212,
   "metadata": {},
   "outputs": [
    {
     "data": {
      "text/plain": [
       "'box_blue'"
      ]
     },
     "execution_count": 212,
     "metadata": {},
     "output_type": "execute_result"
    }
   ],
   "source": [
    "a = '{\"Agent[0.5, 0.5]\": \"move(box_blue, target_blue)\", \"Agent[0.5, 1.5]\": \"move(box_blue, square[0.5, 1.5])\", \"Agent[1.5, 0.5]\": \"move(box_red, target_red)\", \"Agent[1.5, 1.5]\": \"move(box_orange, target_orange)\"}'\n",
    "\n",
    "re.findall(r'move\\((.*?),\\s(.*?)\\)', a)[0][0].strip('\\'')"
   ]
  },
  {
   "cell_type": "code",
   "execution_count": 196,
   "metadata": {},
   "outputs": [
    {
     "data": {
      "text/plain": [
       "'(box_blue, target_blue)'"
      ]
     },
     "execution_count": 196,
     "metadata": {},
     "output_type": "execute_result"
    }
   ],
   "source": [
    "re.findall(r'move(\\(\\w+, (?:square.\\d+\\.\\d+, \\d+\\.\\d+.|\\w+)\\))', a)[0]"
   ]
  },
  {
   "cell_type": "code",
   "execution_count": 225,
   "metadata": {},
   "outputs": [
    {
     "name": "stdout",
     "output_type": "stream",
     "text": [
      "[('0.5', '0.5'), ('0.5', '1.5')]\n",
      "[('box_blue', 'square[0.5, 1.5]'), ('box_blue', 'target_blue')]\n",
      "{'Agent[0.5, 0.5]': 'move(box_blue, square[0.5, 1.5])', 'Agent[0.5, 1.5]': 'move(box_blue, target_blue)'}\n"
     ]
    }
   ],
   "source": [
    "for response in error_response[:1]:\n",
    "    try:\n",
    "        pattern_1 = r'agent\\[(\\d+\\.\\d+), (\\d+\\.\\d+)\\]'\n",
    "        agent_loc = re.findall(pattern_1, response, re.IGNORECASE)\n",
    "\n",
    "        pattern_2 = r'move\\((.*?),\\s(.*?)\\)' #r'move(\\(\\w+, (?:square.\\d+\\.\\d+, \\d+\\.\\d+.|\\w+)\\))'\n",
    "        agent_action = re.findall(pattern_2, response, re.IGNORECASE)\n",
    "\n",
    "        print(agent_loc)\n",
    "        print(agent_action)\n",
    "    except:\n",
    "        print(f'ERROR IN PARSING THE RESPONSE: {response}')\n",
    "\n",
    "    num_agent = len(agent_loc)\n",
    "\n",
    "    action = []\n",
    "\n",
    "    for i in range(num_agent):\n",
    "        \n",
    "        action.append(f'\"Agent[{agent_loc[i][0]}, {agent_loc[i][1]}]\": \"move({agent_action[i][0]}, {agent_action[i][1]})\"')\n",
    "\n",
    "    json_str = '{' + ', '.join(action) + '}'\n",
    "    \n",
    "    original_response_dict = json.loads(json_str)\n",
    "    print(original_response_dict)"
   ]
  },
  {
   "cell_type": "code",
   "execution_count": 219,
   "metadata": {},
   "outputs": [
    {
     "data": {
      "text/plain": [
       "{'Agent[0.5, 0.5]': \"move('box_blue', 'square[0.5, 1.5]')\",\n",
       " 'Agent[0.5, 1.5]': \"move('box_blue', 'target_blue')\"}"
      ]
     },
     "execution_count": 219,
     "metadata": {},
     "output_type": "execute_result"
    }
   ],
   "source": [
    "original_response_dict"
   ]
  },
  {
   "cell_type": "markdown",
   "metadata": {},
   "source": [
    "{'Agent[0.5, 0.5]': 'move(box_blue, square[0.5, 1.5])', 'Agent[0.5, 1.5]': 'move(box_blue, target_blue)'}\n",
    "{'Agent[0.5, 0.5]': 'move(box_blue, square[0.5, 1.5])', 'Agent[0.5, 1.5]': 'move(box_blue, target_blue)'}\n",
    "{'Agent[0.5, 0.5]': 'move(box_blue, square[0.5, 1.5])', 'Agent[0.5, 1.5]': 'move(box_blue, target_blue)'}\n",
    "{'Agent[0.5, 0.5]': 'move(box_blue, square[0.5, 1.5])', 'Agent[0.5, 1.5]': 'move(box_blue, target_blue)'}"
   ]
  },
  {
   "cell_type": "code",
   "execution_count": null,
   "metadata": {},
   "outputs": [],
   "source": []
  },
  {
   "cell_type": "code",
   "execution_count": null,
   "metadata": {},
   "outputs": [],
   "source": []
  },
  {
   "cell_type": "code",
   "execution_count": 114,
   "metadata": {},
   "outputs": [
    {
     "data": {
      "text/plain": [
       "[('0.5', '0.5'), ('0.5', '1.5')]"
      ]
     },
     "execution_count": 114,
     "metadata": {},
     "output_type": "execute_result"
    }
   ],
   "source": [
    "response = error_response[0]\n",
    "\n",
    "pattern = r'agent\\[(\\d+\\.\\d+), (\\d+\\.\\d+)\\]'\n",
    "\n",
    "agent_locs = re.findall(pattern, response, re.IGNORECASE)\n",
    "\n",
    "# bracket CHECK\n",
    "# match = re.search(r'{.*}', response, re.DOTALL)\n",
    "\n",
    "#original_response_dict = match.group()\n",
    "\n",
    "agent_locs\n",
    "\n",
    "#re.original_response_dict\n",
    "# # JSON CHECK\n",
    "# original_response_dict = json.loads(original_response_dict)\n",
    "# original_response_dict\n"
   ]
  },
  {
   "cell_type": "code",
   "execution_count": 74,
   "metadata": {},
   "outputs": [
    {
     "name": "stderr",
     "output_type": "stream",
     "text": [
      "<>:3: SyntaxWarning: invalid escape sequence '\\('\n",
      "<>:3: SyntaxWarning: invalid escape sequence '\\('\n",
      "/var/folders/hp/1t41q47s0bj9t3xjmkm7qdbr0000gn/T/ipykernel_61656/2115244399.py:3: SyntaxWarning: invalid escape sequence '\\('\n",
      "  pattern = 'move\\(\\w+, (?:square.\\d+\\.\\d+, \\d+\\.\\d+.|\\w+)\\)'\n"
     ]
    },
    {
     "data": {
      "text/plain": [
       "['move(box_blue, square[0.5, 1.5])', 'move(box_blue, target_blue)']"
      ]
     },
     "execution_count": 74,
     "metadata": {},
     "output_type": "execute_result"
    }
   ],
   "source": [
    "response = error_response[0]\n",
    "\n",
    "pattern = 'move\\(\\w+, (?:square.\\d+\\.\\d+, \\d+\\.\\d+.|\\w+)\\)'\n",
    "\n",
    "action = re.findall(pattern, response)\n",
    "\n",
    "action"
   ]
  },
  {
   "cell_type": "code",
   "execution_count": null,
   "metadata": {},
   "outputs": [],
   "source": []
  },
  {
   "cell_type": "code",
   "execution_count": null,
   "metadata": {},
   "outputs": [],
   "source": []
  },
  {
   "cell_type": "code",
   "execution_count": null,
   "metadata": {},
   "outputs": [],
   "source": []
  },
  {
   "cell_type": "code",
   "execution_count": null,
   "metadata": {},
   "outputs": [],
   "source": []
  },
  {
   "cell_type": "code",
   "execution_count": null,
   "metadata": {},
   "outputs": [],
   "source": [
    "#pg_dict_original = copy.deepcopy(pg_dict_input)\n",
    "transformed_dict = {}\n",
    "\n",
    "\n",
    "for key, value in original_response_dict.items():\n",
    "    coordinates = tuple(map(float, re.findall(r\"\\d+\\.?\\d*\", key)))\n",
    "\n",
    "    # match the item and location in the value\n",
    "    match = re.match(r\"move\\((.*?),\\s(.*?)\\)\", value)\n",
    "    if match:\n",
    "        item, location = match.groups()\n",
    "\n",
    "        if \"square\" in location:\n",
    "            location = tuple(map(float, re.findall(r\"\\d+\\.?\\d*\", location)))\n",
    "\n",
    "        transformed_dict[coordinates] = [item, location]\n",
    "\n",
    "feedback = \"\"\n",
    "for key, value in transformed_dict.items():\n",
    "    # print(f\"Key: {key}, Value1: {value[0]}, Value2: {value[1]}\")\n",
    "    if (\n",
    "        value[0] in pg_dict_original[str(key[0]) + \"_\" + str(key[1])]\n",
    "        and type(value[1]) == tuple\n",
    "        and (\n",
    "            (\n",
    "                np.abs(key[0] - value[1][0]) == 0\n",
    "                and np.abs(key[1] - value[1][1]) == 1\n",
    "            )\n",
    "            or (\n",
    "                np.abs(key[0] - value[1][0]) == 1\n",
    "                and np.abs(key[1] - value[1][1]) == 0\n",
    "            )\n",
    "        )\n",
    "    ):\n",
    "        pass\n",
    "    elif (\n",
    "        value[0] in pg_dict_original[str(key[0]) + \"_\" + str(key[1])]\n",
    "        and type(value[1]) == str\n",
    "        and value[1] in pg_dict_original[str(key[0]) + \"_\" + str(key[1])]\n",
    "        and value[0][:4] == \"box_\"\n",
    "        and value[1][:7] == \"target_\"\n",
    "        and value[0][4:] == value[1][7:]\n",
    "    ):\n",
    "        pass\n",
    "    else:\n",
    "        if is_judge:\n",
    "            feedback += f\"You are the judge and your assigned task for {key[0]}_{key[1]} is not in the doable action list, so choose the alternative action of the central planner;\"\n",
    "        else:\n",
    "            # print(f\"Error, Iteration Num: {iteration_num}, Key: {key}, Value1: {value[0]}, Value2: {value[1]}\")\n",
    "            feedback += f\"Your assigned task for {key[0]}_{key[1]} is not in the doable action list; \""
   ]
  },
  {
   "cell_type": "code",
   "execution_count": null,
   "metadata": {},
   "outputs": [],
   "source": []
  },
  {
   "cell_type": "code",
   "execution_count": null,
   "metadata": {},
   "outputs": [],
   "source": []
  }
 ],
 "metadata": {
  "kernelspec": {
   "display_name": "Python 3 (ipykernel)",
   "language": "python",
   "name": "python3"
  },
  "language_info": {
   "codemirror_mode": {
    "name": "ipython",
    "version": 3
   },
   "file_extension": ".py",
   "mimetype": "text/x-python",
   "name": "python",
   "nbconvert_exporter": "python",
   "pygments_lexer": "ipython3",
   "version": "3.8.18"
  }
 },
 "nbformat": 4,
 "nbformat_minor": 4
}
