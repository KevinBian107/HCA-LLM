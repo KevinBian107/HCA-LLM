{
 "cells": [
  {
   "cell_type": "markdown",
   "metadata": {},
   "source": [
    "# Env Explore"
   ]
  },
  {
   "cell_type": "code",
   "execution_count": 1,
   "metadata": {},
   "outputs": [],
   "source": [
    "from pathlib import Path\n",
    "import sys\n",
    "current_folder = Path.cwd()\n",
    "parent_folder = current_folder.parent\n",
    "sys.path.insert(0, str(parent_folder))\n",
    "from rplh.env_create import *"
   ]
  },
  {
   "cell_type": "code",
   "execution_count": 16,
   "metadata": {},
   "outputs": [],
   "source": [
    "pg_dict_input = {\"0.5_0.5\": [\"box_blue\", \"box_blue\", \"target_red\", \"box_green\", \"box_orange\"], \"0.5_1.5\": [\"target_red\", \"box_red\", \"box_purple\", \"target_purple\"], \"1.5_0.5\": [\"target_blue\", \"box_blue\", \"target_blue\", \"box_red\"], \"1.5_1.5\": [\"target_blue\", \"target_green\", \"box_purple\", \"target_purple\", \"target_orange\"]}\n",
    "original_response_dict = {'Agent[0.5, 1.5]': 'move(box_red, square[0.5, 0.5])'}"
   ]
  },
  {
   "cell_type": "code",
   "execution_count": 17,
   "metadata": {},
   "outputs": [
    {
     "data": {
      "text/plain": [
       "{'0.5_0.5': ['box_blue',\n",
       "  'box_blue',\n",
       "  'target_red',\n",
       "  'box_green',\n",
       "  'box_orange',\n",
       "  'box_red'],\n",
       " '0.5_1.5': ['target_red', 'box_purple', 'target_purple'],\n",
       " '1.5_0.5': ['target_blue', 'box_blue', 'target_blue', 'box_red'],\n",
       " '1.5_1.5': ['target_blue',\n",
       "  'target_green',\n",
       "  'box_purple',\n",
       "  'target_purple',\n",
       "  'target_orange']}"
      ]
     },
     "execution_count": 17,
     "metadata": {},
     "output_type": "execute_result"
    }
   ],
   "source": [
    "_, new_state = action_from_response(pg_dict_input, original_response_dict)\n",
    "new_state"
   ]
  },
  {
   "cell_type": "code",
   "execution_count": 18,
   "metadata": {},
   "outputs": [
    {
     "data": {
      "text/plain": [
       "('',\n",
       " {'0.5_0.5': ['box_blue', 'box_blue', 'box_green', 'box_orange'],\n",
       "  '0.5_1.5': ['target_red', 'box_purple', 'target_purple'],\n",
       "  '1.5_0.5': ['target_blue', 'box_blue', 'target_blue', 'box_red'],\n",
       "  '1.5_1.5': ['target_blue',\n",
       "   'target_green',\n",
       "   'box_purple',\n",
       "   'target_purple',\n",
       "   'target_orange']})"
      ]
     },
     "execution_count": 18,
     "metadata": {},
     "output_type": "execute_result"
    }
   ],
   "source": [
    "original_response_dict = {'Agent[0.5, 0.5]': 'move(box_red, target_red)'}\n",
    "action_from_response(new_state, original_response_dict)"
   ]
  },
  {
   "cell_type": "code",
   "execution_count": 1,
   "metadata": {},
   "outputs": [
    {
     "data": {
      "text/plain": [
       "'{\"Agent[0.5, 0.5]\":\"move(box_blue, square[0.5, 1.5])\", \"Agent[1.5, 0.5]\":\"move(box_purple, target_purple)\"}'"
      ]
     },
     "execution_count": 1,
     "metadata": {},
     "output_type": "execute_result"
    }
   ],
   "source": [
    "import re\n",
    "import json\n",
    "\n",
    "check = '{\"Agent[0.5, 0.5]\":\"move(box_blue, square[0.5, 1.5])\", \"Agent[1.5, 0.5]\":\"move(box_purple, target_purple)\"}'\n",
    "match = re.search(r\"{.*}\", check, re.DOTALL)\n",
    "if match:\n",
    "    response = match.group()\n",
    "response"
   ]
  },
  {
   "cell_type": "code",
   "execution_count": 2,
   "metadata": {},
   "outputs": [
    {
     "data": {
      "text/plain": [
       "{'Agent[0.5, 0.5]': 'move(box_blue, square[0.5, 1.5])',\n",
       " 'Agent[1.5, 0.5]': 'move(box_purple, target_purple)'}"
      ]
     },
     "execution_count": 2,
     "metadata": {},
     "output_type": "execute_result"
    }
   ],
   "source": [
    "json.loads(response)"
   ]
  },
  {
   "cell_type": "code",
   "execution_count": null,
   "metadata": {},
   "outputs": [],
   "source": []
  }
 ],
 "metadata": {
  "kernelspec": {
   "display_name": "rplh",
   "language": "python",
   "name": "python3"
  },
  "language_info": {
   "codemirror_mode": {
    "name": "ipython",
    "version": 3
   },
   "file_extension": ".py",
   "mimetype": "text/x-python",
   "name": "python",
   "nbconvert_exporter": "python",
   "pygments_lexer": "ipython3",
   "version": "3.10.9"
  }
 },
 "nbformat": 4,
 "nbformat_minor": 2
}
