{
 "cells": [
  {
   "cell_type": "code",
   "execution_count": 1,
   "metadata": {},
   "outputs": [],
   "source": [
    "import re\n",
    "import json"
   ]
  },
  {
   "cell_type": "code",
   "execution_count": 2,
   "metadata": {},
   "outputs": [],
   "source": [
    "def is_valid_json(response: str) -> bool:\n",
    "    \"\"\"\n",
    "    Checks if a response string is in valid JSON format.\n",
    "\n",
    "    Args:\n",
    "        response (str): The response string to validate.\n",
    "\n",
    "    Returns:\n",
    "        bool: True if the response is valid JSON, False otherwise.\n",
    "    \"\"\"\n",
    "    try:\n",
    "        json.loads(response)\n",
    "        return True\n",
    "    except ValueError:\n",
    "        return False"
   ]
  },
  {
   "cell_type": "code",
   "execution_count": 3,
   "metadata": {},
   "outputs": [],
   "source": [
    "is_judge = True\n"
   ]
  },
  {
   "cell_type": "markdown",
   "metadata": {},
   "source": [
    "1. Bracket Check - find bracket\n",
    "3. JSON Check"
   ]
  },
  {
   "cell_type": "code",
   "execution_count": 102,
   "metadata": {},
   "outputs": [],
   "source": [
    "error_response = ['asdasd{\"Agent[0.5, 0.5]\":\"move(box_blue, square[0.5, 1.5])\", \"agent[0.5, 1.5]\":\"move(box_blue, target_blue)\"}asdsada', \n",
    "                  'asdasd{\\'Agent[0.5, 0.5]\\':\\'move(box_blue, square[0.5, 1.5])\", \"Agent[0.5, 1.5]\":\"move(box_blue, target_blue)\"}asdsada',\n",
    "                  'asdasd{Agent[0.5, 0.5]:move(box_blue, square[0.5, 1.5]), Agent[0.5, 1.5]:move(box_blue, target_blue)\"}asdsada', \n",
    "                  'Agent[0.5, 0.5]\": [\"move(box_blue, square[0.5, 1.5])\"], \"Agent[0.5, 1.5]\": [\"move(box_blue, target_blue)\"]', \n",
    "                  '']"
   ]
  },
  {
   "cell_type": "code",
   "execution_count": null,
   "metadata": {},
   "outputs": [],
   "source": []
  },
  {
   "cell_type": "code",
   "execution_count": 159,
   "metadata": {},
   "outputs": [
    {
     "ename": "NameError",
     "evalue": "name 'Aict' is not defined",
     "output_type": "error",
     "traceback": [
      "\u001b[0;31m---------------------------------------------------------------------------\u001b[0m",
      "\u001b[0;31mNameError\u001b[0m                                 Traceback (most recent call last)",
      "Cell \u001b[0;32mIn[159], line 8\u001b[0m\n\u001b[1;32m      1\u001b[0m raw_response\u001b[38;5;241m=\u001b[39m\u001b[38;5;124m'''\u001b[39m\u001b[38;5;124mRAW RESPONSE: aaaasdsasdasda\u001b[39m\n\u001b[1;32m      2\u001b[0m \u001b[38;5;124msadsdasd\u001b[39m\n\u001b[1;32m      3\u001b[0m \u001b[38;5;124madsads\u001b[39m\n\u001b[1;32m      4\u001b[0m \u001b[38;5;124mEXECUTE\u001b[39m\n\u001b[1;32m      5\u001b[0m \u001b[38;5;124m{\u001b[39m\u001b[38;5;124m'\u001b[39m\u001b[38;5;124m'\u001b[39m\u001b[38;5;124ms[[]]][Agent[0.5, 0.5]}]\u001b[39m\u001b[38;5;124m\"\u001b[39m\u001b[38;5;124masdasd:asda\u001b[39m\u001b[38;5;124m\"\u001b[39m\u001b[38;5;124mmove(box_blue, square[0.5, 1.5])\u001b[39m\u001b[38;5;124m\"\u001b[39m\u001b[38;5;124m, \u001b[39m\u001b[38;5;124m\"\u001b[39m\u001b[38;5;124magent[0.5, 1.5]\u001b[39m\u001b[38;5;124m\"\u001b[39m\u001b[38;5;124m:\u001b[39m\u001b[38;5;124m\"\u001b[39m\u001b[38;5;124mmove(box_blue, target_blue)\u001b[39m\u001b[38;5;124m\"\u001b[39m\u001b[38;5;124m}asdsadaa\u001b[39m\u001b[38;5;124m'\u001b[39m\u001b[38;5;124m'\u001b[39m\u001b[38;5;124masda\u001b[39m\u001b[38;5;130;01m\\\u001b[39;00m\n\u001b[1;32m      6\u001b[0m \u001b[38;5;124m'''\u001b[39m\n\u001b[0;32m----> 8\u001b[0m \u001b[38;5;28;01mdef\u001b[39;00m \u001b[38;5;21mprocess_raw_response\u001b[39m(raw_response: \u001b[38;5;28mstr\u001b[39m) \u001b[38;5;241m-\u001b[39m\u001b[38;5;241m>\u001b[39m \u001b[43mAict\u001b[49m[\u001b[38;5;28mstr\u001b[39m:\u001b[38;5;28mstr\u001b[39m]:\n\u001b[1;32m      9\u001b[0m \u001b[38;5;250m    \u001b[39m\u001b[38;5;124;03m\"\"\"\u001b[39;00m\n\u001b[1;32m     10\u001b[0m \u001b[38;5;124;03m    Processes a raw response string containing agent locations and actions, \u001b[39;00m\n\u001b[1;32m     11\u001b[0m \u001b[38;5;124;03m    extracts relevant information, and converts it into dictionary format for loading in json.\u001b[39;00m\n\u001b[0;32m   (...)\u001b[0m\n\u001b[1;32m     24\u001b[0m \u001b[38;5;124;03m        ValueError: If the input string cannot be parsed.\u001b[39;00m\n\u001b[1;32m     25\u001b[0m \u001b[38;5;124;03m    \"\"\"\u001b[39;00m\n\u001b[1;32m     27\u001b[0m     response \u001b[38;5;241m=\u001b[39m raw_response[re\u001b[38;5;241m.\u001b[39msearch(\u001b[38;5;124mr\u001b[39m\u001b[38;5;124m'\u001b[39m\u001b[38;5;124mEXECUTE\u001b[39m\u001b[38;5;124m'\u001b[39m, raw_response)\u001b[38;5;241m.\u001b[39mend():]\u001b[38;5;241m.\u001b[39mstrip(\u001b[38;5;124m'\u001b[39m\u001b[38;5;130;01m\\n\u001b[39;00m\u001b[38;5;124m'\u001b[39m)\n",
      "\u001b[0;31mNameError\u001b[0m: name 'Aict' is not defined"
     ]
    }
   ],
   "source": [
    "raw_response='''RAW RESPONSE: aaaasdsasdasda\n",
    "sadsdasd\n",
    "adsads\n",
    "EXECUTE\n",
    "{''s[[]]][Agent[0.5, 0.5]}]\"asdasd:asda\"move(box_blue, square[0.5, 1.5])\", \"agent[0.5, 1.5]\":\"move(box_blue, target_blue)\"}asdsadaa''asda\\\n",
    "'''\n",
    "\n",
    "def process_raw_response(raw_response: str) -> dict[str:str]:\n",
    "    \"\"\"\n",
    "    Processes a raw response string containing agent locations and actions, \n",
    "    extracts relevant information, and converts it into dictionary format for loading in json.\n",
    "\n",
    "    Args:\n",
    "        raw_response (str): The string is expected to include an \"EXECUTE\" keyword followed by \n",
    "            JSON-like content describing agent locations and actions \n",
    "            (e.g \"EXECUTE\n",
    "            {\"Agent[0.5, 0.5]\":\"move(box_blue, square[0.5, 1.5])\")\n",
    "\n",
    "    Returns:\n",
    "        dict: A dictionary where keys are agent identifiers (e.g., \"Agent[0.5, 0.5]\") \n",
    "              and values are actions (e.g., \"move(box_blue, square[0.5, 1.5])\").\n",
    "\n",
    "    Raises:\n",
    "        ValueError: If the input string cannot be parsed.\n",
    "    \"\"\"\n",
    "    \n",
    "    response = raw_response[re.search(r'EXECUTE', raw_response).end():].strip('\\n')\n",
    "\n",
    "    try:\n",
    "        pattern_1 = r'agent\\[(\\d+\\.\\d+), (\\d+\\.\\d+)\\]'\n",
    "        agent_loc = re.findall(pattern_1, response, re.IGNORECASE)\n",
    "\n",
    "        pattern_2 = r'move(\\(\\w+, (?:square.\\d+\\.\\d+, \\d+\\.\\d+.|\\w+)\\))'\n",
    "        agent_action = re.findall(pattern_2, response, re.IGNORECASE)\n",
    "\n",
    "        # print(agent_loc)\n",
    "        # print(agent_action)\n",
    "    except:\n",
    "        print(f'ERROR IN PARSING THE RESPONSE: {response}')\n",
    "\n",
    "    num_agent = len(agent_loc)\n",
    "\n",
    "    action = []\n",
    "\n",
    "    for i in range(num_agent):\n",
    "        \n",
    "        action.append(f'\"Agent[{agent_loc[i][0]}, {agent_loc[i][1]}]\": \"move{agent_action[i]}\"')\n",
    "\n",
    "    json_str = '{' + ', '.join(action) + '}'\n",
    "    \n",
    "    response_dict = json.loads(json_str)\n",
    "\n",
    "    return response_dict\n",
    "    \n",
    "response_dict = process_raw_response(raw_response)\n",
    "response_dict\n"
   ]
  },
  {
   "cell_type": "code",
   "execution_count": 135,
   "metadata": {},
   "outputs": [
    {
     "name": "stdout",
     "output_type": "stream",
     "text": [
      "{'Agent[0.5, 0.5]': 'move(box_blue, square[0.5, 1.5])', 'Agent[0.5, 1.5]': 'move(box_blue, target_blue)'}\n",
      "{'Agent[0.5, 0.5]': 'move(box_blue, square[0.5, 1.5])', 'Agent[0.5, 1.5]': 'move(box_blue, target_blue)'}\n",
      "{'Agent[0.5, 0.5]': 'move(box_blue, square[0.5, 1.5])', 'Agent[0.5, 1.5]': 'move(box_blue, target_blue)'}\n",
      "{'Agent[0.5, 0.5]': 'move(box_blue, square[0.5, 1.5])', 'Agent[0.5, 1.5]': 'move(box_blue, target_blue)'}\n"
     ]
    }
   ],
   "source": [
    "for response in error_response:\n",
    "    try:\n",
    "        pattern_1 = r'agent\\[(\\d+\\.\\d+), (\\d+\\.\\d+)\\]'\n",
    "        agent_loc = re.findall(pattern_1, response, re.IGNORECASE)\n",
    "\n",
    "        pattern_2 = r'move(\\(\\w+, (?:square.\\d+\\.\\d+, \\d+\\.\\d+.|\\w+)\\))'\n",
    "        agent_action = re.findall(pattern_2, response, re.IGNORECASE)\n",
    "\n",
    "        # print(agent_loc)\n",
    "        # print(agent_action)\n",
    "    except:\n",
    "        print(f'ERROR IN PARSING THE RESPONSE: {response}')\n",
    "\n",
    "    num_agent = len(agent_loc)\n",
    "\n",
    "    action = []\n",
    "\n",
    "    for i in range(num_agent):\n",
    "        \n",
    "        action.append(f'\"Agent[{agent_loc[i][0]}, {agent_loc[i][1]}]\": \"move{agent_action[i]}\"')\n",
    "\n",
    "    json_str = '{' + ', '.join(action) + '}'\n",
    "    \n",
    "    original_response_dict = json.loads(json_str)\n",
    "    print(original_response_dict)"
   ]
  },
  {
   "cell_type": "code",
   "execution_count": 114,
   "metadata": {},
   "outputs": [
    {
     "data": {
      "text/plain": [
       "[('0.5', '0.5'), ('0.5', '1.5')]"
      ]
     },
     "execution_count": 114,
     "metadata": {},
     "output_type": "execute_result"
    }
   ],
   "source": [
    "response = error_response[0]\n",
    "\n",
    "pattern = r'agent\\[(\\d+\\.\\d+), (\\d+\\.\\d+)\\]'\n",
    "\n",
    "agent_locs = re.findall(pattern, response, re.IGNORECASE)\n",
    "\n",
    "# bracket CHECK\n",
    "# match = re.search(r'{.*}', response, re.DOTALL)\n",
    "\n",
    "#original_response_dict = match.group()\n",
    "\n",
    "agent_locs\n",
    "\n",
    "#re.original_response_dict\n",
    "# # JSON CHECK\n",
    "# original_response_dict = json.loads(original_response_dict)\n",
    "# original_response_dict\n"
   ]
  },
  {
   "cell_type": "code",
   "execution_count": 74,
   "metadata": {},
   "outputs": [
    {
     "name": "stderr",
     "output_type": "stream",
     "text": [
      "<>:3: SyntaxWarning: invalid escape sequence '\\('\n",
      "<>:3: SyntaxWarning: invalid escape sequence '\\('\n",
      "/var/folders/hp/1t41q47s0bj9t3xjmkm7qdbr0000gn/T/ipykernel_61656/2115244399.py:3: SyntaxWarning: invalid escape sequence '\\('\n",
      "  pattern = 'move\\(\\w+, (?:square.\\d+\\.\\d+, \\d+\\.\\d+.|\\w+)\\)'\n"
     ]
    },
    {
     "data": {
      "text/plain": [
       "['move(box_blue, square[0.5, 1.5])', 'move(box_blue, target_blue)']"
      ]
     },
     "execution_count": 74,
     "metadata": {},
     "output_type": "execute_result"
    }
   ],
   "source": [
    "response = error_response[0]\n",
    "\n",
    "pattern = 'move\\(\\w+, (?:square.\\d+\\.\\d+, \\d+\\.\\d+.|\\w+)\\)'\n",
    "\n",
    "action = re.findall(pattern, response)\n",
    "\n",
    "action"
   ]
  },
  {
   "cell_type": "code",
   "execution_count": null,
   "metadata": {},
   "outputs": [],
   "source": []
  },
  {
   "cell_type": "code",
   "execution_count": null,
   "metadata": {},
   "outputs": [],
   "source": []
  },
  {
   "cell_type": "code",
   "execution_count": null,
   "metadata": {},
   "outputs": [],
   "source": []
  },
  {
   "cell_type": "code",
   "execution_count": null,
   "metadata": {},
   "outputs": [],
   "source": []
  },
  {
   "cell_type": "code",
   "execution_count": null,
   "metadata": {},
   "outputs": [],
   "source": [
    "#pg_dict_original = copy.deepcopy(pg_dict_input)\n",
    "transformed_dict = {}\n",
    "\n",
    "\n",
    "for key, value in original_response_dict.items():\n",
    "    coordinates = tuple(map(float, re.findall(r\"\\d+\\.?\\d*\", key)))\n",
    "\n",
    "    # match the item and location in the value\n",
    "    match = re.match(r\"move\\((.*?),\\s(.*?)\\)\", value)\n",
    "    if match:\n",
    "        item, location = match.groups()\n",
    "\n",
    "        if \"square\" in location:\n",
    "            location = tuple(map(float, re.findall(r\"\\d+\\.?\\d*\", location)))\n",
    "\n",
    "        transformed_dict[coordinates] = [item, location]\n",
    "\n",
    "feedback = \"\"\n",
    "for key, value in transformed_dict.items():\n",
    "    # print(f\"Key: {key}, Value1: {value[0]}, Value2: {value[1]}\")\n",
    "    if (\n",
    "        value[0] in pg_dict_original[str(key[0]) + \"_\" + str(key[1])]\n",
    "        and type(value[1]) == tuple\n",
    "        and (\n",
    "            (\n",
    "                np.abs(key[0] - value[1][0]) == 0\n",
    "                and np.abs(key[1] - value[1][1]) == 1\n",
    "            )\n",
    "            or (\n",
    "                np.abs(key[0] - value[1][0]) == 1\n",
    "                and np.abs(key[1] - value[1][1]) == 0\n",
    "            )\n",
    "        )\n",
    "    ):\n",
    "        pass\n",
    "    elif (\n",
    "        value[0] in pg_dict_original[str(key[0]) + \"_\" + str(key[1])]\n",
    "        and type(value[1]) == str\n",
    "        and value[1] in pg_dict_original[str(key[0]) + \"_\" + str(key[1])]\n",
    "        and value[0][:4] == \"box_\"\n",
    "        and value[1][:7] == \"target_\"\n",
    "        and value[0][4:] == value[1][7:]\n",
    "    ):\n",
    "        pass\n",
    "    else:\n",
    "        if is_judge:\n",
    "            feedback += f\"You are the judge and your assigned task for {key[0]}_{key[1]} is not in the doable action list, so choose the alternative action of the central planner;\"\n",
    "        else:\n",
    "            # print(f\"Error, Iteration Num: {iteration_num}, Key: {key}, Value1: {value[0]}, Value2: {value[1]}\")\n",
    "            feedback += f\"Your assigned task for {key[0]}_{key[1]} is not in the doable action list; \""
   ]
  },
  {
   "cell_type": "code",
   "execution_count": null,
   "metadata": {},
   "outputs": [],
   "source": []
  },
  {
   "cell_type": "code",
   "execution_count": null,
   "metadata": {},
   "outputs": [],
   "source": []
  }
 ],
 "metadata": {
  "kernelspec": {
   "display_name": "Python 3 (ipykernel)",
   "language": "python",
   "name": "python3"
  },
  "language_info": {
   "codemirror_mode": {
    "name": "ipython",
    "version": 3
   },
   "file_extension": ".py",
   "mimetype": "text/x-python",
   "name": "python",
   "nbconvert_exporter": "python",
   "pygments_lexer": "ipython3",
   "version": "3.13.0"
  }
 },
 "nbformat": 4,
 "nbformat_minor": 4
}
