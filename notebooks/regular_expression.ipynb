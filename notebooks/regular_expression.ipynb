{
 "cells": [
  {
   "cell_type": "code",
   "execution_count": 2,
   "metadata": {},
   "outputs": [],
   "source": [
    "import re\n",
    "import json"
   ]
  },
  {
   "cell_type": "code",
   "execution_count": null,
   "metadata": {},
   "outputs": [],
   "source": [
    "def is_valid_json(response: str) -> bool:\n",
    "    \"\"\"\n",
    "    Checks if a response string is in valid JSON format.\n",
    "\n",
    "    Args:\n",
    "        response (str): The response string to validate.\n",
    "\n",
    "    Returns:\n",
    "        bool: True if the response is valid JSON, False otherwise.\n",
    "    \"\"\"\n",
    "    try:\n",
    "        json.loads(response)\n",
    "        return True\n",
    "    except ValueError:\n",
    "        return False"
   ]
  },
  {
   "cell_type": "code",
   "execution_count": null,
   "metadata": {},
   "outputs": [],
   "source": [
    "is_judge = True\n"
   ]
  },
  {
   "cell_type": "code",
   "execution_count": null,
   "metadata": {},
   "outputs": [],
   "source": [
    "pg_dict_original = copy.deepcopy(pg_dict_input)\n",
    "            transformed_dict = {}\n",
    "            for key, value in original_response_dict.items():\n",
    "                coordinates = tuple(map(float, re.findall(r\"\\d+\\.?\\d*\", key)))\n",
    "\n",
    "                # match the item and location in the value\n",
    "                match = re.match(r\"move\\((.*?),\\s(.*?)\\)\", value)\n",
    "                if match:\n",
    "                    item, location = match.groups()\n",
    "\n",
    "                    if \"square\" in location:\n",
    "                        location = tuple(map(float, re.findall(r\"\\d+\\.?\\d*\", location)))\n",
    "\n",
    "                    transformed_dict[coordinates] = [item, location]\n",
    "\n",
    "            feedback = \"\"\n",
    "            for key, value in transformed_dict.items():\n",
    "                # print(f\"Key: {key}, Value1: {value[0]}, Value2: {value[1]}\")\n",
    "                if (\n",
    "                    value[0] in pg_dict_original[str(key[0]) + \"_\" + str(key[1])]\n",
    "                    and type(value[1]) == tuple\n",
    "                    and (\n",
    "                        (\n",
    "                            np.abs(key[0] - value[1][0]) == 0\n",
    "                            and np.abs(key[1] - value[1][1]) == 1\n",
    "                        )\n",
    "                        or (\n",
    "                            np.abs(key[0] - value[1][0]) == 1\n",
    "                            and np.abs(key[1] - value[1][1]) == 0\n",
    "                        )\n",
    "                    )\n",
    "                ):\n",
    "                    pass\n",
    "                elif (\n",
    "                    value[0] in pg_dict_original[str(key[0]) + \"_\" + str(key[1])]\n",
    "                    and type(value[1]) == str\n",
    "                    and value[1] in pg_dict_original[str(key[0]) + \"_\" + str(key[1])]\n",
    "                    and value[0][:4] == \"box_\"\n",
    "                    and value[1][:7] == \"target_\"\n",
    "                    and value[0][4:] == value[1][7:]\n",
    "                ):\n",
    "                    pass\n",
    "                else:\n",
    "                    if is_judge:\n",
    "                        feedback += f\"You are the judge and your assigned task for {key[0]}_{key[1]} is not in the doable action list, so choose the alternative action of the central planner;\"\n",
    "                    else:\n",
    "                        # print(f\"Error, Iteration Num: {iteration_num}, Key: {key}, Value1: {value[0]}, Value2: {value[1]}\")\n",
    "                        feedback += f\"Your assigned task for {key[0]}_{key[1]} is not in the doable action list; \""
   ]
  },
  {
   "cell_type": "code",
   "execution_count": null,
   "metadata": {},
   "outputs": [],
   "source": []
  },
  {
   "cell_type": "code",
   "execution_count": null,
   "metadata": {},
   "outputs": [],
   "source": []
  }
 ],
 "metadata": {
  "kernelspec": {
   "display_name": "WICC-L",
   "language": "python",
   "name": "python3"
  },
  "language_info": {
   "codemirror_mode": {
    "name": "ipython",
    "version": 3
   },
   "file_extension": ".py",
   "mimetype": "text/x-python",
   "name": "python",
   "nbconvert_exporter": "python",
   "pygments_lexer": "ipython3",
   "version": "3.13.0"
  }
 },
 "nbformat": 4,
 "nbformat_minor": 2
}
